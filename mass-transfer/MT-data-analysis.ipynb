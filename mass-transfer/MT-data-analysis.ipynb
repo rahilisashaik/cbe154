{
 "cells": [
  {
   "cell_type": "markdown",
   "metadata": {},
   "source": [
    "# Mass Transfer (MT)\n",
    "March 17th, 2025\n",
    "Data analysis by Alex Quemel, Rahil Shaik, Sneha Kancharla, and Ethan Mibu"
   ]
  },
  {
   "cell_type": "code",
   "execution_count": 4,
   "metadata": {},
   "outputs": [],
   "source": [
    "import pandas as pd\n",
    "import numpy as np\n",
    "import matplotlib.pyplot as plt\n",
    "from sklearn.linear_model import LinearRegression\n",
    "from scipy.optimize import curve_fit\n",
    "from scipy.stats import linregress\n",
    "import math\n",
    "import warnings\n",
    "warnings.filterwarnings('ignore')"
   ]
  },
  {
   "cell_type": "markdown",
   "metadata": {},
   "source": [
    "### Reading in Data from .csv"
   ]
  },
  {
   "cell_type": "code",
   "execution_count": null,
   "metadata": {},
   "outputs": [],
   "source": [
    "df = pd.read_csv(\"MW1-Mass Transfer Lab Raw Data - Sheet1.csv\")"
   ]
  },
  {
   "cell_type": "code",
   "execution_count": null,
   "metadata": {},
   "outputs": [],
   "source": [
    "df"
   ]
  },
  {
   "cell_type": "markdown",
   "metadata": {},
   "source": [
    "## Analysis Question 1\n",
    "Calculate measured evaporation rates as mass fluxes using units of kg H2O/m²·s."
   ]
  },
  {
   "cell_type": "code",
   "execution_count": 8,
   "metadata": {},
   "outputs": [
    {
     "data": {
      "text/plain": [
       "0.003003003003003003"
      ]
     },
     "execution_count": 8,
     "metadata": {},
     "output_type": "execute_result"
    }
   ],
   "source": [
    "# placeholder values (will import dataframe when ready)\n",
    "delta_m_water = 0.1 # kg (replace)\n",
    "area_tray = 0.555 * 0.200 #m^2 (actual value)\n",
    "time_elapsed = 300 # seconds (replace)\n",
    "\n",
    "evaporative_flux = delta_m_water / (area_tray * time_elapsed)\n",
    "evaporative_flux"
   ]
  },
  {
   "cell_type": "markdown",
   "metadata": {},
   "source": [
    "## Analysis Question 2\n",
    "Use Eqs. (5) and (6) and appropriate fluid properties to calculate an average for the concentration and the temperature gradients at the evaporating surface normalized along the length of the entire plate (ignoring at this point that the gradients are functions of position along the length of the pan)."
   ]
  },
  {
   "cell_type": "code",
   "execution_count": null,
   "metadata": {},
   "outputs": [
    {
     "ename": "NameError",
     "evalue": "name 'mass_flux' is not defined",
     "output_type": "error",
     "traceback": [
      "\u001b[0;31m---------------------------------------------------------------------------\u001b[0m",
      "\u001b[0;31mNameError\u001b[0m                                 Traceback (most recent call last)",
      "Cell \u001b[0;32mIn[6], line 14\u001b[0m\n\u001b[1;32m      7\u001b[0m MW_H2O \u001b[38;5;241m=\u001b[39m \u001b[38;5;241m18.015\u001b[39m  \u001b[38;5;66;03m# Molar mass of water (g/mol)\u001b[39;00m\n\u001b[1;32m      9\u001b[0m \u001b[38;5;66;03m# Experimental data inputs\u001b[39;00m\n\u001b[1;32m     10\u001b[0m \u001b[38;5;66;03m# mass_flux = np.array([0.0005, 0.0008, 0.0012])\u001b[39;00m\n\u001b[1;32m     11\u001b[0m \u001b[38;5;66;03m# air_velocity = np.array([1.5, 3.0, 4.5])\u001b[39;00m\n\u001b[1;32m     12\u001b[0m \n\u001b[1;32m     13\u001b[0m \u001b[38;5;66;03m# Convert mass flux to molar flux J_A (mol/m²·s)\u001b[39;00m\n\u001b[0;32m---> 14\u001b[0m J_A \u001b[38;5;241m=\u001b[39m (\u001b[43mmass_flux\u001b[49m \u001b[38;5;241m/\u001b[39m MW_H2O) \u001b[38;5;241m*\u001b[39m \u001b[38;5;241m1000\u001b[39m  \u001b[38;5;66;03m# Convert kg to g and divide by molar mass\u001b[39;00m\n\u001b[1;32m     16\u001b[0m \u001b[38;5;66;03m# Calculate temperature gradient (dT/dy) using Eq. (5)\u001b[39;00m\n\u001b[1;32m     17\u001b[0m dT_dy \u001b[38;5;241m=\u001b[39m (hv \u001b[38;5;241m*\u001b[39m J_A) \u001b[38;5;241m/\u001b[39m k_air  \u001b[38;5;66;03m# K/m\u001b[39;00m\n",
      "\u001b[0;31mNameError\u001b[0m: name 'mass_flux' is not defined"
     ]
    }
   ],
   "source": [
    "k_air = 0.026  # Thermal conductivity of air (W/m·K)\n",
    "hv = 2.26e6  # Heat of vaporization of water (J/kg)\n",
    "D_AB = 2.5e-5  # Diffusivity of water in air (m²/s)\n",
    "R = 8.314  # Gas constant (J/mol·K)\n",
    "P_air = 1.0e5  # Atmospheric pressure (Pa)\n",
    "T_air = 300  # Bulk air temperature (K)\n",
    "MW_H2O = 18.015  # Molar mass of water (g/mol)\n",
    "\n",
    "# Experimental data inputs\n",
    "mass_flux = np.array([0.0005, 0.0008, 0.0012]) # replace with df values\n",
    "air_velocity = np.array([1.5, 3.0, 4.5]) # replace with df values\n",
    "\n",
    "# Convert mass flux to molar flux J_A (mol/m²·s)\n",
    "J_A = (mass_flux / MW_H2O) * 1000  # Convert kg to g and divide by molar mass\n",
    "\n",
    "# Calculate temperature gradient (dT/dy) using Eq. (5)\n",
    "dT_dy = (hv * J_A) / k_air  # K/m\n",
    "\n",
    "# Calculate total molar concentration of air (c_total = P / RT)\n",
    "c_total = P_air / (R * T_air)  # mol/m³\n",
    "\n",
    "# Calculate concentration gradient (dx_A/dy) using Eq. (6)\n",
    "dxA_dy = J_A / (D_AB * c_total)  # 1/m\n",
    "\n",
    "# # Organize results into a DataFrame\n",
    "# df_results = pd.DataFrame({\n",
    "#     'Air Velocity (m/s)': air_velocity,\n",
    "#     'Mass Flux (kg/m²·s)': mass_flux,\n",
    "#     'Molar Flux J_A (mol/m²·s)': J_A,\n",
    "#     'Temperature Gradient dT/dy (K/m)': dT_dy,\n",
    "#     'Concentration Gradient dxA/dy (1/m)': dxA_dy\n",
    "# })\n",
    "\n",
    "# Plot temperature gradient vs. air velocity\n",
    "# plt.figure(figsize=(8, 6))\n",
    "# plt.plot(air_velocity, dT_dy, marker='o', linestyle='-', label='dT/dy (K/m)')\n",
    "# plt.xlabel('Air Velocity (m/s)')\n",
    "# plt.ylabel('Temperature Gradient (K/m)')\n",
    "# plt.title('Temperature Gradient vs Air Velocity')\n",
    "# plt.legend()\n",
    "# plt.grid(True)\n",
    "# plt.show()\n",
    "\n",
    "# Plot concentration gradient vs. air velocity\n",
    "# plt.figure(figsize=(8, 6))\n",
    "# plt.plot(air_velocity, dxA_dy, marker='s', linestyle='-', label='dxA/dy (1/m)', color='r')\n",
    "# plt.xlabel('Air Velocity (m/s)')\n",
    "# plt.ylabel('Concentration Gradient (1/m)')\n",
    "# plt.title('Concentration Gradient vs Air Velocity')\n",
    "# plt.legend()\n",
    "# plt.grid(True)\n",
    "# plt.show()"
   ]
  },
  {
   "cell_type": "markdown",
   "metadata": {},
   "source": [
    "## Analysis Question 3\n",
    "Using the gradients calculated above, estimate the average thicknesses of the concentration and thermal boundary layers by assuming that both the concentration and the temperature profiles are linear starting at the interface value and ending at the bulk flow values at the top boundary. Which boundary-layer thickness is larger? Is the relationship between the two boundary layer thicknesses as expected? How do the average boundary layer thicknesses scale with velocity? Is this as expected? Why or why not?"
   ]
  },
  {
   "cell_type": "code",
   "execution_count": null,
   "metadata": {},
   "outputs": [],
   "source": [
    "# Given or assumed experimental conditions\n",
    "T_surface = 310  # K (Example: Water surface temperature)\n",
    "T_bulk = 300  # K (Example: Bulk air temperature)\n",
    "xA_surface = 0.03  # Water vapor mole fraction at surface (Example from Antoine Equation)\n",
    "xA_bulk = 0.005  # Water vapor mole fraction in bulk air (Example from humidity data)\n",
    "\n",
    "# Compute temperature and concentration differences\n",
    "delta_T = T_surface - T_bulk  # Temperature difference (K)\n",
    "delta_xA = xA_surface - xA_bulk  # Mole fraction difference\n",
    "\n",
    "# Compute boundary layer thicknesses\n",
    "delta_T_layer = delta_T / dT_dy  # Thermal boundary layer thickness (m)\n",
    "delta_C_layer = delta_xA / dxA_dy  # Concentration boundary layer thickness (m)\n",
    "\n",
    "# Organize results\n",
    "df_results = pd.DataFrame({\n",
    "    'Air Velocity (m/s)': air_velocity,\n",
    "    'Thermal Boundary Layer δ_T (m)': delta_T_layer,\n",
    "    'Concentration Boundary Layer δ_C (m)': delta_C_layer\n",
    "})\n",
    "\n",
    "# Display results\n",
    "tools.display_dataframe_to_user(name=\"Boundary Layer Thicknesses\", dataframe=df_results)\n",
    "\n",
    "# Plot boundary layer thickness vs velocity\n",
    "plt.figure(figsize=(8, 6))\n",
    "plt.plot(air_velocity, delta_T_layer, marker='o', linestyle='-', label='Thermal Boundary Layer (δ_T)')\n",
    "plt.plot(air_velocity, delta_C_layer, marker='s', linestyle='-', label='Concentration Boundary Layer (δ_C)', color='r')\n",
    "plt.xlabel('Air Velocity (m/s)')\n",
    "plt.ylabel('Boundary Layer Thickness (m)')\n",
    "plt.title('Boundary Layer Thickness vs Air Velocity')\n",
    "plt.legend()\n",
    "plt.grid(True)\n",
    "plt.show()\n",
    "\n",
    "# Check scaling with velocity using linear regression on log-log plot\n",
    "log_V = np.log(air_velocity)\n",
    "log_delta_T = np.log(delta_T_layer)\n",
    "log_delta_C = np.log(delta_C_layer)\n",
    "\n",
    "slope_T, intercept_T, _, _, _ = linregress(log_V, log_delta_T)\n",
    "slope_C, intercept_C, _, _, _ = linregress(log_V, log_delta_C)\n",
    "\n",
    "print(f\"Scaling relationship for δ_T: δ_T ∝ V^({slope_T:.2f})\")\n",
    "print(f\"Scaling relationship for δ_C: δ_C ∝ V^({slope_C:.2f})\")\n"
   ]
  },
  {
   "cell_type": "markdown",
   "metadata": {},
   "source": [
    "## Analysis Question 4\n",
    "How does km, the average mass transfer coefficient along the length of the plate, vary with the velocity of the gas stream?  Is the scaling of km with velocity what you would expect?  Why or why not?  Is this scaling consistent with the laminar/turbulent nature of the air flow in the experiment, as calculated from the Reynolds number? That is to say, the Reynolds number controls the laminar/turbulent nature of flow, but this nature of the flow affects the scaling of km with velocity. Is there self-consistency between this scaling and the Reynolds number?"
   ]
  },
  {
   "cell_type": "code",
   "execution_count": null,
   "metadata": {},
   "outputs": [],
   "source": [
    "# Compute mass transfer coefficient from experimental data\n",
    "km_exp = J_A / delta_xA  # Experimental km (m/s)\n",
    "\n",
    "# Compute mass transfer coefficient from film theory\n",
    "km_film = D_AB / delta_C_layer  # Film theory km (m/s)\n",
    "\n",
    "# Compute Reynolds number\n",
    "Re = (rho_air * air_velocity * L_char) / mu_air  # Reynolds number\n",
    "\n",
    "# Organize results into a DataFrame\n",
    "df_results = pd.DataFrame({\n",
    "    'Air Velocity (m/s)': air_velocity,\n",
    "    'Reynolds Number': Re,\n",
    "    'Experimental km (m/s)': km_exp,\n",
    "    'Film Theory km (m/s)': km_film\n",
    "})\n",
    "\n",
    "# Display results\n",
    "tools.display_dataframe_to_user(name=\"Mass Transfer Coefficient Analysis\", dataframe=df_results)\n",
    "\n",
    "# Plot km vs air velocity (log-log plot)\n",
    "plt.figure(figsize=(8, 6))\n",
    "plt.loglog(air_velocity, km_exp, marker='o', linestyle='-', label='Experimental km')\n",
    "plt.loglog(air_velocity, km_film, marker='s', linestyle='--', label='Film Theory km', color='r')\n",
    "plt.xlabel('Air Velocity (m/s)')\n",
    "plt.ylabel('Mass Transfer Coefficient km (m/s)')\n",
    "plt.title('Mass Transfer Coefficient vs Air Velocity')\n",
    "plt.legend()\n",
    "plt.grid(True)\n",
    "plt.show()\n",
    "\n",
    "# Perform linear regression for scaling (log-log)\n",
    "log_V = np.log(air_velocity)\n",
    "log_km_exp = np.log(km_exp)\n",
    "log_km_film = np.log(km_film)\n",
    "\n",
    "slope_exp, intercept_exp, _, _, _ = linregress(log_V, log_km_exp)\n",
    "slope_film, intercept_film, _, _, _ = linregress(log_V, log_km_film)\n",
    "\n",
    "print(f\"Experimental scaling: km ∝ V^({slope_exp:.2f})\")\n",
    "print(f\"Film theory scaling: km ∝ V^({slope_film:.2f})\")"
   ]
  },
  {
   "cell_type": "markdown",
   "metadata": {},
   "source": []
  }
 ],
 "metadata": {
  "kernelspec": {
   "display_name": "Python 3",
   "language": "python",
   "name": "python3"
  },
  "language_info": {
   "codemirror_mode": {
    "name": "ipython",
    "version": 3
   },
   "file_extension": ".py",
   "mimetype": "text/x-python",
   "name": "python",
   "nbconvert_exporter": "python",
   "pygments_lexer": "ipython3",
   "version": "3.9.6"
  }
 },
 "nbformat": 4,
 "nbformat_minor": 2
}
