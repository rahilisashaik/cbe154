{
 "cells": [
  {
   "cell_type": "markdown",
   "id": "1b6c368e-64ad-4375-a3b9-334fee406477",
   "metadata": {},
   "source": [
    "#### Importing libraries"
   ]
  },
  {
   "cell_type": "code",
   "execution_count": 1,
   "id": "d8922198-f96e-4408-a661-b40b72e8d4a4",
   "metadata": {
    "execution": {
     "iopub.execute_input": "2025-04-11T04:26:12.207672Z",
     "iopub.status.busy": "2025-04-11T04:26:12.207228Z",
     "iopub.status.idle": "2025-04-11T04:26:14.237610Z",
     "shell.execute_reply": "2025-04-11T04:26:14.236868Z",
     "shell.execute_reply.started": "2025-04-11T04:26:12.207652Z"
    }
   },
   "outputs": [],
   "source": [
    "import pandas as pd\n",
    "import numpy as np\n",
    "from scipy import stats\n",
    "from scipy.stats import linregress\n",
    "import matplotlib.pyplot as plt\n",
    "from mpl_toolkits.mplot3d import Axes3D\n",
    "from scipy.interpolate import interp1d"
   ]
  },
  {
   "cell_type": "markdown",
   "id": "be3b1202-c798-4fee-9246-a4de69e9c538",
   "metadata": {},
   "source": [
    "#### Reading csv"
   ]
  },
  {
   "cell_type": "code",
   "execution_count": 2,
   "id": "52dd4a60-ec24-4438-997c-583e5bab4b0c",
   "metadata": {
    "execution": {
     "iopub.execute_input": "2025-04-11T04:26:14.252538Z",
     "iopub.status.busy": "2025-04-11T04:26:14.252111Z",
     "iopub.status.idle": "2025-04-11T04:26:14.278112Z",
     "shell.execute_reply": "2025-04-11T04:26:14.277599Z",
     "shell.execute_reply.started": "2025-04-11T04:26:14.252519Z"
    }
   },
   "outputs": [],
   "source": [
    "shell_parallel = pd.read_csv('shell_parallel.csv')\n",
    "shell_counter = pd.read_csv('shell_counter.csv')\n",
    "plate_parallel = pd.read_csv('plate_parallel_extra.csv')\n",
    "plate_counter = pd.read_csv('plate_counter_extra.csv')\n",
    "tube_parallel = pd.read_csv('tube_parallel.csv')\n",
    "tube_counter = pd.read_csv('tube_counter.csv')\n",
    "finned_parallel = pd.read_csv('finned_parallel_extra.csv')\n",
    "finned_counter = pd.read_csv('finned_counter_extra.csv')"
   ]
  },
  {
   "cell_type": "markdown",
   "id": "2ae1d4e8-8bd9-42ee-99de-3d7170de90f7",
   "metadata": {},
   "source": [
    "#### Creating a cleaner function"
   ]
  },
  {
   "cell_type": "code",
   "execution_count": 3,
   "id": "081e4807-310b-40cb-ada3-af39e9dad545",
   "metadata": {
    "execution": {
     "iopub.execute_input": "2025-04-11T04:26:14.363290Z",
     "iopub.status.busy": "2025-04-11T04:26:14.363022Z",
     "iopub.status.idle": "2025-04-11T04:26:14.367557Z",
     "shell.execute_reply": "2025-04-11T04:26:14.366967Z",
     "shell.execute_reply.started": "2025-04-11T04:26:14.363271Z"
    }
   },
   "outputs": [],
   "source": [
    "def cleaner(df):\n",
    "    df = df.dropna(axis=0)\n",
    "    new_headers = df.iloc[0].values\n",
    "    df = pd.DataFrame(df.iloc[1:].values, columns=new_headers)\n",
    "    df = df.reset_index(drop=True)\n",
    "    df = df.iloc[:, 1:]\n",
    "    df = df.astype(float)\n",
    "    df = df.drop(df.columns[4:10], axis=1)\n",
    "    return df"
   ]
  },
  {
   "cell_type": "code",
   "execution_count": 4,
   "id": "38b358cb-cb20-4d7d-adf3-0dcd9c96a121",
   "metadata": {
    "execution": {
     "iopub.execute_input": "2025-04-11T04:26:14.368641Z",
     "iopub.status.busy": "2025-04-11T04:26:14.368304Z",
     "iopub.status.idle": "2025-04-11T04:26:14.405882Z",
     "shell.execute_reply": "2025-04-11T04:26:14.405140Z",
     "shell.execute_reply.started": "2025-04-11T04:26:14.368624Z"
    }
   },
   "outputs": [],
   "source": [
    "shell_parallel = cleaner(shell_parallel)\n",
    "shell_counter = cleaner(shell_counter)\n",
    "plate_parallel = cleaner(plate_parallel)\n",
    "plate_counter = cleaner(plate_counter)\n",
    "tube_parallel = cleaner(tube_parallel)\n",
    "tube_counter = cleaner(tube_counter)\n",
    "finned_parallel = cleaner(finned_parallel)\n",
    "finned_counter = cleaner(finned_counter)"
   ]
  },
  {
   "cell_type": "code",
   "execution_count": 5,
   "id": "e8dcbb62-1b41-48ef-b930-7d0cf0ba1442",
   "metadata": {
    "execution": {
     "iopub.execute_input": "2025-04-11T04:26:14.407047Z",
     "iopub.status.busy": "2025-04-11T04:26:14.406761Z",
     "iopub.status.idle": "2025-04-11T04:26:14.440886Z",
     "shell.execute_reply": "2025-04-11T04:26:14.440285Z",
     "shell.execute_reply.started": "2025-04-11T04:26:14.407029Z"
    }
   },
   "outputs": [
    {
     "data": {
      "text/html": [
       "<div>\n",
       "<style scoped>\n",
       "    .dataframe tbody tr th:only-of-type {\n",
       "        vertical-align: middle;\n",
       "    }\n",
       "\n",
       "    .dataframe tbody tr th {\n",
       "        vertical-align: top;\n",
       "    }\n",
       "\n",
       "    .dataframe thead th {\n",
       "        text-align: right;\n",
       "    }\n",
       "</style>\n",
       "<table border=\"1\" class=\"dataframe\">\n",
       "  <thead>\n",
       "    <tr style=\"text-align: right;\">\n",
       "      <th></th>\n",
       "      <th>T1 (°C)</th>\n",
       "      <th>T2 (°C)</th>\n",
       "      <th>T3 (°C)</th>\n",
       "      <th>T4 (°C)</th>\n",
       "      <th>dp1 (mbar)</th>\n",
       "      <th>dp2 (mbar)</th>\n",
       "      <th>dQ1/dt (kW)</th>\n",
       "      <th>dQ2/dt (kW)</th>\n",
       "      <th>dQ3/dt (kW)</th>\n",
       "      <th>dQm/dt (kW)</th>\n",
       "    </tr>\n",
       "  </thead>\n",
       "  <tbody>\n",
       "    <tr>\n",
       "      <th>0</th>\n",
       "      <td>39.7</td>\n",
       "      <td>43.5</td>\n",
       "      <td>26.9</td>\n",
       "      <td>32.6</td>\n",
       "      <td>2.06</td>\n",
       "      <td>27.0</td>\n",
       "      <td>-1.51</td>\n",
       "      <td>0.0</td>\n",
       "      <td>1.43</td>\n",
       "      <td>1.47</td>\n",
       "    </tr>\n",
       "    <tr>\n",
       "      <th>1</th>\n",
       "      <td>39.6</td>\n",
       "      <td>43.4</td>\n",
       "      <td>26.6</td>\n",
       "      <td>32.5</td>\n",
       "      <td>2.04</td>\n",
       "      <td>27.0</td>\n",
       "      <td>-1.54</td>\n",
       "      <td>0.0</td>\n",
       "      <td>1.41</td>\n",
       "      <td>1.48</td>\n",
       "    </tr>\n",
       "    <tr>\n",
       "      <th>2</th>\n",
       "      <td>39.6</td>\n",
       "      <td>43.4</td>\n",
       "      <td>26.8</td>\n",
       "      <td>32.5</td>\n",
       "      <td>2.08</td>\n",
       "      <td>28.0</td>\n",
       "      <td>-1.55</td>\n",
       "      <td>0.0</td>\n",
       "      <td>1.42</td>\n",
       "      <td>1.49</td>\n",
       "    </tr>\n",
       "    <tr>\n",
       "      <th>3</th>\n",
       "      <td>39.6</td>\n",
       "      <td>43.4</td>\n",
       "      <td>26.6</td>\n",
       "      <td>32.4</td>\n",
       "      <td>2.06</td>\n",
       "      <td>27.0</td>\n",
       "      <td>-1.55</td>\n",
       "      <td>0.0</td>\n",
       "      <td>1.45</td>\n",
       "      <td>1.50</td>\n",
       "    </tr>\n",
       "    <tr>\n",
       "      <th>4</th>\n",
       "      <td>39.6</td>\n",
       "      <td>43.4</td>\n",
       "      <td>26.6</td>\n",
       "      <td>32.4</td>\n",
       "      <td>2.07</td>\n",
       "      <td>28.0</td>\n",
       "      <td>-1.55</td>\n",
       "      <td>0.0</td>\n",
       "      <td>1.47</td>\n",
       "      <td>1.51</td>\n",
       "    </tr>\n",
       "  </tbody>\n",
       "</table>\n",
       "</div>"
      ],
      "text/plain": [
       "   T1 (°C)  T2 (°C)  T3 (°C)  T4 (°C)  dp1 (mbar)  dp2 (mbar)  dQ1/dt (kW)  \\\n",
       "0     39.7     43.5     26.9     32.6        2.06        27.0        -1.51   \n",
       "1     39.6     43.4     26.6     32.5        2.04        27.0        -1.54   \n",
       "2     39.6     43.4     26.8     32.5        2.08        28.0        -1.55   \n",
       "3     39.6     43.4     26.6     32.4        2.06        27.0        -1.55   \n",
       "4     39.6     43.4     26.6     32.4        2.07        28.0        -1.55   \n",
       "\n",
       "   dQ2/dt (kW)  dQ3/dt (kW)  dQm/dt (kW)  \n",
       "0          0.0         1.43         1.47  \n",
       "1          0.0         1.41         1.48  \n",
       "2          0.0         1.42         1.49  \n",
       "3          0.0         1.45         1.50  \n",
       "4          0.0         1.47         1.51  "
      ]
     },
     "execution_count": 5,
     "metadata": {},
     "output_type": "execute_result"
    }
   ],
   "source": [
    "finned_counter.head()"
   ]
  },
  {
   "cell_type": "markdown",
   "id": "5df08ad3-9870-4059-8f9b-7b8f9d8d8792",
   "metadata": {},
   "source": [
    "#### Background Information\n",
    "Newton's law of cooling (Equation 2)\n",
    "$$q_s=h\\Delta T$$\n",
    "where $q_s$ is the heat flux $[\\frac{W}{m^2}]$ from the surface, $h$ is the convective heat transfer coefficient $[\\frac{W}{m^2 \\cdot K}]$, and $\\Delta T$ is the temperature difference $[K]$ between the surface and bulk fluid. The ability to transfer heat from the medium to the wall, or vice versa, is described by the heat transfer coefficient, $h$, as defined by Eqn. (2). Within the dividing wall, heat is transferred from the hot side to the cold side by thermal conduction, as described by Eqn. (1). At steady state, the following expression equates the heat flux to, through, and from the wall:\n",
    "\n",
    "$$q=h_1\\Delta T_1=\\frac{k\\Delta T_W}{s}=h_2\\Delta T_2=U\\Delta T$$ \n",
    "\n",
    "$(3)$\n",
    "\n",
    "where $\\Delta T$ values are as defined in Figure 2, $s$ is the thickness of the dividing wall, and $U$ is the overall heat transfer coefficient of the heat exchanger. $U$ characterizes the heat exchanger, and is represented as the sum of a series of thermal resistances:\n",
    "$$U=\\frac{1}{\\frac{1}{h_1}+\\frac{s}{k}+\n",
    "\\frac{1}{h_2}}$$\n",
    "\n",
    "$(4)$\n",
    "\n",
    "Log mean temperature difference, $\\Delta T_{LM}$, must be used to represent the driving force. The general formula for LMTD is\n",
    "\n",
    "$\\Delta T_{LM} = \\frac{\\Delta T_a - \\Delta T_b}{ln(\\frac{\\Delta T_a}{\\Delta T_b})}$\n",
    "\n",
    "where\n",
    "\n",
    "$\\Delta T_a:$ Temperature difference at one end of the heat exchanger.\n",
    "\n",
    "$\\Delta T_b:$ Temperature difference at the other end of the heat exchanger \n",
    "\n",
    "For co-current flow log mean temperature difference is:\n",
    "\n",
    "$\\Delta T_{LM}=\\frac{(T_{1i}-T_{2i})-(T_{1o}-T_{2o})}{ln(\\frac{T_{1i}-T_{2i}}{T_{1o}-T_{2o}})}$\n",
    "\n",
    "$(5b)$\n",
    "\n",
    "Subscripts i and o in Eqn. (5b) represent inlet and outlet streams, respectively. Additional considerations are required when the surface areas of the hot and cold side are different in size, as in the case of a tubular heat exchanger. \n",
    "\n",
    "The heat transfer rate (heat duty) of a heat exchanger can be calculated with an energy balance on the hot or cold fluid:\n",
    "\n",
    "$\\dot Q_H=\\dot m_h \\cdot c_{p,h} \\cdot (\\Delta T)_h$\n",
    "\n",
    "$\\dot Q_c = \\dot m_c \\cdot c_{p,c} \\cdot (\\Delta T)_c$\n",
    "\n",
    "$(6)$\n",
    "\n",
    "where $\\dot m$ is the mass flow rate and $c_p$ is the specific heat capacity. In an ideal heat exchanger without losses,\n",
    "\n",
    "$\\dot Q = - \\dot Q_H = \\dot Q_C$\n",
    "\n",
    "Instead use the mean exchanged heat flow, $\\dot Q_M$, and mean area, $A_M$, to calculate the overall heat transfer coefficient for a given heat exchanger.\n",
    "\n",
    "$U = \\frac{\\dot Q_M}{A_M \\cdot \\Delta T_{LM}}$\n",
    "\n",
    "$\\dot Q_M = \\frac{|\\dot Q_C|+|\\dot Q_H|}{2}$\n",
    "\n",
    "$(9)$\n",
    "\n",
    "For a tubular heat exchanger, the mean area is given by:\n",
    "\n",
    "$A_M = \\frac{A_{outer} - A_{inner}}{ln(\\frac{A_{outer}}{A_{inner}})} = \\frac{\\pi L (D_{t,o}-D_{t,i})}{ln(\\frac{D_{t,o}}{D_t,i})}$\n",
    "\n",
    "$(10)$\n",
    "\n",
    "where $D_{t,i}$ represents the inner tube diameter, $D_{t,o}$ is the outer tube diameter, and $L$ is the length of the tube.\n",
    "\n",
    "#### Effectiveness, $\\epsilon$\n",
    "\n",
    "$\\epsilon = \\frac{\\dot Q_{actual}}{\\dot Q_max}=\\frac{\\dot Q_M}{C_{min}(T_{hi}-T_{Ci})}$\n",
    "\n",
    "$C_h=\\dot m_h c_{p,h}$\n",
    "\n",
    "$C_C=\\dot m_c c_{p,c}$\n",
    "\n",
    "$C_{min}=min(C_h,C_c)$\n",
    "\n",
    "where\n",
    "\n",
    "$\\dot Q_{actual}$ is the actual amount of heat transferred by heat exchanger\n",
    "\n",
    "$\\dot Q_{max}$ is the maximum amount of heat that could be transferred if one of the fluids were to be heated or cooled to the temperature of the other fluid at the inlet\n",
    "\n",
    "$C=\\dot m c_p$ represents the heat capacity rate\n",
    "\n",
    "$C_{min}$ is the minimum heat capacity rate (the smaller of the hot or cold fluid's heat capacity rate)"
   ]
  },
  {
   "cell_type": "markdown",
   "id": "34b60214-893e-4385-a30a-031ecf648f51",
   "metadata": {},
   "source": [
    "# Data Analysis Question 1\n",
    "Experimentally determine the overall heat transfer coefficient (U) and effectiveness (ε) of\n",
    "each of the four heat exchangers under identical conditions."
   ]
  },
  {
   "cell_type": "markdown",
   "id": "fab44177-d9ff-462b-9a1c-48394001d075",
   "metadata": {},
   "source": [
    "#### Quantity Functions"
   ]
  },
  {
   "cell_type": "code",
   "execution_count": 6,
   "id": "7c81d16f-0a2f-442a-95c6-2d8954463102",
   "metadata": {
    "execution": {
     "iopub.execute_input": "2025-04-11T04:26:14.505273Z",
     "iopub.status.busy": "2025-04-11T04:26:14.504695Z",
     "iopub.status.idle": "2025-04-11T04:26:14.512285Z",
     "shell.execute_reply": "2025-04-11T04:26:14.511551Z",
     "shell.execute_reply.started": "2025-04-11T04:26:14.505245Z"
    }
   },
   "outputs": [],
   "source": [
    "def calculate_Qh(m, c_p, Delta_T):\n",
    "    return m * c_p * Delta_T\n",
    "\n",
    "def calculate_Qc(m, c_p, Delta_T):\n",
    "    return m * c_p * Delta_T\n",
    "\n",
    "def calculate_QM(Qc,Qh):\n",
    "    return (np.abs(Qc) + np.abs(Qh))/2\n",
    "\n",
    "def calculate_LMTD(Delta_Ta, Delta_Tb):\n",
    "    return (Delta_Ta - Delta_Tb)/(np.log(Delta_Ta/Delta_Tb))\n",
    "\n",
    "def calculate_cocurrent_LMTD(T_1i, T_2i, T_1o, T_2o):\n",
    "    return ((T_1i - T_2i) - (T_1o - T_2o)) / np.log((T_1i - T_2i) / (T_1o - T_2o))\n",
    "\n",
    "def calculate_A_M_tubular(D_to, D_ti, L):\n",
    "    return (np.pi*L*(D_to - D_ti))/np.log(D_to/D_ti)\n",
    "\n",
    "def calculate_U(QM, A_M, LMTD):\n",
    "    return QM/(A_M*LMTD)"
   ]
  },
  {
   "cell_type": "markdown",
   "id": "9a469b55-69f8-418e-918a-92a2319173ab",
   "metadata": {},
   "source": [
    "#### System Parameters"
   ]
  },
  {
   "cell_type": "code",
   "execution_count": 7,
   "id": "fe204e4c-89de-4be7-9545-1de1274db002",
   "metadata": {
    "execution": {
     "iopub.execute_input": "2025-04-11T04:26:14.539663Z",
     "iopub.status.busy": "2025-04-11T04:26:14.539220Z",
     "iopub.status.idle": "2025-04-11T04:26:14.552791Z",
     "shell.execute_reply": "2025-04-11T04:26:14.552130Z",
     "shell.execute_reply.started": "2025-04-11T04:26:14.539638Z"
    }
   },
   "outputs": [],
   "source": [
    "c_p = 4184 #J/(kg*C) #Specific heat capacity of water"
   ]
  },
  {
   "cell_type": "markdown",
   "id": "3b295dbc-a49a-4454-95f5-c0e2fe86dac2",
   "metadata": {},
   "source": [
    "#### Example calculation of overall heat transfer coefficient with shell-tube heat exchanger (both parallel and counter flow)"
   ]
  },
  {
   "cell_type": "code",
   "execution_count": 8,
   "id": "5570774e-70c0-42fd-9a50-ba368196a078",
   "metadata": {
    "execution": {
     "iopub.execute_input": "2025-04-11T04:26:14.572741Z",
     "iopub.status.busy": "2025-04-11T04:26:14.572502Z",
     "iopub.status.idle": "2025-04-11T04:26:14.585689Z",
     "shell.execute_reply": "2025-04-11T04:26:14.585068Z",
     "shell.execute_reply.started": "2025-04-11T04:26:14.572724Z"
    }
   },
   "outputs": [
    {
     "data": {
      "text/html": [
       "<div>\n",
       "<style scoped>\n",
       "    .dataframe tbody tr th:only-of-type {\n",
       "        vertical-align: middle;\n",
       "    }\n",
       "\n",
       "    .dataframe tbody tr th {\n",
       "        vertical-align: top;\n",
       "    }\n",
       "\n",
       "    .dataframe thead th {\n",
       "        text-align: right;\n",
       "    }\n",
       "</style>\n",
       "<table border=\"1\" class=\"dataframe\">\n",
       "  <thead>\n",
       "    <tr style=\"text-align: right;\">\n",
       "      <th></th>\n",
       "      <th>T1 (°C)</th>\n",
       "      <th>T2 (°C)</th>\n",
       "      <th>T3 (°C)</th>\n",
       "      <th>T4 (°C)</th>\n",
       "      <th>dp1 (mbar)</th>\n",
       "      <th>dp2 (mbar)</th>\n",
       "      <th>dQ1/dt (kW)</th>\n",
       "      <th>dQ2/dt (kW)</th>\n",
       "      <th>dQ3/dt (kW)</th>\n",
       "      <th>dQm/dt (kW)</th>\n",
       "    </tr>\n",
       "  </thead>\n",
       "  <tbody>\n",
       "    <tr>\n",
       "      <th>0</th>\n",
       "      <td>40.0</td>\n",
       "      <td>32.9</td>\n",
       "      <td>15.1</td>\n",
       "      <td>21.5</td>\n",
       "      <td>0.09</td>\n",
       "      <td>24.0</td>\n",
       "      <td>-2.58</td>\n",
       "      <td>2.58</td>\n",
       "      <td>0.0</td>\n",
       "      <td>2.58</td>\n",
       "    </tr>\n",
       "    <tr>\n",
       "      <th>1</th>\n",
       "      <td>40.0</td>\n",
       "      <td>32.9</td>\n",
       "      <td>15.1</td>\n",
       "      <td>21.5</td>\n",
       "      <td>0.09</td>\n",
       "      <td>24.0</td>\n",
       "      <td>-2.60</td>\n",
       "      <td>2.56</td>\n",
       "      <td>0.0</td>\n",
       "      <td>2.58</td>\n",
       "    </tr>\n",
       "    <tr>\n",
       "      <th>2</th>\n",
       "      <td>40.0</td>\n",
       "      <td>32.9</td>\n",
       "      <td>15.1</td>\n",
       "      <td>21.5</td>\n",
       "      <td>0.09</td>\n",
       "      <td>23.0</td>\n",
       "      <td>-2.60</td>\n",
       "      <td>2.58</td>\n",
       "      <td>0.0</td>\n",
       "      <td>2.59</td>\n",
       "    </tr>\n",
       "    <tr>\n",
       "      <th>3</th>\n",
       "      <td>40.0</td>\n",
       "      <td>32.9</td>\n",
       "      <td>15.1</td>\n",
       "      <td>21.6</td>\n",
       "      <td>0.09</td>\n",
       "      <td>24.0</td>\n",
       "      <td>-2.60</td>\n",
       "      <td>2.60</td>\n",
       "      <td>0.0</td>\n",
       "      <td>2.60</td>\n",
       "    </tr>\n",
       "    <tr>\n",
       "      <th>4</th>\n",
       "      <td>40.0</td>\n",
       "      <td>32.9</td>\n",
       "      <td>15.1</td>\n",
       "      <td>21.6</td>\n",
       "      <td>0.09</td>\n",
       "      <td>24.0</td>\n",
       "      <td>-2.60</td>\n",
       "      <td>2.62</td>\n",
       "      <td>0.0</td>\n",
       "      <td>2.61</td>\n",
       "    </tr>\n",
       "  </tbody>\n",
       "</table>\n",
       "</div>"
      ],
      "text/plain": [
       "   T1 (°C)  T2 (°C)  T3 (°C)  T4 (°C)  dp1 (mbar)  dp2 (mbar)  dQ1/dt (kW)  \\\n",
       "0     40.0     32.9     15.1     21.5        0.09        24.0        -2.58   \n",
       "1     40.0     32.9     15.1     21.5        0.09        24.0        -2.60   \n",
       "2     40.0     32.9     15.1     21.5        0.09        23.0        -2.60   \n",
       "3     40.0     32.9     15.1     21.6        0.09        24.0        -2.60   \n",
       "4     40.0     32.9     15.1     21.6        0.09        24.0        -2.60   \n",
       "\n",
       "   dQ2/dt (kW)  dQ3/dt (kW)  dQm/dt (kW)  \n",
       "0         2.58          0.0         2.58  \n",
       "1         2.56          0.0         2.58  \n",
       "2         2.58          0.0         2.59  \n",
       "3         2.60          0.0         2.60  \n",
       "4         2.62          0.0         2.61  "
      ]
     },
     "execution_count": 8,
     "metadata": {},
     "output_type": "execute_result"
    }
   ],
   "source": [
    "shell_parallel.head()"
   ]
  },
  {
   "cell_type": "code",
   "execution_count": 9,
   "id": "7fc96f38-8b8a-4ed5-9909-e736e520ca50",
   "metadata": {
    "execution": {
     "iopub.execute_input": "2025-04-11T04:26:14.586839Z",
     "iopub.status.busy": "2025-04-11T04:26:14.586565Z",
     "iopub.status.idle": "2025-04-11T04:26:14.614399Z",
     "shell.execute_reply": "2025-04-11T04:26:14.613810Z",
     "shell.execute_reply.started": "2025-04-11T04:26:14.586821Z"
    }
   },
   "outputs": [
    {
     "data": {
      "text/html": [
       "<div>\n",
       "<style scoped>\n",
       "    .dataframe tbody tr th:only-of-type {\n",
       "        vertical-align: middle;\n",
       "    }\n",
       "\n",
       "    .dataframe tbody tr th {\n",
       "        vertical-align: top;\n",
       "    }\n",
       "\n",
       "    .dataframe thead th {\n",
       "        text-align: right;\n",
       "    }\n",
       "</style>\n",
       "<table border=\"1\" class=\"dataframe\">\n",
       "  <thead>\n",
       "    <tr style=\"text-align: right;\">\n",
       "      <th></th>\n",
       "      <th>T1 (°C)</th>\n",
       "      <th>T2 (°C)</th>\n",
       "      <th>T3 (°C)</th>\n",
       "      <th>T4 (°C)</th>\n",
       "      <th>dp1 (mbar)</th>\n",
       "      <th>dp2 (mbar)</th>\n",
       "      <th>dQ1/dt (kW)</th>\n",
       "      <th>dQ2/dt (kW)</th>\n",
       "      <th>dQ3/dt (kW)</th>\n",
       "      <th>dQm/dt (kW)</th>\n",
       "    </tr>\n",
       "  </thead>\n",
       "  <tbody>\n",
       "    <tr>\n",
       "      <th>0</th>\n",
       "      <td>32.4</td>\n",
       "      <td>40.2</td>\n",
       "      <td>15.5</td>\n",
       "      <td>22.3</td>\n",
       "      <td>0.09</td>\n",
       "      <td>21.0</td>\n",
       "      <td>-2.89</td>\n",
       "      <td>2.75</td>\n",
       "      <td>0.0</td>\n",
       "      <td>2.82</td>\n",
       "    </tr>\n",
       "    <tr>\n",
       "      <th>1</th>\n",
       "      <td>32.4</td>\n",
       "      <td>40.2</td>\n",
       "      <td>15.5</td>\n",
       "      <td>22.3</td>\n",
       "      <td>0.09</td>\n",
       "      <td>21.0</td>\n",
       "      <td>-2.90</td>\n",
       "      <td>2.75</td>\n",
       "      <td>0.0</td>\n",
       "      <td>2.83</td>\n",
       "    </tr>\n",
       "    <tr>\n",
       "      <th>2</th>\n",
       "      <td>32.4</td>\n",
       "      <td>40.2</td>\n",
       "      <td>15.5</td>\n",
       "      <td>22.3</td>\n",
       "      <td>0.09</td>\n",
       "      <td>21.0</td>\n",
       "      <td>-2.90</td>\n",
       "      <td>2.74</td>\n",
       "      <td>0.0</td>\n",
       "      <td>2.82</td>\n",
       "    </tr>\n",
       "    <tr>\n",
       "      <th>3</th>\n",
       "      <td>32.4</td>\n",
       "      <td>40.2</td>\n",
       "      <td>15.5</td>\n",
       "      <td>22.3</td>\n",
       "      <td>0.09</td>\n",
       "      <td>20.0</td>\n",
       "      <td>-2.86</td>\n",
       "      <td>2.74</td>\n",
       "      <td>0.0</td>\n",
       "      <td>2.80</td>\n",
       "    </tr>\n",
       "    <tr>\n",
       "      <th>4</th>\n",
       "      <td>32.4</td>\n",
       "      <td>40.2</td>\n",
       "      <td>15.5</td>\n",
       "      <td>22.2</td>\n",
       "      <td>0.09</td>\n",
       "      <td>21.0</td>\n",
       "      <td>-2.88</td>\n",
       "      <td>2.74</td>\n",
       "      <td>0.0</td>\n",
       "      <td>2.81</td>\n",
       "    </tr>\n",
       "  </tbody>\n",
       "</table>\n",
       "</div>"
      ],
      "text/plain": [
       "   T1 (°C)  T2 (°C)  T3 (°C)  T4 (°C)  dp1 (mbar)  dp2 (mbar)  dQ1/dt (kW)  \\\n",
       "0     32.4     40.2     15.5     22.3        0.09        21.0        -2.89   \n",
       "1     32.4     40.2     15.5     22.3        0.09        21.0        -2.90   \n",
       "2     32.4     40.2     15.5     22.3        0.09        21.0        -2.90   \n",
       "3     32.4     40.2     15.5     22.3        0.09        20.0        -2.86   \n",
       "4     32.4     40.2     15.5     22.2        0.09        21.0        -2.88   \n",
       "\n",
       "   dQ2/dt (kW)  dQ3/dt (kW)  dQm/dt (kW)  \n",
       "0         2.75          0.0         2.82  \n",
       "1         2.75          0.0         2.83  \n",
       "2         2.74          0.0         2.82  \n",
       "3         2.74          0.0         2.80  \n",
       "4         2.74          0.0         2.81  "
      ]
     },
     "execution_count": 9,
     "metadata": {},
     "output_type": "execute_result"
    }
   ],
   "source": [
    "shell_counter.head()"
   ]
  },
  {
   "cell_type": "markdown",
   "id": "f8f9861a-b679-408e-a42c-b0cef752479a",
   "metadata": {},
   "source": [
    "#### Extract the relevant values\n",
    "- Cold water inlet temperature\n",
    "- Hot water inlet temperature\n",
    "- Cold water outlet temperature\n",
    "- Hot water outlet temperature\n",
    "- Qm"
   ]
  },
  {
   "cell_type": "markdown",
   "id": "863605d9-53a1-471f-a34a-0ba581f21114",
   "metadata": {},
   "source": [
    "#### Start with parallel\n",
    "Value extraction"
   ]
  },
  {
   "cell_type": "code",
   "execution_count": 10,
   "id": "cf941925-e36a-4577-9132-1b8bd0929e61",
   "metadata": {
    "execution": {
     "iopub.execute_input": "2025-04-11T04:26:14.662581Z",
     "iopub.status.busy": "2025-04-11T04:26:14.662165Z",
     "iopub.status.idle": "2025-04-11T04:26:14.666513Z",
     "shell.execute_reply": "2025-04-11T04:26:14.665871Z",
     "shell.execute_reply.started": "2025-04-11T04:26:14.662553Z"
    }
   },
   "outputs": [],
   "source": [
    "cold_inlet_temp = shell_parallel['T3 (°C)'].mean()\n",
    "hot_inlet_temp = shell_parallel['T1 (°C)'].mean()\n",
    "cold_outlet_temp = shell_parallel['T4 (°C)'].mean()\n",
    "hot_outlet_temp = shell_parallel['T2 (°C)'].mean()\n",
    "QM = shell_parallel['dQm/dt (kW)'].mean() * 1000\n",
    "A_M = 0.15 #m^2"
   ]
  },
  {
   "cell_type": "markdown",
   "id": "6a43c71f-99df-4927-b7fc-6e13098d6cce",
   "metadata": {},
   "source": [
    "Compute LMTD and U"
   ]
  },
  {
   "cell_type": "code",
   "execution_count": 11,
   "id": "d8acd81a-d1d9-41ef-bb75-d4391eb20c5c",
   "metadata": {
    "execution": {
     "iopub.execute_input": "2025-04-11T04:26:14.686016Z",
     "iopub.status.busy": "2025-04-11T04:26:14.685765Z",
     "iopub.status.idle": "2025-04-11T04:26:14.696691Z",
     "shell.execute_reply": "2025-04-11T04:26:14.696124Z",
     "shell.execute_reply.started": "2025-04-11T04:26:14.685999Z"
    }
   },
   "outputs": [
    {
     "name": "stdout",
     "output_type": "stream",
     "text": [
      "U (shell heat exchanger with parallel flow): 958.0758533838674 W/m²·K\n"
     ]
    }
   ],
   "source": [
    "Delta_Ta = hot_inlet_temp - cold_outlet_temp\n",
    "Delta_Tb = hot_outlet_temp - cold_inlet_temp\n",
    "\n",
    "LMTD = calculate_LMTD(Delta_Ta, Delta_Tb)\n",
    "U = calculate_U(QM, A_M, LMTD)\n",
    "\n",
    "print(\"U (shell heat exchanger with parallel flow):\",U,\"W/m²·K\")"
   ]
  },
  {
   "cell_type": "markdown",
   "id": "19793ce8-2071-42ad-b8ce-e664d89523c0",
   "metadata": {},
   "source": [
    "#### Define a general functions to calculate overall heat transfer coefficients for every flow heat exchanger"
   ]
  },
  {
   "cell_type": "markdown",
   "id": "0c989a3c-4378-4548-b343-d4aa41e6cd6c",
   "metadata": {},
   "source": [
    "#### For parallel flows"
   ]
  },
  {
   "cell_type": "code",
   "execution_count": 12,
   "id": "ad4d858c-c9b8-4033-ac1d-14e2ab2b5f48",
   "metadata": {
    "execution": {
     "iopub.execute_input": "2025-04-11T04:26:14.736203Z",
     "iopub.status.busy": "2025-04-11T04:26:14.735525Z",
     "iopub.status.idle": "2025-04-11T04:26:14.740856Z",
     "shell.execute_reply": "2025-04-11T04:26:14.740231Z",
     "shell.execute_reply.started": "2025-04-11T04:26:14.736183Z"
    }
   },
   "outputs": [],
   "source": [
    "def parallel_U(df, A_M):\n",
    "    QM = df['dQm/dt (kW)'].mean() * 1000\n",
    "    \n",
    "    first_four_columns = df.iloc[:, :4]\n",
    "    flat_values = first_four_columns.mean(axis=0).values\n",
    "    unique_sorted_values = np.sort(np.unique(flat_values))\n",
    "    \n",
    "    cold_inlet_temp = unique_sorted_values[0]   \n",
    "    cold_outlet_temp = unique_sorted_values[1]   \n",
    "    hot_outlet_temp = unique_sorted_values[2]    \n",
    "    hot_inlet_temp = unique_sorted_values[3]\n",
    "\n",
    "    Delta_Ta = hot_inlet_temp - cold_outlet_temp\n",
    "    Delta_Tb = hot_outlet_temp - cold_inlet_temp\n",
    "\n",
    "    LMTD = calculate_LMTD(Delta_Ta, Delta_Tb)\n",
    "    U = calculate_U(QM, A_M, LMTD)\n",
    "    return np.array([U, cold_inlet_temp, cold_outlet_temp, hot_outlet_temp, hot_inlet_temp, QM])"
   ]
  },
  {
   "cell_type": "markdown",
   "id": "5eeccefc-1e0d-46d8-be9e-8ccb297acb73",
   "metadata": {},
   "source": [
    "#### For counter flows"
   ]
  },
  {
   "cell_type": "code",
   "execution_count": 13,
   "id": "da3f5dd2-d1a4-4905-92d4-f068b67ab6c3",
   "metadata": {
    "execution": {
     "iopub.execute_input": "2025-04-11T04:26:14.760991Z",
     "iopub.status.busy": "2025-04-11T04:26:14.760727Z",
     "iopub.status.idle": "2025-04-11T04:26:14.766180Z",
     "shell.execute_reply": "2025-04-11T04:26:14.765553Z",
     "shell.execute_reply.started": "2025-04-11T04:26:14.760953Z"
    }
   },
   "outputs": [],
   "source": [
    "def counter_U(df, A_M):\n",
    "    QM = df['dQm/dt (kW)'].mean() * 1000\n",
    "    \n",
    "    first_four_columns = df.iloc[:, :4]\n",
    "    flat_values = first_four_columns.mean(axis=0).values\n",
    "    unique_sorted_values = np.sort(np.unique(flat_values))\n",
    "    \n",
    "    cold_inlet_temp = unique_sorted_values[0]   \n",
    "    cold_outlet_temp = unique_sorted_values[1]   \n",
    "    hot_outlet_temp = unique_sorted_values[2]    \n",
    "    hot_inlet_temp = unique_sorted_values[3]\n",
    "\n",
    "    LMTD = calculate_cocurrent_LMTD(hot_inlet_temp,cold_inlet_temp,hot_outlet_temp,cold_outlet_temp)\n",
    "    U = calculate_U(QM, A_M, LMTD)\n",
    "    return np.array([U, cold_inlet_temp, cold_outlet_temp, hot_outlet_temp, hot_inlet_temp, QM])"
   ]
  },
  {
   "cell_type": "markdown",
   "id": "0edcc5ed-c63c-40b9-9793-081fa1f159b3",
   "metadata": {},
   "source": [
    "#### Apply to every heat exchanger"
   ]
  },
  {
   "cell_type": "code",
   "execution_count": 32,
   "id": "a7901a61-ac0a-4974-b337-ae057fd78c39",
   "metadata": {
    "execution": {
     "iopub.execute_input": "2025-04-11T06:11:14.345348Z",
     "iopub.status.busy": "2025-04-11T06:11:14.344966Z",
     "iopub.status.idle": "2025-04-11T06:11:14.356521Z",
     "shell.execute_reply": "2025-04-11T06:11:14.355931Z",
     "shell.execute_reply.started": "2025-04-11T06:11:14.345323Z"
    }
   },
   "outputs": [
    {
     "data": {
      "text/plain": [
       "array([ 958.07585338,   15.23      ,   21.687     ,   33.002     ,\n",
       "         40.094     , 2599.4       ])"
      ]
     },
     "execution_count": 32,
     "metadata": {},
     "output_type": "execute_result"
    }
   ],
   "source": [
    "shell_counter_U = counter_U(shell_counter, A_M)\n",
    "shell_parallel_U = parallel_U(shell_parallel, A_M)\n",
    "finned_counter_U = counter_U(finned_counter, 2.77)\n",
    "finned_parallel_U = parallel_U(finned_parallel, 2.77)\n",
    "plate_counter_U = counter_U(plate_counter, 0.13932)\n",
    "plate_parallel_U = parallel_U(plate_parallel, 0.13932)\n",
    "tube_counter_U = counter_U(tube_counter, 0.0698)\n",
    "tube_parallel_U = parallel_U(tube_parallel, 0.0698)\n",
    "shell_parallel_U"
   ]
  },
  {
   "cell_type": "markdown",
   "id": "a51cecbf-692c-4526-a4ca-94e4ef7b1e1d",
   "metadata": {},
   "source": [
    "### New Data Frame With Calculated Values"
   ]
  },
  {
   "cell_type": "code",
   "execution_count": 40,
   "id": "3c68b23b-653b-409c-8d2a-975871f276c1",
   "metadata": {
    "execution": {
     "iopub.execute_input": "2025-04-11T06:19:02.147851Z",
     "iopub.status.busy": "2025-04-11T06:19:02.147332Z",
     "iopub.status.idle": "2025-04-11T06:19:02.168061Z",
     "shell.execute_reply": "2025-04-11T06:19:02.166835Z",
     "shell.execute_reply.started": "2025-04-11T06:19:02.147816Z"
    }
   },
   "outputs": [
    {
     "data": {
      "text/html": [
       "<div>\n",
       "<style scoped>\n",
       "    .dataframe tbody tr th:only-of-type {\n",
       "        vertical-align: middle;\n",
       "    }\n",
       "\n",
       "    .dataframe tbody tr th {\n",
       "        vertical-align: top;\n",
       "    }\n",
       "\n",
       "    .dataframe thead th {\n",
       "        text-align: right;\n",
       "    }\n",
       "</style>\n",
       "<table border=\"1\" class=\"dataframe\">\n",
       "  <thead>\n",
       "    <tr style=\"text-align: right;\">\n",
       "      <th></th>\n",
       "      <th>Heat Exchanger Type</th>\n",
       "      <th>U</th>\n",
       "      <th>T_ci</th>\n",
       "      <th>T_co</th>\n",
       "      <th>T_ho</th>\n",
       "      <th>T_hi</th>\n",
       "      <th>Q_M</th>\n",
       "    </tr>\n",
       "  </thead>\n",
       "  <tbody>\n",
       "    <tr>\n",
       "      <th>0</th>\n",
       "      <td>Shell Counter</td>\n",
       "      <td>1150.253588</td>\n",
       "      <td>15.351</td>\n",
       "      <td>22.202</td>\n",
       "      <td>32.284</td>\n",
       "      <td>40.139</td>\n",
       "      <td>2820.5</td>\n",
       "    </tr>\n",
       "    <tr>\n",
       "      <th>1</th>\n",
       "      <td>Shell Parallel</td>\n",
       "      <td>958.075853</td>\n",
       "      <td>15.230</td>\n",
       "      <td>21.687</td>\n",
       "      <td>33.002</td>\n",
       "      <td>40.094</td>\n",
       "      <td>2599.4</td>\n",
       "    </tr>\n",
       "    <tr>\n",
       "      <th>2</th>\n",
       "      <td>Finned Counter</td>\n",
       "      <td>49.486788</td>\n",
       "      <td>26.490</td>\n",
       "      <td>32.596</td>\n",
       "      <td>39.586</td>\n",
       "      <td>43.468</td>\n",
       "      <td>1542.8</td>\n",
       "    </tr>\n",
       "    <tr>\n",
       "      <th>3</th>\n",
       "      <td>Finned Parallel</td>\n",
       "      <td>54.429328</td>\n",
       "      <td>26.444</td>\n",
       "      <td>33.438</td>\n",
       "      <td>39.300</td>\n",
       "      <td>43.426</td>\n",
       "      <td>1713.0</td>\n",
       "    </tr>\n",
       "    <tr>\n",
       "      <th>4</th>\n",
       "      <td>Plate Counter</td>\n",
       "      <td>3510.638952</td>\n",
       "      <td>21.694</td>\n",
       "      <td>28.938</td>\n",
       "      <td>32.812</td>\n",
       "      <td>41.262</td>\n",
       "      <td>4739.4</td>\n",
       "    </tr>\n",
       "    <tr>\n",
       "      <th>5</th>\n",
       "      <td>Plate Parallel</td>\n",
       "      <td>2522.359438</td>\n",
       "      <td>20.420</td>\n",
       "      <td>30.064</td>\n",
       "      <td>31.706</td>\n",
       "      <td>41.986</td>\n",
       "      <td>4076.8</td>\n",
       "    </tr>\n",
       "    <tr>\n",
       "      <th>6</th>\n",
       "      <td>Tube Counter</td>\n",
       "      <td>6465.400106</td>\n",
       "      <td>21.821</td>\n",
       "      <td>27.312</td>\n",
       "      <td>30.769</td>\n",
       "      <td>37.904</td>\n",
       "      <td>3706.3</td>\n",
       "    </tr>\n",
       "    <tr>\n",
       "      <th>7</th>\n",
       "      <td>Tube Parallel</td>\n",
       "      <td>5447.766559</td>\n",
       "      <td>21.821</td>\n",
       "      <td>27.312</td>\n",
       "      <td>30.769</td>\n",
       "      <td>37.904</td>\n",
       "      <td>3706.3</td>\n",
       "    </tr>\n",
       "  </tbody>\n",
       "</table>\n",
       "</div>"
      ],
      "text/plain": [
       "  Heat Exchanger Type            U    T_ci    T_co    T_ho    T_hi     Q_M\n",
       "0       Shell Counter  1150.253588  15.351  22.202  32.284  40.139  2820.5\n",
       "1      Shell Parallel   958.075853  15.230  21.687  33.002  40.094  2599.4\n",
       "2      Finned Counter    49.486788  26.490  32.596  39.586  43.468  1542.8\n",
       "3     Finned Parallel    54.429328  26.444  33.438  39.300  43.426  1713.0\n",
       "4       Plate Counter  3510.638952  21.694  28.938  32.812  41.262  4739.4\n",
       "5      Plate Parallel  2522.359438  20.420  30.064  31.706  41.986  4076.8\n",
       "6        Tube Counter  6465.400106  21.821  27.312  30.769  37.904  3706.3\n",
       "7       Tube Parallel  5447.766559  21.821  27.312  30.769  37.904  3706.3"
      ]
     },
     "execution_count": 40,
     "metadata": {},
     "output_type": "execute_result"
    }
   ],
   "source": [
    "dfQ1 = pd.DataFrame(columns=[\"U\", \"T_ci\", \"T_co\", \"T_ho\", \"T_hi\", \"Q_M\"])\n",
    "\n",
    "data_arrays = [\n",
    "    shell_counter_U,\n",
    "    shell_parallel_U,\n",
    "    finned_counter_U,\n",
    "    finned_parallel_U,\n",
    "    plate_counter_U,\n",
    "    plate_parallel_U,\n",
    "    tube_counter_U,\n",
    "    tube_parallel_U\n",
    "]\n",
    "\n",
    "dfQ1 = pd.DataFrame(data_arrays, columns=[\"U\", \"T_ci\", \"T_co\", \"T_ho\", \"T_hi\", \"Q_M\"])\n",
    "\n",
    "dfQ1.insert(0, 'Heat Exchanger Type', np.array([\n",
    "    'Shell Counter', \n",
    "    'Shell Parallel',\n",
    "    'Finned Counter',\n",
    "    'Finned Parallel',\n",
    "    'Plate Counter',\n",
    "    'Plate Parallel',\n",
    "    'Tube Counter',\n",
    "    'Tube Parallel'\n",
    "]))\n",
    "dfQ1"
   ]
  },
  {
   "cell_type": "markdown",
   "id": "46f08af0-7953-477c-a30f-c7537cfb8a5d",
   "metadata": {},
   "source": [
    "#### Tubular Calculations"
   ]
  },
  {
   "cell_type": "code",
   "execution_count": 27,
   "id": "fef08488-becf-496e-b391-c0b4098eb5b4",
   "metadata": {
    "execution": {
     "iopub.execute_input": "2025-04-11T05:07:25.376031Z",
     "iopub.status.busy": "2025-04-11T05:07:25.375674Z",
     "iopub.status.idle": "2025-04-11T05:07:25.381513Z",
     "shell.execute_reply": "2025-04-11T05:07:25.380784Z",
     "shell.execute_reply.started": "2025-04-11T05:07:25.376006Z"
    }
   },
   "outputs": [
    {
     "data": {
      "text/plain": [
       "0.09101473843791537"
      ]
     },
     "execution_count": 27,
     "metadata": {},
     "output_type": "execute_result"
    }
   ],
   "source": [
    "# D_ti = 6/1000\n",
    "# D_to = 13/1000\n",
    "# L = 3200 /1000\n",
    "\n",
    "# tube_area = calculate_A_M_tubular(D_to, D_ti, L)\n",
    "# tube_area"
   ]
  },
  {
   "cell_type": "markdown",
   "id": "87ff1ec4-a277-4b22-9495-e9da802c6b99",
   "metadata": {},
   "source": [
    "### Effectiveness Calculation"
   ]
  },
  {
   "cell_type": "markdown",
   "id": "52ba93f3-674a-4ffd-ba2f-ae6afe7e1c5b",
   "metadata": {},
   "source": [
    "#### Define function"
   ]
  },
  {
   "cell_type": "code",
   "execution_count": 42,
   "id": "da62b523-2363-4134-b53f-871134ca15cc",
   "metadata": {
    "execution": {
     "iopub.execute_input": "2025-04-11T06:20:03.068560Z",
     "iopub.status.busy": "2025-04-11T06:20:03.068173Z",
     "iopub.status.idle": "2025-04-11T06:20:03.072419Z",
     "shell.execute_reply": "2025-04-11T06:20:03.071530Z",
     "shell.execute_reply.started": "2025-04-11T06:20:03.068538Z"
    }
   },
   "outputs": [],
   "source": [
    "def calculate_effectiveness(Q_M,C_min,T_hi,T_ci):\n",
    "    return Q_M/(C_min*(T_hi-T_ci))\n",
    "    \n",
    "def calculate_C_min(m_dot,c_p):\n",
    "    return m_dot * c_p"
   ]
  },
  {
   "cell_type": "markdown",
   "id": "c5ea361f-d705-43a8-81fd-6025ee84705a",
   "metadata": {},
   "source": [
    "#### System Parameters"
   ]
  },
  {
   "cell_type": "code",
   "execution_count": 41,
   "id": "605e1649-35b7-4075-bd07-765628dcf5e9",
   "metadata": {
    "execution": {
     "iopub.execute_input": "2025-04-11T06:20:01.604309Z",
     "iopub.status.busy": "2025-04-11T06:20:01.603949Z",
     "iopub.status.idle": "2025-04-11T06:20:01.608685Z",
     "shell.execute_reply": "2025-04-11T06:20:01.607807Z",
     "shell.execute_reply.started": "2025-04-11T06:20:01.604285Z"
    }
   },
   "outputs": [],
   "source": [
    "c_p = 4184 #Negligible difference at this range of temperatures #But recognize that the hot water c_p is smaller\n",
    "flow_rates = np.array([313,313,315,315,313,311,277,277]) * 2.78 * 10**-7 #m^3/s\n",
    "m_dot = flow_rates * 998.2 #kg/s"
   ]
  },
  {
   "cell_type": "markdown",
   "id": "3e9cd325-d26a-43f6-8571-130e71479fd5",
   "metadata": {},
   "source": [
    "### Evaluating effectiveness for each heat exchanger"
   ]
  },
  {
   "cell_type": "code",
   "execution_count": 53,
   "id": "d9b30704-ad9d-4597-abb6-fe4b927692db",
   "metadata": {
    "execution": {
     "iopub.execute_input": "2025-04-11T06:28:38.527135Z",
     "iopub.status.busy": "2025-04-11T06:28:38.526785Z",
     "iopub.status.idle": "2025-04-11T06:28:38.543055Z",
     "shell.execute_reply": "2025-04-11T06:28:38.542443Z",
     "shell.execute_reply.started": "2025-04-11T06:28:38.527112Z"
    }
   },
   "outputs": [
    {
     "data": {
      "text/html": [
       "<div>\n",
       "<style scoped>\n",
       "    .dataframe tbody tr th:only-of-type {\n",
       "        vertical-align: middle;\n",
       "    }\n",
       "\n",
       "    .dataframe tbody tr th {\n",
       "        vertical-align: top;\n",
       "    }\n",
       "\n",
       "    .dataframe thead th {\n",
       "        text-align: right;\n",
       "    }\n",
       "</style>\n",
       "<table border=\"1\" class=\"dataframe\">\n",
       "  <thead>\n",
       "    <tr style=\"text-align: right;\">\n",
       "      <th></th>\n",
       "      <th>Heat Exchanger Type</th>\n",
       "      <th>U</th>\n",
       "      <th>T_ci</th>\n",
       "      <th>T_co</th>\n",
       "      <th>T_ho</th>\n",
       "      <th>T_hi</th>\n",
       "      <th>Q_M</th>\n",
       "      <th>m_dot</th>\n",
       "      <th>C_min</th>\n",
       "      <th>effectiveness</th>\n",
       "    </tr>\n",
       "  </thead>\n",
       "  <tbody>\n",
       "    <tr>\n",
       "      <th>0</th>\n",
       "      <td>Shell Counter</td>\n",
       "      <td>1150.253588</td>\n",
       "      <td>15.351</td>\n",
       "      <td>22.202</td>\n",
       "      <td>32.284</td>\n",
       "      <td>40.139</td>\n",
       "      <td>2820.5</td>\n",
       "      <td>0.086857</td>\n",
       "      <td>363.411256</td>\n",
       "      <td>0.313102</td>\n",
       "    </tr>\n",
       "    <tr>\n",
       "      <th>1</th>\n",
       "      <td>Shell Parallel</td>\n",
       "      <td>958.075853</td>\n",
       "      <td>15.230</td>\n",
       "      <td>21.687</td>\n",
       "      <td>33.002</td>\n",
       "      <td>40.094</td>\n",
       "      <td>2599.4</td>\n",
       "      <td>0.086857</td>\n",
       "      <td>363.411256</td>\n",
       "      <td>0.287676</td>\n",
       "    </tr>\n",
       "    <tr>\n",
       "      <th>2</th>\n",
       "      <td>Finned Counter</td>\n",
       "      <td>49.486788</td>\n",
       "      <td>26.490</td>\n",
       "      <td>32.596</td>\n",
       "      <td>39.586</td>\n",
       "      <td>43.468</td>\n",
       "      <td>1542.8</td>\n",
       "      <td>0.087412</td>\n",
       "      <td>365.733373</td>\n",
       "      <td>0.248461</td>\n",
       "    </tr>\n",
       "    <tr>\n",
       "      <th>3</th>\n",
       "      <td>Finned Parallel</td>\n",
       "      <td>54.429328</td>\n",
       "      <td>26.444</td>\n",
       "      <td>33.438</td>\n",
       "      <td>39.300</td>\n",
       "      <td>43.426</td>\n",
       "      <td>1713.0</td>\n",
       "      <td>0.087412</td>\n",
       "      <td>365.733373</td>\n",
       "      <td>0.275806</td>\n",
       "    </tr>\n",
       "    <tr>\n",
       "      <th>4</th>\n",
       "      <td>Plate Counter</td>\n",
       "      <td>3510.638952</td>\n",
       "      <td>21.694</td>\n",
       "      <td>28.938</td>\n",
       "      <td>32.812</td>\n",
       "      <td>41.262</td>\n",
       "      <td>4739.4</td>\n",
       "      <td>0.086857</td>\n",
       "      <td>363.411256</td>\n",
       "      <td>0.666467</td>\n",
       "    </tr>\n",
       "    <tr>\n",
       "      <th>5</th>\n",
       "      <td>Plate Parallel</td>\n",
       "      <td>2522.359438</td>\n",
       "      <td>20.420</td>\n",
       "      <td>30.064</td>\n",
       "      <td>31.706</td>\n",
       "      <td>41.986</td>\n",
       "      <td>4076.8</td>\n",
       "      <td>0.086302</td>\n",
       "      <td>361.089140</td>\n",
       "      <td>0.523523</td>\n",
       "    </tr>\n",
       "    <tr>\n",
       "      <th>6</th>\n",
       "      <td>Tube Counter</td>\n",
       "      <td>6465.400106</td>\n",
       "      <td>21.821</td>\n",
       "      <td>27.312</td>\n",
       "      <td>30.769</td>\n",
       "      <td>37.904</td>\n",
       "      <td>3706.3</td>\n",
       "      <td>0.076867</td>\n",
       "      <td>321.613156</td>\n",
       "      <td>0.716539</td>\n",
       "    </tr>\n",
       "    <tr>\n",
       "      <th>7</th>\n",
       "      <td>Tube Parallel</td>\n",
       "      <td>5447.766559</td>\n",
       "      <td>21.821</td>\n",
       "      <td>27.312</td>\n",
       "      <td>30.769</td>\n",
       "      <td>37.904</td>\n",
       "      <td>3706.3</td>\n",
       "      <td>0.076867</td>\n",
       "      <td>321.613156</td>\n",
       "      <td>0.716539</td>\n",
       "    </tr>\n",
       "  </tbody>\n",
       "</table>\n",
       "</div>"
      ],
      "text/plain": [
       "  Heat Exchanger Type            U    T_ci    T_co    T_ho    T_hi     Q_M  \\\n",
       "0       Shell Counter  1150.253588  15.351  22.202  32.284  40.139  2820.5   \n",
       "1      Shell Parallel   958.075853  15.230  21.687  33.002  40.094  2599.4   \n",
       "2      Finned Counter    49.486788  26.490  32.596  39.586  43.468  1542.8   \n",
       "3     Finned Parallel    54.429328  26.444  33.438  39.300  43.426  1713.0   \n",
       "4       Plate Counter  3510.638952  21.694  28.938  32.812  41.262  4739.4   \n",
       "5      Plate Parallel  2522.359438  20.420  30.064  31.706  41.986  4076.8   \n",
       "6        Tube Counter  6465.400106  21.821  27.312  30.769  37.904  3706.3   \n",
       "7       Tube Parallel  5447.766559  21.821  27.312  30.769  37.904  3706.3   \n",
       "\n",
       "      m_dot       C_min  effectiveness  \n",
       "0  0.086857  363.411256       0.313102  \n",
       "1  0.086857  363.411256       0.287676  \n",
       "2  0.087412  365.733373       0.248461  \n",
       "3  0.087412  365.733373       0.275806  \n",
       "4  0.086857  363.411256       0.666467  \n",
       "5  0.086302  361.089140       0.523523  \n",
       "6  0.076867  321.613156       0.716539  \n",
       "7  0.076867  321.613156       0.716539  "
      ]
     },
     "execution_count": 53,
     "metadata": {},
     "output_type": "execute_result"
    }
   ],
   "source": [
    "dfQ1['m_dot'] = m_dot\n",
    "\n",
    "dfQ1['C_min'] = dfQ1['m_dot'].apply(lambda m: calculate_C_min(m, c_p))\n",
    "dfQ1['effectiveness'] = dfQ1.apply(lambda row: calculate_effectiveness(row['Q_M'], row['C_min'], row['T_hi'], row['T_ci']), axis=1)\n",
    "dfQ1"
   ]
  },
  {
   "cell_type": "code",
   "execution_count": null,
   "id": "0388b93e-6807-4b60-ae56-c0fdc166abde",
   "metadata": {},
   "outputs": [],
   "source": []
  }
 ],
 "metadata": {
  "kernelspec": {
   "display_name": "anaconda-ai-2024.04-py310",
   "language": "python",
   "name": "conda-env-anaconda-ai-2024.04-py310-py"
  },
  "language_info": {
   "codemirror_mode": {
    "name": "ipython",
    "version": 3
   },
   "file_extension": ".py",
   "mimetype": "text/x-python",
   "name": "python",
   "nbconvert_exporter": "python",
   "pygments_lexer": "ipython3",
   "version": "3.10.13"
  }
 },
 "nbformat": 4,
 "nbformat_minor": 5
}
