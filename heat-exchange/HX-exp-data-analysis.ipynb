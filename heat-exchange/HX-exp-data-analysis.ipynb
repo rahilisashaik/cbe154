{
 "cells": [
  {
   "cell_type": "markdown",
   "metadata": {},
   "source": [
    "# Heat Exchange Experimental Data Analysis\n",
    "Presented by Rahil Shaik, Alex Quemel, Ethan Mibu, Sneha Kancharla"
   ]
  },
  {
   "cell_type": "code",
   "execution_count": 2233,
   "metadata": {},
   "outputs": [],
   "source": [
    "import pandas as pd\n",
    "import numpy as np\n",
    "import matplotlib.pyplot as plt\n",
    "\n",
    "import warnings\n",
    "warnings.filterwarnings(\"ignore\")"
   ]
  },
  {
   "cell_type": "markdown",
   "metadata": {},
   "source": [
    "## Pre-processing"
   ]
  },
  {
   "cell_type": "code",
   "execution_count": 2234,
   "metadata": {},
   "outputs": [],
   "source": [
    "df_shell_cc = pd.read_csv(\"data/MW1_Shell_Counter_Current_formatted.csv\")\n",
    "df_shell_uni = pd.read_csv(\"data/MW1_Shell_Uni_Flow_formatted.csv\")\n",
    "\n",
    "df_tube_cross_350c_200h = pd.read_csv(\"data/tubular_cross_data/tubular_cross_350c_200h - tubular_counter_350c_300h.csv\")\n",
    "df_tube_cross_350c_300h = pd.read_csv(\"data/tubular_cross_data/tubular_counter_350c_300h - tubular_counter_350c_300h.csv\")\n",
    "df_tube_cross_350c_350h = pd.read_csv(\"data/tubular_cross_data/tubular_counter_350c_350h - tubular_counter_350c_350h.csv\")\n",
    "df_tube_cross_350c_400h = pd.read_csv(\"data/tubular_cross_data/tubular_counter_350c_400h - tubular_counter_350c_400h.csv\")\n",
    "\n",
    "df_tube_cross_350h_200c = pd.read_csv(\"data/tubular_cross_data/tubular_cross_350h_200c - tubular_counter_350c_200h.csv\")\n",
    "df_tube_cross_350h_300c = pd.read_csv(\"data/tubular_cross_data/tubular_cross_350h_300c - WL315C_2025-01-30_14-58-01.csv\")\n",
    "df_tube_cross_350h_350c = pd.read_csv(\"data/tubular_cross_data/tubular_cross_350h_350c - WL315C_2025-01-30_14-59-40.csv\")\n",
    "df_tube_cross_350h_400c = pd.read_csv(\"data/tubular_cross_data/tubular_cross_350h_400c - WL315C_2025-01-30_15-05-57.csv\")\n",
    "\n",
    "df_plate_cc = pd.read_csv(\"data/plate_counter_extra.csv\")\n",
    "df_plate_uni = pd.read_csv(\"data/plate_parallel_extra.csv\")\n",
    "\n",
    "df_water_air_cc = pd.read_csv(\"data/finned_counter_extra.csv\")\n",
    "df_water_air_uni = pd.read_csv(\"data/finned_parallel_extra.csv\")"
   ]
  },
  {
   "cell_type": "code",
   "execution_count": 2235,
   "metadata": {},
   "outputs": [],
   "source": [
    "df_tube_cross_350c_200h[\"hot flow (L/hr)\"] = 200\n",
    "df_tube_cross_350c_200h[\"cold flow (L/hr)\"] = 350\n",
    "\n",
    "df_tube_cross_350c_300h[\"hot flow (L/hr)\"] = 300\n",
    "df_tube_cross_350c_300h[\"cold flow (L/hr)\"] = 350\n",
    "\n",
    "df_tube_cross_350c_350h[\"hot flow (L/hr)\"] = 350\n",
    "df_tube_cross_350c_350h[\"cold flow (L/hr)\"] = 350\n",
    "\n",
    "df_tube_cross_350c_400h[\"hot flow (L/hr)\"] = 400\n",
    "df_tube_cross_350c_400h[\"cold flow (L/hr)\"] = 350\n",
    "\n",
    "df_tube_cross_350h_200c[\"hot flow (L/hr)\"] = 350\n",
    "df_tube_cross_350h_200c[\"cold flow (L/hr)\"] = 200\n",
    "\n",
    "df_tube_cross_350h_300c[\"hot flow (L/hr)\"] = 350\n",
    "df_tube_cross_350h_300c[\"cold flow (L/hr)\"] = 300\n",
    "\n",
    "df_tube_cross_350h_350c[\"hot flow (L/hr)\"] = 350\n",
    "df_tube_cross_350h_350c[\"cold flow (L/hr)\"] = 350\n",
    "\n",
    "df_tube_cross_350h_400c[\"hot flow (L/hr)\"] = 350\n",
    "df_tube_cross_350h_400c[\"cold flow (L/hr)\"] = 400\n"
   ]
  },
  {
   "cell_type": "code",
   "execution_count": 2236,
   "metadata": {},
   "outputs": [],
   "source": [
    "df_tube_cross_350c_200h[\"hot flow (m^3/s)\"] = df_tube_cross_350c_200h[\"hot flow (L/hr)\"] / (1000 * 3600)\n",
    "df_tube_cross_350c_200h[\"cold flow (m^3/s)\"] = df_tube_cross_350c_200h[\"cold flow (L/hr)\"] / (1000 * 3600)\n",
    "\n",
    "df_tube_cross_350c_300h[\"hot flow (m^3/s)\"] = df_tube_cross_350c_300h[\"hot flow (L/hr)\"] / (1000 * 3600)\n",
    "df_tube_cross_350c_300h[\"cold flow (m^3/s)\"] = df_tube_cross_350c_300h[\"cold flow (L/hr)\"] / (1000 * 3600)\n",
    "\n",
    "df_tube_cross_350c_350h[\"hot flow (m^3/s)\"] = df_tube_cross_350c_350h[\"hot flow (L/hr)\"] / (1000 * 3600)\n",
    "df_tube_cross_350c_350h[\"cold flow (m^3/s)\"] = df_tube_cross_350c_350h[\"cold flow (L/hr)\"] / (1000 * 3600)\n",
    "\n",
    "df_tube_cross_350c_400h[\"hot flow (m^3/s)\"] = df_tube_cross_350c_400h[\"hot flow (L/hr)\"] / (1000 * 3600)\n",
    "df_tube_cross_350c_400h[\"cold flow (m^3/s)\"] = df_tube_cross_350c_400h[\"cold flow (L/hr)\"] / (1000 * 3600)\n",
    "\n",
    "df_tube_cross_350h_200c[\"hot flow (m^3/s)\"] = df_tube_cross_350h_200c[\"hot flow (L/hr)\"] / (1000 * 3600)\n",
    "df_tube_cross_350h_200c[\"cold flow (m^3/s)\"] = df_tube_cross_350h_200c[\"cold flow (L/hr)\"] / (1000 * 3600)\n",
    "\n",
    "df_tube_cross_350h_300c[\"hot flow (m^3/s)\"] = df_tube_cross_350h_300c[\"hot flow (L/hr)\"] / (1000 * 3600)\n",
    "df_tube_cross_350h_300c[\"cold flow (m^3/s)\"] = df_tube_cross_350h_300c[\"cold flow (L/hr)\"] / (1000 * 3600)\n",
    "\n",
    "df_tube_cross_350h_350c[\"hot flow (m^3/s)\"] = df_tube_cross_350h_350c[\"hot flow (L/hr)\"] / (1000 * 3600)\n",
    "df_tube_cross_350h_350c[\"cold flow (m^3/s)\"] = df_tube_cross_350h_350c[\"cold flow (L/hr)\"] / (1000 * 3600)\n",
    "\n",
    "df_tube_cross_350h_400c[\"hot flow (m^3/s)\"] = df_tube_cross_350h_400c[\"hot flow (L/hr)\"] / (1000 * 3600)\n",
    "df_tube_cross_350h_400c[\"cold flow (m^3/s)\"] = df_tube_cross_350h_400c[\"cold flow (L/hr)\"] / (1000 * 3600)\n"
   ]
  },
  {
   "cell_type": "code",
   "execution_count": 2237,
   "metadata": {},
   "outputs": [],
   "source": [
    "dfs = [df_tube_cross_350c_200h, df_tube_cross_350c_300h, df_tube_cross_350c_350h, df_tube_cross_350c_400h,\n",
    "       df_tube_cross_350h_200c, df_tube_cross_350h_300c, df_tube_cross_350h_350c, df_tube_cross_350h_400c ]"
   ]
  },
  {
   "cell_type": "code",
   "execution_count": 2238,
   "metadata": {},
   "outputs": [
    {
     "data": {
      "text/html": [
       "<div>\n",
       "<style scoped>\n",
       "    .dataframe tbody tr th:only-of-type {\n",
       "        vertical-align: middle;\n",
       "    }\n",
       "\n",
       "    .dataframe tbody tr th {\n",
       "        vertical-align: top;\n",
       "    }\n",
       "\n",
       "    .dataframe thead th {\n",
       "        text-align: right;\n",
       "    }\n",
       "</style>\n",
       "<table border=\"1\" class=\"dataframe\">\n",
       "  <thead>\n",
       "    <tr style=\"text-align: right;\">\n",
       "      <th></th>\n",
       "      <th>Time</th>\n",
       "      <th>T1 (°C)</th>\n",
       "      <th>T2 (°C)</th>\n",
       "      <th>T3 (°C)</th>\n",
       "      <th>T4 (°C)</th>\n",
       "      <th>T5 (°C)</th>\n",
       "      <th>T6 (°C)</th>\n",
       "      <th>T7 (°C)</th>\n",
       "      <th>T8 (°C)</th>\n",
       "      <th>T9 (°C)</th>\n",
       "      <th>T10 (°C)</th>\n",
       "      <th>dp1 (mbar)</th>\n",
       "      <th>dp2 (mbar)</th>\n",
       "      <th>dQ1/dt (kW)</th>\n",
       "      <th>dQ2/dt (kW)</th>\n",
       "      <th>dQ3/dt (kW)</th>\n",
       "      <th>dQm/dt (kW)</th>\n",
       "      <th>hot flow (L/hr)</th>\n",
       "      <th>cold flow (L/hr)</th>\n",
       "      <th>hot flow (m^3/s)</th>\n",
       "      <th>cold flow (m^3/s)</th>\n",
       "    </tr>\n",
       "  </thead>\n",
       "  <tbody>\n",
       "    <tr>\n",
       "      <th>0</th>\n",
       "      <td>2/13/2025 4:29:46 PM.43</td>\n",
       "      <td>31.6</td>\n",
       "      <td>100</td>\n",
       "      <td>20.2</td>\n",
       "      <td>29.2</td>\n",
       "      <td>34.3</td>\n",
       "      <td>22</td>\n",
       "      <td>36.5</td>\n",
       "      <td>24.5</td>\n",
       "      <td>39.2</td>\n",
       "      <td>26.6</td>\n",
       "      <td>0.09</td>\n",
       "      <td>8</td>\n",
       "      <td>-23.72</td>\n",
       "      <td>3.64</td>\n",
       "      <td>0</td>\n",
       "      <td>13.68</td>\n",
       "      <td>200</td>\n",
       "      <td>350</td>\n",
       "      <td>0.000056</td>\n",
       "      <td>0.000097</td>\n",
       "    </tr>\n",
       "    <tr>\n",
       "      <th>1</th>\n",
       "      <td>2/13/2025 4:29:46 PM.93</td>\n",
       "      <td>31.6</td>\n",
       "      <td>100</td>\n",
       "      <td>20.2</td>\n",
       "      <td>29.2</td>\n",
       "      <td>34.3</td>\n",
       "      <td>22</td>\n",
       "      <td>36.5</td>\n",
       "      <td>24.5</td>\n",
       "      <td>39.2</td>\n",
       "      <td>26.6</td>\n",
       "      <td>0.09</td>\n",
       "      <td>9</td>\n",
       "      <td>-23.85</td>\n",
       "      <td>3.63</td>\n",
       "      <td>0</td>\n",
       "      <td>13.74</td>\n",
       "      <td>200</td>\n",
       "      <td>350</td>\n",
       "      <td>0.000056</td>\n",
       "      <td>0.000097</td>\n",
       "    </tr>\n",
       "    <tr>\n",
       "      <th>2</th>\n",
       "      <td>2/13/2025 4:29:47 PM.43</td>\n",
       "      <td>31.6</td>\n",
       "      <td>100</td>\n",
       "      <td>20.2</td>\n",
       "      <td>29.2</td>\n",
       "      <td>34.3</td>\n",
       "      <td>22</td>\n",
       "      <td>36.5</td>\n",
       "      <td>24.6</td>\n",
       "      <td>39.2</td>\n",
       "      <td>26.5</td>\n",
       "      <td>0.10</td>\n",
       "      <td>9</td>\n",
       "      <td>-23.81</td>\n",
       "      <td>3.66</td>\n",
       "      <td>0</td>\n",
       "      <td>13.74</td>\n",
       "      <td>200</td>\n",
       "      <td>350</td>\n",
       "      <td>0.000056</td>\n",
       "      <td>0.000097</td>\n",
       "    </tr>\n",
       "    <tr>\n",
       "      <th>3</th>\n",
       "      <td>2/13/2025 4:29:47 PM.93</td>\n",
       "      <td>31.6</td>\n",
       "      <td>100</td>\n",
       "      <td>20.2</td>\n",
       "      <td>29.2</td>\n",
       "      <td>34.3</td>\n",
       "      <td>22</td>\n",
       "      <td>36.5</td>\n",
       "      <td>24.5</td>\n",
       "      <td>39.2</td>\n",
       "      <td>26.6</td>\n",
       "      <td>0.10</td>\n",
       "      <td>8</td>\n",
       "      <td>-23.96</td>\n",
       "      <td>3.65</td>\n",
       "      <td>0</td>\n",
       "      <td>13.81</td>\n",
       "      <td>200</td>\n",
       "      <td>350</td>\n",
       "      <td>0.000056</td>\n",
       "      <td>0.000097</td>\n",
       "    </tr>\n",
       "    <tr>\n",
       "      <th>4</th>\n",
       "      <td>2/13/2025 4:29:48 PM.43</td>\n",
       "      <td>31.6</td>\n",
       "      <td>100</td>\n",
       "      <td>20.2</td>\n",
       "      <td>29.2</td>\n",
       "      <td>34.3</td>\n",
       "      <td>22</td>\n",
       "      <td>36.5</td>\n",
       "      <td>24.5</td>\n",
       "      <td>39.2</td>\n",
       "      <td>26.6</td>\n",
       "      <td>0.10</td>\n",
       "      <td>8</td>\n",
       "      <td>-23.95</td>\n",
       "      <td>3.63</td>\n",
       "      <td>0</td>\n",
       "      <td>13.79</td>\n",
       "      <td>200</td>\n",
       "      <td>350</td>\n",
       "      <td>0.000056</td>\n",
       "      <td>0.000097</td>\n",
       "    </tr>\n",
       "  </tbody>\n",
       "</table>\n",
       "</div>"
      ],
      "text/plain": [
       "                      Time  T1 (°C)  T2 (°C)  T3 (°C)  T4 (°C)  T5 (°C)  \\\n",
       "0  2/13/2025 4:29:46 PM.43     31.6      100     20.2     29.2     34.3   \n",
       "1  2/13/2025 4:29:46 PM.93     31.6      100     20.2     29.2     34.3   \n",
       "2  2/13/2025 4:29:47 PM.43     31.6      100     20.2     29.2     34.3   \n",
       "3  2/13/2025 4:29:47 PM.93     31.6      100     20.2     29.2     34.3   \n",
       "4  2/13/2025 4:29:48 PM.43     31.6      100     20.2     29.2     34.3   \n",
       "\n",
       "   T6 (°C)  T7 (°C)  T8 (°C)  T9 (°C)  T10 (°C)  dp1 (mbar)  dp2 (mbar)  \\\n",
       "0       22     36.5     24.5     39.2      26.6        0.09           8   \n",
       "1       22     36.5     24.5     39.2      26.6        0.09           9   \n",
       "2       22     36.5     24.6     39.2      26.5        0.10           9   \n",
       "3       22     36.5     24.5     39.2      26.6        0.10           8   \n",
       "4       22     36.5     24.5     39.2      26.6        0.10           8   \n",
       "\n",
       "   dQ1/dt (kW)  dQ2/dt (kW)  dQ3/dt (kW)  dQm/dt (kW)  hot flow (L/hr)  \\\n",
       "0       -23.72         3.64            0        13.68              200   \n",
       "1       -23.85         3.63            0        13.74              200   \n",
       "2       -23.81         3.66            0        13.74              200   \n",
       "3       -23.96         3.65            0        13.81              200   \n",
       "4       -23.95         3.63            0        13.79              200   \n",
       "\n",
       "   cold flow (L/hr)  hot flow (m^3/s)  cold flow (m^3/s)  \n",
       "0               350          0.000056           0.000097  \n",
       "1               350          0.000056           0.000097  \n",
       "2               350          0.000056           0.000097  \n",
       "3               350          0.000056           0.000097  \n",
       "4               350          0.000056           0.000097  "
      ]
     },
     "execution_count": 2238,
     "metadata": {},
     "output_type": "execute_result"
    }
   ],
   "source": [
    "df_tube_cross_350c_200h.head(5)"
   ]
  },
  {
   "cell_type": "markdown",
   "metadata": {},
   "source": [
    "## Analysis Question 1\n",
    "\n",
    "Experimentally determine the overall heat transfer coefficient (U) and effectiveness (ε) of\n",
    "each of the four heat exchangers under identical conditions.\n",
    "\n",
    "#### Quantity Functions"
   ]
  },
  {
   "cell_type": "code",
   "execution_count": 2239,
   "metadata": {},
   "outputs": [],
   "source": [
    "shell_parallel = pd.read_csv('q1/shell_parallel.csv')\n",
    "shell_counter = pd.read_csv('q1/shell_counter.csv')\n",
    "plate_parallel = pd.read_csv('q1/plate_parallel_extra.csv')\n",
    "plate_counter = pd.read_csv('q1/plate_counter_extra.csv')\n",
    "tube_parallel = pd.read_csv('q1/tube_parallel.csv')\n",
    "tube_counter = pd.read_csv('q1/tube_counter.csv')\n",
    "finned_parallel = pd.read_csv('q1/finned_parallel_extra.csv')\n",
    "finned_counter = pd.read_csv('q1/finned_counter_extra.csv')"
   ]
  },
  {
   "cell_type": "code",
   "execution_count": 2240,
   "metadata": {},
   "outputs": [],
   "source": [
    "def cleaner(df):\n",
    "    df = df.dropna(axis=0)\n",
    "    new_headers = df.iloc[0].values\n",
    "    df = pd.DataFrame(df.iloc[1:].values, columns=new_headers)\n",
    "    df = df.reset_index(drop=True)\n",
    "    df = df.iloc[:, 1:]\n",
    "    df = df.astype(float)\n",
    "    df = df.drop(df.columns[4:10], axis=1)\n",
    "    return df\n",
    "\n",
    "shell_parallel = cleaner(shell_parallel)\n",
    "shell_counter = cleaner(shell_counter)\n",
    "plate_parallel = cleaner(plate_parallel)\n",
    "plate_counter = cleaner(plate_counter)\n",
    "tube_parallel = cleaner(tube_parallel)\n",
    "tube_counter = cleaner(tube_counter)\n",
    "finned_parallel = cleaner(finned_parallel)\n",
    "finned_counter = cleaner(finned_counter)"
   ]
  },
  {
   "cell_type": "markdown",
   "metadata": {},
   "source": [
    "#### Background Information\n",
    "Newton's law of cooling (Equation 2)\n",
    "$$q_s=h\\Delta T$$\n",
    "where $q_s$ is the heat flux $[\\frac{W}{m^2}]$ from the surface, $h$ is the convective heat transfer coefficient $[\\frac{W}{m^2 \\cdot K}]$, and $\\Delta T$ is the temperature difference $[K]$ between the surface and bulk fluid. The ability to transfer heat from the medium to the wall, or vice versa, is described by the heat transfer coefficient, $h$, as defined by Eqn. (2). Within the dividing wall, heat is transferred from the hot side to the cold side by thermal conduction, as described by Eqn. (1). At steady state, the following expression equates the heat flux to, through, and from the wall:\n",
    "\n",
    "$$q=h_1\\Delta T_1=\\frac{k\\Delta T_W}{s}=h_2\\Delta T_2=U\\Delta T$$ \n",
    "\n",
    "$(3)$\n",
    "\n",
    "where $\\Delta T$ values are as defined in Figure 2, $s$ is the thickness of the dividing wall, and $U$ is the overall heat transfer coefficient of the heat exchanger. $U$ characterizes the heat exchanger, and is represented as the sum of a series of thermal resistances:\n",
    "$$U=\\frac{1}{\\frac{1}{h_1}+\\frac{s}{k}+\n",
    "\\frac{1}{h_2}}$$\n",
    "\n",
    "$(4)$\n",
    "\n",
    "Log mean temperature difference, $\\Delta T_{LM}$, must be used to represent the driving force. The general formula for LMTD is\n",
    "\n",
    "$\\Delta T_{LM} = \\frac{\\Delta T_a - \\Delta T_b}{ln(\\frac{\\Delta T_a}{\\Delta T_b})}$\n",
    "\n",
    "where\n",
    "\n",
    "$\\Delta T_a:$ Temperature difference at one end of the heat exchanger.\n",
    "\n",
    "$\\Delta T_b:$ Temperature difference at the other end of the heat exchanger \n",
    "\n",
    "For co-current flow log mean temperature difference is:\n",
    "\n",
    "$\\Delta T_{LM}=\\frac{(T_{1i}-T_{2i})-(T_{1o}-T_{2o})}{ln(\\frac{T_{1i}-T_{2i}}{T_{1o}-T_{2o}})}$\n",
    "\n",
    "$(5b)$\n",
    "\n",
    "Subscripts i and o in Eqn. (5b) represent inlet and outlet streams, respectively. Additional considerations are required when the surface areas of the hot and cold side are different in size, as in the case of a tubular heat exchanger. \n",
    "\n",
    "The heat transfer rate (heat duty) of a heat exchanger can be calculated with an energy balance on the hot or cold fluid:\n",
    "\n",
    "$\\dot Q_H=\\dot m_h \\cdot c_{p,h} \\cdot (\\Delta T)_h$\n",
    "\n",
    "$\\dot Q_c = \\dot m_c \\cdot c_{p,c} \\cdot (\\Delta T)_c$\n",
    "\n",
    "$(6)$\n",
    "\n",
    "where $\\dot m$ is the mass flow rate and $c_p$ is the specific heat capacity. In an ideal heat exchanger without losses,\n",
    "\n",
    "$\\dot Q = - \\dot Q_H = \\dot Q_C$\n",
    "\n",
    "Instead use the mean exchanged heat flow, $\\dot Q_M$, and mean area, $A_M$, to calculate the overall heat transfer coefficient for a given heat exchanger.\n",
    "\n",
    "$U = \\frac{\\dot Q_M}{A_M \\cdot \\Delta T_{LM}}$\n",
    "\n",
    "$\\dot Q_M = \\frac{|\\dot Q_C|+|\\dot Q_H|}{2}$\n",
    "\n",
    "$(9)$\n",
    "\n",
    "For a tubular heat exchanger, the mean area is given by:\n",
    "\n",
    "$A_M = \\frac{A_{outer} - A_{inner}}{ln(\\frac{A_{outer}}{A_{inner}})} = \\frac{\\pi L (D_{t,o}-D_{t,i})}{ln(\\frac{D_{t,o}}{D_t,i})}$\n",
    "\n",
    "$(10)$\n",
    "\n",
    "where $D_{t,i}$ represents the inner tube diameter, $D_{t,o}$ is the outer tube diameter, and $L$ is the length of the tube.\n",
    "\n",
    "#### Effectiveness, $\\epsilon$\n",
    "\n",
    "$\\epsilon = \\frac{\\dot Q_{actual}}{\\dot Q_max}=\\frac{\\dot Q_M}{C_{min}(T_{hi}-T_{Ci})}$\n",
    "\n",
    "$C_h=\\dot m_h c_{p,h}$\n",
    "\n",
    "$C_C=\\dot m_c c_{p,c}$\n",
    "\n",
    "$C_{min}=min(C_h,C_c)$\n",
    "\n",
    "where\n",
    "\n",
    "$\\dot Q_{actual}$ is the actual amount of heat transferred by heat exchanger\n",
    "\n",
    "$\\dot Q_{max}$ is the maximum amount of heat that could be transferred if one of the fluids were to be heated or cooled to the temperature of the other fluid at the inlet\n",
    "\n",
    "$C=\\dot m c_p$ represents the heat capacity rate\n",
    "\n",
    "$C_{min}$ is the minimum heat capacity rate (the smaller of the hot or cold fluid's heat capacity rate)"
   ]
  },
  {
   "cell_type": "code",
   "execution_count": 2241,
   "metadata": {},
   "outputs": [],
   "source": [
    "def calculate_Qh(m, c_p, Delta_T):\n",
    "    return m * c_p * Delta_T\n",
    "\n",
    "def calculate_Qc(m, c_p, Delta_T):\n",
    "    return m * c_p * Delta_T\n",
    "\n",
    "def calculate_QM(Qc,Qh):\n",
    "    return (np.abs(Qc) + np.abs(Qh))/2\n",
    "\n",
    "def calculate_LMTD(Delta_Ta, Delta_Tb):\n",
    "    return (Delta_Ta - Delta_Tb)/(np.log(Delta_Ta/Delta_Tb))\n",
    "\n",
    "def calculate_cocurrent_LMTD(T_1i, T_2i, T_1o, T_2o):\n",
    "    return ((T_1i - T_2i) - (T_1o - T_2o)) / np.log((T_1i - T_2i) / (T_1o - T_2o))\n",
    "\n",
    "def calculate_A_M_tubular(D_to, D_ti, L):\n",
    "    return (np.pi*L*(D_to - D_ti))/np.log(D_to/D_ti)\n",
    "\n",
    "def calculate_U(QM, A_M, LMTD):\n",
    "    return QM/(A_M*LMTD)"
   ]
  },
  {
   "cell_type": "markdown",
   "metadata": {},
   "source": [
    "#### System Parameters"
   ]
  },
  {
   "cell_type": "code",
   "execution_count": 2242,
   "metadata": {},
   "outputs": [],
   "source": [
    "c_p = 4184 #J/(kg*C) #Specific heat capacity of water"
   ]
  },
  {
   "cell_type": "markdown",
   "metadata": {},
   "source": [
    "#### Example calculation of overall heat transfer coefficient with shell-tube heat exchanger (both parallel and counter flow)"
   ]
  },
  {
   "cell_type": "code",
   "execution_count": 2243,
   "metadata": {},
   "outputs": [],
   "source": [
    "cold_inlet_temp = shell_parallel['T3 (°C)'].mean()\n",
    "hot_inlet_temp = shell_parallel['T1 (°C)'].mean()\n",
    "cold_outlet_temp = shell_parallel['T4 (°C)'].mean()\n",
    "hot_outlet_temp = shell_parallel['T2 (°C)'].mean()\n",
    "QM = shell_parallel['dQm/dt (kW)'].mean() * 1000\n",
    "A_M = 0.15 #m^2"
   ]
  },
  {
   "cell_type": "markdown",
   "metadata": {},
   "source": [
    "Compute LMTD and U"
   ]
  },
  {
   "cell_type": "code",
   "execution_count": 2244,
   "metadata": {},
   "outputs": [
    {
     "name": "stdout",
     "output_type": "stream",
     "text": [
      "U (shell heat exchanger with parallel flow): 958.0758533838674 W/m²·K\n"
     ]
    }
   ],
   "source": [
    "Delta_Ta = hot_inlet_temp - cold_outlet_temp\n",
    "Delta_Tb = hot_outlet_temp - cold_inlet_temp\n",
    "\n",
    "LMTD = calculate_LMTD(Delta_Ta, Delta_Tb)\n",
    "U = calculate_U(QM, A_M, LMTD)\n",
    "\n",
    "print(\"U (shell heat exchanger with parallel flow):\",U,\"W/m²·K\")"
   ]
  },
  {
   "cell_type": "markdown",
   "metadata": {},
   "source": [
    "#### Define a general functions to calculate overall heat transfer coefficients for every flow heat exchanger\n",
    "\n",
    "#### For parallel flows"
   ]
  },
  {
   "cell_type": "code",
   "execution_count": 2245,
   "metadata": {},
   "outputs": [],
   "source": [
    "def parallel_U(df, A_M):\n",
    "    QM = df['dQm/dt (kW)'].mean() * 1000\n",
    "    \n",
    "    first_four_columns = df.iloc[:, :4]\n",
    "    flat_values = first_four_columns.mean(axis=0).values\n",
    "    unique_sorted_values = np.sort(np.unique(flat_values))\n",
    "    \n",
    "    cold_inlet_temp = unique_sorted_values[0]   \n",
    "    cold_outlet_temp = unique_sorted_values[1]   \n",
    "    hot_outlet_temp = unique_sorted_values[2]    \n",
    "    hot_inlet_temp = unique_sorted_values[3]\n",
    "\n",
    "    Delta_Ta = hot_inlet_temp - cold_outlet_temp\n",
    "    Delta_Tb = hot_outlet_temp - cold_inlet_temp\n",
    "\n",
    "    LMTD = calculate_LMTD(Delta_Ta, Delta_Tb)\n",
    "    U = calculate_U(QM, A_M, LMTD)\n",
    "    return np.array([U, cold_inlet_temp, cold_outlet_temp, hot_outlet_temp, hot_inlet_temp, QM])"
   ]
  },
  {
   "cell_type": "markdown",
   "metadata": {},
   "source": [
    "#### For counter flows"
   ]
  },
  {
   "cell_type": "code",
   "execution_count": 2246,
   "metadata": {},
   "outputs": [],
   "source": [
    "def counter_U(df, A_M):\n",
    "    QM = df['dQm/dt (kW)'].mean() * 1000\n",
    "    \n",
    "    first_four_columns = df.iloc[:, :4]\n",
    "    flat_values = first_four_columns.mean(axis=0).values\n",
    "    unique_sorted_values = np.sort(np.unique(flat_values))\n",
    "    \n",
    "    cold_inlet_temp = unique_sorted_values[0]   \n",
    "    cold_outlet_temp = unique_sorted_values[1]   \n",
    "    hot_outlet_temp = unique_sorted_values[2]    \n",
    "    hot_inlet_temp = unique_sorted_values[3]\n",
    "\n",
    "    LMTD = calculate_cocurrent_LMTD(hot_inlet_temp,cold_inlet_temp,hot_outlet_temp,cold_outlet_temp)\n",
    "    U = calculate_U(QM, A_M, LMTD)\n",
    "    return np.array([U, cold_inlet_temp, cold_outlet_temp, hot_outlet_temp, hot_inlet_temp, QM])"
   ]
  },
  {
   "cell_type": "markdown",
   "metadata": {},
   "source": [
    "#### Apply to every heat exchanger"
   ]
  },
  {
   "cell_type": "code",
   "execution_count": 2247,
   "metadata": {},
   "outputs": [
    {
     "data": {
      "text/plain": [
       "array([ 958.07585338,   15.23      ,   21.687     ,   33.002     ,\n",
       "         40.094     , 2599.4       ])"
      ]
     },
     "execution_count": 2247,
     "metadata": {},
     "output_type": "execute_result"
    }
   ],
   "source": [
    "shell_counter_U = counter_U(shell_counter, A_M)\n",
    "shell_parallel_U = parallel_U(shell_parallel, A_M)\n",
    "finned_counter_U = counter_U(finned_counter, 2.77)\n",
    "finned_parallel_U = parallel_U(finned_parallel, 2.77)\n",
    "plate_counter_U = counter_U(plate_counter, 0.13932)\n",
    "plate_parallel_U = parallel_U(plate_parallel, 0.13932)\n",
    "tube_counter_U = counter_U(tube_counter, 0.0698)\n",
    "tube_parallel_U = parallel_U(tube_parallel, 0.0698)\n",
    "shell_parallel_U"
   ]
  },
  {
   "cell_type": "markdown",
   "metadata": {},
   "source": [
    "### New Data Frame With Calculated Values"
   ]
  },
  {
   "cell_type": "code",
   "execution_count": 2248,
   "metadata": {},
   "outputs": [
    {
     "data": {
      "text/html": [
       "<div>\n",
       "<style scoped>\n",
       "    .dataframe tbody tr th:only-of-type {\n",
       "        vertical-align: middle;\n",
       "    }\n",
       "\n",
       "    .dataframe tbody tr th {\n",
       "        vertical-align: top;\n",
       "    }\n",
       "\n",
       "    .dataframe thead th {\n",
       "        text-align: right;\n",
       "    }\n",
       "</style>\n",
       "<table border=\"1\" class=\"dataframe\">\n",
       "  <thead>\n",
       "    <tr style=\"text-align: right;\">\n",
       "      <th></th>\n",
       "      <th>Heat Exchanger Type</th>\n",
       "      <th>U</th>\n",
       "      <th>T_ci</th>\n",
       "      <th>T_co</th>\n",
       "      <th>T_ho</th>\n",
       "      <th>T_hi</th>\n",
       "      <th>Q_M</th>\n",
       "    </tr>\n",
       "  </thead>\n",
       "  <tbody>\n",
       "    <tr>\n",
       "      <th>0</th>\n",
       "      <td>Shell Counter</td>\n",
       "      <td>1150.253588</td>\n",
       "      <td>15.351</td>\n",
       "      <td>22.202</td>\n",
       "      <td>32.284</td>\n",
       "      <td>40.139</td>\n",
       "      <td>2820.5</td>\n",
       "    </tr>\n",
       "    <tr>\n",
       "      <th>1</th>\n",
       "      <td>Shell Parallel</td>\n",
       "      <td>958.075853</td>\n",
       "      <td>15.230</td>\n",
       "      <td>21.687</td>\n",
       "      <td>33.002</td>\n",
       "      <td>40.094</td>\n",
       "      <td>2599.4</td>\n",
       "    </tr>\n",
       "    <tr>\n",
       "      <th>2</th>\n",
       "      <td>Finned Counter</td>\n",
       "      <td>49.486788</td>\n",
       "      <td>26.490</td>\n",
       "      <td>32.596</td>\n",
       "      <td>39.586</td>\n",
       "      <td>43.468</td>\n",
       "      <td>1542.8</td>\n",
       "    </tr>\n",
       "    <tr>\n",
       "      <th>3</th>\n",
       "      <td>Finned Parallel</td>\n",
       "      <td>54.429328</td>\n",
       "      <td>26.444</td>\n",
       "      <td>33.438</td>\n",
       "      <td>39.300</td>\n",
       "      <td>43.426</td>\n",
       "      <td>1713.0</td>\n",
       "    </tr>\n",
       "    <tr>\n",
       "      <th>4</th>\n",
       "      <td>Plate Counter</td>\n",
       "      <td>3510.638952</td>\n",
       "      <td>21.694</td>\n",
       "      <td>28.938</td>\n",
       "      <td>32.812</td>\n",
       "      <td>41.262</td>\n",
       "      <td>4739.4</td>\n",
       "    </tr>\n",
       "    <tr>\n",
       "      <th>5</th>\n",
       "      <td>Plate Parallel</td>\n",
       "      <td>2522.359438</td>\n",
       "      <td>20.420</td>\n",
       "      <td>30.064</td>\n",
       "      <td>31.706</td>\n",
       "      <td>41.986</td>\n",
       "      <td>4076.8</td>\n",
       "    </tr>\n",
       "    <tr>\n",
       "      <th>6</th>\n",
       "      <td>Tube Counter</td>\n",
       "      <td>6465.400106</td>\n",
       "      <td>21.821</td>\n",
       "      <td>27.312</td>\n",
       "      <td>30.769</td>\n",
       "      <td>37.904</td>\n",
       "      <td>3706.3</td>\n",
       "    </tr>\n",
       "    <tr>\n",
       "      <th>7</th>\n",
       "      <td>Tube Parallel</td>\n",
       "      <td>5447.766559</td>\n",
       "      <td>21.821</td>\n",
       "      <td>27.312</td>\n",
       "      <td>30.769</td>\n",
       "      <td>37.904</td>\n",
       "      <td>3706.3</td>\n",
       "    </tr>\n",
       "  </tbody>\n",
       "</table>\n",
       "</div>"
      ],
      "text/plain": [
       "  Heat Exchanger Type            U    T_ci    T_co    T_ho    T_hi     Q_M\n",
       "0       Shell Counter  1150.253588  15.351  22.202  32.284  40.139  2820.5\n",
       "1      Shell Parallel   958.075853  15.230  21.687  33.002  40.094  2599.4\n",
       "2      Finned Counter    49.486788  26.490  32.596  39.586  43.468  1542.8\n",
       "3     Finned Parallel    54.429328  26.444  33.438  39.300  43.426  1713.0\n",
       "4       Plate Counter  3510.638952  21.694  28.938  32.812  41.262  4739.4\n",
       "5      Plate Parallel  2522.359438  20.420  30.064  31.706  41.986  4076.8\n",
       "6        Tube Counter  6465.400106  21.821  27.312  30.769  37.904  3706.3\n",
       "7       Tube Parallel  5447.766559  21.821  27.312  30.769  37.904  3706.3"
      ]
     },
     "execution_count": 2248,
     "metadata": {},
     "output_type": "execute_result"
    }
   ],
   "source": [
    "dfQ1 = pd.DataFrame(columns=[\"U\", \"T_ci\", \"T_co\", \"T_ho\", \"T_hi\", \"Q_M\"])\n",
    "\n",
    "data_arrays = [\n",
    "    shell_counter_U,\n",
    "    shell_parallel_U,\n",
    "    finned_counter_U,\n",
    "    finned_parallel_U,\n",
    "    plate_counter_U,\n",
    "    plate_parallel_U,\n",
    "    tube_counter_U,\n",
    "    tube_parallel_U\n",
    "]\n",
    "\n",
    "dfQ1 = pd.DataFrame(data_arrays, columns=[\"U\", \"T_ci\", \"T_co\", \"T_ho\", \"T_hi\", \"Q_M\"])\n",
    "\n",
    "dfQ1.insert(0, 'Heat Exchanger Type', np.array([\n",
    "    'Shell Counter', \n",
    "    'Shell Parallel',\n",
    "    'Finned Counter',\n",
    "    'Finned Parallel',\n",
    "    'Plate Counter',\n",
    "    'Plate Parallel',\n",
    "    'Tube Counter',\n",
    "    'Tube Parallel'\n",
    "]))\n",
    "dfQ1"
   ]
  },
  {
   "cell_type": "markdown",
   "metadata": {},
   "source": [
    "### Effectiveness Calculation"
   ]
  },
  {
   "cell_type": "code",
   "execution_count": 2249,
   "metadata": {},
   "outputs": [],
   "source": [
    "def calculate_effectiveness(Q_M,C_min,T_hi,T_ci):\n",
    "    return Q_M/(C_min*(T_hi-T_ci))\n",
    "    \n",
    "def calculate_C_min(m_dot,c_p):\n",
    "    return m_dot * c_p"
   ]
  },
  {
   "cell_type": "code",
   "execution_count": 2250,
   "metadata": {},
   "outputs": [],
   "source": [
    "c_p = 4184 #Negligible difference at this range of temperatures #But recognize that the hot water c_p is smaller\n",
    "flow_rates = np.array([313,313,315,315,313,311,277,277]) * 2.78 * 10**-7 #m^3/s\n",
    "m_dot = flow_rates * 998.2 #kg/s"
   ]
  },
  {
   "cell_type": "markdown",
   "metadata": {},
   "source": [
    "### Evaluating effectiveness for each heat exchanger"
   ]
  },
  {
   "cell_type": "code",
   "execution_count": 2251,
   "metadata": {},
   "outputs": [
    {
     "data": {
      "text/html": [
       "<div>\n",
       "<style scoped>\n",
       "    .dataframe tbody tr th:only-of-type {\n",
       "        vertical-align: middle;\n",
       "    }\n",
       "\n",
       "    .dataframe tbody tr th {\n",
       "        vertical-align: top;\n",
       "    }\n",
       "\n",
       "    .dataframe thead th {\n",
       "        text-align: right;\n",
       "    }\n",
       "</style>\n",
       "<table border=\"1\" class=\"dataframe\">\n",
       "  <thead>\n",
       "    <tr style=\"text-align: right;\">\n",
       "      <th></th>\n",
       "      <th>Heat Exchanger Type</th>\n",
       "      <th>U</th>\n",
       "      <th>T_ci</th>\n",
       "      <th>T_co</th>\n",
       "      <th>T_ho</th>\n",
       "      <th>T_hi</th>\n",
       "      <th>Q_M</th>\n",
       "      <th>m_dot</th>\n",
       "      <th>C_min</th>\n",
       "      <th>effectiveness</th>\n",
       "    </tr>\n",
       "  </thead>\n",
       "  <tbody>\n",
       "    <tr>\n",
       "      <th>0</th>\n",
       "      <td>Shell Counter</td>\n",
       "      <td>1150.253588</td>\n",
       "      <td>15.351</td>\n",
       "      <td>22.202</td>\n",
       "      <td>32.284</td>\n",
       "      <td>40.139</td>\n",
       "      <td>2820.5</td>\n",
       "      <td>0.086857</td>\n",
       "      <td>363.411256</td>\n",
       "      <td>0.313102</td>\n",
       "    </tr>\n",
       "    <tr>\n",
       "      <th>1</th>\n",
       "      <td>Shell Parallel</td>\n",
       "      <td>958.075853</td>\n",
       "      <td>15.230</td>\n",
       "      <td>21.687</td>\n",
       "      <td>33.002</td>\n",
       "      <td>40.094</td>\n",
       "      <td>2599.4</td>\n",
       "      <td>0.086857</td>\n",
       "      <td>363.411256</td>\n",
       "      <td>0.287676</td>\n",
       "    </tr>\n",
       "    <tr>\n",
       "      <th>2</th>\n",
       "      <td>Finned Counter</td>\n",
       "      <td>49.486788</td>\n",
       "      <td>26.490</td>\n",
       "      <td>32.596</td>\n",
       "      <td>39.586</td>\n",
       "      <td>43.468</td>\n",
       "      <td>1542.8</td>\n",
       "      <td>0.087412</td>\n",
       "      <td>365.733373</td>\n",
       "      <td>0.248461</td>\n",
       "    </tr>\n",
       "    <tr>\n",
       "      <th>3</th>\n",
       "      <td>Finned Parallel</td>\n",
       "      <td>54.429328</td>\n",
       "      <td>26.444</td>\n",
       "      <td>33.438</td>\n",
       "      <td>39.300</td>\n",
       "      <td>43.426</td>\n",
       "      <td>1713.0</td>\n",
       "      <td>0.087412</td>\n",
       "      <td>365.733373</td>\n",
       "      <td>0.275806</td>\n",
       "    </tr>\n",
       "    <tr>\n",
       "      <th>4</th>\n",
       "      <td>Plate Counter</td>\n",
       "      <td>3510.638952</td>\n",
       "      <td>21.694</td>\n",
       "      <td>28.938</td>\n",
       "      <td>32.812</td>\n",
       "      <td>41.262</td>\n",
       "      <td>4739.4</td>\n",
       "      <td>0.086857</td>\n",
       "      <td>363.411256</td>\n",
       "      <td>0.666467</td>\n",
       "    </tr>\n",
       "    <tr>\n",
       "      <th>5</th>\n",
       "      <td>Plate Parallel</td>\n",
       "      <td>2522.359438</td>\n",
       "      <td>20.420</td>\n",
       "      <td>30.064</td>\n",
       "      <td>31.706</td>\n",
       "      <td>41.986</td>\n",
       "      <td>4076.8</td>\n",
       "      <td>0.086302</td>\n",
       "      <td>361.089140</td>\n",
       "      <td>0.523523</td>\n",
       "    </tr>\n",
       "    <tr>\n",
       "      <th>6</th>\n",
       "      <td>Tube Counter</td>\n",
       "      <td>6465.400106</td>\n",
       "      <td>21.821</td>\n",
       "      <td>27.312</td>\n",
       "      <td>30.769</td>\n",
       "      <td>37.904</td>\n",
       "      <td>3706.3</td>\n",
       "      <td>0.076867</td>\n",
       "      <td>321.613156</td>\n",
       "      <td>0.716539</td>\n",
       "    </tr>\n",
       "    <tr>\n",
       "      <th>7</th>\n",
       "      <td>Tube Parallel</td>\n",
       "      <td>5447.766559</td>\n",
       "      <td>21.821</td>\n",
       "      <td>27.312</td>\n",
       "      <td>30.769</td>\n",
       "      <td>37.904</td>\n",
       "      <td>3706.3</td>\n",
       "      <td>0.076867</td>\n",
       "      <td>321.613156</td>\n",
       "      <td>0.716539</td>\n",
       "    </tr>\n",
       "  </tbody>\n",
       "</table>\n",
       "</div>"
      ],
      "text/plain": [
       "  Heat Exchanger Type            U    T_ci    T_co    T_ho    T_hi     Q_M  \\\n",
       "0       Shell Counter  1150.253588  15.351  22.202  32.284  40.139  2820.5   \n",
       "1      Shell Parallel   958.075853  15.230  21.687  33.002  40.094  2599.4   \n",
       "2      Finned Counter    49.486788  26.490  32.596  39.586  43.468  1542.8   \n",
       "3     Finned Parallel    54.429328  26.444  33.438  39.300  43.426  1713.0   \n",
       "4       Plate Counter  3510.638952  21.694  28.938  32.812  41.262  4739.4   \n",
       "5      Plate Parallel  2522.359438  20.420  30.064  31.706  41.986  4076.8   \n",
       "6        Tube Counter  6465.400106  21.821  27.312  30.769  37.904  3706.3   \n",
       "7       Tube Parallel  5447.766559  21.821  27.312  30.769  37.904  3706.3   \n",
       "\n",
       "      m_dot       C_min  effectiveness  \n",
       "0  0.086857  363.411256       0.313102  \n",
       "1  0.086857  363.411256       0.287676  \n",
       "2  0.087412  365.733373       0.248461  \n",
       "3  0.087412  365.733373       0.275806  \n",
       "4  0.086857  363.411256       0.666467  \n",
       "5  0.086302  361.089140       0.523523  \n",
       "6  0.076867  321.613156       0.716539  \n",
       "7  0.076867  321.613156       0.716539  "
      ]
     },
     "execution_count": 2251,
     "metadata": {},
     "output_type": "execute_result"
    }
   ],
   "source": [
    "dfQ1['m_dot'] = m_dot\n",
    "\n",
    "dfQ1['C_min'] = dfQ1['m_dot'].apply(lambda m: calculate_C_min(m, c_p))\n",
    "dfQ1['effectiveness'] = dfQ1.apply(lambda row: calculate_effectiveness(row['Q_M'], row['C_min'], row['T_hi'], row['T_ci']), axis=1)\n",
    "dfQ1"
   ]
  },
  {
   "cell_type": "markdown",
   "metadata": {},
   "source": [
    "## Analysis Question 3\n",
    "For the tubular heat exchanger in counter-current flow configuration:\n",
    "\n",
    "(a) Identify and report appropriate correlations for predicting the heat transfer\n",
    "coefficients for the inner tube ($h_i$) and the annular region ($h_0$). Clearly state the\n",
    "conditions and assumptions under which these correlations are valid (flow regime,\n",
    "flow condition, characteristic length, etc.)."
   ]
  },
  {
   "cell_type": "markdown",
   "metadata": {},
   "source": [
    "The first step in determining the appropriate correlations for the heat transfer coefficient in an inner tube is investigating the flow regime using Reynolds number, $Re$, to classify the flow as laminar or turbulent\n",
    "\n",
    "$$\n",
    "Re = \\frac{\\rho u D}{\\mu} = \\frac{4 \\dot m}{\\pi D \\mu} \n",
    "$$\n",
    "\n",
    "$$\n",
    "\\text{where} \\  \\dot m = \\rho \\dot q \n",
    "$$\n",
    "\n",
    "We will use the LHS for classifying flow regime"
   ]
  },
  {
   "cell_type": "code",
   "execution_count": 2252,
   "metadata": {},
   "outputs": [
    {
     "data": {
      "text/plain": [
       "9.424777960769381e-05"
      ]
     },
     "execution_count": 2252,
     "metadata": {},
     "output_type": "execute_result"
    }
   ],
   "source": [
    "mu = 0.001 # Pa * s\n",
    "rho = 1000 # kg / m^3\n",
    "D_inner = 6 * 1e-3 # m\n",
    "D_annular = 13 * 1e-3 # m \n",
    "D_hydraulic = D_annular - D_inner # m\n",
    "L = 3.2 # m\n",
    "k_cold = 0.592 # W / mK\n",
    "k_hot = 0.613 # W / mK #TODO: update these thermal conductivity values\n",
    "\n",
    "A_i = np.pi * (D_inner ** 2) / 4\n",
    "A_h = np.pi * ((D_annular ** 2) - ((D_hydraulic) ** 2)) / 4\n",
    "A_h"
   ]
  },
  {
   "cell_type": "code",
   "execution_count": 2253,
   "metadata": {},
   "outputs": [],
   "source": [
    "for df in dfs:\n",
    "    df[\"u_cold (m/s)\"] = df[\"cold flow (m^3/s)\"] / A_i\n",
    "    df[\"u_hot (m/s)\"] = df[\"hot flow (m^3/s)\"] / A_h\n",
    "    df[\"Re_cold (inner tube)\"] = (rho * df[\"u_cold (m/s)\"] * D_inner) / mu\n",
    "    df[\"Re_hot (annular region)\"] = (rho * df[\"u_hot (m/s)\"] * D_inner) / mu"
   ]
  },
  {
   "cell_type": "code",
   "execution_count": 2254,
   "metadata": {},
   "outputs": [
    {
     "name": "stdout",
     "output_type": "stream",
     "text": [
      "20631.196326727175\n",
      "20631.196326727175\n",
      "20631.196326727175\n",
      "20631.19632672718\n",
      "11789.255043844101\n",
      "17683.88256576615\n",
      "20631.196326727175\n",
      "23578.510087688202\n"
     ]
    }
   ],
   "source": [
    "for df in dfs:\n",
    "    print(df[\"Re_cold (inner tube)\"].mean())"
   ]
  },
  {
   "cell_type": "code",
   "execution_count": 2255,
   "metadata": {},
   "outputs": [
    {
     "data": {
      "text/html": [
       "<div>\n",
       "<style scoped>\n",
       "    .dataframe tbody tr th:only-of-type {\n",
       "        vertical-align: middle;\n",
       "    }\n",
       "\n",
       "    .dataframe tbody tr th {\n",
       "        vertical-align: top;\n",
       "    }\n",
       "\n",
       "    .dataframe thead th {\n",
       "        text-align: right;\n",
       "    }\n",
       "</style>\n",
       "<table border=\"1\" class=\"dataframe\">\n",
       "  <thead>\n",
       "    <tr style=\"text-align: right;\">\n",
       "      <th></th>\n",
       "      <th>Time</th>\n",
       "      <th>T1 (°C)</th>\n",
       "      <th>T2 (°C)</th>\n",
       "      <th>T3 (°C)</th>\n",
       "      <th>T4 (°C)</th>\n",
       "      <th>T5 (°C)</th>\n",
       "      <th>T6 (°C)</th>\n",
       "      <th>T7 (°C)</th>\n",
       "      <th>T8 (°C)</th>\n",
       "      <th>T9 (°C)</th>\n",
       "      <th>T10 (°C)</th>\n",
       "      <th>dp1 (mbar)</th>\n",
       "      <th>dp2 (mbar)</th>\n",
       "      <th>dQ1/dt (kW)</th>\n",
       "      <th>dQ2/dt (kW)</th>\n",
       "      <th>dQ3/dt (kW)</th>\n",
       "      <th>dQm/dt (kW)</th>\n",
       "      <th>hot flow (L/hr)</th>\n",
       "      <th>cold flow (L/hr)</th>\n",
       "      <th>hot flow (m^3/s)</th>\n",
       "      <th>cold flow (m^3/s)</th>\n",
       "      <th>u_cold (m/s)</th>\n",
       "      <th>u_hot (m/s)</th>\n",
       "      <th>Re_cold (inner tube)</th>\n",
       "      <th>Re_hot (annular region)</th>\n",
       "    </tr>\n",
       "  </thead>\n",
       "  <tbody>\n",
       "    <tr>\n",
       "      <th>0</th>\n",
       "      <td>1/30/2025 2:21:15 PM.19</td>\n",
       "      <td>32.9</td>\n",
       "      <td>48.0</td>\n",
       "      <td>20.8</td>\n",
       "      <td>30.1</td>\n",
       "      <td>35.2</td>\n",
       "      <td>22.5</td>\n",
       "      <td>37.3</td>\n",
       "      <td>25.0</td>\n",
       "      <td>39.6</td>\n",
       "      <td>27.2</td>\n",
       "      <td>0.08</td>\n",
       "      <td>1000</td>\n",
       "      <td>-6.17</td>\n",
       "      <td>3.80</td>\n",
       "      <td>0</td>\n",
       "      <td>4.99</td>\n",
       "      <td>350</td>\n",
       "      <td>350</td>\n",
       "      <td>0.000097</td>\n",
       "      <td>0.000097</td>\n",
       "      <td>3.438533</td>\n",
       "      <td>1.03156</td>\n",
       "      <td>20631.196327</td>\n",
       "      <td>6189.358898</td>\n",
       "    </tr>\n",
       "    <tr>\n",
       "      <th>1</th>\n",
       "      <td>1/30/2025 2:21:15 PM.69</td>\n",
       "      <td>32.9</td>\n",
       "      <td>48.0</td>\n",
       "      <td>20.7</td>\n",
       "      <td>30.0</td>\n",
       "      <td>35.2</td>\n",
       "      <td>22.5</td>\n",
       "      <td>37.3</td>\n",
       "      <td>25.0</td>\n",
       "      <td>39.6</td>\n",
       "      <td>27.2</td>\n",
       "      <td>0.09</td>\n",
       "      <td>1000</td>\n",
       "      <td>-6.12</td>\n",
       "      <td>3.77</td>\n",
       "      <td>0</td>\n",
       "      <td>4.95</td>\n",
       "      <td>350</td>\n",
       "      <td>350</td>\n",
       "      <td>0.000097</td>\n",
       "      <td>0.000097</td>\n",
       "      <td>3.438533</td>\n",
       "      <td>1.03156</td>\n",
       "      <td>20631.196327</td>\n",
       "      <td>6189.358898</td>\n",
       "    </tr>\n",
       "    <tr>\n",
       "      <th>2</th>\n",
       "      <td>1/30/2025 2:21:16 PM.19</td>\n",
       "      <td>32.9</td>\n",
       "      <td>48.0</td>\n",
       "      <td>20.8</td>\n",
       "      <td>30.0</td>\n",
       "      <td>35.2</td>\n",
       "      <td>22.5</td>\n",
       "      <td>37.3</td>\n",
       "      <td>25.0</td>\n",
       "      <td>39.7</td>\n",
       "      <td>27.3</td>\n",
       "      <td>0.09</td>\n",
       "      <td>1000</td>\n",
       "      <td>-6.17</td>\n",
       "      <td>3.81</td>\n",
       "      <td>0</td>\n",
       "      <td>4.99</td>\n",
       "      <td>350</td>\n",
       "      <td>350</td>\n",
       "      <td>0.000097</td>\n",
       "      <td>0.000097</td>\n",
       "      <td>3.438533</td>\n",
       "      <td>1.03156</td>\n",
       "      <td>20631.196327</td>\n",
       "      <td>6189.358898</td>\n",
       "    </tr>\n",
       "    <tr>\n",
       "      <th>3</th>\n",
       "      <td>1/30/2025 2:21:16 PM.69</td>\n",
       "      <td>32.8</td>\n",
       "      <td>48.0</td>\n",
       "      <td>20.7</td>\n",
       "      <td>30.0</td>\n",
       "      <td>35.2</td>\n",
       "      <td>22.5</td>\n",
       "      <td>37.3</td>\n",
       "      <td>25.0</td>\n",
       "      <td>39.6</td>\n",
       "      <td>27.2</td>\n",
       "      <td>0.09</td>\n",
       "      <td>1000</td>\n",
       "      <td>-6.21</td>\n",
       "      <td>3.81</td>\n",
       "      <td>0</td>\n",
       "      <td>5.01</td>\n",
       "      <td>350</td>\n",
       "      <td>350</td>\n",
       "      <td>0.000097</td>\n",
       "      <td>0.000097</td>\n",
       "      <td>3.438533</td>\n",
       "      <td>1.03156</td>\n",
       "      <td>20631.196327</td>\n",
       "      <td>6189.358898</td>\n",
       "    </tr>\n",
       "    <tr>\n",
       "      <th>4</th>\n",
       "      <td>1/30/2025 2:21:17 PM.19</td>\n",
       "      <td>32.8</td>\n",
       "      <td>48.1</td>\n",
       "      <td>20.8</td>\n",
       "      <td>30.1</td>\n",
       "      <td>35.1</td>\n",
       "      <td>22.5</td>\n",
       "      <td>37.3</td>\n",
       "      <td>25.0</td>\n",
       "      <td>39.6</td>\n",
       "      <td>27.3</td>\n",
       "      <td>0.09</td>\n",
       "      <td>1000</td>\n",
       "      <td>-6.21</td>\n",
       "      <td>3.81</td>\n",
       "      <td>0</td>\n",
       "      <td>5.01</td>\n",
       "      <td>350</td>\n",
       "      <td>350</td>\n",
       "      <td>0.000097</td>\n",
       "      <td>0.000097</td>\n",
       "      <td>3.438533</td>\n",
       "      <td>1.03156</td>\n",
       "      <td>20631.196327</td>\n",
       "      <td>6189.358898</td>\n",
       "    </tr>\n",
       "  </tbody>\n",
       "</table>\n",
       "</div>"
      ],
      "text/plain": [
       "                      Time  T1 (°C)  T2 (°C)  T3 (°C)  T4 (°C)  T5 (°C)  \\\n",
       "0  1/30/2025 2:21:15 PM.19     32.9     48.0     20.8     30.1     35.2   \n",
       "1  1/30/2025 2:21:15 PM.69     32.9     48.0     20.7     30.0     35.2   \n",
       "2  1/30/2025 2:21:16 PM.19     32.9     48.0     20.8     30.0     35.2   \n",
       "3  1/30/2025 2:21:16 PM.69     32.8     48.0     20.7     30.0     35.2   \n",
       "4  1/30/2025 2:21:17 PM.19     32.8     48.1     20.8     30.1     35.1   \n",
       "\n",
       "   T6 (°C)  T7 (°C)  T8 (°C)  T9 (°C)  T10 (°C)  dp1 (mbar)  dp2 (mbar)  \\\n",
       "0     22.5     37.3     25.0     39.6      27.2        0.08        1000   \n",
       "1     22.5     37.3     25.0     39.6      27.2        0.09        1000   \n",
       "2     22.5     37.3     25.0     39.7      27.3        0.09        1000   \n",
       "3     22.5     37.3     25.0     39.6      27.2        0.09        1000   \n",
       "4     22.5     37.3     25.0     39.6      27.3        0.09        1000   \n",
       "\n",
       "   dQ1/dt (kW)  dQ2/dt (kW)  dQ3/dt (kW)  dQm/dt (kW)  hot flow (L/hr)  \\\n",
       "0        -6.17         3.80            0         4.99              350   \n",
       "1        -6.12         3.77            0         4.95              350   \n",
       "2        -6.17         3.81            0         4.99              350   \n",
       "3        -6.21         3.81            0         5.01              350   \n",
       "4        -6.21         3.81            0         5.01              350   \n",
       "\n",
       "   cold flow (L/hr)  hot flow (m^3/s)  cold flow (m^3/s)  u_cold (m/s)  \\\n",
       "0               350          0.000097           0.000097      3.438533   \n",
       "1               350          0.000097           0.000097      3.438533   \n",
       "2               350          0.000097           0.000097      3.438533   \n",
       "3               350          0.000097           0.000097      3.438533   \n",
       "4               350          0.000097           0.000097      3.438533   \n",
       "\n",
       "   u_hot (m/s)  Re_cold (inner tube)  Re_hot (annular region)  \n",
       "0      1.03156          20631.196327              6189.358898  \n",
       "1      1.03156          20631.196327              6189.358898  \n",
       "2      1.03156          20631.196327              6189.358898  \n",
       "3      1.03156          20631.196327              6189.358898  \n",
       "4      1.03156          20631.196327              6189.358898  "
      ]
     },
     "execution_count": 2255,
     "metadata": {},
     "output_type": "execute_result"
    }
   ],
   "source": [
    "df_tube_cross_350h_350c.head(5)"
   ]
  },
  {
   "cell_type": "markdown",
   "metadata": {},
   "source": [
    "Looks like all flow is turbulent, but we will handle both cases\n",
    "\n",
    "For laminar flow, we use equation (20-27) from the fundamentals textbook:\n",
    "\n",
    "$$\n",
    "Nu_D = 1.86 (Pe( \\frac{D}{L})^\\frac{1}{3})(\\frac{\\mu_b}{\\mu_w})^{0.14}\n",
    "$$\n",
    "\n",
    "and for turbulent flow, we will use Dittus Boelter equation (20-28):\n",
    "\n",
    "$$\n",
    "Nu_D = 0.023 Re_D ^ {0.8} Pr^n\n",
    "$$\n",
    "\n",
    "$$\n",
    "\\text{where } n_{heated} = 0.4 \\text{ and } n_{cooled} = 0.3\n",
    "$$\n",
    "\n",
    "**When making slides, reference pages 307 and 308 for assumptions of these two equations**\n",
    "\n",
    "Once we have these $Nu$ values, we can solve for heat transfer coefficients as\n",
    "\n",
    "$$\n",
    "h = \\frac{Nu \\times k}{D}\n",
    "$$"
   ]
  },
  {
   "cell_type": "code",
   "execution_count": 2256,
   "metadata": {},
   "outputs": [
    {
     "data": {
      "text/html": [
       "<div>\n",
       "<style scoped>\n",
       "    .dataframe tbody tr th:only-of-type {\n",
       "        vertical-align: middle;\n",
       "    }\n",
       "\n",
       "    .dataframe tbody tr th {\n",
       "        vertical-align: top;\n",
       "    }\n",
       "\n",
       "    .dataframe thead th {\n",
       "        text-align: right;\n",
       "    }\n",
       "</style>\n",
       "<table border=\"1\" class=\"dataframe\">\n",
       "  <thead>\n",
       "    <tr style=\"text-align: right;\">\n",
       "      <th></th>\n",
       "      <th>Time</th>\n",
       "      <th>T1 (°C)</th>\n",
       "      <th>T2 (°C)</th>\n",
       "      <th>T3 (°C)</th>\n",
       "      <th>T4 (°C)</th>\n",
       "      <th>T5 (°C)</th>\n",
       "      <th>T6 (°C)</th>\n",
       "      <th>T7 (°C)</th>\n",
       "      <th>T8 (°C)</th>\n",
       "      <th>T9 (°C)</th>\n",
       "      <th>T10 (°C)</th>\n",
       "      <th>dp1 (mbar)</th>\n",
       "      <th>dp2 (mbar)</th>\n",
       "      <th>dQ1/dt (kW)</th>\n",
       "      <th>dQ2/dt (kW)</th>\n",
       "      <th>dQ3/dt (kW)</th>\n",
       "      <th>dQm/dt (kW)</th>\n",
       "      <th>hot flow (L/hr)</th>\n",
       "      <th>cold flow (L/hr)</th>\n",
       "      <th>hot flow (m^3/s)</th>\n",
       "      <th>cold flow (m^3/s)</th>\n",
       "      <th>u_cold (m/s)</th>\n",
       "      <th>u_hot (m/s)</th>\n",
       "      <th>Re_cold (inner tube)</th>\n",
       "      <th>Re_hot (annular region)</th>\n",
       "    </tr>\n",
       "  </thead>\n",
       "  <tbody>\n",
       "    <tr>\n",
       "      <th>0</th>\n",
       "      <td>2/13/2025 4:12:29 PM.43</td>\n",
       "      <td>27.7</td>\n",
       "      <td>100</td>\n",
       "      <td>17.9</td>\n",
       "      <td>25.8</td>\n",
       "      <td>30.7</td>\n",
       "      <td>19.2</td>\n",
       "      <td>33.6</td>\n",
       "      <td>21.3</td>\n",
       "      <td>37.3</td>\n",
       "      <td>23.2</td>\n",
       "      <td>0.10</td>\n",
       "      <td>11</td>\n",
       "      <td>-16.66</td>\n",
       "      <td>3.22</td>\n",
       "      <td>0</td>\n",
       "      <td>9.94</td>\n",
       "      <td>350</td>\n",
       "      <td>200</td>\n",
       "      <td>0.000097</td>\n",
       "      <td>0.000056</td>\n",
       "      <td>1.964876</td>\n",
       "      <td>1.03156</td>\n",
       "      <td>11789.255044</td>\n",
       "      <td>6189.358898</td>\n",
       "    </tr>\n",
       "    <tr>\n",
       "      <th>1</th>\n",
       "      <td>2/13/2025 4:12:29 PM.93</td>\n",
       "      <td>27.7</td>\n",
       "      <td>100</td>\n",
       "      <td>17.9</td>\n",
       "      <td>25.8</td>\n",
       "      <td>30.7</td>\n",
       "      <td>19.2</td>\n",
       "      <td>33.6</td>\n",
       "      <td>21.3</td>\n",
       "      <td>37.3</td>\n",
       "      <td>23.2</td>\n",
       "      <td>0.09</td>\n",
       "      <td>11</td>\n",
       "      <td>-16.66</td>\n",
       "      <td>3.20</td>\n",
       "      <td>0</td>\n",
       "      <td>9.93</td>\n",
       "      <td>350</td>\n",
       "      <td>200</td>\n",
       "      <td>0.000097</td>\n",
       "      <td>0.000056</td>\n",
       "      <td>1.964876</td>\n",
       "      <td>1.03156</td>\n",
       "      <td>11789.255044</td>\n",
       "      <td>6189.358898</td>\n",
       "    </tr>\n",
       "    <tr>\n",
       "      <th>2</th>\n",
       "      <td>2/13/2025 4:12:30 PM.43</td>\n",
       "      <td>27.7</td>\n",
       "      <td>100</td>\n",
       "      <td>17.8</td>\n",
       "      <td>25.8</td>\n",
       "      <td>30.7</td>\n",
       "      <td>19.2</td>\n",
       "      <td>33.6</td>\n",
       "      <td>21.3</td>\n",
       "      <td>37.3</td>\n",
       "      <td>23.2</td>\n",
       "      <td>0.09</td>\n",
       "      <td>10</td>\n",
       "      <td>-16.54</td>\n",
       "      <td>3.20</td>\n",
       "      <td>0</td>\n",
       "      <td>9.87</td>\n",
       "      <td>350</td>\n",
       "      <td>200</td>\n",
       "      <td>0.000097</td>\n",
       "      <td>0.000056</td>\n",
       "      <td>1.964876</td>\n",
       "      <td>1.03156</td>\n",
       "      <td>11789.255044</td>\n",
       "      <td>6189.358898</td>\n",
       "    </tr>\n",
       "    <tr>\n",
       "      <th>3</th>\n",
       "      <td>2/13/2025 4:12:30 PM.93</td>\n",
       "      <td>27.7</td>\n",
       "      <td>100</td>\n",
       "      <td>17.9</td>\n",
       "      <td>25.8</td>\n",
       "      <td>30.7</td>\n",
       "      <td>19.2</td>\n",
       "      <td>33.6</td>\n",
       "      <td>21.3</td>\n",
       "      <td>37.3</td>\n",
       "      <td>23.2</td>\n",
       "      <td>0.10</td>\n",
       "      <td>11</td>\n",
       "      <td>-16.42</td>\n",
       "      <td>3.18</td>\n",
       "      <td>0</td>\n",
       "      <td>9.80</td>\n",
       "      <td>350</td>\n",
       "      <td>200</td>\n",
       "      <td>0.000097</td>\n",
       "      <td>0.000056</td>\n",
       "      <td>1.964876</td>\n",
       "      <td>1.03156</td>\n",
       "      <td>11789.255044</td>\n",
       "      <td>6189.358898</td>\n",
       "    </tr>\n",
       "    <tr>\n",
       "      <th>4</th>\n",
       "      <td>2/13/2025 4:12:31 PM.43</td>\n",
       "      <td>27.6</td>\n",
       "      <td>100</td>\n",
       "      <td>17.8</td>\n",
       "      <td>25.8</td>\n",
       "      <td>30.7</td>\n",
       "      <td>19.2</td>\n",
       "      <td>33.6</td>\n",
       "      <td>21.3</td>\n",
       "      <td>37.3</td>\n",
       "      <td>23.2</td>\n",
       "      <td>0.09</td>\n",
       "      <td>10</td>\n",
       "      <td>-16.56</td>\n",
       "      <td>3.23</td>\n",
       "      <td>0</td>\n",
       "      <td>9.90</td>\n",
       "      <td>350</td>\n",
       "      <td>200</td>\n",
       "      <td>0.000097</td>\n",
       "      <td>0.000056</td>\n",
       "      <td>1.964876</td>\n",
       "      <td>1.03156</td>\n",
       "      <td>11789.255044</td>\n",
       "      <td>6189.358898</td>\n",
       "    </tr>\n",
       "  </tbody>\n",
       "</table>\n",
       "</div>"
      ],
      "text/plain": [
       "                      Time  T1 (°C)  T2 (°C)  T3 (°C)  T4 (°C)  T5 (°C)  \\\n",
       "0  2/13/2025 4:12:29 PM.43     27.7      100     17.9     25.8     30.7   \n",
       "1  2/13/2025 4:12:29 PM.93     27.7      100     17.9     25.8     30.7   \n",
       "2  2/13/2025 4:12:30 PM.43     27.7      100     17.8     25.8     30.7   \n",
       "3  2/13/2025 4:12:30 PM.93     27.7      100     17.9     25.8     30.7   \n",
       "4  2/13/2025 4:12:31 PM.43     27.6      100     17.8     25.8     30.7   \n",
       "\n",
       "   T6 (°C)  T7 (°C)  T8 (°C)  T9 (°C)  T10 (°C)  dp1 (mbar)  dp2 (mbar)  \\\n",
       "0     19.2     33.6     21.3     37.3      23.2        0.10          11   \n",
       "1     19.2     33.6     21.3     37.3      23.2        0.09          11   \n",
       "2     19.2     33.6     21.3     37.3      23.2        0.09          10   \n",
       "3     19.2     33.6     21.3     37.3      23.2        0.10          11   \n",
       "4     19.2     33.6     21.3     37.3      23.2        0.09          10   \n",
       "\n",
       "   dQ1/dt (kW)  dQ2/dt (kW)  dQ3/dt (kW)  dQm/dt (kW)  hot flow (L/hr)  \\\n",
       "0       -16.66         3.22            0         9.94              350   \n",
       "1       -16.66         3.20            0         9.93              350   \n",
       "2       -16.54         3.20            0         9.87              350   \n",
       "3       -16.42         3.18            0         9.80              350   \n",
       "4       -16.56         3.23            0         9.90              350   \n",
       "\n",
       "   cold flow (L/hr)  hot flow (m^3/s)  cold flow (m^3/s)  u_cold (m/s)  \\\n",
       "0               200          0.000097           0.000056      1.964876   \n",
       "1               200          0.000097           0.000056      1.964876   \n",
       "2               200          0.000097           0.000056      1.964876   \n",
       "3               200          0.000097           0.000056      1.964876   \n",
       "4               200          0.000097           0.000056      1.964876   \n",
       "\n",
       "   u_hot (m/s)  Re_cold (inner tube)  Re_hot (annular region)  \n",
       "0      1.03156          11789.255044              6189.358898  \n",
       "1      1.03156          11789.255044              6189.358898  \n",
       "2      1.03156          11789.255044              6189.358898  \n",
       "3      1.03156          11789.255044              6189.358898  \n",
       "4      1.03156          11789.255044              6189.358898  "
      ]
     },
     "execution_count": 2256,
     "metadata": {},
     "output_type": "execute_result"
    }
   ],
   "source": [
    "df_tube_cross_350h_200c.head(5)"
   ]
  },
  {
   "cell_type": "markdown",
   "metadata": {},
   "source": [
    "(b) Using empirical correlations, calculate and report the inner tube ($h_i$) and annular region ($h_0$) heat transfer coefficients at a volumetric flow rate of 350 L/hr.\n",
    "\n",
    "We will be using data from when both hot and cold streams are art 350 L/min given in `df_tube_cross_350h_350c`"
   ]
  },
  {
   "cell_type": "code",
   "execution_count": 2257,
   "metadata": {},
   "outputs": [
    {
     "data": {
      "text/html": [
       "<div>\n",
       "<style scoped>\n",
       "    .dataframe tbody tr th:only-of-type {\n",
       "        vertical-align: middle;\n",
       "    }\n",
       "\n",
       "    .dataframe tbody tr th {\n",
       "        vertical-align: top;\n",
       "    }\n",
       "\n",
       "    .dataframe thead th {\n",
       "        text-align: right;\n",
       "    }\n",
       "</style>\n",
       "<table border=\"1\" class=\"dataframe\">\n",
       "  <thead>\n",
       "    <tr style=\"text-align: right;\">\n",
       "      <th></th>\n",
       "      <th>Time</th>\n",
       "      <th>T1 (°C)</th>\n",
       "      <th>T2 (°C)</th>\n",
       "      <th>T3 (°C)</th>\n",
       "      <th>T4 (°C)</th>\n",
       "      <th>T5 (°C)</th>\n",
       "      <th>T6 (°C)</th>\n",
       "      <th>T7 (°C)</th>\n",
       "      <th>T8 (°C)</th>\n",
       "      <th>T9 (°C)</th>\n",
       "      <th>T10 (°C)</th>\n",
       "      <th>dp1 (mbar)</th>\n",
       "      <th>dp2 (mbar)</th>\n",
       "      <th>dQ1/dt (kW)</th>\n",
       "      <th>dQ2/dt (kW)</th>\n",
       "      <th>dQ3/dt (kW)</th>\n",
       "      <th>dQm/dt (kW)</th>\n",
       "      <th>hot flow (L/hr)</th>\n",
       "      <th>cold flow (L/hr)</th>\n",
       "      <th>hot flow (m^3/s)</th>\n",
       "      <th>cold flow (m^3/s)</th>\n",
       "      <th>u_cold (m/s)</th>\n",
       "      <th>u_hot (m/s)</th>\n",
       "      <th>Re_cold (inner tube)</th>\n",
       "      <th>Re_hot (annular region)</th>\n",
       "    </tr>\n",
       "  </thead>\n",
       "  <tbody>\n",
       "    <tr>\n",
       "      <th>0</th>\n",
       "      <td>1/30/2025 2:21:15 PM.19</td>\n",
       "      <td>32.9</td>\n",
       "      <td>48.0</td>\n",
       "      <td>20.8</td>\n",
       "      <td>30.1</td>\n",
       "      <td>35.2</td>\n",
       "      <td>22.5</td>\n",
       "      <td>37.3</td>\n",
       "      <td>25.0</td>\n",
       "      <td>39.6</td>\n",
       "      <td>27.2</td>\n",
       "      <td>0.08</td>\n",
       "      <td>1000</td>\n",
       "      <td>-6.17</td>\n",
       "      <td>3.80</td>\n",
       "      <td>0</td>\n",
       "      <td>4.99</td>\n",
       "      <td>350</td>\n",
       "      <td>350</td>\n",
       "      <td>0.000097</td>\n",
       "      <td>0.000097</td>\n",
       "      <td>3.438533</td>\n",
       "      <td>1.03156</td>\n",
       "      <td>20631.196327</td>\n",
       "      <td>6189.358898</td>\n",
       "    </tr>\n",
       "    <tr>\n",
       "      <th>1</th>\n",
       "      <td>1/30/2025 2:21:15 PM.69</td>\n",
       "      <td>32.9</td>\n",
       "      <td>48.0</td>\n",
       "      <td>20.7</td>\n",
       "      <td>30.0</td>\n",
       "      <td>35.2</td>\n",
       "      <td>22.5</td>\n",
       "      <td>37.3</td>\n",
       "      <td>25.0</td>\n",
       "      <td>39.6</td>\n",
       "      <td>27.2</td>\n",
       "      <td>0.09</td>\n",
       "      <td>1000</td>\n",
       "      <td>-6.12</td>\n",
       "      <td>3.77</td>\n",
       "      <td>0</td>\n",
       "      <td>4.95</td>\n",
       "      <td>350</td>\n",
       "      <td>350</td>\n",
       "      <td>0.000097</td>\n",
       "      <td>0.000097</td>\n",
       "      <td>3.438533</td>\n",
       "      <td>1.03156</td>\n",
       "      <td>20631.196327</td>\n",
       "      <td>6189.358898</td>\n",
       "    </tr>\n",
       "    <tr>\n",
       "      <th>2</th>\n",
       "      <td>1/30/2025 2:21:16 PM.19</td>\n",
       "      <td>32.9</td>\n",
       "      <td>48.0</td>\n",
       "      <td>20.8</td>\n",
       "      <td>30.0</td>\n",
       "      <td>35.2</td>\n",
       "      <td>22.5</td>\n",
       "      <td>37.3</td>\n",
       "      <td>25.0</td>\n",
       "      <td>39.7</td>\n",
       "      <td>27.3</td>\n",
       "      <td>0.09</td>\n",
       "      <td>1000</td>\n",
       "      <td>-6.17</td>\n",
       "      <td>3.81</td>\n",
       "      <td>0</td>\n",
       "      <td>4.99</td>\n",
       "      <td>350</td>\n",
       "      <td>350</td>\n",
       "      <td>0.000097</td>\n",
       "      <td>0.000097</td>\n",
       "      <td>3.438533</td>\n",
       "      <td>1.03156</td>\n",
       "      <td>20631.196327</td>\n",
       "      <td>6189.358898</td>\n",
       "    </tr>\n",
       "    <tr>\n",
       "      <th>3</th>\n",
       "      <td>1/30/2025 2:21:16 PM.69</td>\n",
       "      <td>32.8</td>\n",
       "      <td>48.0</td>\n",
       "      <td>20.7</td>\n",
       "      <td>30.0</td>\n",
       "      <td>35.2</td>\n",
       "      <td>22.5</td>\n",
       "      <td>37.3</td>\n",
       "      <td>25.0</td>\n",
       "      <td>39.6</td>\n",
       "      <td>27.2</td>\n",
       "      <td>0.09</td>\n",
       "      <td>1000</td>\n",
       "      <td>-6.21</td>\n",
       "      <td>3.81</td>\n",
       "      <td>0</td>\n",
       "      <td>5.01</td>\n",
       "      <td>350</td>\n",
       "      <td>350</td>\n",
       "      <td>0.000097</td>\n",
       "      <td>0.000097</td>\n",
       "      <td>3.438533</td>\n",
       "      <td>1.03156</td>\n",
       "      <td>20631.196327</td>\n",
       "      <td>6189.358898</td>\n",
       "    </tr>\n",
       "    <tr>\n",
       "      <th>4</th>\n",
       "      <td>1/30/2025 2:21:17 PM.19</td>\n",
       "      <td>32.8</td>\n",
       "      <td>48.1</td>\n",
       "      <td>20.8</td>\n",
       "      <td>30.1</td>\n",
       "      <td>35.1</td>\n",
       "      <td>22.5</td>\n",
       "      <td>37.3</td>\n",
       "      <td>25.0</td>\n",
       "      <td>39.6</td>\n",
       "      <td>27.3</td>\n",
       "      <td>0.09</td>\n",
       "      <td>1000</td>\n",
       "      <td>-6.21</td>\n",
       "      <td>3.81</td>\n",
       "      <td>0</td>\n",
       "      <td>5.01</td>\n",
       "      <td>350</td>\n",
       "      <td>350</td>\n",
       "      <td>0.000097</td>\n",
       "      <td>0.000097</td>\n",
       "      <td>3.438533</td>\n",
       "      <td>1.03156</td>\n",
       "      <td>20631.196327</td>\n",
       "      <td>6189.358898</td>\n",
       "    </tr>\n",
       "  </tbody>\n",
       "</table>\n",
       "</div>"
      ],
      "text/plain": [
       "                      Time  T1 (°C)  T2 (°C)  T3 (°C)  T4 (°C)  T5 (°C)  \\\n",
       "0  1/30/2025 2:21:15 PM.19     32.9     48.0     20.8     30.1     35.2   \n",
       "1  1/30/2025 2:21:15 PM.69     32.9     48.0     20.7     30.0     35.2   \n",
       "2  1/30/2025 2:21:16 PM.19     32.9     48.0     20.8     30.0     35.2   \n",
       "3  1/30/2025 2:21:16 PM.69     32.8     48.0     20.7     30.0     35.2   \n",
       "4  1/30/2025 2:21:17 PM.19     32.8     48.1     20.8     30.1     35.1   \n",
       "\n",
       "   T6 (°C)  T7 (°C)  T8 (°C)  T9 (°C)  T10 (°C)  dp1 (mbar)  dp2 (mbar)  \\\n",
       "0     22.5     37.3     25.0     39.6      27.2        0.08        1000   \n",
       "1     22.5     37.3     25.0     39.6      27.2        0.09        1000   \n",
       "2     22.5     37.3     25.0     39.7      27.3        0.09        1000   \n",
       "3     22.5     37.3     25.0     39.6      27.2        0.09        1000   \n",
       "4     22.5     37.3     25.0     39.6      27.3        0.09        1000   \n",
       "\n",
       "   dQ1/dt (kW)  dQ2/dt (kW)  dQ3/dt (kW)  dQm/dt (kW)  hot flow (L/hr)  \\\n",
       "0        -6.17         3.80            0         4.99              350   \n",
       "1        -6.12         3.77            0         4.95              350   \n",
       "2        -6.17         3.81            0         4.99              350   \n",
       "3        -6.21         3.81            0         5.01              350   \n",
       "4        -6.21         3.81            0         5.01              350   \n",
       "\n",
       "   cold flow (L/hr)  hot flow (m^3/s)  cold flow (m^3/s)  u_cold (m/s)  \\\n",
       "0               350          0.000097           0.000097      3.438533   \n",
       "1               350          0.000097           0.000097      3.438533   \n",
       "2               350          0.000097           0.000097      3.438533   \n",
       "3               350          0.000097           0.000097      3.438533   \n",
       "4               350          0.000097           0.000097      3.438533   \n",
       "\n",
       "   u_hot (m/s)  Re_cold (inner tube)  Re_hot (annular region)  \n",
       "0      1.03156          20631.196327              6189.358898  \n",
       "1      1.03156          20631.196327              6189.358898  \n",
       "2      1.03156          20631.196327              6189.358898  \n",
       "3      1.03156          20631.196327              6189.358898  \n",
       "4      1.03156          20631.196327              6189.358898  "
      ]
     },
     "execution_count": 2257,
     "metadata": {},
     "output_type": "execute_result"
    }
   ],
   "source": [
    "pd.set_option(\"display.max_columns\", None)\n",
    "df_tube_cross_350h_350c.head()"
   ]
  },
  {
   "cell_type": "markdown",
   "metadata": {},
   "source": [
    "Both flow regimes are laminar in this case as inner tube and annular flow is $< 2300$, so we will use equation (20-27)\n",
    "\n",
    "$$\n",
    "Nu_D = 1.86 (Pe( \\frac{D}{L})^\\frac{1}{3})(\\frac{\\mu_b}{\\mu_w})^{0.14}\n",
    "$$\n",
    "\n",
    "In order, to get Peclet number, $Pe$, we must solve for it using $Re$ and $Pr$. From _Fundamentals of Momentum, Heat and Mass_, table A.6 $35 \\degree \\text{C}$"
   ]
  },
  {
   "cell_type": "code",
   "execution_count": 2258,
   "metadata": {},
   "outputs": [],
   "source": [
    "Cp = 4180 #kJ/ kg K"
   ]
  },
  {
   "cell_type": "code",
   "execution_count": 2259,
   "metadata": {},
   "outputs": [],
   "source": [
    "for df in dfs:\n",
    "    df[\"Pr_cold (inner tube)\"] = (Cp * mu) / k_cold\n",
    "    df[\"Pr_hot (annular region)\"] = (Cp * mu) / k_hot"
   ]
  },
  {
   "cell_type": "code",
   "execution_count": 2260,
   "metadata": {},
   "outputs": [],
   "source": [
    "df_tube_cross_350h_350c[\"Pe_cold (inner tube)\"] = df_tube_cross_350h_350c[\"Re_cold (inner tube)\"] * df_tube_cross_350h_350c[\"Pr_cold (inner tube)\"]\n",
    "df_tube_cross_350h_350c[\"Pe_hot (annular region)\"] = df_tube_cross_350h_350c[\"Re_hot (annular region)\"] * df_tube_cross_350h_350c[\"Pr_hot (annular region)\"]"
   ]
  },
  {
   "cell_type": "code",
   "execution_count": 2261,
   "metadata": {},
   "outputs": [
    {
     "data": {
      "text/plain": [
       "300.65"
      ]
     },
     "execution_count": 2261,
     "metadata": {},
     "output_type": "execute_result"
    }
   ],
   "source": [
    "T_c_bulk = 16 + 273.15 # K\n",
    "T_h_bulk = 39 + 273.15 # K\n",
    "\n",
    "T_wall = (T_c_bulk + T_h_bulk) / 2 # K\n",
    "T_wall"
   ]
  },
  {
   "cell_type": "markdown",
   "metadata": {},
   "source": [
    "To get $\\mu_w$ we will assume that the wall between the hot and cold tube is at the average of the hot and cold water flow temperatures which from our experiment we have as:\n",
    "\n",
    "$$\n",
    "T_{c, bulk} = 16 \\degree C \\text{ and } T_{h, bulk} = 39 \\degree \\text{C}\n",
    "$$\n",
    "\n",
    "using the bulk temperatures and this, we can get viscosities from the below expression which has dependence on the thermometer readings across the tubes\n",
    "\n",
    "$$\n",
    "\\mu(T1 - T8) \\text{ mPa s}\n",
    "$$\n",
    "\n",
    "$$\n",
    "\\mu_w(T = 22.5 \\degree \\text{C}) = 0.911 \\text{ mPa s}\n",
    "$$\n",
    "\n",
    "\n",
    "\n",
    "**confirm this viscosity formula**"
   ]
  },
  {
   "cell_type": "code",
   "execution_count": 2262,
   "metadata": {},
   "outputs": [],
   "source": [
    "mu_w = 0.911 / 1000 # Pa * s\n",
    "\n",
    "def vogel(T_C):\n",
    "    A = 2.414e-5\n",
    "    B = 247.8\n",
    "    C = 140\n",
    "    mu_mPa_s = A * 10**(B / ((T_C+273.15) - C))  # in mPa·s\n",
    "    mu_Pa_s = mu_mPa_s / 1000      # convert to Pa·s\n",
    "    return mu_Pa_s"
   ]
  },
  {
   "cell_type": "code",
   "execution_count": 2263,
   "metadata": {},
   "outputs": [],
   "source": [
    "mean_temps = df_tube_cross_350h_350c.mean(numeric_only=True)"
   ]
  },
  {
   "cell_type": "code",
   "execution_count": 2264,
   "metadata": {},
   "outputs": [
    {
     "data": {
      "text/plain": [
       "T1 (°C)                        32.816000\n",
       "T2 (°C)                        48.014000\n",
       "T3 (°C)                        20.634000\n",
       "T4 (°C)                        30.006000\n",
       "T5 (°C)                        35.194000\n",
       "T6 (°C)                        22.500000\n",
       "T7 (°C)                        37.300000\n",
       "T8 (°C)                        25.086000\n",
       "T9 (°C)                        39.616000\n",
       "T10 (°C)                       27.274000\n",
       "dp1 (mbar)                      0.083200\n",
       "dp2 (mbar)                   1000.000000\n",
       "dQ1/dt (kW)                    -6.188600\n",
       "dQ2/dt (kW)                     3.845400\n",
       "dQ3/dt (kW)                     0.000000\n",
       "dQm/dt (kW)                     5.017800\n",
       "hot flow (L/hr)               350.000000\n",
       "cold flow (L/hr)              350.000000\n",
       "hot flow (m^3/s)                0.000097\n",
       "cold flow (m^3/s)               0.000097\n",
       "u_cold (m/s)                    3.438533\n",
       "u_hot (m/s)                     1.031560\n",
       "Re_cold (inner tube)        20631.196327\n",
       "Re_hot (annular region)      6189.358898\n",
       "Pr_cold (inner tube)            7.060811\n",
       "Pr_hot (annular region)         6.818923\n",
       "Pe_cold (inner tube)       145672.974064\n",
       "Pe_hot (annular region)     42204.763774\n",
       "dtype: float64"
      ]
     },
     "execution_count": 2264,
     "metadata": {},
     "output_type": "execute_result"
    }
   ],
   "source": [
    "mean_temps"
   ]
  },
  {
   "cell_type": "code",
   "execution_count": 2265,
   "metadata": {},
   "outputs": [
    {
     "data": {
      "image/png": "[encoded data removed]",
      "text/plain": [
       "<Figure size 800x500 with 1 Axes>"
      ]
     },
     "metadata": {},
     "output_type": "display_data"
    }
   ],
   "source": [
    "cold_thermocouples = [\"T1 (°C)\", \"T5 (°C)\", \"T7 (°C)\", \"T9 (°C)\", \"T2 (°C)\"]   # cold water path\n",
    "hot_thermocouples  = [\"T3 (°C)\", \"T6 (°C)\", \"T8 (°C)\", \"T10 (°C)\", \"T4 (°C)\"]  # hot water path\n",
    "\n",
    "cold_temps = np.array([mean_temps[t] for t in cold_thermocouples])\n",
    "hot_temps  = np.array([mean_temps[t] for t in hot_thermocouples])\n",
    "\n",
    "cold_visc = np.array([vogel(T) for T in cold_temps])\n",
    "hot_visc  = np.array([vogel(T) for T in hot_temps])\n",
    "\n",
    "plt.figure(figsize=(8, 5))\n",
    "plt.plot([cold_temp +273.15 for cold_temp in cold_temps], cold_visc * 1e3, 'bo-', label='Cold Water')  # mPa·s\n",
    "plt.plot([hot_temp +273.15 for hot_temp in hot_temps],  hot_visc  * 1e3, 'ro-', label='Hot Water')   # mPa·s\n",
    "plt.xlabel(\"Temperature (K)\")\n",
    "plt.ylabel(\"Viscosity (mPa·s)\")\n",
    "plt.title(\"Water Viscosity vs. Temperature (Cold vs. Hot Stream)\")\n",
    "plt.legend()\n",
    "plt.tight_layout()\n",
    "plt.show()\n"
   ]
  },
  {
   "cell_type": "code",
   "execution_count": 2266,
   "metadata": {},
   "outputs": [
    {
     "name": "stdout",
     "output_type": "stream",
     "text": [
      "145672.97406371555\n"
     ]
    }
   ],
   "source": [
    "print(df_tube_cross_350h_350c[\"Pe_cold (inner tube)\"].mean())"
   ]
  },
  {
   "cell_type": "code",
   "execution_count": 2267,
   "metadata": {},
   "outputs": [],
   "source": [
    "# Nu_cold = 1.86 * df_tube_cross_350h_350c[\"Pe_cold (inner tube)\"].mean() * (D_inner/L) ** (1/3) * (cold_visc / mu_w) ** 0.14\n",
    "# Nu_hot = 1.86 * df_tube_cross_350h_350c[\"Pe_hot (annular region)\"].mean() * (D_annular/L) ** (1/3) * (hot_visc / mu_w) ** 0.14"
   ]
  },
  {
   "cell_type": "code",
   "execution_count": 2268,
   "metadata": {},
   "outputs": [],
   "source": [
    "# Nu_cold"
   ]
  },
  {
   "cell_type": "markdown",
   "metadata": {},
   "source": [
    "The final step is computing heat transfer coefficient as\n",
    "\n",
    "$$\n",
    "h = \\frac{Nu \\times k}{D}\n",
    "$$"
   ]
  },
  {
   "cell_type": "code",
   "execution_count": 2269,
   "metadata": {},
   "outputs": [],
   "source": [
    "# h_cold = (Nu_cold * k_cold) / D_inner\n",
    "# h_hot = (Nu_hot * k_hot) / D_annular"
   ]
  },
  {
   "cell_type": "code",
   "execution_count": 2270,
   "metadata": {},
   "outputs": [],
   "source": [
    "# h_cold"
   ]
  },
  {
   "cell_type": "markdown",
   "metadata": {},
   "source": [
    "We can also try turbulent flow\n",
    "\n",
    "$$\n",
    "Nu_D = 0.023 Re_D ^ {0.8} Pr^n\n",
    "$$\n",
    "\n",
    "$$\n",
    "\\text{where } n_{heated} = 0.4 \\text{ and } n_{cooled} = 0.3\n",
    "$$\n"
   ]
  },
  {
   "cell_type": "code",
   "execution_count": 2271,
   "metadata": {},
   "outputs": [],
   "source": [
    "Nu_turb_cold = 0.023 * (df_tube_cross_350h_350c[\"Re_cold (inner tube)\"] ** 0.8) * df[\"Pr_cold (inner tube)\"] ** 0.4\n",
    "Nu_turb_hot = 0.023 * (df_tube_cross_350h_350c[\"Re_hot (annular region)\"] ** 0.8) * df[\"Pr_hot (annular region)\"] ** 0.4\n",
    "\n",
    "h_hot = (Nu_turb_hot * k_hot) / D_annular\n",
    "h_cold = (Nu_turb_cold * k_cold) / D_inner"
   ]
  },
  {
   "cell_type": "code",
   "execution_count": 2272,
   "metadata": {},
   "outputs": [
    {
     "data": {
      "text/plain": [
       "np.float64(14030.063990935942)"
      ]
     },
     "execution_count": 2272,
     "metadata": {},
     "output_type": "execute_result"
    }
   ],
   "source": [
    "h_cold.mean()"
   ]
  },
  {
   "cell_type": "markdown",
   "metadata": {},
   "source": [
    "(c) Calculate the theoretical heat transfer coefficient ($U_{theory}$) using thermal\n",
    "resistances and compare it with the experimental value ($U_{exp}$).\n",
    "\n",
    "We can solve for theoretical overall heat transfer coefficient using the equation (4) from the lab manual\n",
    "\n",
    "$$\n",
    "U = (\\frac{1}{h_i} + \\frac{D_i}{D_o} \\times \\frac{1}{h_o})^{-1}\n",
    "$$"
   ]
  },
  {
   "cell_type": "code",
   "execution_count": 2273,
   "metadata": {},
   "outputs": [],
   "source": [
    "U = ((1/h_cold) + (D_inner/D_annular) * (1/h_hot)) ** (-1)"
   ]
  },
  {
   "cell_type": "code",
   "execution_count": 2274,
   "metadata": {},
   "outputs": [
    {
     "data": {
      "text/plain": [
       "np.float64(3934.6388593681913)"
      ]
     },
     "execution_count": 2274,
     "metadata": {},
     "output_type": "execute_result"
    }
   ],
   "source": [
    "U.mean()"
   ]
  },
  {
   "cell_type": "code",
   "execution_count": 2275,
   "metadata": {},
   "outputs": [
    {
     "name": "stdout",
     "output_type": "stream",
     "text": [
      "convective heat transfer coefficient for hot flow:  2523.758614592294\n",
      "convective heat transfer coefficient for cold flow:  14030.063990935942\n"
     ]
    }
   ],
   "source": [
    "print(\"convective heat transfer coefficient for hot flow: \", h_hot.mean())\n",
    "print(\"convective heat transfer coefficient for cold flow: \", h_cold.mean())"
   ]
  },
  {
   "cell_type": "code",
   "execution_count": 2276,
   "metadata": {},
   "outputs": [],
   "source": [
    "# df = pd.DataFrame({\n",
    "#     # 'Segment': np.arange(1, 10, 2), # thermocouple numbers\n",
    "#     'position': np.arange(.800, 2.400, 1.600/50),\n",
    "#     'h_cold (W/m²·K)': h_cold,\n",
    "#     'h_hot (W/m²·K)': h_hot,\n",
    "#     'U (W/m²·K)': U\n",
    "# })\n",
    "\n",
    "\n",
    "# plt.figure(figsize=(8, 5))\n",
    "# plt.scatter(df['position'], df['U (W/m²·K)'], marker='o', linestyle='-', color='darkgreen')\n",
    "# plt.xlabel(\"Position down tubular HX (m)\")\n",
    "# plt.ylabel(\"Overall $U$ (W/m²·K)\")\n",
    "# plt.title(\"Overall Heat Transfer Coefficient $U$ Down Tubular HX\")\n",
    "# plt.tight_layout()\n",
    "# plt.show()\n",
    "\n",
    "# print(h_cold)"
   ]
  },
  {
   "cell_type": "markdown",
   "metadata": {},
   "source": [
    "(d) Maintain a constant outer flow rate of 350 L/hr and vary the inner flow rate (200, 300, 400 L/hr). Experimentally determine how $h_i$ vary with changing fluid flow rates.\n",
    "\n",
    "We will extend the analysis we did at 350 L/hr for both directions to a varying inner flow rate. Our first step is checking if the flow is laminar for all of these cases. "
   ]
  },
  {
   "cell_type": "code",
   "execution_count": 2277,
   "metadata": {},
   "outputs": [],
   "source": [
    "dfs = [df_tube_cross_350h_200c, df_tube_cross_350h_300c, df_tube_cross_350h_350c, df_tube_cross_350h_400c]"
   ]
  },
  {
   "cell_type": "code",
   "execution_count": 2278,
   "metadata": {},
   "outputs": [
    {
     "name": "stdout",
     "output_type": "stream",
     "text": [
      "Re_cold (inner tube)       11789.255044\n",
      "Re_hot (annular region)     6189.358898\n",
      "Name: 0, dtype: float64\n",
      "Re_cold (inner tube)       17683.882566\n",
      "Re_hot (annular region)     6189.358898\n",
      "Name: 0, dtype: float64\n",
      "Re_cold (inner tube)       20631.196327\n",
      "Re_hot (annular region)     6189.358898\n",
      "Name: 0, dtype: float64\n",
      "Re_cold (inner tube)       23578.510088\n",
      "Re_hot (annular region)     6189.358898\n",
      "Name: 0, dtype: float64\n"
     ]
    }
   ],
   "source": [
    "for df in dfs:\n",
    "    print(df[[\"Re_cold (inner tube)\", \"Re_hot (annular region)\"]].iloc[0])"
   ]
  },
  {
   "cell_type": "code",
   "execution_count": 2279,
   "metadata": {},
   "outputs": [
    {
     "name": "stdout",
     "output_type": "stream",
     "text": [
      "[np.float64(3002.05466502203), np.float64(3308.948889981573), np.float64(3414.646575233601), np.float64(3500.9758901851815)]\n"
     ]
    }
   ],
   "source": [
    "h_colds = []\n",
    "h_hots = []\n",
    "U_theory = []\n",
    "\n",
    "for i, df in enumerate(dfs):\n",
    "    mean_temps = df.mean(numeric_only=True)\n",
    "\n",
    "    cold_temps = np.array([mean_temps[t] for t in cold_thermocouples])\n",
    "    hot_temps  = np.array([mean_temps[t] for t in hot_thermocouples])\n",
    "    cold_visc = np.array([vogel(T) for T in cold_temps])\n",
    "    hot_visc  = np.array([vogel(T) for T in hot_temps])\n",
    "\n",
    "    df[\"Pr_cold (inner tube)\"] = (Cp * mu) / k_cold\n",
    "    df[\"Pr_hot (annular region)\"] = (Cp * mu) / k_hot\n",
    "    df[\"Pe_cold (inner tube)\"] = df[\"Re_cold (inner tube)\"] * df[\"Pr_cold (inner tube)\"]\n",
    "    df[\"Pe_hot (annular region)\"] = df[\"Re_hot (annular region)\"] * df[\"Pr_hot (annular region)\"]\n",
    "\n",
    "    Nu_turb_cold = 0.023 * (df[\"Re_cold (inner tube)\"] ** 0.8) * df[\"Pr_cold (inner tube)\"] ** 0.4\n",
    "    Nu_turb_hot = 0.023 * (df[\"Re_hot (annular region)\"] ** 0.8) * df[\"Pr_hot (annular region)\"] ** 0.3\n",
    "    h_cold = (Nu_turb_cold * k_cold) / D_inner\n",
    "    h_hot = (Nu_turb_hot * k_hot) / D_annular\n",
    "    h_colds.append(h_cold.mean())\n",
    "    h_hots.append(h_hot.mean())\n",
    "\n",
    "    U_theory.append(((1/h_cold.mean()) + (D_inner/D_annular) * (1/h_hot.mean())) ** (-1))\n",
    "print(U_theory)"
   ]
  },
  {
   "cell_type": "markdown",
   "metadata": {},
   "source": [
    "(e) Compare the experimentally determined scaling of $h$ with theoretical predictions, which suggest $h \\propto Re^m$, where $m$ depends on the flow regime. Plot $h$ values against flow rate for both experimental results and theoretical correlations.\n",
    "\n",
    "First we will plot the experimental results for h against flow rates"
   ]
  },
  {
   "cell_type": "code",
   "execution_count": 2280,
   "metadata": {},
   "outputs": [
    {
     "data": {
      "text/plain": [
       "Text(0.5, 1.0, 'experimental heat transfer coefficient scaling')"
      ]
     },
     "execution_count": 2280,
     "metadata": {},
     "output_type": "execute_result"
    },
    {
     "data": {
      "image/png": "[encoded data removed]",
      "text/plain": [
       "<Figure size 800x600 with 1 Axes>"
      ]
     },
     "metadata": {},
     "output_type": "display_data"
    }
   ],
   "source": [
    "inner_flows = [200, 300, 350, 400]\n",
    "h_colds = sorted(h_colds)\n",
    "plt.figure(figsize=(8,6))\n",
    "plt.scatter(inner_flows, h_colds, label = \"cold water flow heat transfer coeff, $h_i$\")\n",
    "plt.scatter(inner_flows, h_hots, label = \"hot water flow heat transfer coeff, $h_o$\")\n",
    "plt.legend()\n",
    "plt.xlabel(\"inner flow rates (L/hr)\")\n",
    "plt.ylabel(\"heat transfer coefficients, $h_i$ (W/mK)\")\n",
    "plt.title(\"experimental heat transfer coefficient scaling\")"
   ]
  },
  {
   "cell_type": "code",
   "execution_count": 2281,
   "metadata": {},
   "outputs": [
    {
     "data": {
      "text/plain": [
       "[np.float64(3002.05466502203),\n",
       " np.float64(3308.948889981573),\n",
       " np.float64(3414.646575233601),\n",
       " np.float64(3500.9758901851815)]"
      ]
     },
     "execution_count": 2281,
     "metadata": {},
     "output_type": "execute_result"
    }
   ],
   "source": [
    "U_theory"
   ]
  },
  {
   "cell_type": "markdown",
   "metadata": {},
   "source": [
    "Plotting this on log-log scale to see the scaling"
   ]
  },
  {
   "cell_type": "code",
   "execution_count": 2282,
   "metadata": {},
   "outputs": [
    {
     "data": {
      "text/plain": [
       "(np.float64(0.8000000000000026), np.float64(3.882718645459844e-15))"
      ]
     },
     "execution_count": 2282,
     "metadata": {},
     "output_type": "execute_result"
    },
    {
     "data": {
      "image/png": "[encoded data removed]",
      "text/plain": [
       "<Figure size 800x600 with 1 Axes>"
      ]
     },
     "metadata": {},
     "output_type": "display_data"
    }
   ],
   "source": [
    "inner_flows = np.array(inner_flows)\n",
    "\n",
    "log_flows = np.log(inner_flows)\n",
    "log_h_colds = np.log(h_colds)\n",
    "log_h_hots = np.log(h_hots)\n",
    "\n",
    "slope_cold, intercept_cold = np.polyfit(log_flows, log_h_colds, 1)\n",
    "slope_hot, intercept_hot = np.polyfit(log_flows, log_h_hots, 1)\n",
    "\n",
    "flow_range = np.linspace(inner_flows.min(), inner_flows.max(), 100)\n",
    "fit_h_colds = np.exp(intercept_cold) * flow_range ** slope_cold\n",
    "fit_h_hots = np.exp(intercept_hot) * flow_range ** slope_hot\n",
    "\n",
    "plt.figure(figsize=(8, 6))\n",
    "plt.loglog(inner_flows, h_colds, 'bo', label='Cold water (data)')\n",
    "plt.loglog(flow_range, fit_h_colds, 'b--', label=f'Cold water fit (slope={slope_cold:.2f})')\n",
    "\n",
    "# plt.loglog(inner_flows, h_hots, 'ro', label='Hot water (data)')\n",
    "# plt.loglog(flow_range, fit_h_hots, 'r--', label=f'Hot water fit (slope={slope_hot:.2f})')\n",
    "\n",
    "plt.xlabel(\"Inner flow rate (L/hr)\")\n",
    "plt.ylabel(\"Heat transfer coefficient, $h_i$ (W/m²·K)\")\n",
    "plt.title(\"Log-Log Scaling of Heat Transfer Coefficients with Flow Rate\")\n",
    "plt.legend()\n",
    "\n",
    "(slope_cold, slope_hot)\n"
   ]
  },
  {
   "cell_type": "markdown",
   "metadata": {},
   "source": [
    "Then, we can plot the theoretical correlation between $h$ and flow rate using $Re$ since $Re \\propto u = (\\frac{\\dot q}{A})$. The expected scaling is $h \\propto Re^{1/3}$ as given by Sieder–Tate equation (20-27):\n",
    "\n",
    "$$\n",
    "\\frac{hD}{k} = Nu_D = 0.023 Re_D ^ {0.8} Pr^n\n",
    "$$\n",
    "\n",
    "\n"
   ]
  },
  {
   "cell_type": "code",
   "execution_count": 2283,
   "metadata": {},
   "outputs": [],
   "source": [
    "Reynolds = [df[\"Re_cold (inner tube)\"].mean() for df in dfs]"
   ]
  },
  {
   "cell_type": "markdown",
   "metadata": {},
   "source": [
    "In the previous part we saw experimental scaling with $h_i \\propto Re^{0.8}$, now we can explore the scaling of $h_i$ with inner flow rate"
   ]
  },
  {
   "cell_type": "code",
   "execution_count": 2284,
   "metadata": {},
   "outputs": [
    {
     "data": {
      "text/plain": [
       "Text(0.5, 1.0, 'Overall theoretical heat transfer coefficient, $U$, scaling')"
      ]
     },
     "execution_count": 2284,
     "metadata": {},
     "output_type": "execute_result"
    },
    {
     "data": {
      "image/png": "[encoded data removed]",
      "text/plain": [
       "<Figure size 800x600 with 1 Axes>"
      ]
     },
     "metadata": {},
     "output_type": "display_data"
    }
   ],
   "source": [
    "inner_flows = [200, 300, 350, 400]\n",
    "plt.figure(figsize=(8,6))\n",
    "plt.scatter(inner_flows, U_theory, label = \"Overall heat transfer coeff\")\n",
    "plt.xlabel(\"inner flow rates (L/hr)\")\n",
    "plt.ylabel(\"heat transfer coefficient, $U$ (W/mK)\")\n",
    "plt.title(\"Overall theoretical heat transfer coefficient, $U$, scaling\")"
   ]
  },
  {
   "cell_type": "code",
   "execution_count": 2285,
   "metadata": {},
   "outputs": [
    {
     "data": {
      "image/png": "[encoded data removed]",
      "text/plain": [
       "<Figure size 800x600 with 1 Axes>"
      ]
     },
     "metadata": {},
     "output_type": "display_data"
    },
    {
     "data": {
      "text/plain": [
       "np.float64(0.8000000000000026)"
      ]
     },
     "execution_count": 2285,
     "metadata": {},
     "output_type": "execute_result"
    }
   ],
   "source": [
    "log_flows = np.log(inner_flows)\n",
    "log_Us = np.log(h_colds)\n",
    "\n",
    "slope_U, intercept_U = np.polyfit(log_flows, log_Us, 1)\n",
    "fit_Us = np.exp(intercept_U) * inner_flows ** slope_U\n",
    "\n",
    "plt.figure(figsize=(8, 6))\n",
    "plt.loglog(inner_flows, h_colds, 'go', label='Experimental $h_i$')\n",
    "plt.loglog(inner_flows, fit_Us, 'g--', label=f'Fit: $h_i \\\\propto \\\\dot{{V}}^{{{slope_U:.2f}}}$')\n",
    "\n",
    "plt.xlabel(\"Inner flow rate (L/hr)\")\n",
    "plt.ylabel(\"Overall heat transfer coefficient $U$ (W/m²·K)\")\n",
    "plt.title(\"Log-Log Scaling of Overall Theoretical $U$ with Inner Flow Rate\")\n",
    "plt.legend()\n",
    "plt.tight_layout()\n",
    "plt.show()\n",
    "\n",
    "slope_U\n"
   ]
  },
  {
   "cell_type": "code",
   "execution_count": 2286,
   "metadata": {},
   "outputs": [
    {
     "data": {
      "text/plain": [
       "<matplotlib.legend.Legend at 0x16969d810>"
      ]
     },
     "execution_count": 2286,
     "metadata": {},
     "output_type": "execute_result"
    },
    {
     "data": {
      "image/png": "[encoded data removed]",
      "text/plain": [
       "<Figure size 800x600 with 1 Axes>"
      ]
     },
     "metadata": {},
     "output_type": "display_data"
    }
   ],
   "source": [
    "plt.figure(figsize=(8,6))\n",
    "plt.scatter(Reynolds, U_theory, label=\"overall heat transfer coefficients, $U$\")\n",
    "plt.xlabel(\"Reynolds numbers, $Re$\")\n",
    "plt.ylabel(\"Experimental overall heat transfer coefficients, $U$ (W/m²·K)\")\n",
    "plt.title(\"Scaling of Heat Transfer Coefficient with Reynolds Number\")\n",
    "plt.legend()"
   ]
  },
  {
   "cell_type": "code",
   "execution_count": 2287,
   "metadata": {},
   "outputs": [
    {
     "data": {
      "image/png": "[encoded data removed]",
      "text/plain": [
       "<Figure size 800x600 with 1 Axes>"
      ]
     },
     "metadata": {},
     "output_type": "display_data"
    },
    {
     "data": {
      "text/plain": [
       "np.float64(0.2240512548698166)"
      ]
     },
     "execution_count": 2287,
     "metadata": {},
     "output_type": "execute_result"
    }
   ],
   "source": [
    "log_Re = np.log(Reynolds)\n",
    "log_U = np.log(U_theory)\n",
    "\n",
    "slope_URe, intercept_URe = np.polyfit(log_Re, log_U, 1)\n",
    "fit_Us_Re = np.exp(intercept_URe) * Reynolds ** slope_URe\n",
    "\n",
    "plt.figure(figsize=(8, 6))\n",
    "plt.loglog(Reynolds, U_theory, 'mo', label='Experimental $U$')\n",
    "plt.loglog(Reynolds, fit_Us_Re, 'm--', label=f'Fit: $U \\\\propto Re^{{{slope_URe:.2f}}}$')\n",
    "\n",
    "plt.xlabel(\"Reynolds number, $Re$\")\n",
    "plt.ylabel(\"Overall heat transfer coefficient $U$ (W/m²·K)\")\n",
    "plt.title(\"Log-Log Scaling of Theoretical $U$ with Reynolds Number\")\n",
    "plt.legend()\n",
    "plt.tight_layout()\n",
    "plt.show()\n",
    "\n",
    "slope_URe\n"
   ]
  },
  {
   "cell_type": "markdown",
   "metadata": {},
   "source": [
    "Now we will explore the experimental values for $h_i$ using newton's law of cooling\n",
    "\n",
    "$$\n",
    "h = \\frac{q}{A \\times \\Delta T_{avg}}\n",
    "$$\n",
    "\n",
    "We will need a temperature gradient for the hot and cold flow"
   ]
  },
  {
   "cell_type": "code",
   "execution_count": 2288,
   "metadata": {},
   "outputs": [],
   "source": [
    "cold_thermocouples = [\"T1 (°C)\", \"T5 (°C)\", \"T7 (°C)\", \"T9 (°C)\",1]   # cold water path\n",
    "hot_thermocouples  = [\"T3 (°C)\", \"T6 (°C)\", \"T8 (°C)\", \"T10 (°C)\", \"T4 (°C)\"]  # hot water path\n",
    "dfs = [df_tube_cross_350h_200c,df_tube_cross_350h_300c, df_tube_cross_350h_350c, df_tube_cross_350h_400c]"
   ]
  },
  {
   "cell_type": "code",
   "execution_count": 2289,
   "metadata": {},
   "outputs": [
    {
     "ename": "KeyError",
     "evalue": "1",
     "output_type": "error",
     "traceback": [
      "\u001b[31m---------------------------------------------------------------------------\u001b[39m",
      "\u001b[31mKeyError\u001b[39m                                  Traceback (most recent call last)",
      "\u001b[36mFile \u001b[39m\u001b[32m~/cbe154/cbe154/lib/python3.13/site-packages/pandas/core/indexes/base.py:3805\u001b[39m, in \u001b[36mIndex.get_loc\u001b[39m\u001b[34m(self, key)\u001b[39m\n\u001b[32m   3804\u001b[39m \u001b[38;5;28;01mtry\u001b[39;00m:\n\u001b[32m-> \u001b[39m\u001b[32m3805\u001b[39m     \u001b[38;5;28;01mreturn\u001b[39;00m \u001b[38;5;28;43mself\u001b[39;49m\u001b[43m.\u001b[49m\u001b[43m_engine\u001b[49m\u001b[43m.\u001b[49m\u001b[43mget_loc\u001b[49m\u001b[43m(\u001b[49m\u001b[43mcasted_key\u001b[49m\u001b[43m)\u001b[49m\n\u001b[32m   3806\u001b[39m \u001b[38;5;28;01mexcept\u001b[39;00m \u001b[38;5;167;01mKeyError\u001b[39;00m \u001b[38;5;28;01mas\u001b[39;00m err:\n",
      "\u001b[36mFile \u001b[39m\u001b[32mindex.pyx:167\u001b[39m, in \u001b[36mpandas._libs.index.IndexEngine.get_loc\u001b[39m\u001b[34m()\u001b[39m\n",
      "\u001b[36mFile \u001b[39m\u001b[32mindex.pyx:196\u001b[39m, in \u001b[36mpandas._libs.index.IndexEngine.get_loc\u001b[39m\u001b[34m()\u001b[39m\n",
      "\u001b[36mFile \u001b[39m\u001b[32mpandas/_libs/hashtable_class_helper.pxi:7081\u001b[39m, in \u001b[36mpandas._libs.hashtable.PyObjectHashTable.get_item\u001b[39m\u001b[34m()\u001b[39m\n",
      "\u001b[36mFile \u001b[39m\u001b[32mpandas/_libs/hashtable_class_helper.pxi:7089\u001b[39m, in \u001b[36mpandas._libs.hashtable.PyObjectHashTable.get_item\u001b[39m\u001b[34m()\u001b[39m\n",
      "\u001b[31mKeyError\u001b[39m: 1",
      "\nThe above exception was the direct cause of the following exception:\n",
      "\u001b[31mKeyError\u001b[39m                                  Traceback (most recent call last)",
      "\u001b[36mCell\u001b[39m\u001b[36m \u001b[39m\u001b[32mIn[2289]\u001b[39m\u001b[32m, line 7\u001b[39m\n\u001b[32m      4\u001b[39m \u001b[38;5;28;01mfor\u001b[39;00m df \u001b[38;5;129;01min\u001b[39;00m dfs:\n\u001b[32m      5\u001b[39m     positions = np.arange(\u001b[32m0.800\u001b[39m, \u001b[32m2.400\u001b[39m, \u001b[32m1.600\u001b[39m / \u001b[32m5\u001b[39m)\n\u001b[32m----> \u001b[39m\u001b[32m7\u001b[39m     cold_means = [\u001b[43mdf\u001b[49m\u001b[43m[\u001b[49m\u001b[43mcol\u001b[49m\u001b[43m]\u001b[49m.mean() \u001b[38;5;28;01mfor\u001b[39;00m col \u001b[38;5;129;01min\u001b[39;00m cold_thermocouples]\n\u001b[32m      8\u001b[39m     hot_means = [df[col].mean() \u001b[38;5;28;01mfor\u001b[39;00m col \u001b[38;5;129;01min\u001b[39;00m hot_thermocouples]\n\u001b[32m     10\u001b[39m     \u001b[38;5;28mprint\u001b[39m(cold_means)\n",
      "\u001b[36mFile \u001b[39m\u001b[32m~/cbe154/cbe154/lib/python3.13/site-packages/pandas/core/frame.py:4102\u001b[39m, in \u001b[36mDataFrame.__getitem__\u001b[39m\u001b[34m(self, key)\u001b[39m\n\u001b[32m   4100\u001b[39m \u001b[38;5;28;01mif\u001b[39;00m \u001b[38;5;28mself\u001b[39m.columns.nlevels > \u001b[32m1\u001b[39m:\n\u001b[32m   4101\u001b[39m     \u001b[38;5;28;01mreturn\u001b[39;00m \u001b[38;5;28mself\u001b[39m._getitem_multilevel(key)\n\u001b[32m-> \u001b[39m\u001b[32m4102\u001b[39m indexer = \u001b[38;5;28;43mself\u001b[39;49m\u001b[43m.\u001b[49m\u001b[43mcolumns\u001b[49m\u001b[43m.\u001b[49m\u001b[43mget_loc\u001b[49m\u001b[43m(\u001b[49m\u001b[43mkey\u001b[49m\u001b[43m)\u001b[49m\n\u001b[32m   4103\u001b[39m \u001b[38;5;28;01mif\u001b[39;00m is_integer(indexer):\n\u001b[32m   4104\u001b[39m     indexer = [indexer]\n",
      "\u001b[36mFile \u001b[39m\u001b[32m~/cbe154/cbe154/lib/python3.13/site-packages/pandas/core/indexes/base.py:3812\u001b[39m, in \u001b[36mIndex.get_loc\u001b[39m\u001b[34m(self, key)\u001b[39m\n\u001b[32m   3807\u001b[39m     \u001b[38;5;28;01mif\u001b[39;00m \u001b[38;5;28misinstance\u001b[39m(casted_key, \u001b[38;5;28mslice\u001b[39m) \u001b[38;5;129;01mor\u001b[39;00m (\n\u001b[32m   3808\u001b[39m         \u001b[38;5;28misinstance\u001b[39m(casted_key, abc.Iterable)\n\u001b[32m   3809\u001b[39m         \u001b[38;5;129;01mand\u001b[39;00m \u001b[38;5;28many\u001b[39m(\u001b[38;5;28misinstance\u001b[39m(x, \u001b[38;5;28mslice\u001b[39m) \u001b[38;5;28;01mfor\u001b[39;00m x \u001b[38;5;129;01min\u001b[39;00m casted_key)\n\u001b[32m   3810\u001b[39m     ):\n\u001b[32m   3811\u001b[39m         \u001b[38;5;28;01mraise\u001b[39;00m InvalidIndexError(key)\n\u001b[32m-> \u001b[39m\u001b[32m3812\u001b[39m     \u001b[38;5;28;01mraise\u001b[39;00m \u001b[38;5;167;01mKeyError\u001b[39;00m(key) \u001b[38;5;28;01mfrom\u001b[39;00m\u001b[38;5;250m \u001b[39m\u001b[34;01merr\u001b[39;00m\n\u001b[32m   3813\u001b[39m \u001b[38;5;28;01mexcept\u001b[39;00m \u001b[38;5;167;01mTypeError\u001b[39;00m:\n\u001b[32m   3814\u001b[39m     \u001b[38;5;66;03m# If we have a listlike key, _check_indexing_error will raise\u001b[39;00m\n\u001b[32m   3815\u001b[39m     \u001b[38;5;66;03m#  InvalidIndexError. Otherwise we fall through and re-raise\u001b[39;00m\n\u001b[32m   3816\u001b[39m     \u001b[38;5;66;03m#  the TypeError.\u001b[39;00m\n\u001b[32m   3817\u001b[39m     \u001b[38;5;28mself\u001b[39m._check_indexing_error(key)\n",
      "\u001b[31mKeyError\u001b[39m: 1"
     ]
    }
   ],
   "source": [
    "hot_grads = []\n",
    "cold_grads = []\n",
    "\n",
    "for df in dfs:\n",
    "    positions = np.arange(0.800, 2.400, 1.600 / 5)\n",
    "\n",
    "    cold_means = [df[col].mean() for col in cold_thermocouples]\n",
    "    hot_means = [df[col].mean() for col in hot_thermocouples]\n",
    "\n",
    "    print(cold_means)\n",
    "    print(positions)\n",
    "    cold_fit = np.poly1d(np.polyfit(positions, cold_means, 1))\n",
    "    hot_fit = np.poly1d(np.polyfit(positions, hot_means, 1))\n",
    "    cold_grads.append(cold_fit[1])\n",
    "    hot_grads.append(hot_fit[1])\n",
    "\n",
    "    plt.figure(figsize=(10, 6))\n",
    "    plt.scatter(positions, cold_means, color='blue', label=\"Cold water path\")\n",
    "    plt.plot(positions, cold_fit(positions), 'b--', label=\"Cold trendline\")\n",
    "\n",
    "    plt.scatter(positions, hot_means, color='red', label=\"Hot water path\")\n",
    "    plt.plot(positions, hot_fit(positions), 'r--', label=\"Hot trendline\")\n",
    "\n",
    "    plt.xlabel(\"Position along heat exchanger (m)\")\n",
    "    plt.ylabel(\"Average Temperature (°C)\")\n",
    "    plt.title(\"Temperature Profile Along Heat Exchanger\")\n",
    "    plt.legend()\n",
    "    plt.tight_layout()\n",
    "    plt.show()\n"
   ]
  },
  {
   "cell_type": "code",
   "execution_count": null,
   "metadata": {},
   "outputs": [],
   "source": [
    "h_exp_colds = []\n",
    "h_exp_hots = []\n",
    "\n",
    "for i, df in enumerate(dfs):\n",
    "    h_exp_colds.append(df[\"dQm/dt (kW)\"].mean() / (A_i * cold_grads[i]))\n",
    "    h_exp_hots.append(df[\"dQm/dt (kW)\"].mean() / (A_h * hot_grads[i]))\n",
    "\n",
    "h_exp_colds = sorted(h_exp_colds)"
   ]
  },
  {
   "cell_type": "code",
   "execution_count": null,
   "metadata": {},
   "outputs": [
    {
     "data": {
      "image/png": "[encoded data removed]",
      "text/plain": [
       "<Figure size 800x600 with 1 Axes>"
      ]
     },
     "metadata": {},
     "output_type": "display_data"
    }
   ],
   "source": [
    "log_flows = np.log(inner_flows)\n",
    "\n",
    "log_h_colds = np.log(h_exp_colds)\n",
    "slope_cold, intercept_cold = np.polyfit(log_flows, log_h_colds, 1)\n",
    "fit_h_colds = np.exp(intercept_cold) * inner_flows ** slope_cold\n",
    "\n",
    "log_h_hots = np.log(h_exp_hots)\n",
    "slope_hot, intercept_hot = np.polyfit(log_flows, log_h_hots, 1)\n",
    "fit_h_hots = np.exp(intercept_hot) * inner_flows ** slope_hot\n",
    "\n",
    "plt.figure(figsize=(8, 6))\n",
    "plt.loglog(inner_flows, h_exp_colds, 's', color='black', label='$h_i$ (cold side)')\n",
    "plt.loglog(inner_flows, fit_h_colds, '--', color='gray', label=f'Fit: $h_i \\\\propto \\\\dot{{q}}^{{{1/slope_cold:.2f}}}$')\n",
    "\n",
    "# plt.loglog(inner_flows, h_exp_hots, 'o', color='dimgray', label='$h_o$ (hot side)')\n",
    "# plt.loglog(inner_flows, fit_h_hots, '--', color='darkgray', label=f'Fit: $h_o \\\\propto \\\\dot{{q}}^{{{1/slope_hot:.2f}}}$')\n",
    "\n",
    "plt.xlabel(\"Inner flow rate (L/hr)\")\n",
    "plt.ylabel(\"Convective heat transfer coefficient $h$ (W/m²·K)\")\n",
    "plt.title(\"Log-Log Scaling of Experimental $h$ with Inner Flow Rate\")\n",
    "plt.legend()\n",
    "plt.tight_layout()\n",
    "plt.show()\n"
   ]
  },
  {
   "cell_type": "code",
   "execution_count": null,
   "metadata": {},
   "outputs": [
    {
     "data": {
      "image/png": "[encoded data removed]",
      "text/plain": [
       "<Figure size 800x600 with 1 Axes>"
      ]
     },
     "metadata": {},
     "output_type": "display_data"
    }
   ],
   "source": [
    "log_flows_exp = np.log(inner_flows)\n",
    "log_h_exp_colds = np.log(h_exp_colds)\n",
    "slope_exp_cold, intercept_exp_cold = np.polyfit(log_flows_exp, log_h_exp_colds, 1)\n",
    "fit_h_exp_colds = np.exp(intercept_exp_cold) * inner_flows ** slope_exp_cold\n",
    "\n",
    "log_flows_theory = np.log(inner_flows)\n",
    "log_h_theory_colds = np.log(h_colds)\n",
    "slope_theory_cold, intercept_theory_cold = np.polyfit(log_flows_theory, log_h_theory_colds, 1)\n",
    "flow_range = np.linspace(min(inner_flows), max(inner_flows), 100)\n",
    "fit_h_theory_colds = np.exp(intercept_theory_cold) * flow_range ** slope_theory_cold\n",
    "\n",
    "plt.figure(figsize=(8, 6))\n",
    "plt.loglog(inner_flows, h_exp_colds, 's', color='black', label='Exp. $h_i$ (cold side)')\n",
    "plt.loglog(inner_flows, fit_h_exp_colds, '--', color='gray', label=f'Exp. fit: $h_i \\\\propto \\\\dot{{q}}^{{{1/slope_exp_cold:.2f}}}$')\n",
    "\n",
    "plt.loglog(inner_flows, h_colds, 'o', color='dimgray', label='Theory $h_i$ (cold side)')\n",
    "plt.loglog(flow_range, fit_h_theory_colds, '--', color='gray', label=f'Theory fit: $h_i \\\\propto \\\\dot{{q}}^{{{slope_theory_cold:.2f}}}$')\n",
    "\n",
    "plt.xlabel(\"Inner flow rate (L/hr)\")\n",
    "plt.ylabel(\"Heat transfer coefficient $h_i$ (W/m²·K)\")\n",
    "plt.title(\"Experimental vs. Theoretical $h_i$ Scaling with Flow Rate (Log-Log)\")\n",
    "plt.legend()\n",
    "plt.tight_layout()\n",
    "plt.show()\n"
   ]
  },
  {
   "cell_type": "code",
   "execution_count": null,
   "metadata": {},
   "outputs": [
    {
     "data": {
      "image/png": "[encoded data removed]",
      "text/plain": [
       "<Figure size 800x600 with 1 Axes>"
      ]
     },
     "metadata": {},
     "output_type": "display_data"
    }
   ],
   "source": [
    "log_Re_exp = np.log(Reynolds)\n",
    "log_h_exp_colds = np.log(h_exp_colds)\n",
    "slope_exp_cold, intercept_exp_cold = np.polyfit(log_Re_exp, log_h_exp_colds, 1)\n",
    "fit_h_exp_colds = np.exp(intercept_exp_cold) * Reynolds ** slope_exp_cold\n",
    "\n",
    "log_h_theory_colds = np.log(h_colds)\n",
    "slope_theory_cold, intercept_theory_cold = np.polyfit(log_Re_exp, log_h_theory_colds, 1)\n",
    "flow_range_re = np.linspace(min(Reynolds), max(Reynolds), 100)\n",
    "fit_h_theory_colds = np.exp(intercept_theory_cold) * flow_range_re ** slope_theory_cold\n",
    "\n",
    "\n",
    "plt.figure(figsize=(8, 6))\n",
    "plt.loglog(Reynolds, h_exp_colds, 's', color='black', label='Exp. $h_i$ (cold side)')\n",
    "plt.loglog(Reynolds, fit_h_exp_colds, '--', color='gray',\n",
    "           label=f'Exp. fit: $h_i \\\\propto Re^{{{1/slope_exp_cold:.2f}}}$')\n",
    "\n",
    "plt.loglog(Reynolds, h_colds, 'o', color='dimgray', label='Theory $h_i$ (cold side)')\n",
    "plt.loglog(flow_range_re, fit_h_theory_colds, '--', color='darkgray',\n",
    "           label=f'Theory fit: $h_i \\\\propto Re^{{{slope_theory_cold:.2f}}}$')\n",
    "\n",
    "plt.xlabel(\"Reynolds number (cold side)\")\n",
    "plt.ylabel(\"Heat transfer coefficient $h_i$ (W/m²·K)\")\n",
    "plt.title(\"Experimental vs. Theoretical $h_i$ Scaling with Reynolds Number (Log-Log)\")\n",
    "plt.legend()\n",
    "plt.tight_layout()\n",
    "plt.show()\n"
   ]
  },
  {
   "cell_type": "markdown",
   "metadata": {},
   "source": [
    "Now with now log log scaling, let's plot $h_i$ against inner flow"
   ]
  },
  {
   "cell_type": "code",
   "execution_count": 2291,
   "metadata": {},
   "outputs": [
    {
     "data": {
      "text/plain": [
       "[np.float64(2082.9374751348064),\n",
       " np.float64(2082.9374751348064),\n",
       " np.float64(2082.9374751348064),\n",
       " np.float64(2082.9374751348064)]"
      ]
     },
     "execution_count": 2291,
     "metadata": {},
     "output_type": "execute_result"
    }
   ],
   "source": [
    "h_hots"
   ]
  },
  {
   "cell_type": "code",
   "execution_count": null,
   "metadata": {},
   "outputs": [
    {
     "data": {
      "text/plain": [
       "Text(0, 0.5, 'Heat transfer coefficient $h_i$ (W/m²·K)')"
      ]
     },
     "execution_count": 2217,
     "metadata": {},
     "output_type": "execute_result"
    },
    {
     "data": {
      "image/png": "[encoded data removed]",
      "text/plain": [
       "<Figure size 800x600 with 1 Axes>"
      ]
     },
     "metadata": {},
     "output_type": "display_data"
    }
   ],
   "source": [
    "plt.figure(figsize=(8,6))\n",
    "plt.scatter(inner_flows, h_exp_colds, color='black')\n",
    "plt.title(\"Experimental Heat Transfer Coefficient vs Inner Flow Rate\")\n",
    "plt.xlabel(\"Inner flow rate (L/hr)\")\n",
    "plt.ylabel(\"Heat transfer coefficient $h_i$ (W/m²·K)\")"
   ]
  },
  {
   "cell_type": "code",
   "execution_count": null,
   "metadata": {},
   "outputs": [
    {
     "data": {
      "image/png": "[encoded data removed]",
      "text/plain": [
       "<Figure size 800x600 with 1 Axes>"
      ]
     },
     "metadata": {},
     "output_type": "display_data"
    }
   ],
   "source": [
    "coeffs = np.polyfit(inner_flows, h_exp_colds, 1)\n",
    "fit_line = np.poly1d(coeffs)\n",
    "fit_vals = fit_line(inner_flows)\n",
    "\n",
    "plt.figure(figsize=(8, 6))\n",
    "plt.scatter(inner_flows, h_exp_colds, color='black', label='heat transfer coefficients, $h_i$')\n",
    "plt.plot(inner_flows, fit_vals, color='gray', linestyle='--', label='$h_i$ trend line')\n",
    "\n",
    "plt.title(\"Experimental Heat Transfer Coefficient vs Inner Flow Rate\")\n",
    "plt.xlabel(\"Inner flow rate (L/hr)\")\n",
    "plt.ylabel(\"Heat transfer coefficient $h_i$ (W/m²·K)\")\n",
    "plt.legend()\n",
    "plt.tight_layout()\n",
    "plt.show()\n"
   ]
  },
  {
   "cell_type": "markdown",
   "metadata": {},
   "source": [
    "# Analysis Question 4\n",
    "\n",
    "For the tubular heat exchanger,\n",
    "\n",
    "(a) Experimentally measure the temperature profile along the length of the tubular heat exchanger for both co-current and counter-current flows at a volumetric flow rate of 350 L/hr. \n",
    "\n",
    "#### Get the relevant data frames"
   ]
  },
  {
   "cell_type": "code",
   "execution_count": null,
   "metadata": {},
   "outputs": [
    {
     "ename": "FileNotFoundError",
     "evalue": "[Errno 2] No such file or directory: 'tubular_cross_data/tubular_counter_350c_300h - tubular_counter_350c_300h.csv'",
     "output_type": "error",
     "traceback": [
      "\u001b[31m---------------------------------------------------------------------------\u001b[39m",
      "\u001b[31mFileNotFoundError\u001b[39m                         Traceback (most recent call last)",
      "\u001b[36mCell\u001b[39m\u001b[36m \u001b[39m\u001b[32mIn[2223]\u001b[39m\u001b[32m, line 1\u001b[39m\n\u001b[32m----> \u001b[39m\u001b[32m1\u001b[39m df350h_350c = \u001b[43mpd\u001b[49m\u001b[43m.\u001b[49m\u001b[43mread_csv\u001b[49m\u001b[43m(\u001b[49m\u001b[33;43m'\u001b[39;49m\u001b[33;43mtubular_cross_data/tubular_counter_350c_300h - tubular_counter_350c_300h.csv\u001b[39;49m\u001b[33;43m'\u001b[39;49m\u001b[43m)\u001b[49m\n\u001b[32m      2\u001b[39m df350h_350c = df350h_350c.iloc[\u001b[32m3\u001b[39m:].reset_index(drop=\u001b[38;5;28;01mTrue\u001b[39;00m)\n\u001b[32m      3\u001b[39m df350h_350c.columns = df350h_350c.iloc[\u001b[32m0\u001b[39m]\n",
      "\u001b[36mFile \u001b[39m\u001b[32m~/cbe154/cbe154/lib/python3.13/site-packages/pandas/io/parsers/readers.py:1026\u001b[39m, in \u001b[36mread_csv\u001b[39m\u001b[34m(filepath_or_buffer, sep, delimiter, header, names, index_col, usecols, dtype, engine, converters, true_values, false_values, skipinitialspace, skiprows, skipfooter, nrows, na_values, keep_default_na, na_filter, verbose, skip_blank_lines, parse_dates, infer_datetime_format, keep_date_col, date_parser, date_format, dayfirst, cache_dates, iterator, chunksize, compression, thousands, decimal, lineterminator, quotechar, quoting, doublequote, escapechar, comment, encoding, encoding_errors, dialect, on_bad_lines, delim_whitespace, low_memory, memory_map, float_precision, storage_options, dtype_backend)\u001b[39m\n\u001b[32m   1013\u001b[39m kwds_defaults = _refine_defaults_read(\n\u001b[32m   1014\u001b[39m     dialect,\n\u001b[32m   1015\u001b[39m     delimiter,\n\u001b[32m   (...)\u001b[39m\u001b[32m   1022\u001b[39m     dtype_backend=dtype_backend,\n\u001b[32m   1023\u001b[39m )\n\u001b[32m   1024\u001b[39m kwds.update(kwds_defaults)\n\u001b[32m-> \u001b[39m\u001b[32m1026\u001b[39m \u001b[38;5;28;01mreturn\u001b[39;00m \u001b[43m_read\u001b[49m\u001b[43m(\u001b[49m\u001b[43mfilepath_or_buffer\u001b[49m\u001b[43m,\u001b[49m\u001b[43m \u001b[49m\u001b[43mkwds\u001b[49m\u001b[43m)\u001b[49m\n",
      "\u001b[36mFile \u001b[39m\u001b[32m~/cbe154/cbe154/lib/python3.13/site-packages/pandas/io/parsers/readers.py:620\u001b[39m, in \u001b[36m_read\u001b[39m\u001b[34m(filepath_or_buffer, kwds)\u001b[39m\n\u001b[32m    617\u001b[39m _validate_names(kwds.get(\u001b[33m\"\u001b[39m\u001b[33mnames\u001b[39m\u001b[33m\"\u001b[39m, \u001b[38;5;28;01mNone\u001b[39;00m))\n\u001b[32m    619\u001b[39m \u001b[38;5;66;03m# Create the parser.\u001b[39;00m\n\u001b[32m--> \u001b[39m\u001b[32m620\u001b[39m parser = \u001b[43mTextFileReader\u001b[49m\u001b[43m(\u001b[49m\u001b[43mfilepath_or_buffer\u001b[49m\u001b[43m,\u001b[49m\u001b[43m \u001b[49m\u001b[43m*\u001b[49m\u001b[43m*\u001b[49m\u001b[43mkwds\u001b[49m\u001b[43m)\u001b[49m\n\u001b[32m    622\u001b[39m \u001b[38;5;28;01mif\u001b[39;00m chunksize \u001b[38;5;129;01mor\u001b[39;00m iterator:\n\u001b[32m    623\u001b[39m     \u001b[38;5;28;01mreturn\u001b[39;00m parser\n",
      "\u001b[36mFile \u001b[39m\u001b[32m~/cbe154/cbe154/lib/python3.13/site-packages/pandas/io/parsers/readers.py:1620\u001b[39m, in \u001b[36mTextFileReader.__init__\u001b[39m\u001b[34m(self, f, engine, **kwds)\u001b[39m\n\u001b[32m   1617\u001b[39m     \u001b[38;5;28mself\u001b[39m.options[\u001b[33m\"\u001b[39m\u001b[33mhas_index_names\u001b[39m\u001b[33m\"\u001b[39m] = kwds[\u001b[33m\"\u001b[39m\u001b[33mhas_index_names\u001b[39m\u001b[33m\"\u001b[39m]\n\u001b[32m   1619\u001b[39m \u001b[38;5;28mself\u001b[39m.handles: IOHandles | \u001b[38;5;28;01mNone\u001b[39;00m = \u001b[38;5;28;01mNone\u001b[39;00m\n\u001b[32m-> \u001b[39m\u001b[32m1620\u001b[39m \u001b[38;5;28mself\u001b[39m._engine = \u001b[38;5;28;43mself\u001b[39;49m\u001b[43m.\u001b[49m\u001b[43m_make_engine\u001b[49m\u001b[43m(\u001b[49m\u001b[43mf\u001b[49m\u001b[43m,\u001b[49m\u001b[43m \u001b[49m\u001b[38;5;28;43mself\u001b[39;49m\u001b[43m.\u001b[49m\u001b[43mengine\u001b[49m\u001b[43m)\u001b[49m\n",
      "\u001b[36mFile \u001b[39m\u001b[32m~/cbe154/cbe154/lib/python3.13/site-packages/pandas/io/parsers/readers.py:1880\u001b[39m, in \u001b[36mTextFileReader._make_engine\u001b[39m\u001b[34m(self, f, engine)\u001b[39m\n\u001b[32m   1878\u001b[39m     \u001b[38;5;28;01mif\u001b[39;00m \u001b[33m\"\u001b[39m\u001b[33mb\u001b[39m\u001b[33m\"\u001b[39m \u001b[38;5;129;01mnot\u001b[39;00m \u001b[38;5;129;01min\u001b[39;00m mode:\n\u001b[32m   1879\u001b[39m         mode += \u001b[33m\"\u001b[39m\u001b[33mb\u001b[39m\u001b[33m\"\u001b[39m\n\u001b[32m-> \u001b[39m\u001b[32m1880\u001b[39m \u001b[38;5;28mself\u001b[39m.handles = \u001b[43mget_handle\u001b[49m\u001b[43m(\u001b[49m\n\u001b[32m   1881\u001b[39m \u001b[43m    \u001b[49m\u001b[43mf\u001b[49m\u001b[43m,\u001b[49m\n\u001b[32m   1882\u001b[39m \u001b[43m    \u001b[49m\u001b[43mmode\u001b[49m\u001b[43m,\u001b[49m\n\u001b[32m   1883\u001b[39m \u001b[43m    \u001b[49m\u001b[43mencoding\u001b[49m\u001b[43m=\u001b[49m\u001b[38;5;28;43mself\u001b[39;49m\u001b[43m.\u001b[49m\u001b[43moptions\u001b[49m\u001b[43m.\u001b[49m\u001b[43mget\u001b[49m\u001b[43m(\u001b[49m\u001b[33;43m\"\u001b[39;49m\u001b[33;43mencoding\u001b[39;49m\u001b[33;43m\"\u001b[39;49m\u001b[43m,\u001b[49m\u001b[43m \u001b[49m\u001b[38;5;28;43;01mNone\u001b[39;49;00m\u001b[43m)\u001b[49m\u001b[43m,\u001b[49m\n\u001b[32m   1884\u001b[39m \u001b[43m    \u001b[49m\u001b[43mcompression\u001b[49m\u001b[43m=\u001b[49m\u001b[38;5;28;43mself\u001b[39;49m\u001b[43m.\u001b[49m\u001b[43moptions\u001b[49m\u001b[43m.\u001b[49m\u001b[43mget\u001b[49m\u001b[43m(\u001b[49m\u001b[33;43m\"\u001b[39;49m\u001b[33;43mcompression\u001b[39;49m\u001b[33;43m\"\u001b[39;49m\u001b[43m,\u001b[49m\u001b[43m \u001b[49m\u001b[38;5;28;43;01mNone\u001b[39;49;00m\u001b[43m)\u001b[49m\u001b[43m,\u001b[49m\n\u001b[32m   1885\u001b[39m \u001b[43m    \u001b[49m\u001b[43mmemory_map\u001b[49m\u001b[43m=\u001b[49m\u001b[38;5;28;43mself\u001b[39;49m\u001b[43m.\u001b[49m\u001b[43moptions\u001b[49m\u001b[43m.\u001b[49m\u001b[43mget\u001b[49m\u001b[43m(\u001b[49m\u001b[33;43m\"\u001b[39;49m\u001b[33;43mmemory_map\u001b[39;49m\u001b[33;43m\"\u001b[39;49m\u001b[43m,\u001b[49m\u001b[43m \u001b[49m\u001b[38;5;28;43;01mFalse\u001b[39;49;00m\u001b[43m)\u001b[49m\u001b[43m,\u001b[49m\n\u001b[32m   1886\u001b[39m \u001b[43m    \u001b[49m\u001b[43mis_text\u001b[49m\u001b[43m=\u001b[49m\u001b[43mis_text\u001b[49m\u001b[43m,\u001b[49m\n\u001b[32m   1887\u001b[39m \u001b[43m    \u001b[49m\u001b[43merrors\u001b[49m\u001b[43m=\u001b[49m\u001b[38;5;28;43mself\u001b[39;49m\u001b[43m.\u001b[49m\u001b[43moptions\u001b[49m\u001b[43m.\u001b[49m\u001b[43mget\u001b[49m\u001b[43m(\u001b[49m\u001b[33;43m\"\u001b[39;49m\u001b[33;43mencoding_errors\u001b[39;49m\u001b[33;43m\"\u001b[39;49m\u001b[43m,\u001b[49m\u001b[43m \u001b[49m\u001b[33;43m\"\u001b[39;49m\u001b[33;43mstrict\u001b[39;49m\u001b[33;43m\"\u001b[39;49m\u001b[43m)\u001b[49m\u001b[43m,\u001b[49m\n\u001b[32m   1888\u001b[39m \u001b[43m    \u001b[49m\u001b[43mstorage_options\u001b[49m\u001b[43m=\u001b[49m\u001b[38;5;28;43mself\u001b[39;49m\u001b[43m.\u001b[49m\u001b[43moptions\u001b[49m\u001b[43m.\u001b[49m\u001b[43mget\u001b[49m\u001b[43m(\u001b[49m\u001b[33;43m\"\u001b[39;49m\u001b[33;43mstorage_options\u001b[39;49m\u001b[33;43m\"\u001b[39;49m\u001b[43m,\u001b[49m\u001b[43m \u001b[49m\u001b[38;5;28;43;01mNone\u001b[39;49;00m\u001b[43m)\u001b[49m\u001b[43m,\u001b[49m\n\u001b[32m   1889\u001b[39m \u001b[43m\u001b[49m\u001b[43m)\u001b[49m\n\u001b[32m   1890\u001b[39m \u001b[38;5;28;01massert\u001b[39;00m \u001b[38;5;28mself\u001b[39m.handles \u001b[38;5;129;01mis\u001b[39;00m \u001b[38;5;129;01mnot\u001b[39;00m \u001b[38;5;28;01mNone\u001b[39;00m\n\u001b[32m   1891\u001b[39m f = \u001b[38;5;28mself\u001b[39m.handles.handle\n",
      "\u001b[36mFile \u001b[39m\u001b[32m~/cbe154/cbe154/lib/python3.13/site-packages/pandas/io/common.py:873\u001b[39m, in \u001b[36mget_handle\u001b[39m\u001b[34m(path_or_buf, mode, encoding, compression, memory_map, is_text, errors, storage_options)\u001b[39m\n\u001b[32m    868\u001b[39m \u001b[38;5;28;01melif\u001b[39;00m \u001b[38;5;28misinstance\u001b[39m(handle, \u001b[38;5;28mstr\u001b[39m):\n\u001b[32m    869\u001b[39m     \u001b[38;5;66;03m# Check whether the filename is to be opened in binary mode.\u001b[39;00m\n\u001b[32m    870\u001b[39m     \u001b[38;5;66;03m# Binary mode does not support 'encoding' and 'newline'.\u001b[39;00m\n\u001b[32m    871\u001b[39m     \u001b[38;5;28;01mif\u001b[39;00m ioargs.encoding \u001b[38;5;129;01mand\u001b[39;00m \u001b[33m\"\u001b[39m\u001b[33mb\u001b[39m\u001b[33m\"\u001b[39m \u001b[38;5;129;01mnot\u001b[39;00m \u001b[38;5;129;01min\u001b[39;00m ioargs.mode:\n\u001b[32m    872\u001b[39m         \u001b[38;5;66;03m# Encoding\u001b[39;00m\n\u001b[32m--> \u001b[39m\u001b[32m873\u001b[39m         handle = \u001b[38;5;28;43mopen\u001b[39;49m\u001b[43m(\u001b[49m\n\u001b[32m    874\u001b[39m \u001b[43m            \u001b[49m\u001b[43mhandle\u001b[49m\u001b[43m,\u001b[49m\n\u001b[32m    875\u001b[39m \u001b[43m            \u001b[49m\u001b[43mioargs\u001b[49m\u001b[43m.\u001b[49m\u001b[43mmode\u001b[49m\u001b[43m,\u001b[49m\n\u001b[32m    876\u001b[39m \u001b[43m            \u001b[49m\u001b[43mencoding\u001b[49m\u001b[43m=\u001b[49m\u001b[43mioargs\u001b[49m\u001b[43m.\u001b[49m\u001b[43mencoding\u001b[49m\u001b[43m,\u001b[49m\n\u001b[32m    877\u001b[39m \u001b[43m            \u001b[49m\u001b[43merrors\u001b[49m\u001b[43m=\u001b[49m\u001b[43merrors\u001b[49m\u001b[43m,\u001b[49m\n\u001b[32m    878\u001b[39m \u001b[43m            \u001b[49m\u001b[43mnewline\u001b[49m\u001b[43m=\u001b[49m\u001b[33;43m\"\u001b[39;49m\u001b[33;43m\"\u001b[39;49m\u001b[43m,\u001b[49m\n\u001b[32m    879\u001b[39m \u001b[43m        \u001b[49m\u001b[43m)\u001b[49m\n\u001b[32m    880\u001b[39m     \u001b[38;5;28;01melse\u001b[39;00m:\n\u001b[32m    881\u001b[39m         \u001b[38;5;66;03m# Binary mode\u001b[39;00m\n\u001b[32m    882\u001b[39m         handle = \u001b[38;5;28mopen\u001b[39m(handle, ioargs.mode)\n",
      "\u001b[31mFileNotFoundError\u001b[39m: [Errno 2] No such file or directory: 'tubular_cross_data/tubular_counter_350c_300h - tubular_counter_350c_300h.csv'"
     ]
    }
   ],
   "source": [
    "df350h_350c = pd.read_csv('tube_counter_350h_350c.csv')\n",
    "df350h_350c = df350h_350c.iloc[3:].reset_index(drop=True)\n",
    "df350h_350c.columns = df350h_350c.iloc[0]\n",
    "\n",
    "# Remove the original first row (which is now the header)\n",
    "df350h_350c = df350h_350c[1:]\n",
    "\n",
    "\n",
    "df350h_350c.head()"
   ]
  },
  {
   "cell_type": "code",
   "execution_count": null,
   "metadata": {},
   "outputs": [],
   "source": [
    "tube_parallel_350h_350c = pd.read_csv('tube_parallel_350h_350c.csv')\n",
    "tube_parallel_350h_350c = tube_parallel_350h_350c.dropna().reset_index(drop=True)\n",
    "new_headers = tube_parallel_350h_350c.iloc[0]\n",
    "tube_parallel_350h_350c = tube_parallel_350h_350c[1:]\n",
    "tube_parallel_350h_350c.columns = new_headers\n",
    "tube_parallel_350h_350c.head()"
   ]
  },
  {
   "cell_type": "markdown",
   "metadata": {},
   "source": [
    "#### Define functions to grab hot and cold water temps"
   ]
  },
  {
   "cell_type": "markdown",
   "metadata": {},
   "source": [
    "def grab_hot_temps(df):\n",
    "    df = df.drop(columns=\"Time\")\n",
    "    #t_columns = [col for col in df.columns if col.startswith('T')]\n",
    "    #df = df[t_columns]\n",
    "    df = df.apply(pd.to_numeric, errors='coerce')\n",
    "    column_means_series = df.mean()\n",
    "    df = column_means_series.to_frame().T\n",
    "    columns_to_extract = [\n",
    "    \"T1 (°C)\",\n",
    "    \"T5 (°C)\",\n",
    "    \"T7 (°C)\",\n",
    "    \"T9 (°C)\",\n",
    "    \"T2 (°C)\"\n",
    "]\n",
    "    df = df[columns_to_extract]\n",
    "    first_row_series = df.iloc[0]\n",
    "    hot_temps = first_row_series.to_numpy()\n",
    "    return hot_temps\n",
    "\n",
    "def grab_cold_temps(df):\n",
    "    df = df.drop(columns=\"Time\")\n",
    "    #t_columns = [col for col in df.columns if col.startswith('T')]\n",
    "    #df = df[t_columns]\n",
    "    df = df.apply(pd.to_numeric, errors='coerce')\n",
    "    column_means_series = df.mean()\n",
    "    df = column_means_series.to_frame().T\n",
    "    columns_to_extract = [\n",
    "    \"T3 (°C)\",\n",
    "    \"T6 (°C)\",\n",
    "    \"T8 (°C)\",\n",
    "    \"T10 (°C)\",\n",
    "    \"T4 (°C)\"\n",
    "]\n",
    "    df = df[columns_to_extract]\n",
    "    first_row_series = df.iloc[0]\n",
    "    cold_temps = first_row_series.to_numpy()\n",
    "    return cold_temps"
   ]
  },
  {
   "cell_type": "markdown",
   "metadata": {},
   "source": [
    "Getting the temperatures\n"
   ]
  },
  {
   "cell_type": "code",
   "execution_count": null,
   "metadata": {},
   "outputs": [
    {
     "ename": "NameError",
     "evalue": "name 'grab_hot_temps' is not defined",
     "output_type": "error",
     "traceback": [
      "\u001b[31m---------------------------------------------------------------------------\u001b[39m",
      "\u001b[31mNameError\u001b[39m                                 Traceback (most recent call last)",
      "\u001b[36mCell\u001b[39m\u001b[36m \u001b[39m\u001b[32mIn[2224]\u001b[39m\u001b[32m, line 1\u001b[39m\n\u001b[32m----> \u001b[39m\u001b[32m1\u001b[39m HOT_counter = \u001b[43mgrab_hot_temps\u001b[49m(df350h_350c)\n\u001b[32m      2\u001b[39m COLD_counter = grab_cold_temps(df350h_350c)\n\u001b[32m      4\u001b[39m HOT_parallel = grab_hot_temps(tube_parallel_350h_350c)\n",
      "\u001b[31mNameError\u001b[39m: name 'grab_hot_temps' is not defined"
     ]
    }
   ],
   "source": [
    "HOT_counter = grab_hot_temps(df350h_350c)\n",
    "COLD_counter = grab_cold_temps(df350h_350c)\n",
    "\n",
    "HOT_parallel = grab_hot_temps(tube_parallel_350h_350c)\n",
    "COLD_parallel = grab_cold_temps(tube_parallel_350h_350c)\n",
    "print(HOT_parallel)\n",
    "print(COLD_parallel)\n",
    "df350h_350c"
   ]
  },
  {
   "cell_type": "code",
   "execution_count": null,
   "metadata": {},
   "outputs": [
    {
     "name": "stdout",
     "output_type": "stream",
     "text": [
      "[0.  0.8 1.6 2.4 3.2]\n"
     ]
    }
   ],
   "source": [
    "distances = np.array([0,800,800*2,800*3,800*4]) * (1/1000) #meters\n",
    "print(distances)"
   ]
  },
  {
   "cell_type": "code",
   "execution_count": null,
   "metadata": {},
   "outputs": [
    {
     "ename": "NameError",
     "evalue": "name 'HOT_parallel' is not defined",
     "output_type": "error",
     "traceback": [
      "\u001b[31m---------------------------------------------------------------------------\u001b[39m",
      "\u001b[31mNameError\u001b[39m                                 Traceback (most recent call last)",
      "\u001b[36mCell\u001b[39m\u001b[36m \u001b[39m\u001b[32mIn[2226]\u001b[39m\u001b[32m, line 3\u001b[39m\n\u001b[32m      1\u001b[39m plt.figure(figsize=(\u001b[32m10\u001b[39m, \u001b[32m8\u001b[39m))\n\u001b[32m----> \u001b[39m\u001b[32m3\u001b[39m plt.errorbar(distances, \u001b[43mHOT_parallel\u001b[49m, yerr=\u001b[32m0.28\u001b[39m, label=\u001b[33m'\u001b[39m\u001b[33mHot Water (Parallel)\u001b[39m\u001b[33m'\u001b[39m, \n\u001b[32m      4\u001b[39m              fmt=\u001b[33m'\u001b[39m\u001b[33m^\u001b[39m\u001b[33m'\u001b[39m, color=\u001b[33m\"\u001b[39m\u001b[33mblack\u001b[39m\u001b[33m\"\u001b[39m, capsize=\u001b[32m3\u001b[39m, ecolor=\u001b[33m'\u001b[39m\u001b[33mgray\u001b[39m\u001b[33m'\u001b[39m)\n\u001b[32m      5\u001b[39m plt.errorbar(distances, COLD_parallel, yerr=\u001b[32m0.28\u001b[39m, label=\u001b[33m'\u001b[39m\u001b[33mCold Water (Parallel)\u001b[39m\u001b[33m'\u001b[39m, \n\u001b[32m      6\u001b[39m              fmt=\u001b[33m'\u001b[39m\u001b[33mo\u001b[39m\u001b[33m'\u001b[39m, color=\u001b[33m\"\u001b[39m\u001b[33mblack\u001b[39m\u001b[33m\"\u001b[39m, capsize=\u001b[32m3\u001b[39m, ecolor=\u001b[33m'\u001b[39m\u001b[33mgray\u001b[39m\u001b[33m'\u001b[39m)\n\u001b[32m      8\u001b[39m \u001b[38;5;66;03m# Add labels and title\u001b[39;00m\n",
      "\u001b[31mNameError\u001b[39m: name 'HOT_parallel' is not defined"
     ]
    },
    {
     "data": {
      "text/plain": [
       "<Figure size 1000x800 with 0 Axes>"
      ]
     },
     "metadata": {},
     "output_type": "display_data"
    }
   ],
   "source": [
    "plt.figure(figsize=(10, 8))\n",
    "\n",
    "plt.errorbar(distances, HOT_parallel, yerr=0.28, label='Hot Water (Parallel)', \n",
    "             fmt='^', color=\"black\", capsize=3, ecolor='gray')\n",
    "plt.errorbar(distances, COLD_parallel, yerr=0.28, label='Cold Water (Parallel)', \n",
    "             fmt='o', color=\"black\", capsize=3, ecolor='gray')\n",
    "\n",
    "# Add labels and title\n",
    "plt.xlabel('Position Along Length of Exchanger (m)', fontsize=16)\n",
    "plt.ylabel('Temperature (°C)', fontsize=16)\n",
    "plt.title('Hot and Cold Water Temperature Profiles for Parallel Flow', fontsize=18)\n",
    "\n",
    "# Add a legend\n",
    "plt.legend()\n",
    "\n",
    "# Explicitly turn off grid\n",
    "plt.grid(False)\n",
    "\n",
    "# Show the plot\n",
    "plt.tight_layout()\n",
    "plt.show()"
   ]
  },
  {
   "cell_type": "code",
   "execution_count": null,
   "metadata": {},
   "outputs": [],
   "source": [
    "plt.figure(figsize=(10, 8))\n",
    "\n",
    "plt.errorbar(distances, HOT_counter, yerr=0.28, label='Hot Water (Counter)', \n",
    "             fmt='^', color=\"black\", capsize=3, ecolor='gray')\n",
    "plt.errorbar(distances, COLD_counter, yerr=0.28, label='Cold Water (Counter)', \n",
    "             fmt='o', color=\"black\", capsize=3, ecolor='gray')\n",
    "\n",
    "# Add labels and title\n",
    "plt.xlabel('Position Along Length of Exchanger (m)', fontsize=16)\n",
    "plt.ylabel('Temperature (°C)', fontsize=16)\n",
    "plt.title('Hot and Cold Water Temperature Profiles for Counter Flow', fontsize=18)\n",
    "\n",
    "# Add a legend\n",
    "plt.legend()\n",
    "\n",
    "# Explicitly turn off grid\n",
    "plt.grid(False)\n",
    "\n",
    "# Show the plot\n",
    "plt.tight_layout()\n",
    "plt.show()"
   ]
  },
  {
   "cell_type": "markdown",
   "metadata": {},
   "source": [
    "### Part (b)\n",
    "Derive the theoretical temperature profiles for both configurations based on energy\n",
    "balances and assumptions such as negligible heat loss, steady-state operation, and\n",
    "uniform flow conditions.\n",
    "\n",
    "#### Assumptions\n",
    "- Negligible heat loss: Perfect insulation (No heat exchanged with surroundings)\n",
    "- Steady-state\n",
    "- Uniform flow conditions: Fluid velocity and temperature are uniform across any given cross section\n",
    "- Constant specific heats $(c_p)$ remain constant over the temperature range\n",
    "\n",
    "#### Energy Balance\n",
    "\n",
    "Hot fluid:\n",
    "\n",
    "$dq = -\\dot m_h c_{p,h} dT_h$ (Eqn. 1)\n",
    "\n",
    "Cold fluid:\n",
    "\n",
    "$dq = \\pm \\dot m_c c_{p,c} dT_c$ (Eqn. 2)\n",
    "\n",
    "where + is parallel and - is counter\n",
    "\n",
    "Newton's law of cooling:\n",
    "\n",
    "$dq = U(T_h-T_c)dA = U(T_h - T_c)Pdx$ (Eqn. 3)\n",
    "\n",
    "where dA is the differential heat transfer area and P is the tube perimeter\n",
    "#### Parallel Flow\n",
    "#### Combine (1), (2), (3)\n",
    "\n",
    "$\\frac{d}{dx}(T_h - T_c) = -UP(\\frac{1}{\\dot m_h c_{p,h}} + \\frac{1}{\\dot m_c c_[p,c]}(T_h - T_c)$ (Eqn. 4)\n",
    "\n",
    "$\\Delta T(x) = T_h(x) - T_c(x) \\implies \\frac{d(\\Delta T)}{dx} = -(\\frac{UP}{C_R})\\Delta T$ (Eqn. 5)\n",
    "\n",
    "where\n",
    "\n",
    "$\\frac{1}{C_R} = \\frac{1}{\\dot m_h c_{p_h}}+ \\frac{1}{\\dot m_c c_{p,c}}$ (Eqn. 6)\n",
    "\n",
    "#### Integrate to obtain temperature profile for parallel flow\n",
    "\n",
    "$\\Delta T = (T_{h,i}-T_{c,i}) e^{\\frac{UPx}{C_R}}$ (Eqn. 8)\n",
    "\n",
    "#### Counter Flow\n",
    "The boundary conditions change.\n",
    "\n",
    "$(\\Delta T)_0 = T_{h,i} - T_{c,o}$\n",
    "\n",
    "$\\Delta T(L) = T_{h,o} - T_{c,i}$\n",
    "\n",
    "#### Derived temperature profile for counter flow\n",
    "\n",
    "$\\Delta T = (T_{h,i}-T_{c,o}) e^{\\frac{UPx}{C_R}}$ (Eqn. 8)}$"
   ]
  },
  {
   "cell_type": "markdown",
   "metadata": {},
   "source": [
    "### Part (c)\n",
    "\n",
    "Compare the theoretical temperature profiles with the experimentally obtained\n",
    "results, highlighting any deviations and their possible causes.ns"
   ]
  },
  {
   "cell_type": "markdown",
   "metadata": {},
   "source": [
    "#### Experimental temperature difference profile"
   ]
  },
  {
   "cell_type": "code",
   "execution_count": null,
   "metadata": {},
   "outputs": [
    {
     "ename": "NameError",
     "evalue": "name 'HOT_parallel' is not defined",
     "output_type": "error",
     "traceback": [
      "\u001b[31m---------------------------------------------------------------------------\u001b[39m",
      "\u001b[31mNameError\u001b[39m                                 Traceback (most recent call last)",
      "\u001b[36mCell\u001b[39m\u001b[36m \u001b[39m\u001b[32mIn[2227]\u001b[39m\u001b[32m, line 3\u001b[39m\n\u001b[32m      1\u001b[39m plt.figure(figsize=(\u001b[32m5\u001b[39m,\u001b[32m5\u001b[39m))\n\u001b[32m----> \u001b[39m\u001b[32m3\u001b[39m plt.errorbar(distances, \u001b[43mHOT_parallel\u001b[49m - COLD_parallel, yerr=\u001b[32m0.28\u001b[39m, label=\u001b[33m'\u001b[39m\u001b[33m$\u001b[39m\u001b[33m\\\u001b[39m\u001b[33mDelta T$\u001b[39m\u001b[33m'\u001b[39m, \n\u001b[32m      4\u001b[39m              fmt=\u001b[33m'\u001b[39m\u001b[33m^\u001b[39m\u001b[33m'\u001b[39m, color=\u001b[33m\"\u001b[39m\u001b[33mblack\u001b[39m\u001b[33m\"\u001b[39m, capsize=\u001b[32m3\u001b[39m, ecolor=\u001b[33m'\u001b[39m\u001b[33mgray\u001b[39m\u001b[33m'\u001b[39m)\n\u001b[32m      6\u001b[39m \u001b[38;5;66;03m# Add labels and title\u001b[39;00m\n\u001b[32m      7\u001b[39m plt.xlabel(\u001b[33m'\u001b[39m\u001b[33mPosition Along Length of Exchanger (m)\u001b[39m\u001b[33m'\u001b[39m, fontsize=\u001b[32m16\u001b[39m)\n",
      "\u001b[31mNameError\u001b[39m: name 'HOT_parallel' is not defined"
     ]
    },
    {
     "data": {
      "text/plain": [
       "<Figure size 500x500 with 0 Axes>"
      ]
     },
     "metadata": {},
     "output_type": "display_data"
    }
   ],
   "source": [
    "plt.figure(figsize=(5,5))\n",
    "\n",
    "plt.errorbar(distances, HOT_parallel - COLD_parallel, yerr=0.28, label='$\\Delta T$', \n",
    "             fmt='^', color=\"black\", capsize=3, ecolor='gray')\n",
    "\n",
    "# Add labels and title\n",
    "plt.xlabel('Position Along Length of Exchanger (m)', fontsize=16)\n",
    "plt.ylabel('Temperature Difference (°C)', fontsize=16)\n",
    "plt.title('Temperature Difference Profile for Parallel Flow', fontsize=18)\n",
    "\n",
    "# Add a legend\n",
    "plt.legend()\n",
    "\n",
    "# Explicitly turn off grid\n",
    "plt.grid(False)\n",
    "\n",
    "# Show the plot\n",
    "plt.tight_layout()\n",
    "plt.show()"
   ]
  },
  {
   "cell_type": "code",
   "execution_count": null,
   "metadata": {},
   "outputs": [
    {
     "ename": "NameError",
     "evalue": "name 'HOT_counter' is not defined",
     "output_type": "error",
     "traceback": [
      "\u001b[31m---------------------------------------------------------------------------\u001b[39m",
      "\u001b[31mNameError\u001b[39m                                 Traceback (most recent call last)",
      "\u001b[36mCell\u001b[39m\u001b[36m \u001b[39m\u001b[32mIn[2228]\u001b[39m\u001b[32m, line 3\u001b[39m\n\u001b[32m      1\u001b[39m plt.figure(figsize=(\u001b[32m5\u001b[39m,\u001b[32m5\u001b[39m))\n\u001b[32m----> \u001b[39m\u001b[32m3\u001b[39m plt.errorbar(distances, \u001b[43mHOT_counter\u001b[49m - COLD_counter, yerr=\u001b[32m0.28\u001b[39m, label=\u001b[33m'\u001b[39m\u001b[33m$\u001b[39m\u001b[33m\\\u001b[39m\u001b[33mDelta T$\u001b[39m\u001b[33m'\u001b[39m, \n\u001b[32m      4\u001b[39m              fmt=\u001b[33m'\u001b[39m\u001b[33mo\u001b[39m\u001b[33m'\u001b[39m, color=\u001b[33m\"\u001b[39m\u001b[33mblack\u001b[39m\u001b[33m\"\u001b[39m, capsize=\u001b[32m3\u001b[39m, ecolor=\u001b[33m'\u001b[39m\u001b[33mgray\u001b[39m\u001b[33m'\u001b[39m)\n\u001b[32m      6\u001b[39m \u001b[38;5;66;03m# Add labels and title\u001b[39;00m\n\u001b[32m      7\u001b[39m plt.xlabel(\u001b[33m'\u001b[39m\u001b[33mPosition Along Length of Exchanger (m)\u001b[39m\u001b[33m'\u001b[39m, fontsize=\u001b[32m16\u001b[39m)\n",
      "\u001b[31mNameError\u001b[39m: name 'HOT_counter' is not defined"
     ]
    },
    {
     "data": {
      "text/plain": [
       "<Figure size 500x500 with 0 Axes>"
      ]
     },
     "metadata": {},
     "output_type": "display_data"
    }
   ],
   "source": [
    "plt.figure(figsize=(5,5))\n",
    "\n",
    "plt.errorbar(distances, HOT_counter - COLD_counter, yerr=0.28, label='$\\Delta T$', \n",
    "             fmt='o', color=\"black\", capsize=3, ecolor='gray')\n",
    "\n",
    "# Add labels and title\n",
    "plt.xlabel('Position Along Length of Exchanger (m)', fontsize=16)\n",
    "plt.ylabel('Temperature Difference (°C)', fontsize=16)\n",
    "plt.title('Hot and Cold Water Temperature Profiles for Counter Flow', fontsize=18)\n",
    "\n",
    "# Add a legend\n",
    "plt.legend()\n",
    "\n",
    "# Explicitly turn off grid\n",
    "plt.grid(False)\n",
    "\n",
    "# Show the plot\n",
    "plt.tight_layout()\n",
    "plt.show()"
   ]
  },
  {
   "cell_type": "code",
   "execution_count": null,
   "metadata": {},
   "outputs": [],
   "source": [
    "def Delta_T_parallel(T_hi, T_ci, U, P, x, C_R):\n",
    "    return (T_hi-T_ci)*np.exp((-U*P*x)/C_R)\n",
    "\n",
    "def Delta_T_counter(T_hi, T_co, U, P, x, C_R):\n",
    "    return (T_hi-T_co)*np.exp((U*P*x)/C_R)"
   ]
  },
  {
   "cell_type": "code",
   "execution_count": null,
   "metadata": {},
   "outputs": [],
   "source": [
    "C = 350/1000 * c_p\n",
    "C_R = (2/C)**-1\n",
    "\n",
    "P = np.pi * 0.013\n",
    "C_R"
   ]
  },
  {
   "cell_type": "code",
   "execution_count": null,
   "metadata": {},
   "outputs": [],
   "source": [
    "print(HOT_parallel)\n",
    "print(COLD_parallel)\n",
    "print(HOT_counter)\n",
    "print(COLD_counter)"
   ]
  },
  {
   "cell_type": "code",
   "execution_count": null,
   "metadata": {},
   "outputs": [],
   "source": [
    "Delta_T_pal = Delta_T_parallel(42.622,19.654,7442.785525320217,P,distances,C_R)\n",
    "Delta_T_con = Delta_T_counter(32.816, 30.006, 8014, P, distances, C_R)\n",
    "print(Delta_T_pal)\n",
    "print(Delta_T_con)"
   ]
  },
  {
   "cell_type": "code",
   "execution_count": null,
   "metadata": {},
   "outputs": [],
   "source": [
    "plt.figure(figsize=(5,5))\n",
    "\n",
    "plt.errorbar(distances, Delta_T_pal, yerr=0.28, label='Theoretical', \n",
    "             fmt='o', color=\"black\", capsize=3, ecolor='gray')\n",
    "plt.errorbar(distances, HOT_parallel - COLD_parallel, yerr=0.28, label='Experimental', \n",
    "             fmt='^', color=\"black\", capsize=3, ecolor='gray')\n",
    "\n",
    "# Add labels and title\n",
    "plt.xlabel('Position Along Length of Exchanger (m)', fontsize=16)\n",
    "plt.ylabel('Temperature Difference (°C)', fontsize=16)\n",
    "plt.title('Experimental vs Theoretical Temperature Difference Profile for Parallel Flow', fontsize=18)\n",
    "\n",
    "# Add a legend\n",
    "plt.legend()\n",
    "\n",
    "# Explicitly turn off grid\n",
    "plt.grid(False)\n",
    "\n",
    "# Show the plot\n",
    "plt.tight_layout()\n",
    "plt.show()"
   ]
  },
  {
   "cell_type": "code",
   "execution_count": null,
   "metadata": {},
   "outputs": [],
   "source": [
    "plt.figure(figsize=(5,5))\n",
    "\n",
    "plt.errorbar(distances, Delta_T_con, yerr=0.28, label='Theoretical', \n",
    "             fmt='o', color=\"black\", capsize=3, ecolor='gray')\n",
    "\n",
    "plt.errorbar(distances, HOT_counter - COLD_counter, yerr=0.28, label='Experimental', \n",
    "              fmt='^', color=\"black\", capsize=3, ecolor='gray')\n",
    "\n",
    "# Add labels and title\n",
    "plt.xlabel('Position Along Length of Exchanger (m)', fontsize=16)\n",
    "plt.ylabel('Temperature Difference (°C)', fontsize=16)\n",
    "plt.title('Experimental vs Theoretical Temperature Difference for Counter Flow', fontsize=18)\n",
    "\n",
    "# Add a legend\n",
    "plt.legend()\n",
    "\n",
    "# Explicitly turn off grid\n",
    "plt.grid(False)\n",
    "\n",
    "# Show the plot\n",
    "plt.tight_layout()\n",
    "plt.show()"
   ]
  }
 ],
 "metadata": {
  "kernelspec": {
   "display_name": "cbe154",
   "language": "python",
   "name": "python3"
  },
  "language_info": {
   "codemirror_mode": {
    "name": "ipython",
    "version": 3
   },
   "file_extension": ".py",
   "mimetype": "text/x-python",
   "name": "python",
   "nbconvert_exporter": "python",
   "pygments_lexer": "ipython3",
   "version": "3.13.2"
  }
 },
 "nbformat": 4,
 "nbformat_minor": 2
}
