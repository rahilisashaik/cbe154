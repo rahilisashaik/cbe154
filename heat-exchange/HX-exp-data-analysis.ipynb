{
 "cells": [
  {
   "cell_type": "markdown",
   "metadata": {},
   "source": [
    "# Heat Exchange Experimental Data Analysis\n",
    "Presented by Rahil Shaik, Alex Quemel, Ethan Mibu, Sneha Kancharla"
   ]
  },
  {
   "cell_type": "code",
   "execution_count": 222,
   "metadata": {},
   "outputs": [],
   "source": [
    "import pandas as pd\n",
    "import numpy as np\n",
    "import matplotlib.pyplot as plt\n",
    "\n",
    "import warnings\n",
    "warnings.filterwarnings(\"ignore\")"
   ]
  },
  {
   "cell_type": "markdown",
   "metadata": {},
   "source": [
    "## Pre-processing"
   ]
  },
  {
   "cell_type": "code",
   "execution_count": 223,
   "metadata": {},
   "outputs": [],
   "source": [
    "df_shell_cc = pd.read_csv(\"data/MW1_Shell_Counter_Current_formatted.csv\")\n",
    "df_shell_uni = pd.read_csv(\"data/MW1_Shell_Uni_Flow_formatted.csv\")\n",
    "\n",
    "df_tube_cross_350c_200h = pd.read_csv(\"data/tubular_cross_data/tubular_cross_350c_200h - tubular_counter_350c_300h.csv\")\n",
    "df_tube_cross_350c_300h = pd.read_csv(\"data/tubular_cross_data/tubular_counter_350c_300h - tubular_counter_350c_300h.csv\")\n",
    "df_tube_cross_350c_350h = pd.read_csv(\"data/tubular_cross_data/tubular_counter_350c_350h - tubular_counter_350c_350h.csv\")\n",
    "df_tube_cross_350c_400h = pd.read_csv(\"data/tubular_cross_data/tubular_counter_350c_400h - tubular_counter_350c_400h.csv\")\n",
    "\n",
    "df_tube_cross_350h_200c = pd.read_csv(\"data/tubular_cross_data/tubular_cross_350h_200c - tubular_counter_350c_200h.csv\")\n",
    "df_tube_cross_350h_300c = pd.read_csv(\"data/tubular_cross_data/tubular_cross_350h_300c - WL315C_2025-01-30_14-58-01.csv\")\n",
    "df_tube_cross_350h_350c = pd.read_csv(\"data/tubular_cross_data/tubular_cross_350h_350c - WL315C_2025-01-30_14-59-40.csv\")\n",
    "df_tube_cross_350h_400c = pd.read_csv(\"data/tubular_cross_data/tubular_cross_350h_400c - WL315C_2025-01-30_15-05-57.csv\")\n",
    "\n",
    "df_plate_cc = pd.read_csv(\"data/plate_counter_extra.csv\")\n",
    "df_plate_uni = pd.read_csv(\"data/plate_parallel_extra.csv\")\n",
    "\n",
    "df_water_air_cc = pd.read_csv(\"data/finned_counter_extra.csv\")\n",
    "df_water_air_uni = pd.read_csv(\"data/finned_parallel_extra.csv\")"
   ]
  },
  {
   "cell_type": "code",
   "execution_count": 224,
   "metadata": {},
   "outputs": [],
   "source": [
    "df_tube_cross_350c_200h[\"hot flow (L/hr)\"] = 200\n",
    "df_tube_cross_350c_200h[\"cold flow (L/hr)\"] = 350\n",
    "\n",
    "df_tube_cross_350c_300h[\"hot flow (L/hr)\"] = 300\n",
    "df_tube_cross_350c_300h[\"cold flow (L/hr)\"] = 350\n",
    "\n",
    "df_tube_cross_350c_350h[\"hot flow (L/hr)\"] = 350\n",
    "df_tube_cross_350c_350h[\"cold flow (L/hr)\"] = 350\n",
    "\n",
    "df_tube_cross_350c_400h[\"hot flow (L/hr)\"] = 400\n",
    "df_tube_cross_350c_400h[\"cold flow (L/hr)\"] = 350\n",
    "\n",
    "df_tube_cross_350h_200c[\"hot flow (L/hr)\"] = 350\n",
    "df_tube_cross_350h_200c[\"cold flow (L/hr)\"] = 200\n",
    "\n",
    "df_tube_cross_350h_300c[\"hot flow (L/hr)\"] = 350\n",
    "df_tube_cross_350h_300c[\"cold flow (L/hr)\"] = 300\n",
    "\n",
    "df_tube_cross_350h_350c[\"hot flow (L/hr)\"] = 350\n",
    "df_tube_cross_350h_350c[\"cold flow (L/hr)\"] = 350\n",
    "\n",
    "df_tube_cross_350h_400c[\"hot flow (L/hr)\"] = 350\n",
    "df_tube_cross_350h_400c[\"cold flow (L/hr)\"] = 400\n"
   ]
  },
  {
   "cell_type": "code",
   "execution_count": 225,
   "metadata": {},
   "outputs": [],
   "source": [
    "df_tube_cross_350c_200h[\"hot flow (m^3/s)\"] = df_tube_cross_350c_200h[\"hot flow (L/hr)\"] / (1000 * 3600)\n",
    "df_tube_cross_350c_200h[\"cold flow (m^3/s)\"] = df_tube_cross_350c_200h[\"cold flow (L/hr)\"] / (1000 * 3600)\n",
    "\n",
    "df_tube_cross_350c_300h[\"hot flow (m^3/s)\"] = df_tube_cross_350c_300h[\"hot flow (L/hr)\"] / (1000 * 3600)\n",
    "df_tube_cross_350c_300h[\"cold flow (m^3/s)\"] = df_tube_cross_350c_300h[\"cold flow (L/hr)\"] / (1000 * 3600)\n",
    "\n",
    "df_tube_cross_350c_350h[\"hot flow (m^3/s)\"] = df_tube_cross_350c_350h[\"hot flow (L/hr)\"] / (1000 * 3600)\n",
    "df_tube_cross_350c_350h[\"cold flow (m^3/s)\"] = df_tube_cross_350c_350h[\"cold flow (L/hr)\"] / (1000 * 3600)\n",
    "\n",
    "df_tube_cross_350c_400h[\"hot flow (m^3/s)\"] = df_tube_cross_350c_400h[\"hot flow (L/hr)\"] / (1000 * 3600)\n",
    "df_tube_cross_350c_400h[\"cold flow (m^3/s)\"] = df_tube_cross_350c_400h[\"cold flow (L/hr)\"] / (1000 * 3600)\n",
    "\n",
    "df_tube_cross_350h_200c[\"hot flow (m^3/s)\"] = df_tube_cross_350h_200c[\"hot flow (L/hr)\"] / (1000 * 3600)\n",
    "df_tube_cross_350h_200c[\"cold flow (m^3/s)\"] = df_tube_cross_350h_200c[\"cold flow (L/hr)\"] / (1000 * 3600)\n",
    "\n",
    "df_tube_cross_350h_300c[\"hot flow (m^3/s)\"] = df_tube_cross_350h_300c[\"hot flow (L/hr)\"] / (1000 * 3600)\n",
    "df_tube_cross_350h_300c[\"cold flow (m^3/s)\"] = df_tube_cross_350h_300c[\"cold flow (L/hr)\"] / (1000 * 3600)\n",
    "\n",
    "df_tube_cross_350h_350c[\"hot flow (m^3/s)\"] = df_tube_cross_350h_350c[\"hot flow (L/hr)\"] / (1000 * 3600)\n",
    "df_tube_cross_350h_350c[\"cold flow (m^3/s)\"] = df_tube_cross_350h_350c[\"cold flow (L/hr)\"] / (1000 * 3600)\n",
    "\n",
    "df_tube_cross_350h_400c[\"hot flow (m^3/s)\"] = df_tube_cross_350h_400c[\"hot flow (L/hr)\"] / (1000 * 3600)\n",
    "df_tube_cross_350h_400c[\"cold flow (m^3/s)\"] = df_tube_cross_350h_400c[\"cold flow (L/hr)\"] / (1000 * 3600)\n"
   ]
  },
  {
   "cell_type": "code",
   "execution_count": 226,
   "metadata": {},
   "outputs": [],
   "source": [
    "dfs = [df_tube_cross_350c_200h, df_tube_cross_350c_300h, df_tube_cross_350c_350h, df_tube_cross_350c_400h,\n",
    "       df_tube_cross_350h_200c, df_tube_cross_350h_300c, df_tube_cross_350h_350c, df_tube_cross_350h_400c ]"
   ]
  },
  {
   "cell_type": "code",
   "execution_count": 227,
   "metadata": {},
   "outputs": [
    {
     "data": {
      "text/html": [
       "<div>\n",
       "<style scoped>\n",
       "    .dataframe tbody tr th:only-of-type {\n",
       "        vertical-align: middle;\n",
       "    }\n",
       "\n",
       "    .dataframe tbody tr th {\n",
       "        vertical-align: top;\n",
       "    }\n",
       "\n",
       "    .dataframe thead th {\n",
       "        text-align: right;\n",
       "    }\n",
       "</style>\n",
       "<table border=\"1\" class=\"dataframe\">\n",
       "  <thead>\n",
       "    <tr style=\"text-align: right;\">\n",
       "      <th></th>\n",
       "      <th>Time</th>\n",
       "      <th>T1 (°C)</th>\n",
       "      <th>T2 (°C)</th>\n",
       "      <th>T3 (°C)</th>\n",
       "      <th>T4 (°C)</th>\n",
       "      <th>T5 (°C)</th>\n",
       "      <th>T6 (°C)</th>\n",
       "      <th>T7 (°C)</th>\n",
       "      <th>T8 (°C)</th>\n",
       "      <th>T9 (°C)</th>\n",
       "      <th>T10 (°C)</th>\n",
       "      <th>dp1 (mbar)</th>\n",
       "      <th>dp2 (mbar)</th>\n",
       "      <th>dQ1/dt (kW)</th>\n",
       "      <th>dQ2/dt (kW)</th>\n",
       "      <th>dQ3/dt (kW)</th>\n",
       "      <th>dQm/dt (kW)</th>\n",
       "      <th>hot flow (L/hr)</th>\n",
       "      <th>cold flow (L/hr)</th>\n",
       "      <th>hot flow (m^3/s)</th>\n",
       "      <th>cold flow (m^3/s)</th>\n",
       "    </tr>\n",
       "  </thead>\n",
       "  <tbody>\n",
       "    <tr>\n",
       "      <th>0</th>\n",
       "      <td>2/13/2025 4:29:46 PM.43</td>\n",
       "      <td>31.6</td>\n",
       "      <td>100</td>\n",
       "      <td>20.2</td>\n",
       "      <td>29.2</td>\n",
       "      <td>34.3</td>\n",
       "      <td>22</td>\n",
       "      <td>36.5</td>\n",
       "      <td>24.5</td>\n",
       "      <td>39.2</td>\n",
       "      <td>26.6</td>\n",
       "      <td>0.09</td>\n",
       "      <td>8</td>\n",
       "      <td>-23.72</td>\n",
       "      <td>3.64</td>\n",
       "      <td>0</td>\n",
       "      <td>13.68</td>\n",
       "      <td>200</td>\n",
       "      <td>350</td>\n",
       "      <td>0.000056</td>\n",
       "      <td>0.000097</td>\n",
       "    </tr>\n",
       "    <tr>\n",
       "      <th>1</th>\n",
       "      <td>2/13/2025 4:29:46 PM.93</td>\n",
       "      <td>31.6</td>\n",
       "      <td>100</td>\n",
       "      <td>20.2</td>\n",
       "      <td>29.2</td>\n",
       "      <td>34.3</td>\n",
       "      <td>22</td>\n",
       "      <td>36.5</td>\n",
       "      <td>24.5</td>\n",
       "      <td>39.2</td>\n",
       "      <td>26.6</td>\n",
       "      <td>0.09</td>\n",
       "      <td>9</td>\n",
       "      <td>-23.85</td>\n",
       "      <td>3.63</td>\n",
       "      <td>0</td>\n",
       "      <td>13.74</td>\n",
       "      <td>200</td>\n",
       "      <td>350</td>\n",
       "      <td>0.000056</td>\n",
       "      <td>0.000097</td>\n",
       "    </tr>\n",
       "    <tr>\n",
       "      <th>2</th>\n",
       "      <td>2/13/2025 4:29:47 PM.43</td>\n",
       "      <td>31.6</td>\n",
       "      <td>100</td>\n",
       "      <td>20.2</td>\n",
       "      <td>29.2</td>\n",
       "      <td>34.3</td>\n",
       "      <td>22</td>\n",
       "      <td>36.5</td>\n",
       "      <td>24.6</td>\n",
       "      <td>39.2</td>\n",
       "      <td>26.5</td>\n",
       "      <td>0.10</td>\n",
       "      <td>9</td>\n",
       "      <td>-23.81</td>\n",
       "      <td>3.66</td>\n",
       "      <td>0</td>\n",
       "      <td>13.74</td>\n",
       "      <td>200</td>\n",
       "      <td>350</td>\n",
       "      <td>0.000056</td>\n",
       "      <td>0.000097</td>\n",
       "    </tr>\n",
       "    <tr>\n",
       "      <th>3</th>\n",
       "      <td>2/13/2025 4:29:47 PM.93</td>\n",
       "      <td>31.6</td>\n",
       "      <td>100</td>\n",
       "      <td>20.2</td>\n",
       "      <td>29.2</td>\n",
       "      <td>34.3</td>\n",
       "      <td>22</td>\n",
       "      <td>36.5</td>\n",
       "      <td>24.5</td>\n",
       "      <td>39.2</td>\n",
       "      <td>26.6</td>\n",
       "      <td>0.10</td>\n",
       "      <td>8</td>\n",
       "      <td>-23.96</td>\n",
       "      <td>3.65</td>\n",
       "      <td>0</td>\n",
       "      <td>13.81</td>\n",
       "      <td>200</td>\n",
       "      <td>350</td>\n",
       "      <td>0.000056</td>\n",
       "      <td>0.000097</td>\n",
       "    </tr>\n",
       "    <tr>\n",
       "      <th>4</th>\n",
       "      <td>2/13/2025 4:29:48 PM.43</td>\n",
       "      <td>31.6</td>\n",
       "      <td>100</td>\n",
       "      <td>20.2</td>\n",
       "      <td>29.2</td>\n",
       "      <td>34.3</td>\n",
       "      <td>22</td>\n",
       "      <td>36.5</td>\n",
       "      <td>24.5</td>\n",
       "      <td>39.2</td>\n",
       "      <td>26.6</td>\n",
       "      <td>0.10</td>\n",
       "      <td>8</td>\n",
       "      <td>-23.95</td>\n",
       "      <td>3.63</td>\n",
       "      <td>0</td>\n",
       "      <td>13.79</td>\n",
       "      <td>200</td>\n",
       "      <td>350</td>\n",
       "      <td>0.000056</td>\n",
       "      <td>0.000097</td>\n",
       "    </tr>\n",
       "  </tbody>\n",
       "</table>\n",
       "</div>"
      ],
      "text/plain": [
       "                      Time  T1 (°C)  T2 (°C)  T3 (°C)  T4 (°C)  T5 (°C)  \\\n",
       "0  2/13/2025 4:29:46 PM.43     31.6      100     20.2     29.2     34.3   \n",
       "1  2/13/2025 4:29:46 PM.93     31.6      100     20.2     29.2     34.3   \n",
       "2  2/13/2025 4:29:47 PM.43     31.6      100     20.2     29.2     34.3   \n",
       "3  2/13/2025 4:29:47 PM.93     31.6      100     20.2     29.2     34.3   \n",
       "4  2/13/2025 4:29:48 PM.43     31.6      100     20.2     29.2     34.3   \n",
       "\n",
       "   T6 (°C)  T7 (°C)  T8 (°C)  T9 (°C)  T10 (°C)  dp1 (mbar)  dp2 (mbar)  \\\n",
       "0       22     36.5     24.5     39.2      26.6        0.09           8   \n",
       "1       22     36.5     24.5     39.2      26.6        0.09           9   \n",
       "2       22     36.5     24.6     39.2      26.5        0.10           9   \n",
       "3       22     36.5     24.5     39.2      26.6        0.10           8   \n",
       "4       22     36.5     24.5     39.2      26.6        0.10           8   \n",
       "\n",
       "   dQ1/dt (kW)  dQ2/dt (kW)  dQ3/dt (kW)  dQm/dt (kW)  hot flow (L/hr)  \\\n",
       "0       -23.72         3.64            0        13.68              200   \n",
       "1       -23.85         3.63            0        13.74              200   \n",
       "2       -23.81         3.66            0        13.74              200   \n",
       "3       -23.96         3.65            0        13.81              200   \n",
       "4       -23.95         3.63            0        13.79              200   \n",
       "\n",
       "   cold flow (L/hr)  hot flow (m^3/s)  cold flow (m^3/s)  \n",
       "0               350          0.000056           0.000097  \n",
       "1               350          0.000056           0.000097  \n",
       "2               350          0.000056           0.000097  \n",
       "3               350          0.000056           0.000097  \n",
       "4               350          0.000056           0.000097  "
      ]
     },
     "execution_count": 227,
     "metadata": {},
     "output_type": "execute_result"
    }
   ],
   "source": [
    "df_tube_cross_350c_200h.head(5)"
   ]
  },
  {
   "cell_type": "markdown",
   "metadata": {},
   "source": [
    "## Analysis Question 1\n",
    "\n",
    "Experimentally determine the overall heat transfer coefficient (U) and effectiveness (ε) of\n",
    "each of the four heat exchangers under identical conditions.\n",
    "\n",
    "#### Quantity Functions"
   ]
  },
  {
   "cell_type": "code",
   "execution_count": 228,
   "metadata": {},
   "outputs": [],
   "source": [
    "shell_parallel = pd.read_csv('q1/shell_parallel.csv')\n",
    "shell_counter = pd.read_csv('q1/shell_counter.csv')\n",
    "plate_parallel = pd.read_csv('q1/plate_parallel_extra.csv')\n",
    "plate_counter = pd.read_csv('q1/plate_counter_extra.csv')\n",
    "tube_parallel = pd.read_csv('q1/tube_parallel.csv')\n",
    "tube_counter = pd.read_csv('q1/tube_counter.csv')\n",
    "finned_parallel = pd.read_csv('q1/finned_parallel_extra.csv')\n",
    "finned_counter = pd.read_csv('q1/finned_counter_extra.csv')"
   ]
  },
  {
   "cell_type": "code",
   "execution_count": 229,
   "metadata": {},
   "outputs": [],
   "source": [
    "def cleaner(df):\n",
    "    df = df.dropna(axis=0)\n",
    "    new_headers = df.iloc[0].values\n",
    "    df = pd.DataFrame(df.iloc[1:].values, columns=new_headers)\n",
    "    df = df.reset_index(drop=True)\n",
    "    df = df.iloc[:, 1:]\n",
    "    df = df.astype(float)\n",
    "    df = df.drop(df.columns[4:10], axis=1)\n",
    "    return df\n",
    "\n",
    "shell_parallel = cleaner(shell_parallel)\n",
    "shell_counter = cleaner(shell_counter)\n",
    "plate_parallel = cleaner(plate_parallel)\n",
    "plate_counter = cleaner(plate_counter)\n",
    "tube_parallel = cleaner(tube_parallel)\n",
    "tube_counter = cleaner(tube_counter)\n",
    "finned_parallel = cleaner(finned_parallel)\n",
    "finned_counter = cleaner(finned_counter)"
   ]
  },
  {
   "cell_type": "markdown",
   "metadata": {},
   "source": [
    "#### Background Information\n",
    "Newton's law of cooling (Equation 2)\n",
    "$$q_s=h\\Delta T$$\n",
    "where $q_s$ is the heat flux $[\\frac{W}{m^2}]$ from the surface, $h$ is the convective heat transfer coefficient $[\\frac{W}{m^2 \\cdot K}]$, and $\\Delta T$ is the temperature difference $[K]$ between the surface and bulk fluid. The ability to transfer heat from the medium to the wall, or vice versa, is described by the heat transfer coefficient, $h$, as defined by Eqn. (2). Within the dividing wall, heat is transferred from the hot side to the cold side by thermal conduction, as described by Eqn. (1). At steady state, the following expression equates the heat flux to, through, and from the wall:\n",
    "\n",
    "$$q=h_1\\Delta T_1=\\frac{k\\Delta T_W}{s}=h_2\\Delta T_2=U\\Delta T$$ \n",
    "\n",
    "$(3)$\n",
    "\n",
    "where $\\Delta T$ values are as defined in Figure 2, $s$ is the thickness of the dividing wall, and $U$ is the overall heat transfer coefficient of the heat exchanger. $U$ characterizes the heat exchanger, and is represented as the sum of a series of thermal resistances:\n",
    "$$U=\\frac{1}{\\frac{1}{h_1}+\\frac{s}{k}+\n",
    "\\frac{1}{h_2}}$$\n",
    "\n",
    "$(4)$\n",
    "\n",
    "Log mean temperature difference, $\\Delta T_{LM}$, must be used to represent the driving force. The general formula for LMTD is\n",
    "\n",
    "$\\Delta T_{LM} = \\frac{\\Delta T_a - \\Delta T_b}{ln(\\frac{\\Delta T_a}{\\Delta T_b})}$\n",
    "\n",
    "where\n",
    "\n",
    "$\\Delta T_a:$ Temperature difference at one end of the heat exchanger.\n",
    "\n",
    "$\\Delta T_b:$ Temperature difference at the other end of the heat exchanger \n",
    "\n",
    "For co-current flow log mean temperature difference is:\n",
    "\n",
    "$\\Delta T_{LM}=\\frac{(T_{1i}-T_{2i})-(T_{1o}-T_{2o})}{ln(\\frac{T_{1i}-T_{2i}}{T_{1o}-T_{2o}})}$\n",
    "\n",
    "$(5b)$\n",
    "\n",
    "Subscripts i and o in Eqn. (5b) represent inlet and outlet streams, respectively. Additional considerations are required when the surface areas of the hot and cold side are different in size, as in the case of a tubular heat exchanger. \n",
    "\n",
    "The heat transfer rate (heat duty) of a heat exchanger can be calculated with an energy balance on the hot or cold fluid:\n",
    "\n",
    "$\\dot Q_H=\\dot m_h \\cdot c_{p,h} \\cdot (\\Delta T)_h$\n",
    "\n",
    "$\\dot Q_c = \\dot m_c \\cdot c_{p,c} \\cdot (\\Delta T)_c$\n",
    "\n",
    "$(6)$\n",
    "\n",
    "where $\\dot m$ is the mass flow rate and $c_p$ is the specific heat capacity. In an ideal heat exchanger without losses,\n",
    "\n",
    "$\\dot Q = - \\dot Q_H = \\dot Q_C$\n",
    "\n",
    "Instead use the mean exchanged heat flow, $\\dot Q_M$, and mean area, $A_M$, to calculate the overall heat transfer coefficient for a given heat exchanger.\n",
    "\n",
    "$U = \\frac{\\dot Q_M}{A_M \\cdot \\Delta T_{LM}}$\n",
    "\n",
    "$\\dot Q_M = \\frac{|\\dot Q_C|+|\\dot Q_H|}{2}$\n",
    "\n",
    "$(9)$\n",
    "\n",
    "For a tubular heat exchanger, the mean area is given by:\n",
    "\n",
    "$A_M = \\frac{A_{outer} - A_{inner}}{ln(\\frac{A_{outer}}{A_{inner}})} = \\frac{\\pi L (D_{t,o}-D_{t,i})}{ln(\\frac{D_{t,o}}{D_t,i})}$\n",
    "\n",
    "$(10)$\n",
    "\n",
    "where $D_{t,i}$ represents the inner tube diameter, $D_{t,o}$ is the outer tube diameter, and $L$ is the length of the tube.\n",
    "\n",
    "#### Effectiveness, $\\epsilon$\n",
    "\n",
    "$\\epsilon = \\frac{\\dot Q_{actual}}{\\dot Q_max}=\\frac{\\dot Q_M}{C_{min}(T_{hi}-T_{Ci})}$\n",
    "\n",
    "$C_h=\\dot m_h c_{p,h}$\n",
    "\n",
    "$C_C=\\dot m_c c_{p,c}$\n",
    "\n",
    "$C_{min}=min(C_h,C_c)$\n",
    "\n",
    "where\n",
    "\n",
    "$\\dot Q_{actual}$ is the actual amount of heat transferred by heat exchanger\n",
    "\n",
    "$\\dot Q_{max}$ is the maximum amount of heat that could be transferred if one of the fluids were to be heated or cooled to the temperature of the other fluid at the inlet\n",
    "\n",
    "$C=\\dot m c_p$ represents the heat capacity rate\n",
    "\n",
    "$C_{min}$ is the minimum heat capacity rate (the smaller of the hot or cold fluid's heat capacity rate)"
   ]
  },
  {
   "cell_type": "code",
   "execution_count": 230,
   "metadata": {},
   "outputs": [],
   "source": [
    "def calculate_Qh(m, c_p, Delta_T):\n",
    "    return m * c_p * Delta_T\n",
    "\n",
    "def calculate_Qc(m, c_p, Delta_T):\n",
    "    return m * c_p * Delta_T\n",
    "\n",
    "def calculate_QM(Qc,Qh):\n",
    "    return (np.abs(Qc) + np.abs(Qh))/2\n",
    "\n",
    "def calculate_LMTD(Delta_Ta, Delta_Tb):\n",
    "    return (Delta_Ta - Delta_Tb)/(np.log(Delta_Ta/Delta_Tb))\n",
    "\n",
    "def calculate_cocurrent_LMTD(T_1i, T_2i, T_1o, T_2o):\n",
    "    return ((T_1i - T_2i) - (T_1o - T_2o)) / np.log((T_1i - T_2i) / (T_1o - T_2o))\n",
    "\n",
    "def calculate_A_M_tubular(D_to, D_ti, L):\n",
    "    return (np.pi*L*(D_to - D_ti))/np.log(D_to/D_ti)\n",
    "\n",
    "def calculate_U(QM, A_M, LMTD):\n",
    "    return QM/(A_M*LMTD)"
   ]
  },
  {
   "cell_type": "markdown",
   "metadata": {},
   "source": [
    "#### System Parameters"
   ]
  },
  {
   "cell_type": "code",
   "execution_count": 231,
   "metadata": {},
   "outputs": [],
   "source": [
    "c_p = 4184 #J/(kg*C) #Specific heat capacity of water"
   ]
  },
  {
   "cell_type": "markdown",
   "metadata": {},
   "source": [
    "#### Example calculation of overall heat transfer coefficient with shell-tube heat exchanger (both parallel and counter flow)"
   ]
  },
  {
   "cell_type": "code",
   "execution_count": 232,
   "metadata": {},
   "outputs": [],
   "source": [
    "cold_inlet_temp = shell_parallel['T3 (°C)'].mean()\n",
    "hot_inlet_temp = shell_parallel['T1 (°C)'].mean()\n",
    "cold_outlet_temp = shell_parallel['T4 (°C)'].mean()\n",
    "hot_outlet_temp = shell_parallel['T2 (°C)'].mean()\n",
    "QM = shell_parallel['dQm/dt (kW)'].mean() * 1000\n",
    "A_M = 0.15 #m^2"
   ]
  },
  {
   "cell_type": "markdown",
   "metadata": {},
   "source": [
    "Compute LMTD and U"
   ]
  },
  {
   "cell_type": "code",
   "execution_count": 233,
   "metadata": {},
   "outputs": [
    {
     "name": "stdout",
     "output_type": "stream",
     "text": [
      "U (shell heat exchanger with parallel flow): 958.0758533838674 W/m²·K\n"
     ]
    }
   ],
   "source": [
    "Delta_Ta = hot_inlet_temp - cold_outlet_temp\n",
    "Delta_Tb = hot_outlet_temp - cold_inlet_temp\n",
    "\n",
    "LMTD = calculate_LMTD(Delta_Ta, Delta_Tb)\n",
    "U = calculate_U(QM, A_M, LMTD)\n",
    "\n",
    "print(\"U (shell heat exchanger with parallel flow):\",U,\"W/m²·K\")"
   ]
  },
  {
   "cell_type": "markdown",
   "metadata": {},
   "source": [
    "#### Define a general functions to calculate overall heat transfer coefficients for every flow heat exchanger\n",
    "\n",
    "#### For parallel flows"
   ]
  },
  {
   "cell_type": "code",
   "execution_count": 234,
   "metadata": {},
   "outputs": [],
   "source": [
    "def parallel_U(df, A_M):\n",
    "    QM = df['dQm/dt (kW)'].mean() * 1000\n",
    "    \n",
    "    first_four_columns = df.iloc[:, :4]\n",
    "    flat_values = first_four_columns.mean(axis=0).values\n",
    "    unique_sorted_values = np.sort(np.unique(flat_values))\n",
    "    \n",
    "    cold_inlet_temp = unique_sorted_values[0]   \n",
    "    cold_outlet_temp = unique_sorted_values[1]   \n",
    "    hot_outlet_temp = unique_sorted_values[2]    \n",
    "    hot_inlet_temp = unique_sorted_values[3]\n",
    "\n",
    "    Delta_Ta = hot_inlet_temp - cold_outlet_temp\n",
    "    Delta_Tb = hot_outlet_temp - cold_inlet_temp\n",
    "\n",
    "    LMTD = calculate_LMTD(Delta_Ta, Delta_Tb)\n",
    "    U = calculate_U(QM, A_M, LMTD)\n",
    "    return np.array([U, cold_inlet_temp, cold_outlet_temp, hot_outlet_temp, hot_inlet_temp, QM])"
   ]
  },
  {
   "cell_type": "markdown",
   "metadata": {},
   "source": [
    "#### For counter flows"
   ]
  },
  {
   "cell_type": "code",
   "execution_count": 235,
   "metadata": {},
   "outputs": [],
   "source": [
    "def counter_U(df, A_M):\n",
    "    QM = df['dQm/dt (kW)'].mean() * 1000\n",
    "    \n",
    "    first_four_columns = df.iloc[:, :4]\n",
    "    flat_values = first_four_columns.mean(axis=0).values\n",
    "    unique_sorted_values = np.sort(np.unique(flat_values))\n",
    "    \n",
    "    cold_inlet_temp = unique_sorted_values[0]   \n",
    "    cold_outlet_temp = unique_sorted_values[1]   \n",
    "    hot_outlet_temp = unique_sorted_values[2]    \n",
    "    hot_inlet_temp = unique_sorted_values[3]\n",
    "\n",
    "    LMTD = calculate_cocurrent_LMTD(hot_inlet_temp,cold_inlet_temp,hot_outlet_temp,cold_outlet_temp)\n",
    "    U = calculate_U(QM, A_M, LMTD)\n",
    "    return np.array([U, cold_inlet_temp, cold_outlet_temp, hot_outlet_temp, hot_inlet_temp, QM])"
   ]
  },
  {
   "cell_type": "markdown",
   "metadata": {},
   "source": [
    "#### Apply to every heat exchanger"
   ]
  },
  {
   "cell_type": "code",
   "execution_count": 236,
   "metadata": {},
   "outputs": [
    {
     "data": {
      "text/plain": [
       "array([ 958.07585338,   15.23      ,   21.687     ,   33.002     ,\n",
       "         40.094     , 2599.4       ])"
      ]
     },
     "execution_count": 236,
     "metadata": {},
     "output_type": "execute_result"
    }
   ],
   "source": [
    "shell_counter_U = counter_U(shell_counter, A_M)\n",
    "shell_parallel_U = parallel_U(shell_parallel, A_M)\n",
    "finned_counter_U = counter_U(finned_counter, 2.77)\n",
    "finned_parallel_U = parallel_U(finned_parallel, 2.77)\n",
    "plate_counter_U = counter_U(plate_counter, 0.13932)\n",
    "plate_parallel_U = parallel_U(plate_parallel, 0.13932)\n",
    "tube_counter_U = counter_U(tube_counter, 0.0698)\n",
    "tube_parallel_U = parallel_U(tube_parallel, 0.0698)\n",
    "shell_parallel_U"
   ]
  },
  {
   "cell_type": "markdown",
   "metadata": {},
   "source": [
    "### New Data Frame With Calculated Values"
   ]
  },
  {
   "cell_type": "code",
   "execution_count": 237,
   "metadata": {},
   "outputs": [
    {
     "data": {
      "text/html": [
       "<div>\n",
       "<style scoped>\n",
       "    .dataframe tbody tr th:only-of-type {\n",
       "        vertical-align: middle;\n",
       "    }\n",
       "\n",
       "    .dataframe tbody tr th {\n",
       "        vertical-align: top;\n",
       "    }\n",
       "\n",
       "    .dataframe thead th {\n",
       "        text-align: right;\n",
       "    }\n",
       "</style>\n",
       "<table border=\"1\" class=\"dataframe\">\n",
       "  <thead>\n",
       "    <tr style=\"text-align: right;\">\n",
       "      <th></th>\n",
       "      <th>Heat Exchanger Type</th>\n",
       "      <th>U</th>\n",
       "      <th>T_ci</th>\n",
       "      <th>T_co</th>\n",
       "      <th>T_ho</th>\n",
       "      <th>T_hi</th>\n",
       "      <th>Q_M</th>\n",
       "    </tr>\n",
       "  </thead>\n",
       "  <tbody>\n",
       "    <tr>\n",
       "      <th>0</th>\n",
       "      <td>Shell Counter</td>\n",
       "      <td>1150.253588</td>\n",
       "      <td>15.351</td>\n",
       "      <td>22.202</td>\n",
       "      <td>32.284</td>\n",
       "      <td>40.139</td>\n",
       "      <td>2820.5</td>\n",
       "    </tr>\n",
       "    <tr>\n",
       "      <th>1</th>\n",
       "      <td>Shell Parallel</td>\n",
       "      <td>958.075853</td>\n",
       "      <td>15.230</td>\n",
       "      <td>21.687</td>\n",
       "      <td>33.002</td>\n",
       "      <td>40.094</td>\n",
       "      <td>2599.4</td>\n",
       "    </tr>\n",
       "    <tr>\n",
       "      <th>2</th>\n",
       "      <td>Finned Counter</td>\n",
       "      <td>49.486788</td>\n",
       "      <td>26.490</td>\n",
       "      <td>32.596</td>\n",
       "      <td>39.586</td>\n",
       "      <td>43.468</td>\n",
       "      <td>1542.8</td>\n",
       "    </tr>\n",
       "    <tr>\n",
       "      <th>3</th>\n",
       "      <td>Finned Parallel</td>\n",
       "      <td>54.429328</td>\n",
       "      <td>26.444</td>\n",
       "      <td>33.438</td>\n",
       "      <td>39.300</td>\n",
       "      <td>43.426</td>\n",
       "      <td>1713.0</td>\n",
       "    </tr>\n",
       "    <tr>\n",
       "      <th>4</th>\n",
       "      <td>Plate Counter</td>\n",
       "      <td>3510.638952</td>\n",
       "      <td>21.694</td>\n",
       "      <td>28.938</td>\n",
       "      <td>32.812</td>\n",
       "      <td>41.262</td>\n",
       "      <td>4739.4</td>\n",
       "    </tr>\n",
       "    <tr>\n",
       "      <th>5</th>\n",
       "      <td>Plate Parallel</td>\n",
       "      <td>2522.359438</td>\n",
       "      <td>20.420</td>\n",
       "      <td>30.064</td>\n",
       "      <td>31.706</td>\n",
       "      <td>41.986</td>\n",
       "      <td>4076.8</td>\n",
       "    </tr>\n",
       "    <tr>\n",
       "      <th>6</th>\n",
       "      <td>Tube Counter</td>\n",
       "      <td>6465.400106</td>\n",
       "      <td>21.821</td>\n",
       "      <td>27.312</td>\n",
       "      <td>30.769</td>\n",
       "      <td>37.904</td>\n",
       "      <td>3706.3</td>\n",
       "    </tr>\n",
       "    <tr>\n",
       "      <th>7</th>\n",
       "      <td>Tube Parallel</td>\n",
       "      <td>5447.766559</td>\n",
       "      <td>21.821</td>\n",
       "      <td>27.312</td>\n",
       "      <td>30.769</td>\n",
       "      <td>37.904</td>\n",
       "      <td>3706.3</td>\n",
       "    </tr>\n",
       "  </tbody>\n",
       "</table>\n",
       "</div>"
      ],
      "text/plain": [
       "  Heat Exchanger Type            U    T_ci    T_co    T_ho    T_hi     Q_M\n",
       "0       Shell Counter  1150.253588  15.351  22.202  32.284  40.139  2820.5\n",
       "1      Shell Parallel   958.075853  15.230  21.687  33.002  40.094  2599.4\n",
       "2      Finned Counter    49.486788  26.490  32.596  39.586  43.468  1542.8\n",
       "3     Finned Parallel    54.429328  26.444  33.438  39.300  43.426  1713.0\n",
       "4       Plate Counter  3510.638952  21.694  28.938  32.812  41.262  4739.4\n",
       "5      Plate Parallel  2522.359438  20.420  30.064  31.706  41.986  4076.8\n",
       "6        Tube Counter  6465.400106  21.821  27.312  30.769  37.904  3706.3\n",
       "7       Tube Parallel  5447.766559  21.821  27.312  30.769  37.904  3706.3"
      ]
     },
     "execution_count": 237,
     "metadata": {},
     "output_type": "execute_result"
    }
   ],
   "source": [
    "dfQ1 = pd.DataFrame(columns=[\"U\", \"T_ci\", \"T_co\", \"T_ho\", \"T_hi\", \"Q_M\"])\n",
    "\n",
    "data_arrays = [\n",
    "    shell_counter_U,\n",
    "    shell_parallel_U,\n",
    "    finned_counter_U,\n",
    "    finned_parallel_U,\n",
    "    plate_counter_U,\n",
    "    plate_parallel_U,\n",
    "    tube_counter_U,\n",
    "    tube_parallel_U\n",
    "]\n",
    "\n",
    "dfQ1 = pd.DataFrame(data_arrays, columns=[\"U\", \"T_ci\", \"T_co\", \"T_ho\", \"T_hi\", \"Q_M\"])\n",
    "\n",
    "dfQ1.insert(0, 'Heat Exchanger Type', np.array([\n",
    "    'Shell Counter', \n",
    "    'Shell Parallel',\n",
    "    'Finned Counter',\n",
    "    'Finned Parallel',\n",
    "    'Plate Counter',\n",
    "    'Plate Parallel',\n",
    "    'Tube Counter',\n",
    "    'Tube Parallel'\n",
    "]))\n",
    "dfQ1"
   ]
  },
  {
   "cell_type": "markdown",
   "metadata": {},
   "source": [
    "### Effectiveness Calculation"
   ]
  },
  {
   "cell_type": "code",
   "execution_count": 238,
   "metadata": {},
   "outputs": [],
   "source": [
    "def calculate_effectiveness(Q_M,C_min,T_hi,T_ci):\n",
    "    return Q_M/(C_min*(T_hi-T_ci))\n",
    "    \n",
    "def calculate_C_min(m_dot,c_p):\n",
    "    return m_dot * c_p"
   ]
  },
  {
   "cell_type": "code",
   "execution_count": 239,
   "metadata": {},
   "outputs": [],
   "source": [
    "c_p = 4184 #Negligible difference at this range of temperatures #But recognize that the hot water c_p is smaller\n",
    "flow_rates = np.array([313,313,315,315,313,311,277,277]) * 2.78 * 10**-7 #m^3/s\n",
    "m_dot = flow_rates * 998.2 #kg/s"
   ]
  },
  {
   "cell_type": "markdown",
   "metadata": {},
   "source": [
    "### Evaluating effectiveness for each heat exchanger"
   ]
  },
  {
   "cell_type": "code",
   "execution_count": 240,
   "metadata": {},
   "outputs": [
    {
     "data": {
      "text/html": [
       "<div>\n",
       "<style scoped>\n",
       "    .dataframe tbody tr th:only-of-type {\n",
       "        vertical-align: middle;\n",
       "    }\n",
       "\n",
       "    .dataframe tbody tr th {\n",
       "        vertical-align: top;\n",
       "    }\n",
       "\n",
       "    .dataframe thead th {\n",
       "        text-align: right;\n",
       "    }\n",
       "</style>\n",
       "<table border=\"1\" class=\"dataframe\">\n",
       "  <thead>\n",
       "    <tr style=\"text-align: right;\">\n",
       "      <th></th>\n",
       "      <th>Heat Exchanger Type</th>\n",
       "      <th>U</th>\n",
       "      <th>T_ci</th>\n",
       "      <th>T_co</th>\n",
       "      <th>T_ho</th>\n",
       "      <th>T_hi</th>\n",
       "      <th>Q_M</th>\n",
       "      <th>m_dot</th>\n",
       "      <th>C_min</th>\n",
       "      <th>effectiveness</th>\n",
       "    </tr>\n",
       "  </thead>\n",
       "  <tbody>\n",
       "    <tr>\n",
       "      <th>0</th>\n",
       "      <td>Shell Counter</td>\n",
       "      <td>1150.253588</td>\n",
       "      <td>15.351</td>\n",
       "      <td>22.202</td>\n",
       "      <td>32.284</td>\n",
       "      <td>40.139</td>\n",
       "      <td>2820.5</td>\n",
       "      <td>0.086857</td>\n",
       "      <td>363.411256</td>\n",
       "      <td>0.313102</td>\n",
       "    </tr>\n",
       "    <tr>\n",
       "      <th>1</th>\n",
       "      <td>Shell Parallel</td>\n",
       "      <td>958.075853</td>\n",
       "      <td>15.230</td>\n",
       "      <td>21.687</td>\n",
       "      <td>33.002</td>\n",
       "      <td>40.094</td>\n",
       "      <td>2599.4</td>\n",
       "      <td>0.086857</td>\n",
       "      <td>363.411256</td>\n",
       "      <td>0.287676</td>\n",
       "    </tr>\n",
       "    <tr>\n",
       "      <th>2</th>\n",
       "      <td>Finned Counter</td>\n",
       "      <td>49.486788</td>\n",
       "      <td>26.490</td>\n",
       "      <td>32.596</td>\n",
       "      <td>39.586</td>\n",
       "      <td>43.468</td>\n",
       "      <td>1542.8</td>\n",
       "      <td>0.087412</td>\n",
       "      <td>365.733373</td>\n",
       "      <td>0.248461</td>\n",
       "    </tr>\n",
       "    <tr>\n",
       "      <th>3</th>\n",
       "      <td>Finned Parallel</td>\n",
       "      <td>54.429328</td>\n",
       "      <td>26.444</td>\n",
       "      <td>33.438</td>\n",
       "      <td>39.300</td>\n",
       "      <td>43.426</td>\n",
       "      <td>1713.0</td>\n",
       "      <td>0.087412</td>\n",
       "      <td>365.733373</td>\n",
       "      <td>0.275806</td>\n",
       "    </tr>\n",
       "    <tr>\n",
       "      <th>4</th>\n",
       "      <td>Plate Counter</td>\n",
       "      <td>3510.638952</td>\n",
       "      <td>21.694</td>\n",
       "      <td>28.938</td>\n",
       "      <td>32.812</td>\n",
       "      <td>41.262</td>\n",
       "      <td>4739.4</td>\n",
       "      <td>0.086857</td>\n",
       "      <td>363.411256</td>\n",
       "      <td>0.666467</td>\n",
       "    </tr>\n",
       "    <tr>\n",
       "      <th>5</th>\n",
       "      <td>Plate Parallel</td>\n",
       "      <td>2522.359438</td>\n",
       "      <td>20.420</td>\n",
       "      <td>30.064</td>\n",
       "      <td>31.706</td>\n",
       "      <td>41.986</td>\n",
       "      <td>4076.8</td>\n",
       "      <td>0.086302</td>\n",
       "      <td>361.089140</td>\n",
       "      <td>0.523523</td>\n",
       "    </tr>\n",
       "    <tr>\n",
       "      <th>6</th>\n",
       "      <td>Tube Counter</td>\n",
       "      <td>6465.400106</td>\n",
       "      <td>21.821</td>\n",
       "      <td>27.312</td>\n",
       "      <td>30.769</td>\n",
       "      <td>37.904</td>\n",
       "      <td>3706.3</td>\n",
       "      <td>0.076867</td>\n",
       "      <td>321.613156</td>\n",
       "      <td>0.716539</td>\n",
       "    </tr>\n",
       "    <tr>\n",
       "      <th>7</th>\n",
       "      <td>Tube Parallel</td>\n",
       "      <td>5447.766559</td>\n",
       "      <td>21.821</td>\n",
       "      <td>27.312</td>\n",
       "      <td>30.769</td>\n",
       "      <td>37.904</td>\n",
       "      <td>3706.3</td>\n",
       "      <td>0.076867</td>\n",
       "      <td>321.613156</td>\n",
       "      <td>0.716539</td>\n",
       "    </tr>\n",
       "  </tbody>\n",
       "</table>\n",
       "</div>"
      ],
      "text/plain": [
       "  Heat Exchanger Type            U    T_ci    T_co    T_ho    T_hi     Q_M  \\\n",
       "0       Shell Counter  1150.253588  15.351  22.202  32.284  40.139  2820.5   \n",
       "1      Shell Parallel   958.075853  15.230  21.687  33.002  40.094  2599.4   \n",
       "2      Finned Counter    49.486788  26.490  32.596  39.586  43.468  1542.8   \n",
       "3     Finned Parallel    54.429328  26.444  33.438  39.300  43.426  1713.0   \n",
       "4       Plate Counter  3510.638952  21.694  28.938  32.812  41.262  4739.4   \n",
       "5      Plate Parallel  2522.359438  20.420  30.064  31.706  41.986  4076.8   \n",
       "6        Tube Counter  6465.400106  21.821  27.312  30.769  37.904  3706.3   \n",
       "7       Tube Parallel  5447.766559  21.821  27.312  30.769  37.904  3706.3   \n",
       "\n",
       "      m_dot       C_min  effectiveness  \n",
       "0  0.086857  363.411256       0.313102  \n",
       "1  0.086857  363.411256       0.287676  \n",
       "2  0.087412  365.733373       0.248461  \n",
       "3  0.087412  365.733373       0.275806  \n",
       "4  0.086857  363.411256       0.666467  \n",
       "5  0.086302  361.089140       0.523523  \n",
       "6  0.076867  321.613156       0.716539  \n",
       "7  0.076867  321.613156       0.716539  "
      ]
     },
     "execution_count": 240,
     "metadata": {},
     "output_type": "execute_result"
    }
   ],
   "source": [
    "dfQ1['m_dot'] = m_dot\n",
    "\n",
    "dfQ1['C_min'] = dfQ1['m_dot'].apply(lambda m: calculate_C_min(m, c_p))\n",
    "dfQ1['effectiveness'] = dfQ1.apply(lambda row: calculate_effectiveness(row['Q_M'], row['C_min'], row['T_hi'], row['T_ci']), axis=1)\n",
    "dfQ1"
   ]
  },
  {
   "cell_type": "markdown",
   "metadata": {},
   "source": [
    "## Analysis Question 3\n",
    "For the tubular heat exchanger in counter-current flow configuration:\n",
    "\n",
    "(a) Identify and report appropriate correlations for predicting the heat transfer\n",
    "coefficients for the inner tube ($h_i$) and the annular region ($h_0$). Clearly state the\n",
    "conditions and assumptions under which these correlations are valid (flow regime,\n",
    "flow condition, characteristic length, etc.)."
   ]
  },
  {
   "cell_type": "markdown",
   "metadata": {},
   "source": [
    "The first step in determining the appropriate correlations for the heat transfer coefficient in an inner tube is investigating the flow regime using Reynolds number, $Re$, to classify the flow as laminar or turbulent\n",
    "\n",
    "$$\n",
    "Re = \\frac{\\rho u D}{\\mu} = \\frac{4 \\dot m}{\\pi D \\mu} \n",
    "$$\n",
    "\n",
    "$$\n",
    "\\text{where} \\  \\dot m = \\rho \\dot q \n",
    "$$\n",
    "\n",
    "We will use the LHS for classifying flow regime"
   ]
  },
  {
   "cell_type": "code",
   "execution_count": 241,
   "metadata": {},
   "outputs": [],
   "source": [
    "mu = 0.001 # Pa * s\n",
    "rho = 1000 # kg / m^3\n",
    "D_inner = 6 * 10e-3 # m\n",
    "D_annular = 13 * 10e-3 # m \n",
    "D_hydraulic = D_annular - D_inner # m\n",
    "L = 3.2 # m\n",
    "k_cold = 0.592 # W / mK\n",
    "k_hot = 0.613 # W / mK #TODO: update these thermal conductivity values\n",
    "\n",
    "A_i = np.pi * (D_inner ** 2) / 4\n",
    "A_h = np.pi * ((D_annular ** 2) - ((D_hydraulic) ** 2)) / 4"
   ]
  },
  {
   "cell_type": "code",
   "execution_count": 242,
   "metadata": {},
   "outputs": [],
   "source": [
    "for df in dfs:\n",
    "    df[\"u_cold (m/s)\"] = df[\"cold flow (m^3/s)\"] / A_i\n",
    "    df[\"u_hot (m/s)\"] = df[\"hot flow (m^3/s)\"] / A_h\n",
    "    df[\"Re_cold (inner tube)\"] = (rho * df[\"u_cold (m/s)\"] * D_inner) / mu\n",
    "    df[\"Re_hot (annular region)\"] = (rho * df[\"u_hot (m/s)\"] * D_inner) / mu\n",
    "\n",
    "# for df in dfs:\n",
    "#     df[\"mass_cold_flow (kg/s)\"] = rho * df[\"cold flow (m^3/s)\"]\n",
    "#     df[\"mass_hot_flow (kg/s)\"] = rho * df[\"hot flow (m^3/s)\"]\n",
    "\n",
    "#     df[\"Re_cold (inner tube)\"] = (4 * df[\"mass_cold_flow (kg/s)\"]) / (np.pi * D_inner * mu)\n",
    "#     df[\"Re_hot (annular region)\"] = (4 * df[\"mass_hot_flow (kg/s)\"]) / (np.pi * D_annular * mu)"
   ]
  },
  {
   "cell_type": "code",
   "execution_count": 243,
   "metadata": {},
   "outputs": [
    {
     "data": {
      "text/html": [
       "<div>\n",
       "<style scoped>\n",
       "    .dataframe tbody tr th:only-of-type {\n",
       "        vertical-align: middle;\n",
       "    }\n",
       "\n",
       "    .dataframe tbody tr th {\n",
       "        vertical-align: top;\n",
       "    }\n",
       "\n",
       "    .dataframe thead th {\n",
       "        text-align: right;\n",
       "    }\n",
       "</style>\n",
       "<table border=\"1\" class=\"dataframe\">\n",
       "  <thead>\n",
       "    <tr style=\"text-align: right;\">\n",
       "      <th></th>\n",
       "      <th>Time</th>\n",
       "      <th>T1 (°C)</th>\n",
       "      <th>T2 (°C)</th>\n",
       "      <th>T3 (°C)</th>\n",
       "      <th>T4 (°C)</th>\n",
       "      <th>T5 (°C)</th>\n",
       "      <th>T6 (°C)</th>\n",
       "      <th>T7 (°C)</th>\n",
       "      <th>T8 (°C)</th>\n",
       "      <th>T9 (°C)</th>\n",
       "      <th>T10 (°C)</th>\n",
       "      <th>dp1 (mbar)</th>\n",
       "      <th>dp2 (mbar)</th>\n",
       "      <th>dQ1/dt (kW)</th>\n",
       "      <th>dQ2/dt (kW)</th>\n",
       "      <th>dQ3/dt (kW)</th>\n",
       "      <th>dQm/dt (kW)</th>\n",
       "      <th>hot flow (L/hr)</th>\n",
       "      <th>cold flow (L/hr)</th>\n",
       "      <th>hot flow (m^3/s)</th>\n",
       "      <th>cold flow (m^3/s)</th>\n",
       "      <th>u_cold (m/s)</th>\n",
       "      <th>u_hot (m/s)</th>\n",
       "      <th>Re_cold (inner tube)</th>\n",
       "      <th>Re_hot (annular region)</th>\n",
       "    </tr>\n",
       "  </thead>\n",
       "  <tbody>\n",
       "    <tr>\n",
       "      <th>0</th>\n",
       "      <td>2/13/2025 4:12:29 PM.43</td>\n",
       "      <td>27.7</td>\n",
       "      <td>100</td>\n",
       "      <td>17.9</td>\n",
       "      <td>25.8</td>\n",
       "      <td>30.7</td>\n",
       "      <td>19.2</td>\n",
       "      <td>33.6</td>\n",
       "      <td>21.3</td>\n",
       "      <td>37.3</td>\n",
       "      <td>23.2</td>\n",
       "      <td>0.10</td>\n",
       "      <td>11</td>\n",
       "      <td>-16.66</td>\n",
       "      <td>3.22</td>\n",
       "      <td>0</td>\n",
       "      <td>9.94</td>\n",
       "      <td>350</td>\n",
       "      <td>200</td>\n",
       "      <td>0.000097</td>\n",
       "      <td>0.000056</td>\n",
       "      <td>0.019649</td>\n",
       "      <td>0.010316</td>\n",
       "      <td>1178.925504</td>\n",
       "      <td>618.93589</td>\n",
       "    </tr>\n",
       "    <tr>\n",
       "      <th>1</th>\n",
       "      <td>2/13/2025 4:12:29 PM.93</td>\n",
       "      <td>27.7</td>\n",
       "      <td>100</td>\n",
       "      <td>17.9</td>\n",
       "      <td>25.8</td>\n",
       "      <td>30.7</td>\n",
       "      <td>19.2</td>\n",
       "      <td>33.6</td>\n",
       "      <td>21.3</td>\n",
       "      <td>37.3</td>\n",
       "      <td>23.2</td>\n",
       "      <td>0.09</td>\n",
       "      <td>11</td>\n",
       "      <td>-16.66</td>\n",
       "      <td>3.20</td>\n",
       "      <td>0</td>\n",
       "      <td>9.93</td>\n",
       "      <td>350</td>\n",
       "      <td>200</td>\n",
       "      <td>0.000097</td>\n",
       "      <td>0.000056</td>\n",
       "      <td>0.019649</td>\n",
       "      <td>0.010316</td>\n",
       "      <td>1178.925504</td>\n",
       "      <td>618.93589</td>\n",
       "    </tr>\n",
       "    <tr>\n",
       "      <th>2</th>\n",
       "      <td>2/13/2025 4:12:30 PM.43</td>\n",
       "      <td>27.7</td>\n",
       "      <td>100</td>\n",
       "      <td>17.8</td>\n",
       "      <td>25.8</td>\n",
       "      <td>30.7</td>\n",
       "      <td>19.2</td>\n",
       "      <td>33.6</td>\n",
       "      <td>21.3</td>\n",
       "      <td>37.3</td>\n",
       "      <td>23.2</td>\n",
       "      <td>0.09</td>\n",
       "      <td>10</td>\n",
       "      <td>-16.54</td>\n",
       "      <td>3.20</td>\n",
       "      <td>0</td>\n",
       "      <td>9.87</td>\n",
       "      <td>350</td>\n",
       "      <td>200</td>\n",
       "      <td>0.000097</td>\n",
       "      <td>0.000056</td>\n",
       "      <td>0.019649</td>\n",
       "      <td>0.010316</td>\n",
       "      <td>1178.925504</td>\n",
       "      <td>618.93589</td>\n",
       "    </tr>\n",
       "    <tr>\n",
       "      <th>3</th>\n",
       "      <td>2/13/2025 4:12:30 PM.93</td>\n",
       "      <td>27.7</td>\n",
       "      <td>100</td>\n",
       "      <td>17.9</td>\n",
       "      <td>25.8</td>\n",
       "      <td>30.7</td>\n",
       "      <td>19.2</td>\n",
       "      <td>33.6</td>\n",
       "      <td>21.3</td>\n",
       "      <td>37.3</td>\n",
       "      <td>23.2</td>\n",
       "      <td>0.10</td>\n",
       "      <td>11</td>\n",
       "      <td>-16.42</td>\n",
       "      <td>3.18</td>\n",
       "      <td>0</td>\n",
       "      <td>9.80</td>\n",
       "      <td>350</td>\n",
       "      <td>200</td>\n",
       "      <td>0.000097</td>\n",
       "      <td>0.000056</td>\n",
       "      <td>0.019649</td>\n",
       "      <td>0.010316</td>\n",
       "      <td>1178.925504</td>\n",
       "      <td>618.93589</td>\n",
       "    </tr>\n",
       "    <tr>\n",
       "      <th>4</th>\n",
       "      <td>2/13/2025 4:12:31 PM.43</td>\n",
       "      <td>27.6</td>\n",
       "      <td>100</td>\n",
       "      <td>17.8</td>\n",
       "      <td>25.8</td>\n",
       "      <td>30.7</td>\n",
       "      <td>19.2</td>\n",
       "      <td>33.6</td>\n",
       "      <td>21.3</td>\n",
       "      <td>37.3</td>\n",
       "      <td>23.2</td>\n",
       "      <td>0.09</td>\n",
       "      <td>10</td>\n",
       "      <td>-16.56</td>\n",
       "      <td>3.23</td>\n",
       "      <td>0</td>\n",
       "      <td>9.90</td>\n",
       "      <td>350</td>\n",
       "      <td>200</td>\n",
       "      <td>0.000097</td>\n",
       "      <td>0.000056</td>\n",
       "      <td>0.019649</td>\n",
       "      <td>0.010316</td>\n",
       "      <td>1178.925504</td>\n",
       "      <td>618.93589</td>\n",
       "    </tr>\n",
       "  </tbody>\n",
       "</table>\n",
       "</div>"
      ],
      "text/plain": [
       "                      Time  T1 (°C)  T2 (°C)  T3 (°C)  T4 (°C)  T5 (°C)  \\\n",
       "0  2/13/2025 4:12:29 PM.43     27.7      100     17.9     25.8     30.7   \n",
       "1  2/13/2025 4:12:29 PM.93     27.7      100     17.9     25.8     30.7   \n",
       "2  2/13/2025 4:12:30 PM.43     27.7      100     17.8     25.8     30.7   \n",
       "3  2/13/2025 4:12:30 PM.93     27.7      100     17.9     25.8     30.7   \n",
       "4  2/13/2025 4:12:31 PM.43     27.6      100     17.8     25.8     30.7   \n",
       "\n",
       "   T6 (°C)  T7 (°C)  T8 (°C)  T9 (°C)  T10 (°C)  dp1 (mbar)  dp2 (mbar)  \\\n",
       "0     19.2     33.6     21.3     37.3      23.2        0.10          11   \n",
       "1     19.2     33.6     21.3     37.3      23.2        0.09          11   \n",
       "2     19.2     33.6     21.3     37.3      23.2        0.09          10   \n",
       "3     19.2     33.6     21.3     37.3      23.2        0.10          11   \n",
       "4     19.2     33.6     21.3     37.3      23.2        0.09          10   \n",
       "\n",
       "   dQ1/dt (kW)  dQ2/dt (kW)  dQ3/dt (kW)  dQm/dt (kW)  hot flow (L/hr)  \\\n",
       "0       -16.66         3.22            0         9.94              350   \n",
       "1       -16.66         3.20            0         9.93              350   \n",
       "2       -16.54         3.20            0         9.87              350   \n",
       "3       -16.42         3.18            0         9.80              350   \n",
       "4       -16.56         3.23            0         9.90              350   \n",
       "\n",
       "   cold flow (L/hr)  hot flow (m^3/s)  cold flow (m^3/s)  u_cold (m/s)  \\\n",
       "0               200          0.000097           0.000056      0.019649   \n",
       "1               200          0.000097           0.000056      0.019649   \n",
       "2               200          0.000097           0.000056      0.019649   \n",
       "3               200          0.000097           0.000056      0.019649   \n",
       "4               200          0.000097           0.000056      0.019649   \n",
       "\n",
       "   u_hot (m/s)  Re_cold (inner tube)  Re_hot (annular region)  \n",
       "0     0.010316           1178.925504                618.93589  \n",
       "1     0.010316           1178.925504                618.93589  \n",
       "2     0.010316           1178.925504                618.93589  \n",
       "3     0.010316           1178.925504                618.93589  \n",
       "4     0.010316           1178.925504                618.93589  "
      ]
     },
     "execution_count": 243,
     "metadata": {},
     "output_type": "execute_result"
    }
   ],
   "source": [
    "df_tube_cross_350h_200c.head(5)"
   ]
  },
  {
   "cell_type": "markdown",
   "metadata": {},
   "source": [
    "Since we have some laminar and non-laminar flow, we can break correlations up for laminar and non-laminar flow. \n",
    "\n",
    "For laminar flow, we use equation (20-27) from the fundamentals textbook:\n",
    "\n",
    "$$\n",
    "Nu_D = 1.86 (Pe( \\frac{D}{L})^\\frac{1}{3})(\\frac{\\mu_b}{\\mu_w})^{0.14}\n",
    "$$\n",
    "\n",
    "and for turbulent flow, we will use Dittus Boelter equation (20-28):\n",
    "\n",
    "$$\n",
    "Nu_D = 0.023 Re_D ^ {0.8} Pr^n\n",
    "$$\n",
    "\n",
    "$$\n",
    "\\text{where } n_{heated} = 0.4 \\text{ and } n_{cooled} = 0.3\n",
    "$$\n",
    "\n",
    "**When making slides, reference pages 307 and 308 for assumptions of these two equations**\n",
    "\n",
    "Once we have these $Nu$ values, we can solve for heat transfer coefficients as\n",
    "\n",
    "$$\n",
    "h = \\frac{Nu \\times k}{D}\n",
    "$$"
   ]
  },
  {
   "cell_type": "code",
   "execution_count": 244,
   "metadata": {},
   "outputs": [
    {
     "data": {
      "text/html": [
       "<div>\n",
       "<style scoped>\n",
       "    .dataframe tbody tr th:only-of-type {\n",
       "        vertical-align: middle;\n",
       "    }\n",
       "\n",
       "    .dataframe tbody tr th {\n",
       "        vertical-align: top;\n",
       "    }\n",
       "\n",
       "    .dataframe thead th {\n",
       "        text-align: right;\n",
       "    }\n",
       "</style>\n",
       "<table border=\"1\" class=\"dataframe\">\n",
       "  <thead>\n",
       "    <tr style=\"text-align: right;\">\n",
       "      <th></th>\n",
       "      <th>Time</th>\n",
       "      <th>T1 (°C)</th>\n",
       "      <th>T2 (°C)</th>\n",
       "      <th>T3 (°C)</th>\n",
       "      <th>T4 (°C)</th>\n",
       "      <th>T5 (°C)</th>\n",
       "      <th>T6 (°C)</th>\n",
       "      <th>T7 (°C)</th>\n",
       "      <th>T8 (°C)</th>\n",
       "      <th>T9 (°C)</th>\n",
       "      <th>T10 (°C)</th>\n",
       "      <th>dp1 (mbar)</th>\n",
       "      <th>dp2 (mbar)</th>\n",
       "      <th>dQ1/dt (kW)</th>\n",
       "      <th>dQ2/dt (kW)</th>\n",
       "      <th>dQ3/dt (kW)</th>\n",
       "      <th>dQm/dt (kW)</th>\n",
       "      <th>hot flow (L/hr)</th>\n",
       "      <th>cold flow (L/hr)</th>\n",
       "      <th>hot flow (m^3/s)</th>\n",
       "      <th>cold flow (m^3/s)</th>\n",
       "      <th>u_cold (m/s)</th>\n",
       "      <th>u_hot (m/s)</th>\n",
       "      <th>Re_cold (inner tube)</th>\n",
       "      <th>Re_hot (annular region)</th>\n",
       "    </tr>\n",
       "  </thead>\n",
       "  <tbody>\n",
       "    <tr>\n",
       "      <th>0</th>\n",
       "      <td>2/13/2025 4:12:29 PM.43</td>\n",
       "      <td>27.7</td>\n",
       "      <td>100</td>\n",
       "      <td>17.9</td>\n",
       "      <td>25.8</td>\n",
       "      <td>30.7</td>\n",
       "      <td>19.2</td>\n",
       "      <td>33.6</td>\n",
       "      <td>21.3</td>\n",
       "      <td>37.3</td>\n",
       "      <td>23.2</td>\n",
       "      <td>0.10</td>\n",
       "      <td>11</td>\n",
       "      <td>-16.66</td>\n",
       "      <td>3.22</td>\n",
       "      <td>0</td>\n",
       "      <td>9.94</td>\n",
       "      <td>350</td>\n",
       "      <td>200</td>\n",
       "      <td>0.000097</td>\n",
       "      <td>0.000056</td>\n",
       "      <td>0.019649</td>\n",
       "      <td>0.010316</td>\n",
       "      <td>1178.925504</td>\n",
       "      <td>618.93589</td>\n",
       "    </tr>\n",
       "    <tr>\n",
       "      <th>1</th>\n",
       "      <td>2/13/2025 4:12:29 PM.93</td>\n",
       "      <td>27.7</td>\n",
       "      <td>100</td>\n",
       "      <td>17.9</td>\n",
       "      <td>25.8</td>\n",
       "      <td>30.7</td>\n",
       "      <td>19.2</td>\n",
       "      <td>33.6</td>\n",
       "      <td>21.3</td>\n",
       "      <td>37.3</td>\n",
       "      <td>23.2</td>\n",
       "      <td>0.09</td>\n",
       "      <td>11</td>\n",
       "      <td>-16.66</td>\n",
       "      <td>3.20</td>\n",
       "      <td>0</td>\n",
       "      <td>9.93</td>\n",
       "      <td>350</td>\n",
       "      <td>200</td>\n",
       "      <td>0.000097</td>\n",
       "      <td>0.000056</td>\n",
       "      <td>0.019649</td>\n",
       "      <td>0.010316</td>\n",
       "      <td>1178.925504</td>\n",
       "      <td>618.93589</td>\n",
       "    </tr>\n",
       "    <tr>\n",
       "      <th>2</th>\n",
       "      <td>2/13/2025 4:12:30 PM.43</td>\n",
       "      <td>27.7</td>\n",
       "      <td>100</td>\n",
       "      <td>17.8</td>\n",
       "      <td>25.8</td>\n",
       "      <td>30.7</td>\n",
       "      <td>19.2</td>\n",
       "      <td>33.6</td>\n",
       "      <td>21.3</td>\n",
       "      <td>37.3</td>\n",
       "      <td>23.2</td>\n",
       "      <td>0.09</td>\n",
       "      <td>10</td>\n",
       "      <td>-16.54</td>\n",
       "      <td>3.20</td>\n",
       "      <td>0</td>\n",
       "      <td>9.87</td>\n",
       "      <td>350</td>\n",
       "      <td>200</td>\n",
       "      <td>0.000097</td>\n",
       "      <td>0.000056</td>\n",
       "      <td>0.019649</td>\n",
       "      <td>0.010316</td>\n",
       "      <td>1178.925504</td>\n",
       "      <td>618.93589</td>\n",
       "    </tr>\n",
       "    <tr>\n",
       "      <th>3</th>\n",
       "      <td>2/13/2025 4:12:30 PM.93</td>\n",
       "      <td>27.7</td>\n",
       "      <td>100</td>\n",
       "      <td>17.9</td>\n",
       "      <td>25.8</td>\n",
       "      <td>30.7</td>\n",
       "      <td>19.2</td>\n",
       "      <td>33.6</td>\n",
       "      <td>21.3</td>\n",
       "      <td>37.3</td>\n",
       "      <td>23.2</td>\n",
       "      <td>0.10</td>\n",
       "      <td>11</td>\n",
       "      <td>-16.42</td>\n",
       "      <td>3.18</td>\n",
       "      <td>0</td>\n",
       "      <td>9.80</td>\n",
       "      <td>350</td>\n",
       "      <td>200</td>\n",
       "      <td>0.000097</td>\n",
       "      <td>0.000056</td>\n",
       "      <td>0.019649</td>\n",
       "      <td>0.010316</td>\n",
       "      <td>1178.925504</td>\n",
       "      <td>618.93589</td>\n",
       "    </tr>\n",
       "    <tr>\n",
       "      <th>4</th>\n",
       "      <td>2/13/2025 4:12:31 PM.43</td>\n",
       "      <td>27.6</td>\n",
       "      <td>100</td>\n",
       "      <td>17.8</td>\n",
       "      <td>25.8</td>\n",
       "      <td>30.7</td>\n",
       "      <td>19.2</td>\n",
       "      <td>33.6</td>\n",
       "      <td>21.3</td>\n",
       "      <td>37.3</td>\n",
       "      <td>23.2</td>\n",
       "      <td>0.09</td>\n",
       "      <td>10</td>\n",
       "      <td>-16.56</td>\n",
       "      <td>3.23</td>\n",
       "      <td>0</td>\n",
       "      <td>9.90</td>\n",
       "      <td>350</td>\n",
       "      <td>200</td>\n",
       "      <td>0.000097</td>\n",
       "      <td>0.000056</td>\n",
       "      <td>0.019649</td>\n",
       "      <td>0.010316</td>\n",
       "      <td>1178.925504</td>\n",
       "      <td>618.93589</td>\n",
       "    </tr>\n",
       "  </tbody>\n",
       "</table>\n",
       "</div>"
      ],
      "text/plain": [
       "                      Time  T1 (°C)  T2 (°C)  T3 (°C)  T4 (°C)  T5 (°C)  \\\n",
       "0  2/13/2025 4:12:29 PM.43     27.7      100     17.9     25.8     30.7   \n",
       "1  2/13/2025 4:12:29 PM.93     27.7      100     17.9     25.8     30.7   \n",
       "2  2/13/2025 4:12:30 PM.43     27.7      100     17.8     25.8     30.7   \n",
       "3  2/13/2025 4:12:30 PM.93     27.7      100     17.9     25.8     30.7   \n",
       "4  2/13/2025 4:12:31 PM.43     27.6      100     17.8     25.8     30.7   \n",
       "\n",
       "   T6 (°C)  T7 (°C)  T8 (°C)  T9 (°C)  T10 (°C)  dp1 (mbar)  dp2 (mbar)  \\\n",
       "0     19.2     33.6     21.3     37.3      23.2        0.10          11   \n",
       "1     19.2     33.6     21.3     37.3      23.2        0.09          11   \n",
       "2     19.2     33.6     21.3     37.3      23.2        0.09          10   \n",
       "3     19.2     33.6     21.3     37.3      23.2        0.10          11   \n",
       "4     19.2     33.6     21.3     37.3      23.2        0.09          10   \n",
       "\n",
       "   dQ1/dt (kW)  dQ2/dt (kW)  dQ3/dt (kW)  dQm/dt (kW)  hot flow (L/hr)  \\\n",
       "0       -16.66         3.22            0         9.94              350   \n",
       "1       -16.66         3.20            0         9.93              350   \n",
       "2       -16.54         3.20            0         9.87              350   \n",
       "3       -16.42         3.18            0         9.80              350   \n",
       "4       -16.56         3.23            0         9.90              350   \n",
       "\n",
       "   cold flow (L/hr)  hot flow (m^3/s)  cold flow (m^3/s)  u_cold (m/s)  \\\n",
       "0               200          0.000097           0.000056      0.019649   \n",
       "1               200          0.000097           0.000056      0.019649   \n",
       "2               200          0.000097           0.000056      0.019649   \n",
       "3               200          0.000097           0.000056      0.019649   \n",
       "4               200          0.000097           0.000056      0.019649   \n",
       "\n",
       "   u_hot (m/s)  Re_cold (inner tube)  Re_hot (annular region)  \n",
       "0     0.010316           1178.925504                618.93589  \n",
       "1     0.010316           1178.925504                618.93589  \n",
       "2     0.010316           1178.925504                618.93589  \n",
       "3     0.010316           1178.925504                618.93589  \n",
       "4     0.010316           1178.925504                618.93589  "
      ]
     },
     "execution_count": 244,
     "metadata": {},
     "output_type": "execute_result"
    }
   ],
   "source": [
    "df_tube_cross_350h_200c.head(5)"
   ]
  },
  {
   "cell_type": "markdown",
   "metadata": {},
   "source": [
    "(b) Using empirical correlations, calculate and report the inner tube ($h_i$) and annular region ($h_0$) heat transfer coefficients at a volumetric flow rate of 350 L/hr.\n",
    "\n",
    "We will be using data from when both hot and cold streams are art 350 L/min given in `df_tube_cross_350h_350c`"
   ]
  },
  {
   "cell_type": "code",
   "execution_count": 245,
   "metadata": {},
   "outputs": [
    {
     "data": {
      "text/html": [
       "<div>\n",
       "<style scoped>\n",
       "    .dataframe tbody tr th:only-of-type {\n",
       "        vertical-align: middle;\n",
       "    }\n",
       "\n",
       "    .dataframe tbody tr th {\n",
       "        vertical-align: top;\n",
       "    }\n",
       "\n",
       "    .dataframe thead th {\n",
       "        text-align: right;\n",
       "    }\n",
       "</style>\n",
       "<table border=\"1\" class=\"dataframe\">\n",
       "  <thead>\n",
       "    <tr style=\"text-align: right;\">\n",
       "      <th></th>\n",
       "      <th>Time</th>\n",
       "      <th>T1 (°C)</th>\n",
       "      <th>T2 (°C)</th>\n",
       "      <th>T3 (°C)</th>\n",
       "      <th>T4 (°C)</th>\n",
       "      <th>T5 (°C)</th>\n",
       "      <th>T6 (°C)</th>\n",
       "      <th>T7 (°C)</th>\n",
       "      <th>T8 (°C)</th>\n",
       "      <th>T9 (°C)</th>\n",
       "      <th>T10 (°C)</th>\n",
       "      <th>dp1 (mbar)</th>\n",
       "      <th>dp2 (mbar)</th>\n",
       "      <th>dQ1/dt (kW)</th>\n",
       "      <th>dQ2/dt (kW)</th>\n",
       "      <th>dQ3/dt (kW)</th>\n",
       "      <th>dQm/dt (kW)</th>\n",
       "      <th>hot flow (L/hr)</th>\n",
       "      <th>cold flow (L/hr)</th>\n",
       "      <th>hot flow (m^3/s)</th>\n",
       "      <th>cold flow (m^3/s)</th>\n",
       "      <th>u_cold (m/s)</th>\n",
       "      <th>u_hot (m/s)</th>\n",
       "      <th>Re_cold (inner tube)</th>\n",
       "      <th>Re_hot (annular region)</th>\n",
       "    </tr>\n",
       "  </thead>\n",
       "  <tbody>\n",
       "    <tr>\n",
       "      <th>0</th>\n",
       "      <td>1/30/2025 2:21:15 PM.19</td>\n",
       "      <td>32.9</td>\n",
       "      <td>48.0</td>\n",
       "      <td>20.8</td>\n",
       "      <td>30.1</td>\n",
       "      <td>35.2</td>\n",
       "      <td>22.5</td>\n",
       "      <td>37.3</td>\n",
       "      <td>25.0</td>\n",
       "      <td>39.6</td>\n",
       "      <td>27.2</td>\n",
       "      <td>0.08</td>\n",
       "      <td>1000</td>\n",
       "      <td>-6.17</td>\n",
       "      <td>3.80</td>\n",
       "      <td>0</td>\n",
       "      <td>4.99</td>\n",
       "      <td>350</td>\n",
       "      <td>350</td>\n",
       "      <td>0.000097</td>\n",
       "      <td>0.000097</td>\n",
       "      <td>0.034385</td>\n",
       "      <td>0.010316</td>\n",
       "      <td>2063.119633</td>\n",
       "      <td>618.93589</td>\n",
       "    </tr>\n",
       "    <tr>\n",
       "      <th>1</th>\n",
       "      <td>1/30/2025 2:21:15 PM.69</td>\n",
       "      <td>32.9</td>\n",
       "      <td>48.0</td>\n",
       "      <td>20.7</td>\n",
       "      <td>30.0</td>\n",
       "      <td>35.2</td>\n",
       "      <td>22.5</td>\n",
       "      <td>37.3</td>\n",
       "      <td>25.0</td>\n",
       "      <td>39.6</td>\n",
       "      <td>27.2</td>\n",
       "      <td>0.09</td>\n",
       "      <td>1000</td>\n",
       "      <td>-6.12</td>\n",
       "      <td>3.77</td>\n",
       "      <td>0</td>\n",
       "      <td>4.95</td>\n",
       "      <td>350</td>\n",
       "      <td>350</td>\n",
       "      <td>0.000097</td>\n",
       "      <td>0.000097</td>\n",
       "      <td>0.034385</td>\n",
       "      <td>0.010316</td>\n",
       "      <td>2063.119633</td>\n",
       "      <td>618.93589</td>\n",
       "    </tr>\n",
       "    <tr>\n",
       "      <th>2</th>\n",
       "      <td>1/30/2025 2:21:16 PM.19</td>\n",
       "      <td>32.9</td>\n",
       "      <td>48.0</td>\n",
       "      <td>20.8</td>\n",
       "      <td>30.0</td>\n",
       "      <td>35.2</td>\n",
       "      <td>22.5</td>\n",
       "      <td>37.3</td>\n",
       "      <td>25.0</td>\n",
       "      <td>39.7</td>\n",
       "      <td>27.3</td>\n",
       "      <td>0.09</td>\n",
       "      <td>1000</td>\n",
       "      <td>-6.17</td>\n",
       "      <td>3.81</td>\n",
       "      <td>0</td>\n",
       "      <td>4.99</td>\n",
       "      <td>350</td>\n",
       "      <td>350</td>\n",
       "      <td>0.000097</td>\n",
       "      <td>0.000097</td>\n",
       "      <td>0.034385</td>\n",
       "      <td>0.010316</td>\n",
       "      <td>2063.119633</td>\n",
       "      <td>618.93589</td>\n",
       "    </tr>\n",
       "    <tr>\n",
       "      <th>3</th>\n",
       "      <td>1/30/2025 2:21:16 PM.69</td>\n",
       "      <td>32.8</td>\n",
       "      <td>48.0</td>\n",
       "      <td>20.7</td>\n",
       "      <td>30.0</td>\n",
       "      <td>35.2</td>\n",
       "      <td>22.5</td>\n",
       "      <td>37.3</td>\n",
       "      <td>25.0</td>\n",
       "      <td>39.6</td>\n",
       "      <td>27.2</td>\n",
       "      <td>0.09</td>\n",
       "      <td>1000</td>\n",
       "      <td>-6.21</td>\n",
       "      <td>3.81</td>\n",
       "      <td>0</td>\n",
       "      <td>5.01</td>\n",
       "      <td>350</td>\n",
       "      <td>350</td>\n",
       "      <td>0.000097</td>\n",
       "      <td>0.000097</td>\n",
       "      <td>0.034385</td>\n",
       "      <td>0.010316</td>\n",
       "      <td>2063.119633</td>\n",
       "      <td>618.93589</td>\n",
       "    </tr>\n",
       "    <tr>\n",
       "      <th>4</th>\n",
       "      <td>1/30/2025 2:21:17 PM.19</td>\n",
       "      <td>32.8</td>\n",
       "      <td>48.1</td>\n",
       "      <td>20.8</td>\n",
       "      <td>30.1</td>\n",
       "      <td>35.1</td>\n",
       "      <td>22.5</td>\n",
       "      <td>37.3</td>\n",
       "      <td>25.0</td>\n",
       "      <td>39.6</td>\n",
       "      <td>27.3</td>\n",
       "      <td>0.09</td>\n",
       "      <td>1000</td>\n",
       "      <td>-6.21</td>\n",
       "      <td>3.81</td>\n",
       "      <td>0</td>\n",
       "      <td>5.01</td>\n",
       "      <td>350</td>\n",
       "      <td>350</td>\n",
       "      <td>0.000097</td>\n",
       "      <td>0.000097</td>\n",
       "      <td>0.034385</td>\n",
       "      <td>0.010316</td>\n",
       "      <td>2063.119633</td>\n",
       "      <td>618.93589</td>\n",
       "    </tr>\n",
       "  </tbody>\n",
       "</table>\n",
       "</div>"
      ],
      "text/plain": [
       "                      Time  T1 (°C)  T2 (°C)  T3 (°C)  T4 (°C)  T5 (°C)  \\\n",
       "0  1/30/2025 2:21:15 PM.19     32.9     48.0     20.8     30.1     35.2   \n",
       "1  1/30/2025 2:21:15 PM.69     32.9     48.0     20.7     30.0     35.2   \n",
       "2  1/30/2025 2:21:16 PM.19     32.9     48.0     20.8     30.0     35.2   \n",
       "3  1/30/2025 2:21:16 PM.69     32.8     48.0     20.7     30.0     35.2   \n",
       "4  1/30/2025 2:21:17 PM.19     32.8     48.1     20.8     30.1     35.1   \n",
       "\n",
       "   T6 (°C)  T7 (°C)  T8 (°C)  T9 (°C)  T10 (°C)  dp1 (mbar)  dp2 (mbar)  \\\n",
       "0     22.5     37.3     25.0     39.6      27.2        0.08        1000   \n",
       "1     22.5     37.3     25.0     39.6      27.2        0.09        1000   \n",
       "2     22.5     37.3     25.0     39.7      27.3        0.09        1000   \n",
       "3     22.5     37.3     25.0     39.6      27.2        0.09        1000   \n",
       "4     22.5     37.3     25.0     39.6      27.3        0.09        1000   \n",
       "\n",
       "   dQ1/dt (kW)  dQ2/dt (kW)  dQ3/dt (kW)  dQm/dt (kW)  hot flow (L/hr)  \\\n",
       "0        -6.17         3.80            0         4.99              350   \n",
       "1        -6.12         3.77            0         4.95              350   \n",
       "2        -6.17         3.81            0         4.99              350   \n",
       "3        -6.21         3.81            0         5.01              350   \n",
       "4        -6.21         3.81            0         5.01              350   \n",
       "\n",
       "   cold flow (L/hr)  hot flow (m^3/s)  cold flow (m^3/s)  u_cold (m/s)  \\\n",
       "0               350          0.000097           0.000097      0.034385   \n",
       "1               350          0.000097           0.000097      0.034385   \n",
       "2               350          0.000097           0.000097      0.034385   \n",
       "3               350          0.000097           0.000097      0.034385   \n",
       "4               350          0.000097           0.000097      0.034385   \n",
       "\n",
       "   u_hot (m/s)  Re_cold (inner tube)  Re_hot (annular region)  \n",
       "0     0.010316           2063.119633                618.93589  \n",
       "1     0.010316           2063.119633                618.93589  \n",
       "2     0.010316           2063.119633                618.93589  \n",
       "3     0.010316           2063.119633                618.93589  \n",
       "4     0.010316           2063.119633                618.93589  "
      ]
     },
     "execution_count": 245,
     "metadata": {},
     "output_type": "execute_result"
    }
   ],
   "source": [
    "pd.set_option(\"display.max_columns\", None)\n",
    "df_tube_cross_350h_350c.head()"
   ]
  },
  {
   "cell_type": "markdown",
   "metadata": {},
   "source": [
    "Both flow regimes are laminar in this case as inner tube and annular flow is $< 2300$, so we will use equation (20-27)\n",
    "\n",
    "$$\n",
    "Nu_D = 1.86 (Pe( \\frac{D}{L})^\\frac{1}{3})(\\frac{\\mu_b}{\\mu_w})^{0.14}\n",
    "$$\n",
    "\n",
    "In order, to get Peclet number, $Pe$, we must solve for it using $Re$ and $Pr$. From _Fundamentals of Momentum, Heat and Mass_, table A.6 $35 \\degree \\text{C}$, $Pr$ = 7 for cold flow and $Pr$ = 5.0 for hot flow.\n",
    "\n",
    "**Update Prandtl numbers**\n"
   ]
  },
  {
   "cell_type": "code",
   "execution_count": 246,
   "metadata": {},
   "outputs": [],
   "source": [
    "Cp = 4180 #kJ/ kg K"
   ]
  },
  {
   "cell_type": "code",
   "execution_count": 247,
   "metadata": {},
   "outputs": [],
   "source": [
    "df_tube_cross_350h_350c[\"Pr_cold (inner tube)\"] = (Cp * mu) / k_cold\n",
    "df_tube_cross_350h_350c[\"Pr_hot (annular region)\"] = (Cp * mu) / k_hot"
   ]
  },
  {
   "cell_type": "code",
   "execution_count": 248,
   "metadata": {},
   "outputs": [],
   "source": [
    "df_tube_cross_350h_350c[\"Pe_cold (inner tube)\"] = df_tube_cross_350h_350c[\"Re_cold (inner tube)\"] * df_tube_cross_350h_350c[\"Pr_cold (inner tube)\"]\n",
    "df_tube_cross_350h_350c[\"Pe_hot (annular region)\"] = df_tube_cross_350h_350c[\"Re_hot (annular region)\"] * df_tube_cross_350h_350c[\"Pr_hot (annular region)\"]"
   ]
  },
  {
   "cell_type": "code",
   "execution_count": 249,
   "metadata": {},
   "outputs": [
    {
     "data": {
      "text/plain": [
       "300.65"
      ]
     },
     "execution_count": 249,
     "metadata": {},
     "output_type": "execute_result"
    }
   ],
   "source": [
    "T_c_bulk = 16 + 273.15 # K\n",
    "T_h_bulk = 39 + 273.15 # K\n",
    "\n",
    "T_wall = (T_c_bulk + T_h_bulk) / 2 # K\n",
    "T_wall"
   ]
  },
  {
   "cell_type": "markdown",
   "metadata": {},
   "source": [
    "To get $\\mu_w$ we will assume that the wall between the hot and cold tube is at the average of the hot and cold water flow temperatures which from our experiment we have as:\n",
    "\n",
    "$$\n",
    "T_{c, bulk} = 16 \\degree C \\text{ and } T_{h, bulk} = 39 \\degree \\text{C}\n",
    "$$\n",
    "\n",
    "using the bulk temperatures and this, we can get viscosities from the below expression which has dependence on the thermometer readings across the tubes\n",
    "\n",
    "$$\n",
    "\\mu(T1 - T8) \\text{ mPa s}\n",
    "$$\n",
    "\n",
    "$$\n",
    "\\mu_w(T = 22.5 \\degree \\text{C}) = 0.911 \\text{ mPa s}\n",
    "$$\n",
    "\n",
    "\n",
    "\n",
    "**confirm this viscosity formula**"
   ]
  },
  {
   "cell_type": "code",
   "execution_count": 250,
   "metadata": {},
   "outputs": [],
   "source": [
    "mu_w = 0.911 / 1000 # Pa * s\n",
    "\n",
    "def vogel(T_C):\n",
    "    A = 2.414e-5\n",
    "    B = 247.8\n",
    "    C = 140\n",
    "    mu_mPa_s = A * 10**(B / ((T_C+273.15) - C))  # in mPa·s\n",
    "    mu_Pa_s = mu_mPa_s / 1000      # convert to Pa·s\n",
    "    return mu_Pa_s"
   ]
  },
  {
   "cell_type": "code",
   "execution_count": 251,
   "metadata": {},
   "outputs": [],
   "source": [
    "mean_temps = df_tube_cross_350h_350c.mean(numeric_only=True)"
   ]
  },
  {
   "cell_type": "code",
   "execution_count": 252,
   "metadata": {},
   "outputs": [
    {
     "data": {
      "text/plain": [
       "T1 (°C)                       32.816000\n",
       "T2 (°C)                       48.014000\n",
       "T3 (°C)                       20.634000\n",
       "T4 (°C)                       30.006000\n",
       "T5 (°C)                       35.194000\n",
       "T6 (°C)                       22.500000\n",
       "T7 (°C)                       37.300000\n",
       "T8 (°C)                       25.086000\n",
       "T9 (°C)                       39.616000\n",
       "T10 (°C)                      27.274000\n",
       "dp1 (mbar)                     0.083200\n",
       "dp2 (mbar)                  1000.000000\n",
       "dQ1/dt (kW)                   -6.188600\n",
       "dQ2/dt (kW)                    3.845400\n",
       "dQ3/dt (kW)                    0.000000\n",
       "dQm/dt (kW)                    5.017800\n",
       "hot flow (L/hr)              350.000000\n",
       "cold flow (L/hr)             350.000000\n",
       "hot flow (m^3/s)               0.000097\n",
       "cold flow (m^3/s)              0.000097\n",
       "u_cold (m/s)                   0.034385\n",
       "u_hot (m/s)                    0.010316\n",
       "Re_cold (inner tube)        2063.119633\n",
       "Re_hot (annular region)      618.935890\n",
       "Pr_cold (inner tube)           7.060811\n",
       "Pr_hot (annular region)        6.818923\n",
       "Pe_cold (inner tube)       14567.297406\n",
       "Pe_hot (annular region)     4220.476377\n",
       "dtype: float64"
      ]
     },
     "execution_count": 252,
     "metadata": {},
     "output_type": "execute_result"
    }
   ],
   "source": [
    "mean_temps"
   ]
  },
  {
   "cell_type": "code",
   "execution_count": 253,
   "metadata": {},
   "outputs": [
    {
     "data": {
      "image/png": "[encoded data removed]",
      "text/plain": [
       "<Figure size 800x500 with 1 Axes>"
      ]
     },
     "metadata": {},
     "output_type": "display_data"
    }
   ],
   "source": [
    "cold_thermocouples = [\"T1 (°C)\", \"T5 (°C)\", \"T7 (°C)\", \"T9 (°C)\", \"T2 (°C)\"]   # cold water path\n",
    "hot_thermocouples  = [\"T3 (°C)\", \"T6 (°C)\", \"T8 (°C)\", \"T10 (°C)\", \"T4 (°C)\"]  # hot water path\n",
    "\n",
    "cold_temps = np.array([mean_temps[t] for t in cold_thermocouples])\n",
    "hot_temps  = np.array([mean_temps[t] for t in hot_thermocouples])\n",
    "\n",
    "cold_visc = np.array([vogel(T) for T in cold_temps])\n",
    "hot_visc  = np.array([vogel(T) for T in hot_temps])\n",
    "\n",
    "plt.figure(figsize=(8, 5))\n",
    "plt.plot([cold_temp +273.15 for cold_temp in cold_temps], cold_visc * 1e3, 'bo-', label='Cold Water')  # mPa·s\n",
    "plt.plot([hot_temp +273.15 for hot_temp in hot_temps],  hot_visc  * 1e3, 'ro-', label='Hot Water')   # mPa·s\n",
    "plt.xlabel(\"Temperature (K)\")\n",
    "plt.ylabel(\"Viscosity (mPa·s)\")\n",
    "plt.title(\"Water Viscosity vs. Temperature (Cold vs. Hot Stream)\")\n",
    "plt.legend()\n",
    "plt.tight_layout()\n",
    "plt.show()\n"
   ]
  },
  {
   "cell_type": "code",
   "execution_count": 254,
   "metadata": {},
   "outputs": [
    {
     "name": "stdout",
     "output_type": "stream",
     "text": [
      "14567.29740637155\n"
     ]
    }
   ],
   "source": [
    "print(df_tube_cross_350h_350c[\"Pe_cold (inner tube)\"].mean())"
   ]
  },
  {
   "cell_type": "code",
   "execution_count": 255,
   "metadata": {},
   "outputs": [],
   "source": [
    "Nu_cold = 1.86 * df_tube_cross_350h_350c[\"Pe_cold (inner tube)\"].mean() * (D_inner/L) ** (1/3) * (cold_visc / mu_w) ** 0.14\n",
    "Nu_hot = 1.86 * df_tube_cross_350h_350c[\"Pe_hot (annular region)\"].mean() * (D_annular/L) ** (1/3) * (hot_visc / mu_w) ** 0.14"
   ]
  },
  {
   "cell_type": "code",
   "execution_count": 256,
   "metadata": {},
   "outputs": [
    {
     "data": {
      "text/plain": [
       "array([2663.83363482, 2645.78386472, 2630.31741516, 2613.84440532,\n",
       "       2558.4169983 ])"
      ]
     },
     "execution_count": 256,
     "metadata": {},
     "output_type": "execute_result"
    }
   ],
   "source": [
    "Nu_cold"
   ]
  },
  {
   "cell_type": "markdown",
   "metadata": {},
   "source": [
    "The final step is computing heat transfer coefficient as\n",
    "\n",
    "$$\n",
    "h = \\frac{Nu \\times k}{D}\n",
    "$$\n",
    "\n",
    "**get thermal conductivity with temperature dependence**"
   ]
  },
  {
   "cell_type": "code",
   "execution_count": 257,
   "metadata": {},
   "outputs": [],
   "source": [
    "h_cold = (Nu_cold * k_cold) / D_inner\n",
    "h_hot = (Nu_hot * k_hot) / D_annular"
   ]
  },
  {
   "cell_type": "code",
   "execution_count": 258,
   "metadata": {},
   "outputs": [
    {
     "data": {
      "text/plain": [
       "array([26283.15853026, 26105.06746519, 25952.46516289, 25789.93146578,\n",
       "       25243.04771657])"
      ]
     },
     "execution_count": 258,
     "metadata": {},
     "output_type": "execute_result"
    }
   ],
   "source": [
    "h_cold"
   ]
  },
  {
   "cell_type": "markdown",
   "metadata": {},
   "source": [
    "(c) Calculate the theoretical heat transfer coefficient ($U_{theory}$) using thermal\n",
    "resistances and compare it with the experimental value ($U_{exp}$).\n",
    "\n",
    "We can solve for theoretical overall heat transfer coefficient using the equation (4) from the lab manual\n",
    "\n",
    "$$\n",
    "U = (\\frac{1}{h_i} + \\frac{D_i}{D_o} \\times \\frac{1}{h_o})^{-1}\n",
    "$$"
   ]
  },
  {
   "cell_type": "code",
   "execution_count": 259,
   "metadata": {},
   "outputs": [],
   "source": [
    "U = ((1/h_cold) + (D_inner/D_annular) * (1/h_hot)) ** (-1)"
   ]
  },
  {
   "cell_type": "code",
   "execution_count": 260,
   "metadata": {},
   "outputs": [
    {
     "data": {
      "text/plain": [
       "np.float64(7442.785525320217)"
      ]
     },
     "execution_count": 260,
     "metadata": {},
     "output_type": "execute_result"
    }
   ],
   "source": [
    "U.mean()"
   ]
  },
  {
   "cell_type": "code",
   "execution_count": 261,
   "metadata": {},
   "outputs": [
    {
     "data": {
      "image/png": "[encoded data removed]",
      "text/plain": [
       "<Figure size 800x500 with 1 Axes>"
      ]
     },
     "metadata": {},
     "output_type": "display_data"
    }
   ],
   "source": [
    "df = pd.DataFrame({\n",
    "    'Segment': np.arange(1, 10, 2), # thermocouple numbers -> TODO: replace with positions\n",
    "    'position': np.arange(.800, 2.400, 1.600/5),\n",
    "    'h_cold (W/m²·K)': h_cold,\n",
    "    'h_hot (W/m²·K)': h_hot,\n",
    "    'U (W/m²·K)': U\n",
    "})\n",
    "\n",
    "\n",
    "plt.figure(figsize=(8, 5))\n",
    "plt.scatter(df['position'], df['U (W/m²·K)'], marker='o', linestyle='-', color='darkgreen')\n",
    "plt.xlabel(\"Position down tubular HX (m)\")\n",
    "plt.ylabel(\"Overall $U$ (W/m²·K)\")\n",
    "plt.title(\"Overall Heat Transfer Coefficient $U$ Down Tubular HX\")\n",
    "plt.tight_layout()\n",
    "plt.show()\n"
   ]
  },
  {
   "cell_type": "markdown",
   "metadata": {},
   "source": [
    "(d) Maintain a constant outer flow rate of 350 L/hr and vary the inner flow rate (200, 300, 400 L/hr). Experimentally determine how $h_i$ vary with changing fluid flow rates.\n",
    "\n",
    "We will extend the analysis we did at 350 L/hr for both directions to a varying inner flow rate. Our first step is checking if the flow is laminar for all of these cases. "
   ]
  },
  {
   "cell_type": "code",
   "execution_count": 262,
   "metadata": {},
   "outputs": [],
   "source": [
    "dfs = [df_tube_cross_350h_200c, df_tube_cross_350h_300c, df_tube_cross_350h_350c, df_tube_cross_350h_400c]"
   ]
  },
  {
   "cell_type": "code",
   "execution_count": 263,
   "metadata": {},
   "outputs": [
    {
     "name": "stdout",
     "output_type": "stream",
     "text": [
      "Re_cold (inner tube)       1178.925504\n",
      "Re_hot (annular region)     618.935890\n",
      "Name: 0, dtype: float64\n",
      "Re_cold (inner tube)       1768.388257\n",
      "Re_hot (annular region)     618.935890\n",
      "Name: 0, dtype: float64\n",
      "Re_cold (inner tube)       2063.119633\n",
      "Re_hot (annular region)     618.935890\n",
      "Name: 0, dtype: float64\n",
      "Re_cold (inner tube)       2357.851009\n",
      "Re_hot (annular region)     618.935890\n",
      "Name: 0, dtype: float64\n"
     ]
    }
   ],
   "source": [
    "for df in dfs:\n",
    "    print(df[[\"Re_cold (inner tube)\", \"Re_hot (annular region)\"]].iloc[0])"
   ]
  },
  {
   "cell_type": "code",
   "execution_count": 264,
   "metadata": {},
   "outputs": [],
   "source": [
    "h_colds = []\n",
    "h_hots = []\n",
    "U_exp = []\n",
    "\n",
    "for i, df in enumerate(dfs):\n",
    "    df[\"Pr_cold (inner tube)\"] = (Cp * mu) / k_cold\n",
    "    df[\"Pr_hot (annular region)\"] = (Cp * mu) / k_hot\n",
    "    df[\"Pe_cold (inner tube)\"] = df[\"Re_cold (inner tube)\"] * df[\"Pr_cold (inner tube)\"]\n",
    "    df[\"Pe_hot (annular region)\"] = df[\"Re_hot (annular region)\"] * df[\"Pr_hot (annular region)\"]\n",
    "    mean_temps = df.mean(numeric_only=True)\n",
    "\n",
    "    cold_temps = np.array([mean_temps[t] for t in cold_thermocouples])\n",
    "    hot_temps  = np.array([mean_temps[t] for t in hot_thermocouples])\n",
    "    cold_visc = np.array([vogel(T) for T in cold_temps])\n",
    "    hot_visc  = np.array([vogel(T) for T in hot_temps])\n",
    "    Nu_cold = 1.86 * df[\"Pe_cold (inner tube)\"].mean() * (D_inner/L) ** (1/3) * (cold_visc / mu_w) ** 0.14\n",
    "    Nu_hot = 1.86 * df[\"Pe_hot (annular region)\"].mean() * (D_annular/L) ** (1/3) * (hot_visc / mu_w) ** 0.14\n",
    "    h_cold = (Nu_cold * k_cold) / D_inner\n",
    "    h_hot = (Nu_hot * k_hot) / D_annular\n",
    "    h_colds.append(h_cold.mean())\n",
    "    h_hots.append(h_hot.mean())\n",
    "\n",
    "    U_exp.append(((1/h_cold.mean()) + (D_inner/D_annular) * (1/h_hot.mean())) ** (-1))\n"
   ]
  },
  {
   "cell_type": "code",
   "execution_count": 265,
   "metadata": {},
   "outputs": [
    {
     "data": {
      "text/plain": [
       "np.float64(6140.021492804823)"
      ]
     },
     "execution_count": 265,
     "metadata": {},
     "output_type": "execute_result"
    }
   ],
   "source": [
    "(U_exp[0])"
   ]
  },
  {
   "cell_type": "markdown",
   "metadata": {},
   "source": [
    "(e) Compare the experimentally determined scaling of $h$ with theoretical predictions, which suggest $h \\propto Re^m$, where $m$ depends on the flow regime. Plot $h$ values against flow rate for both experimental results and theoretical correlations.\n",
    "\n",
    "First we will plot the experimental results for h against flow rates"
   ]
  },
  {
   "cell_type": "code",
   "execution_count": 266,
   "metadata": {},
   "outputs": [
    {
     "data": {
      "text/plain": [
       "Text(0.5, 1.0, 'hot and cold flow heat transfer coefficient scaling')"
      ]
     },
     "execution_count": 266,
     "metadata": {},
     "output_type": "execute_result"
    },
    {
     "data": {
      "image/png": "[encoded data removed]",
      "text/plain": [
       "<Figure size 800x600 with 1 Axes>"
      ]
     },
     "metadata": {},
     "output_type": "display_data"
    }
   ],
   "source": [
    "inner_flows = [200, 300, 350, 400]\n",
    "plt.figure(figsize=(8,6))\n",
    "plt.scatter(inner_flows, h_colds, label = \"cold water flow heat transfer coeff\")\n",
    "plt.scatter(inner_flows, h_hots, label = \"hot water flow heat transfer coeff\")\n",
    "plt.xlabel(\"inner flow rates (L/hr)\")\n",
    "plt.ylabel(\"heat transfer coefficients (W/mK)\")\n",
    "plt.title(\"hot and cold flow heat transfer coefficient scaling\")"
   ]
  },
  {
   "cell_type": "code",
   "execution_count": 267,
   "metadata": {},
   "outputs": [
    {
     "data": {
      "text/plain": [
       "[np.float64(6140.021492804823),\n",
       " np.float64(7071.3653881614855),\n",
       " np.float64(7442.81952175521),\n",
       " np.float64(7693.134660698456)]"
      ]
     },
     "execution_count": 267,
     "metadata": {},
     "output_type": "execute_result"
    }
   ],
   "source": [
    "U_exp"
   ]
  },
  {
   "cell_type": "markdown",
   "metadata": {},
   "source": [
    "Plotting this on log-log scale to see the scaling"
   ]
  },
  {
   "cell_type": "code",
   "execution_count": 268,
   "metadata": {},
   "outputs": [
    {
     "data": {
      "text/plain": [
       "(np.float64(0.9923809582409358), np.float64(-0.014775555720363837))"
      ]
     },
     "execution_count": 268,
     "metadata": {},
     "output_type": "execute_result"
    },
    {
     "data": {
      "image/png": "[encoded data removed]",
      "text/plain": [
       "<Figure size 800x600 with 1 Axes>"
      ]
     },
     "metadata": {},
     "output_type": "display_data"
    }
   ],
   "source": [
    "inner_flows = np.array(inner_flows)\n",
    "\n",
    "log_flows = np.log(inner_flows)\n",
    "log_h_colds = np.log(h_colds)\n",
    "log_h_hots = np.log(h_hots)\n",
    "\n",
    "slope_cold, intercept_cold = np.polyfit(log_flows, log_h_colds, 1)\n",
    "slope_hot, intercept_hot = np.polyfit(log_flows, log_h_hots, 1)\n",
    "\n",
    "flow_range = np.linspace(inner_flows.min(), inner_flows.max(), 100)\n",
    "fit_h_colds = np.exp(intercept_cold) * flow_range ** slope_cold\n",
    "fit_h_hots = np.exp(intercept_hot) * flow_range ** slope_hot\n",
    "\n",
    "plt.figure(figsize=(8, 6))\n",
    "plt.loglog(inner_flows, h_colds, 'bo', label='Cold water (data)')\n",
    "plt.loglog(flow_range, fit_h_colds, 'b--', label=f'Cold water fit (slope={slope_cold:.2f})')\n",
    "\n",
    "plt.loglog(inner_flows, h_hots, 'ro', label='Hot water (data)')\n",
    "plt.loglog(flow_range, fit_h_hots, 'r--', label=f'Hot water fit (slope={slope_hot:.2f})')\n",
    "\n",
    "plt.xlabel(\"Inner flow rate (L/hr)\")\n",
    "plt.ylabel(\"Heat transfer coefficient (W/m²·K)\")\n",
    "plt.title(\"Log-Log Scaling of Heat Transfer Coefficients with Flow Rate\")\n",
    "plt.legend()\n",
    "\n",
    "(slope_cold, slope_hot)\n"
   ]
  },
  {
   "cell_type": "markdown",
   "metadata": {},
   "source": [
    "Then, we can plot the theoretical correlation between $h$ and flow rate using $Re$ since $Re \\propto u = (\\frac{\\dot q}{A})$. The expected scaling is $h \\propto Re^{1/3}$ as given by Sieder–Tate equation (20-27):\n",
    "\n",
    "$$\n",
    "\\frac{hD}{k} = 1.86 (RePr( \\frac{D}{L})^\\frac{1}{3})(\\frac{\\mu_b}{\\mu_w})^{0.14}\n",
    "$$\n",
    "\n",
    "\n"
   ]
  },
  {
   "cell_type": "code",
   "execution_count": 269,
   "metadata": {},
   "outputs": [],
   "source": [
    "Reynolds = [df[\"Re_cold (inner tube)\"].mean() for df in dfs]"
   ]
  },
  {
   "cell_type": "code",
   "execution_count": 270,
   "metadata": {},
   "outputs": [
    {
     "data": {
      "text/plain": [
       "<matplotlib.legend.Legend at 0x11f389a90>"
      ]
     },
     "execution_count": 270,
     "metadata": {},
     "output_type": "execute_result"
    },
    {
     "data": {
      "image/png": "[encoded data removed]",
      "text/plain": [
       "<Figure size 800x600 with 1 Axes>"
      ]
     },
     "metadata": {},
     "output_type": "display_data"
    }
   ],
   "source": [
    "plt.figure(figsize=(8,6))\n",
    "plt.scatter(Reynolds, h_colds, label=\"heat transfer coefficients\")\n",
    "plt.xlabel(\"Reynolds numbers, $Re$\")\n",
    "plt.ylabel(\"Heat transfer coefficients (W/m²·K)\")\n",
    "plt.title(\"Scaling of Heat Transfer Coefficients with Reynolds Number, $Re$\")\n",
    "plt.legend()"
   ]
  },
  {
   "cell_type": "code",
   "execution_count": 271,
   "metadata": {},
   "outputs": [
    {
     "data": {
      "image/png": "[encoded data removed]",
      "text/plain": [
       "<Figure size 800x600 with 1 Axes>"
      ]
     },
     "metadata": {},
     "output_type": "display_data"
    },
    {
     "data": {
      "text/plain": [
       "np.float64(0.9923809582409294)"
      ]
     },
     "execution_count": 271,
     "metadata": {},
     "output_type": "execute_result"
    }
   ],
   "source": [
    "log_Re = np.log(Reynolds)\n",
    "log_h = np.log(h_colds)\n",
    "\n",
    "slope, intercept = np.polyfit(log_Re, log_h, 1)\n",
    "fit_h = np.exp(intercept) * Reynolds ** slope\n",
    "\n",
    "plt.figure(figsize=(8, 6))\n",
    "plt.loglog(Reynolds, h_colds, 'bo', label=\"Experimental data\")\n",
    "plt.loglog(Reynolds, fit_h, 'b--', label=f'Fit: $h \\\\propto Re^{{{slope:.2f}}}$')\n",
    "\n",
    "plt.xlabel(\"Reynolds number, $Re$\")\n",
    "plt.ylabel(\"Heat transfer coefficient $h$ (W/m²·K)\")\n",
    "plt.title(\"Log-Log Scaling of $h$ with Reynolds Number\")\n",
    "plt.legend()\n",
    "plt.tight_layout()\n",
    "plt.show()\n",
    "\n",
    "slope\n"
   ]
  },
  {
   "cell_type": "code",
   "execution_count": 272,
   "metadata": {},
   "outputs": [
    {
     "data": {
      "text/plain": [
       "Text(0.5, 1.0, 'Overall theoretical heat transfer coefficient, $U$, scaling')"
      ]
     },
     "execution_count": 272,
     "metadata": {},
     "output_type": "execute_result"
    },
    {
     "data": {
      "image/png": "[encoded data removed]",
      "text/plain": [
       "<Figure size 800x600 with 1 Axes>"
      ]
     },
     "metadata": {},
     "output_type": "display_data"
    }
   ],
   "source": [
    "inner_flows = [200, 300, 350, 400]\n",
    "plt.figure(figsize=(8,6))\n",
    "plt.scatter(inner_flows, U_exp, label = \"Overall heat transfer coeff\")\n",
    "plt.xlabel(\"inner flow rates (L/hr)\")\n",
    "plt.ylabel(\"heat transfer coefficient, $U$ (W/mK)\")\n",
    "plt.title(\"Overall theoretical heat transfer coefficient, $U$, scaling\")"
   ]
  },
  {
   "cell_type": "code",
   "execution_count": 273,
   "metadata": {},
   "outputs": [
    {
     "data": {
      "image/png": "[encoded data removed]",
      "text/plain": [
       "<Figure size 800x600 with 1 Axes>"
      ]
     },
     "metadata": {},
     "output_type": "display_data"
    },
    {
     "data": {
      "text/plain": [
       "np.float64(0.3305701117915847)"
      ]
     },
     "execution_count": 273,
     "metadata": {},
     "output_type": "execute_result"
    }
   ],
   "source": [
    "log_flows = np.log(inner_flows)\n",
    "log_Us = np.log(U_exp)\n",
    "\n",
    "slope_U, intercept_U = np.polyfit(log_flows, log_Us, 1)\n",
    "fit_Us = np.exp(intercept_U) * inner_flows ** slope_U\n",
    "\n",
    "plt.figure(figsize=(8, 6))\n",
    "plt.loglog(inner_flows, U_exp, 'go', label='Experimental $U$')\n",
    "plt.loglog(inner_flows, fit_Us, 'g--', label=f'Fit: $U \\\\propto \\\\dot{{V}}^{{{slope_U:.2f}}}$')\n",
    "\n",
    "plt.xlabel(\"Inner flow rate (L/hr)\")\n",
    "plt.ylabel(\"Overall heat transfer coefficient $U$ (W/m²·K)\")\n",
    "plt.title(\"Log-Log Scaling of Overall Theoretical $U$ with Inner Flow Rate\")\n",
    "plt.legend()\n",
    "plt.tight_layout()\n",
    "plt.show()\n",
    "\n",
    "slope_U\n"
   ]
  },
  {
   "cell_type": "code",
   "execution_count": 274,
   "metadata": {},
   "outputs": [
    {
     "data": {
      "text/plain": [
       "<matplotlib.legend.Legend at 0x1282b7390>"
      ]
     },
     "execution_count": 274,
     "metadata": {},
     "output_type": "execute_result"
    },
    {
     "data": {
      "image/png": "[encoded data removed]",
      "text/plain": [
       "<Figure size 800x600 with 1 Axes>"
      ]
     },
     "metadata": {},
     "output_type": "display_data"
    }
   ],
   "source": [
    "plt.figure(figsize=(8,6))\n",
    "plt.scatter(Reynolds, U_exp, label=\"overall heat transfer coefficients, $U$\")\n",
    "plt.xlabel(\"Reynolds numbers, $Re$\")\n",
    "plt.ylabel(\"Experimental overall heat transfer coefficients, $U$ (W/m²·K)\")\n",
    "plt.title(\"Scaling of Heat Transfer Coefficient with Reynolds Number\")\n",
    "plt.legend()"
   ]
  },
  {
   "cell_type": "code",
   "execution_count": 275,
   "metadata": {},
   "outputs": [
    {
     "data": {
      "image/png": "[encoded data removed]",
      "text/plain": [
       "<Figure size 800x600 with 1 Axes>"
      ]
     },
     "metadata": {},
     "output_type": "display_data"
    },
    {
     "data": {
      "text/plain": [
       "np.float64(0.33057011179158563)"
      ]
     },
     "execution_count": 275,
     "metadata": {},
     "output_type": "execute_result"
    }
   ],
   "source": [
    "log_Re = np.log(Reynolds)\n",
    "log_U = np.log(U_exp)\n",
    "\n",
    "slope_URe, intercept_URe = np.polyfit(log_Re, log_U, 1)\n",
    "fit_Us_Re = np.exp(intercept_URe) * Reynolds ** slope_URe\n",
    "\n",
    "plt.figure(figsize=(8, 6))\n",
    "plt.loglog(Reynolds, U_exp, 'mo', label='Experimental $U$')\n",
    "plt.loglog(Reynolds, fit_Us_Re, 'm--', label=f'Fit: $U \\\\propto Re^{{{slope_URe:.2f}}}$')\n",
    "\n",
    "plt.xlabel(\"Reynolds number, $Re$\")\n",
    "plt.ylabel(\"Overall heat transfer coefficient $U$ (W/m²·K)\")\n",
    "plt.title(\"Log-Log Scaling of Theoretical $U$ with Reynolds Number\")\n",
    "plt.legend()\n",
    "plt.tight_layout()\n",
    "plt.show()\n",
    "\n",
    "slope_URe\n"
   ]
  },
  {
   "cell_type": "markdown",
   "metadata": {},
   "source": [
    "Now we will explore the theoretical overall heat transfer coefficient $U$\n",
    "\n",
    "$$U = \\frac{\\dot Q_M}{A_M \\cdot \\Delta T_{LM}}$$"
   ]
  },
  {
   "cell_type": "code",
   "execution_count": 276,
   "metadata": {},
   "outputs": [],
   "source": [
    "dfs = [df_tube_cross_350h_350c, df_tube_cross_350h_300c, df_tube_cross_350h_200c, df_tube_cross_350h_400c ]"
   ]
  },
  {
   "cell_type": "code",
   "execution_count": 277,
   "metadata": {},
   "outputs": [
    {
     "data": {
      "text/html": [
       "<div>\n",
       "<style scoped>\n",
       "    .dataframe tbody tr th:only-of-type {\n",
       "        vertical-align: middle;\n",
       "    }\n",
       "\n",
       "    .dataframe tbody tr th {\n",
       "        vertical-align: top;\n",
       "    }\n",
       "\n",
       "    .dataframe thead th {\n",
       "        text-align: right;\n",
       "    }\n",
       "</style>\n",
       "<table border=\"1\" class=\"dataframe\">\n",
       "  <thead>\n",
       "    <tr style=\"text-align: right;\">\n",
       "      <th></th>\n",
       "      <th>Time</th>\n",
       "      <th>T1 (°C)</th>\n",
       "      <th>T2 (°C)</th>\n",
       "      <th>T3 (°C)</th>\n",
       "      <th>T4 (°C)</th>\n",
       "      <th>T5 (°C)</th>\n",
       "      <th>T6 (°C)</th>\n",
       "      <th>T7 (°C)</th>\n",
       "      <th>T8 (°C)</th>\n",
       "      <th>T9 (°C)</th>\n",
       "      <th>T10 (°C)</th>\n",
       "      <th>dp1 (mbar)</th>\n",
       "      <th>dp2 (mbar)</th>\n",
       "      <th>dQ1/dt (kW)</th>\n",
       "      <th>dQ2/dt (kW)</th>\n",
       "      <th>dQ3/dt (kW)</th>\n",
       "      <th>dQm/dt (kW)</th>\n",
       "      <th>hot flow (L/hr)</th>\n",
       "      <th>cold flow (L/hr)</th>\n",
       "      <th>hot flow (m^3/s)</th>\n",
       "      <th>cold flow (m^3/s)</th>\n",
       "      <th>u_cold (m/s)</th>\n",
       "      <th>u_hot (m/s)</th>\n",
       "      <th>Re_cold (inner tube)</th>\n",
       "      <th>Re_hot (annular region)</th>\n",
       "      <th>Pr_cold (inner tube)</th>\n",
       "      <th>Pr_hot (annular region)</th>\n",
       "      <th>Pe_cold (inner tube)</th>\n",
       "      <th>Pe_hot (annular region)</th>\n",
       "    </tr>\n",
       "  </thead>\n",
       "  <tbody>\n",
       "    <tr>\n",
       "      <th>0</th>\n",
       "      <td>2/13/2025 4:12:29 PM.43</td>\n",
       "      <td>27.7</td>\n",
       "      <td>100</td>\n",
       "      <td>17.9</td>\n",
       "      <td>25.8</td>\n",
       "      <td>30.7</td>\n",
       "      <td>19.2</td>\n",
       "      <td>33.6</td>\n",
       "      <td>21.3</td>\n",
       "      <td>37.3</td>\n",
       "      <td>23.2</td>\n",
       "      <td>0.10</td>\n",
       "      <td>11</td>\n",
       "      <td>-16.66</td>\n",
       "      <td>3.22</td>\n",
       "      <td>0</td>\n",
       "      <td>9.94</td>\n",
       "      <td>350</td>\n",
       "      <td>200</td>\n",
       "      <td>0.000097</td>\n",
       "      <td>0.000056</td>\n",
       "      <td>0.019649</td>\n",
       "      <td>0.010316</td>\n",
       "      <td>1178.925504</td>\n",
       "      <td>618.93589</td>\n",
       "      <td>7.060811</td>\n",
       "      <td>6.818923</td>\n",
       "      <td>8324.169946</td>\n",
       "      <td>4220.476377</td>\n",
       "    </tr>\n",
       "    <tr>\n",
       "      <th>1</th>\n",
       "      <td>2/13/2025 4:12:29 PM.93</td>\n",
       "      <td>27.7</td>\n",
       "      <td>100</td>\n",
       "      <td>17.9</td>\n",
       "      <td>25.8</td>\n",
       "      <td>30.7</td>\n",
       "      <td>19.2</td>\n",
       "      <td>33.6</td>\n",
       "      <td>21.3</td>\n",
       "      <td>37.3</td>\n",
       "      <td>23.2</td>\n",
       "      <td>0.09</td>\n",
       "      <td>11</td>\n",
       "      <td>-16.66</td>\n",
       "      <td>3.20</td>\n",
       "      <td>0</td>\n",
       "      <td>9.93</td>\n",
       "      <td>350</td>\n",
       "      <td>200</td>\n",
       "      <td>0.000097</td>\n",
       "      <td>0.000056</td>\n",
       "      <td>0.019649</td>\n",
       "      <td>0.010316</td>\n",
       "      <td>1178.925504</td>\n",
       "      <td>618.93589</td>\n",
       "      <td>7.060811</td>\n",
       "      <td>6.818923</td>\n",
       "      <td>8324.169946</td>\n",
       "      <td>4220.476377</td>\n",
       "    </tr>\n",
       "    <tr>\n",
       "      <th>2</th>\n",
       "      <td>2/13/2025 4:12:30 PM.43</td>\n",
       "      <td>27.7</td>\n",
       "      <td>100</td>\n",
       "      <td>17.8</td>\n",
       "      <td>25.8</td>\n",
       "      <td>30.7</td>\n",
       "      <td>19.2</td>\n",
       "      <td>33.6</td>\n",
       "      <td>21.3</td>\n",
       "      <td>37.3</td>\n",
       "      <td>23.2</td>\n",
       "      <td>0.09</td>\n",
       "      <td>10</td>\n",
       "      <td>-16.54</td>\n",
       "      <td>3.20</td>\n",
       "      <td>0</td>\n",
       "      <td>9.87</td>\n",
       "      <td>350</td>\n",
       "      <td>200</td>\n",
       "      <td>0.000097</td>\n",
       "      <td>0.000056</td>\n",
       "      <td>0.019649</td>\n",
       "      <td>0.010316</td>\n",
       "      <td>1178.925504</td>\n",
       "      <td>618.93589</td>\n",
       "      <td>7.060811</td>\n",
       "      <td>6.818923</td>\n",
       "      <td>8324.169946</td>\n",
       "      <td>4220.476377</td>\n",
       "    </tr>\n",
       "    <tr>\n",
       "      <th>3</th>\n",
       "      <td>2/13/2025 4:12:30 PM.93</td>\n",
       "      <td>27.7</td>\n",
       "      <td>100</td>\n",
       "      <td>17.9</td>\n",
       "      <td>25.8</td>\n",
       "      <td>30.7</td>\n",
       "      <td>19.2</td>\n",
       "      <td>33.6</td>\n",
       "      <td>21.3</td>\n",
       "      <td>37.3</td>\n",
       "      <td>23.2</td>\n",
       "      <td>0.10</td>\n",
       "      <td>11</td>\n",
       "      <td>-16.42</td>\n",
       "      <td>3.18</td>\n",
       "      <td>0</td>\n",
       "      <td>9.80</td>\n",
       "      <td>350</td>\n",
       "      <td>200</td>\n",
       "      <td>0.000097</td>\n",
       "      <td>0.000056</td>\n",
       "      <td>0.019649</td>\n",
       "      <td>0.010316</td>\n",
       "      <td>1178.925504</td>\n",
       "      <td>618.93589</td>\n",
       "      <td>7.060811</td>\n",
       "      <td>6.818923</td>\n",
       "      <td>8324.169946</td>\n",
       "      <td>4220.476377</td>\n",
       "    </tr>\n",
       "  </tbody>\n",
       "</table>\n",
       "</div>"
      ],
      "text/plain": [
       "                      Time  T1 (°C)  T2 (°C)  T3 (°C)  T4 (°C)  T5 (°C)  \\\n",
       "0  2/13/2025 4:12:29 PM.43     27.7      100     17.9     25.8     30.7   \n",
       "1  2/13/2025 4:12:29 PM.93     27.7      100     17.9     25.8     30.7   \n",
       "2  2/13/2025 4:12:30 PM.43     27.7      100     17.8     25.8     30.7   \n",
       "3  2/13/2025 4:12:30 PM.93     27.7      100     17.9     25.8     30.7   \n",
       "\n",
       "   T6 (°C)  T7 (°C)  T8 (°C)  T9 (°C)  T10 (°C)  dp1 (mbar)  dp2 (mbar)  \\\n",
       "0     19.2     33.6     21.3     37.3      23.2        0.10          11   \n",
       "1     19.2     33.6     21.3     37.3      23.2        0.09          11   \n",
       "2     19.2     33.6     21.3     37.3      23.2        0.09          10   \n",
       "3     19.2     33.6     21.3     37.3      23.2        0.10          11   \n",
       "\n",
       "   dQ1/dt (kW)  dQ2/dt (kW)  dQ3/dt (kW)  dQm/dt (kW)  hot flow (L/hr)  \\\n",
       "0       -16.66         3.22            0         9.94              350   \n",
       "1       -16.66         3.20            0         9.93              350   \n",
       "2       -16.54         3.20            0         9.87              350   \n",
       "3       -16.42         3.18            0         9.80              350   \n",
       "\n",
       "   cold flow (L/hr)  hot flow (m^3/s)  cold flow (m^3/s)  u_cold (m/s)  \\\n",
       "0               200          0.000097           0.000056      0.019649   \n",
       "1               200          0.000097           0.000056      0.019649   \n",
       "2               200          0.000097           0.000056      0.019649   \n",
       "3               200          0.000097           0.000056      0.019649   \n",
       "\n",
       "   u_hot (m/s)  Re_cold (inner tube)  Re_hot (annular region)  \\\n",
       "0     0.010316           1178.925504                618.93589   \n",
       "1     0.010316           1178.925504                618.93589   \n",
       "2     0.010316           1178.925504                618.93589   \n",
       "3     0.010316           1178.925504                618.93589   \n",
       "\n",
       "   Pr_cold (inner tube)  Pr_hot (annular region)  Pe_cold (inner tube)  \\\n",
       "0              7.060811                 6.818923           8324.169946   \n",
       "1              7.060811                 6.818923           8324.169946   \n",
       "2              7.060811                 6.818923           8324.169946   \n",
       "3              7.060811                 6.818923           8324.169946   \n",
       "\n",
       "   Pe_hot (annular region)  \n",
       "0              4220.476377  \n",
       "1              4220.476377  \n",
       "2              4220.476377  \n",
       "3              4220.476377  "
      ]
     },
     "execution_count": 277,
     "metadata": {},
     "output_type": "execute_result"
    }
   ],
   "source": [
    "df_tube_cross_350h_200c.head(4)"
   ]
  },
  {
   "cell_type": "code",
   "execution_count": 278,
   "metadata": {},
   "outputs": [],
   "source": [
    "hot_inlet_temp = 39 + 273.15 # K\n",
    "hot_outlet_temp = 29 + 273.15 # K\n",
    "\n",
    "cold_inlet_temp = 16 + 273.15 # K\n",
    "cold_outlet_temp = 16 + 273.15 # K"
   ]
  },
  {
   "cell_type": "code",
   "execution_count": 279,
   "metadata": {},
   "outputs": [],
   "source": [
    "Delta_Ta = hot_inlet_temp - cold_outlet_temp\n",
    "Delta_Tb = hot_outlet_temp - cold_inlet_temp\n",
    "LMTD = calculate_LMTD(Delta_Ta, Delta_Tb)\n",
    "\n",
    "U_colds = []\n",
    "U_hots = []\n",
    "\n",
    "for df in dfs:\n",
    "    QM = df[\"dQm/dt (kW)\"].mean()\n",
    "    U_cold = calculate_U(QM, A_i, LMTD)\n",
    "    U_hot = calculate_U(QM, A_h, LMTD)\n",
    "    U_colds.append(U_cold)\n",
    "    U_hots.append(U_hot)"
   ]
  },
  {
   "cell_type": "code",
   "execution_count": 280,
   "metadata": {},
   "outputs": [
    {
     "data": {
      "text/plain": [
       "[np.float64(101.25366711504223),\n",
       " np.float64(151.79373141739288),\n",
       " np.float64(200.3199418439251),\n",
       " np.float64(272.9115042975209)]"
      ]
     },
     "execution_count": 280,
     "metadata": {},
     "output_type": "execute_result"
    }
   ],
   "source": [
    "U_colds"
   ]
  },
  {
   "cell_type": "code",
   "execution_count": 281,
   "metadata": {},
   "outputs": [
    {
     "data": {
      "text/plain": [
       "Text(0, 0.5, 'Experimental Overall Heat Transfer Coefficient, $U$')"
      ]
     },
     "execution_count": 281,
     "metadata": {},
     "output_type": "execute_result"
    },
    {
     "data": {
      "image/png": "[encoded data removed]",
      "text/plain": [
       "<Figure size 640x480 with 1 Axes>"
      ]
     },
     "metadata": {},
     "output_type": "display_data"
    }
   ],
   "source": [
    "plt.scatter(Reynolds, U_colds)\n",
    "plt.scatter(Reynolds, U_hots)\n",
    "plt.title(\"Experimental overall heat transfer coefficient\")\n",
    "plt.xlabel(\"Reynolds, $Re$\")\n",
    "plt.ylabel(\"Experimental Overall Heat Transfer Coefficient, $U$\")"
   ]
  },
  {
   "cell_type": "code",
   "execution_count": 282,
   "metadata": {},
   "outputs": [
    {
     "data": {
      "image/png": "[encoded data removed]",
      "text/plain": [
       "<Figure size 800x600 with 1 Axes>"
      ]
     },
     "metadata": {},
     "output_type": "display_data"
    }
   ],
   "source": [
    "log_Re = np.log(Reynolds)\n",
    "\n",
    "log_U_cold = np.log(U_colds)\n",
    "slope_cold_U, intercept_cold_U = np.polyfit(log_Re, log_U_cold, 1)\n",
    "fit_U_cold = np.exp(intercept_cold_U) * Reynolds ** slope_cold_U\n",
    "\n",
    "log_U_hot = np.log(U_hots)\n",
    "slope_hot_U, intercept_hot_U = np.polyfit(log_Re, log_U_hot, 1)\n",
    "fit_U_hot = np.exp(intercept_hot_U) * Reynolds ** slope_hot_U\n",
    "\n",
    "plt.figure(figsize=(8, 6))\n",
    "plt.loglog(Reynolds, U_colds, 'bo', label='Cold-side $U$')\n",
    "plt.loglog(Reynolds, fit_U_cold, 'b--', label=f'Cold fit: $U \\\\propto Re^{{{0.5/slope_cold_U:.2f}}}$')\n",
    "\n",
    "plt.loglog(Reynolds, U_hots, 'ro', label='Hot-side $U$')\n",
    "plt.loglog(Reynolds, fit_U_hot, 'r--', label=f'Hot fit: $U \\\\propto Re^{{{0.5/slope_hot_U:.2f}}}$')\n",
    "\n",
    "plt.xlabel(\"Reynolds number, $Re$\")\n",
    "plt.ylabel(\"Heat transfer coefficient $U$ (W/m²·K)\")\n",
    "plt.title(\"Log-Log Scaling of Cold and Hot Side $U$ with Reynolds Number\")\n",
    "plt.legend()\n",
    "plt.tight_layout()\n",
    "plt.show()\n"
   ]
  },
  {
   "cell_type": "code",
   "execution_count": 283,
   "metadata": {},
   "outputs": [
    {
     "data": {
      "text/plain": [
       "array([7553.40027839, 7505.27611357, 7447.98950422, 7398.16402292,\n",
       "       7309.0977075 ])"
      ]
     },
     "execution_count": 283,
     "metadata": {},
     "output_type": "execute_result"
    }
   ],
   "source": [
    "U"
   ]
  },
  {
   "cell_type": "code",
   "execution_count": null,
   "metadata": {},
   "outputs": [],
   "source": []
  }
 ],
 "metadata": {
  "kernelspec": {
   "display_name": "cbe154",
   "language": "python",
   "name": "python3"
  },
  "language_info": {
   "codemirror_mode": {
    "name": "ipython",
    "version": 3
   },
   "file_extension": ".py",
   "mimetype": "text/x-python",
   "name": "python",
   "nbconvert_exporter": "python",
   "pygments_lexer": "ipython3",
   "version": "3.13.2"
  }
 },
 "nbformat": 4,
 "nbformat_minor": 2
}
