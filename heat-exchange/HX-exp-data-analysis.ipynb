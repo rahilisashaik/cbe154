{
 "cells": [
  {
   "cell_type": "markdown",
   "metadata": {},
   "source": [
    "# Heat Exchange Experimental Data Analysis\n",
    "Presented by Rahil Shaik, Alex Quemel, Ethan Mibu, Sneha Kancharla"
   ]
  },
  {
   "cell_type": "code",
   "execution_count": 761,
   "metadata": {},
   "outputs": [],
   "source": [
    "import pandas as pd\n",
    "import numpy as np\n",
    "import matplotlib.pyplot as plt\n",
    "\n",
    "import warnings\n",
    "warnings.filterwarnings(\"ignore\")"
   ]
  },
  {
   "cell_type": "markdown",
   "metadata": {},
   "source": [
    "## Pre-processing"
   ]
  },
  {
   "cell_type": "code",
   "execution_count": 762,
   "metadata": {},
   "outputs": [],
   "source": [
    "df_shell_cc = pd.read_csv(\"data/MW1_Shell_Counter_Current_formatted.csv\")\n",
    "df_shell_uni = pd.read_csv(\"data/MW1_Shell_Uni_Flow_formatted.csv\")\n",
    "\n",
    "df_tube_cross_350c_200h = pd.read_csv(\"data/tubular_cross_data/tubular_cross_350c_200h - tubular_counter_350c_300h.csv\")\n",
    "df_tube_cross_350c_300h = pd.read_csv(\"data/tubular_cross_data/tubular_counter_350c_300h - tubular_counter_350c_300h.csv\")\n",
    "df_tube_cross_350c_350h = pd.read_csv(\"data/tubular_cross_data/tubular_counter_350c_350h - tubular_counter_350c_350h.csv\")\n",
    "df_tube_cross_350c_400h = pd.read_csv(\"data/tubular_cross_data/tubular_counter_350c_400h - tubular_counter_350c_400h.csv\")\n",
    "\n",
    "df_tube_cross_350h_200c = pd.read_csv(\"data/tubular_cross_data/tubular_cross_350h_200c - tubular_counter_350c_200h.csv\")\n",
    "df_tube_cross_350h_300c = pd.read_csv(\"data/tubular_cross_data/tubular_cross_350h_300c - WL315C_2025-01-30_14-58-01.csv\")\n",
    "df_tube_cross_350h_350c = pd.read_csv(\"data/tubular_cross_data/tubular_cross_350h_350c - WL315C_2025-01-30_14-59-40.csv\")\n",
    "df_tube_cross_350h_400c = pd.read_csv(\"data/tubular_cross_data/tubular_cross_350h_400c - WL315C_2025-01-30_15-05-57.csv\")\n",
    "\n",
    "# df_tube_uni = pd.read_csv(\"data/MW1_Tube_Tube_Uni_Flow_formatted.csv\")\n",
    "\n",
    "df_plate_cc = pd.read_csv(\"data/plate_counter_extra.csv\")\n",
    "df_plate_uni = pd.read_csv(\"data/plate_parallel_extra.csv\")\n",
    "\n",
    "df_water_air_cc = pd.read_csv(\"data/finned_counter_extra.csv\")\n",
    "df_water_air_uni = pd.read_csv(\"data/finned_parallel_extra.csv\")"
   ]
  },
  {
   "cell_type": "code",
   "execution_count": 763,
   "metadata": {},
   "outputs": [],
   "source": [
    "df_tube_cross_350c_200h[\"hot flow (L/hr)\"] = 200\n",
    "df_tube_cross_350c_200h[\"cold flow (L/hr)\"] = 350\n",
    "\n",
    "df_tube_cross_350c_300h[\"hot flow (L/hr)\"] = 300\n",
    "df_tube_cross_350c_300h[\"cold flow (L/hr)\"] = 350\n",
    "\n",
    "df_tube_cross_350c_350h[\"hot flow (L/hr)\"] = 350\n",
    "df_tube_cross_350c_350h[\"cold flow (L/hr)\"] = 350\n",
    "\n",
    "df_tube_cross_350c_400h[\"hot flow (L/hr)\"] = 400\n",
    "df_tube_cross_350c_400h[\"cold flow (L/hr)\"] = 350\n",
    "\n",
    "df_tube_cross_350h_200c[\"hot flow (L/hr)\"] = 350\n",
    "df_tube_cross_350h_200c[\"cold flow (L/hr)\"] = 200\n",
    "\n",
    "df_tube_cross_350h_300c[\"hot flow (L/hr)\"] = 350\n",
    "df_tube_cross_350h_300c[\"cold flow (L/hr)\"] = 300\n",
    "\n",
    "df_tube_cross_350h_350c[\"hot flow (L/hr)\"] = 350\n",
    "df_tube_cross_350h_350c[\"cold flow (L/hr)\"] = 350\n",
    "\n",
    "df_tube_cross_350h_400c[\"hot flow (L/hr)\"] = 350\n",
    "df_tube_cross_350h_400c[\"cold flow (L/hr)\"] = 400\n"
   ]
  },
  {
   "cell_type": "code",
   "execution_count": 764,
   "metadata": {},
   "outputs": [],
   "source": [
    "df_tube_cross_350c_200h[\"hot flow (m^3/s)\"] = df_tube_cross_350c_200h[\"hot flow (L/hr)\"] / (1000 * 3600)\n",
    "df_tube_cross_350c_200h[\"cold flow (m^3/s)\"] = df_tube_cross_350c_200h[\"cold flow (L/hr)\"] / (1000 * 3600)\n",
    "\n",
    "df_tube_cross_350c_300h[\"hot flow (m^3/s)\"] = df_tube_cross_350c_300h[\"hot flow (L/hr)\"] / (1000 * 3600)\n",
    "df_tube_cross_350c_300h[\"cold flow (m^3/s)\"] = df_tube_cross_350c_300h[\"cold flow (L/hr)\"] / (1000 * 3600)\n",
    "\n",
    "df_tube_cross_350c_350h[\"hot flow (m^3/s)\"] = df_tube_cross_350c_350h[\"hot flow (L/hr)\"] / (1000 * 3600)\n",
    "df_tube_cross_350c_350h[\"cold flow (m^3/s)\"] = df_tube_cross_350c_350h[\"cold flow (L/hr)\"] / (1000 * 3600)\n",
    "\n",
    "df_tube_cross_350c_400h[\"hot flow (m^3/s)\"] = df_tube_cross_350c_400h[\"hot flow (L/hr)\"] / (1000 * 3600)\n",
    "df_tube_cross_350c_400h[\"cold flow (m^3/s)\"] = df_tube_cross_350c_400h[\"cold flow (L/hr)\"] / (1000 * 3600)\n",
    "\n",
    "df_tube_cross_350h_200c[\"hot flow (m^3/s)\"] = df_tube_cross_350h_200c[\"hot flow (L/hr)\"] / (1000 * 3600)\n",
    "df_tube_cross_350h_200c[\"cold flow (m^3/s)\"] = df_tube_cross_350h_200c[\"cold flow (L/hr)\"] / (1000 * 3600)\n",
    "\n",
    "df_tube_cross_350h_300c[\"hot flow (m^3/s)\"] = df_tube_cross_350h_300c[\"hot flow (L/hr)\"] / (1000 * 3600)\n",
    "df_tube_cross_350h_300c[\"cold flow (m^3/s)\"] = df_tube_cross_350h_300c[\"cold flow (L/hr)\"] / (1000 * 3600)\n",
    "\n",
    "df_tube_cross_350h_350c[\"hot flow (m^3/s)\"] = df_tube_cross_350h_350c[\"hot flow (L/hr)\"] / (1000 * 3600)\n",
    "df_tube_cross_350h_350c[\"cold flow (m^3/s)\"] = df_tube_cross_350h_350c[\"cold flow (L/hr)\"] / (1000 * 3600)\n",
    "\n",
    "df_tube_cross_350h_400c[\"hot flow (m^3/s)\"] = df_tube_cross_350h_400c[\"hot flow (L/hr)\"] / (1000 * 3600)\n",
    "df_tube_cross_350h_400c[\"cold flow (m^3/s)\"] = df_tube_cross_350h_400c[\"cold flow (L/hr)\"] / (1000 * 3600)\n"
   ]
  },
  {
   "cell_type": "code",
   "execution_count": 765,
   "metadata": {},
   "outputs": [],
   "source": [
    "dfs = [df_tube_cross_350c_200h, df_tube_cross_350c_300h, df_tube_cross_350c_350h, df_tube_cross_350c_400h,\n",
    "       df_tube_cross_350h_200c, df_tube_cross_350h_300c, df_tube_cross_350h_350c, df_tube_cross_350h_400c ]"
   ]
  },
  {
   "cell_type": "code",
   "execution_count": 766,
   "metadata": {},
   "outputs": [
    {
     "data": {
      "text/html": [
       "<div>\n",
       "<style scoped>\n",
       "    .dataframe tbody tr th:only-of-type {\n",
       "        vertical-align: middle;\n",
       "    }\n",
       "\n",
       "    .dataframe tbody tr th {\n",
       "        vertical-align: top;\n",
       "    }\n",
       "\n",
       "    .dataframe thead th {\n",
       "        text-align: right;\n",
       "    }\n",
       "</style>\n",
       "<table border=\"1\" class=\"dataframe\">\n",
       "  <thead>\n",
       "    <tr style=\"text-align: right;\">\n",
       "      <th></th>\n",
       "      <th>Time</th>\n",
       "      <th>T1 (°C)</th>\n",
       "      <th>T2 (°C)</th>\n",
       "      <th>T3 (°C)</th>\n",
       "      <th>T4 (°C)</th>\n",
       "      <th>T5 (°C)</th>\n",
       "      <th>T6 (°C)</th>\n",
       "      <th>T7 (°C)</th>\n",
       "      <th>T8 (°C)</th>\n",
       "      <th>T9 (°C)</th>\n",
       "      <th>T10 (°C)</th>\n",
       "      <th>dp1 (mbar)</th>\n",
       "      <th>dp2 (mbar)</th>\n",
       "      <th>dQ1/dt (kW)</th>\n",
       "      <th>dQ2/dt (kW)</th>\n",
       "      <th>dQ3/dt (kW)</th>\n",
       "      <th>dQm/dt (kW)</th>\n",
       "      <th>hot flow (L/hr)</th>\n",
       "      <th>cold flow (L/hr)</th>\n",
       "      <th>hot flow (m^3/s)</th>\n",
       "      <th>cold flow (m^3/s)</th>\n",
       "    </tr>\n",
       "  </thead>\n",
       "  <tbody>\n",
       "    <tr>\n",
       "      <th>0</th>\n",
       "      <td>2/13/2025 4:29:46 PM.43</td>\n",
       "      <td>31.6</td>\n",
       "      <td>100</td>\n",
       "      <td>20.2</td>\n",
       "      <td>29.2</td>\n",
       "      <td>34.3</td>\n",
       "      <td>22</td>\n",
       "      <td>36.5</td>\n",
       "      <td>24.5</td>\n",
       "      <td>39.2</td>\n",
       "      <td>26.6</td>\n",
       "      <td>0.09</td>\n",
       "      <td>8</td>\n",
       "      <td>-23.72</td>\n",
       "      <td>3.64</td>\n",
       "      <td>0</td>\n",
       "      <td>13.68</td>\n",
       "      <td>200</td>\n",
       "      <td>350</td>\n",
       "      <td>0.000056</td>\n",
       "      <td>0.000097</td>\n",
       "    </tr>\n",
       "    <tr>\n",
       "      <th>1</th>\n",
       "      <td>2/13/2025 4:29:46 PM.93</td>\n",
       "      <td>31.6</td>\n",
       "      <td>100</td>\n",
       "      <td>20.2</td>\n",
       "      <td>29.2</td>\n",
       "      <td>34.3</td>\n",
       "      <td>22</td>\n",
       "      <td>36.5</td>\n",
       "      <td>24.5</td>\n",
       "      <td>39.2</td>\n",
       "      <td>26.6</td>\n",
       "      <td>0.09</td>\n",
       "      <td>9</td>\n",
       "      <td>-23.85</td>\n",
       "      <td>3.63</td>\n",
       "      <td>0</td>\n",
       "      <td>13.74</td>\n",
       "      <td>200</td>\n",
       "      <td>350</td>\n",
       "      <td>0.000056</td>\n",
       "      <td>0.000097</td>\n",
       "    </tr>\n",
       "    <tr>\n",
       "      <th>2</th>\n",
       "      <td>2/13/2025 4:29:47 PM.43</td>\n",
       "      <td>31.6</td>\n",
       "      <td>100</td>\n",
       "      <td>20.2</td>\n",
       "      <td>29.2</td>\n",
       "      <td>34.3</td>\n",
       "      <td>22</td>\n",
       "      <td>36.5</td>\n",
       "      <td>24.6</td>\n",
       "      <td>39.2</td>\n",
       "      <td>26.5</td>\n",
       "      <td>0.10</td>\n",
       "      <td>9</td>\n",
       "      <td>-23.81</td>\n",
       "      <td>3.66</td>\n",
       "      <td>0</td>\n",
       "      <td>13.74</td>\n",
       "      <td>200</td>\n",
       "      <td>350</td>\n",
       "      <td>0.000056</td>\n",
       "      <td>0.000097</td>\n",
       "    </tr>\n",
       "    <tr>\n",
       "      <th>3</th>\n",
       "      <td>2/13/2025 4:29:47 PM.93</td>\n",
       "      <td>31.6</td>\n",
       "      <td>100</td>\n",
       "      <td>20.2</td>\n",
       "      <td>29.2</td>\n",
       "      <td>34.3</td>\n",
       "      <td>22</td>\n",
       "      <td>36.5</td>\n",
       "      <td>24.5</td>\n",
       "      <td>39.2</td>\n",
       "      <td>26.6</td>\n",
       "      <td>0.10</td>\n",
       "      <td>8</td>\n",
       "      <td>-23.96</td>\n",
       "      <td>3.65</td>\n",
       "      <td>0</td>\n",
       "      <td>13.81</td>\n",
       "      <td>200</td>\n",
       "      <td>350</td>\n",
       "      <td>0.000056</td>\n",
       "      <td>0.000097</td>\n",
       "    </tr>\n",
       "    <tr>\n",
       "      <th>4</th>\n",
       "      <td>2/13/2025 4:29:48 PM.43</td>\n",
       "      <td>31.6</td>\n",
       "      <td>100</td>\n",
       "      <td>20.2</td>\n",
       "      <td>29.2</td>\n",
       "      <td>34.3</td>\n",
       "      <td>22</td>\n",
       "      <td>36.5</td>\n",
       "      <td>24.5</td>\n",
       "      <td>39.2</td>\n",
       "      <td>26.6</td>\n",
       "      <td>0.10</td>\n",
       "      <td>8</td>\n",
       "      <td>-23.95</td>\n",
       "      <td>3.63</td>\n",
       "      <td>0</td>\n",
       "      <td>13.79</td>\n",
       "      <td>200</td>\n",
       "      <td>350</td>\n",
       "      <td>0.000056</td>\n",
       "      <td>0.000097</td>\n",
       "    </tr>\n",
       "  </tbody>\n",
       "</table>\n",
       "</div>"
      ],
      "text/plain": [
       "                      Time  T1 (°C)  T2 (°C)  T3 (°C)  T4 (°C)  T5 (°C)  \\\n",
       "0  2/13/2025 4:29:46 PM.43     31.6      100     20.2     29.2     34.3   \n",
       "1  2/13/2025 4:29:46 PM.93     31.6      100     20.2     29.2     34.3   \n",
       "2  2/13/2025 4:29:47 PM.43     31.6      100     20.2     29.2     34.3   \n",
       "3  2/13/2025 4:29:47 PM.93     31.6      100     20.2     29.2     34.3   \n",
       "4  2/13/2025 4:29:48 PM.43     31.6      100     20.2     29.2     34.3   \n",
       "\n",
       "   T6 (°C)  T7 (°C)  T8 (°C)  T9 (°C)  T10 (°C)  dp1 (mbar)  dp2 (mbar)  \\\n",
       "0       22     36.5     24.5     39.2      26.6        0.09           8   \n",
       "1       22     36.5     24.5     39.2      26.6        0.09           9   \n",
       "2       22     36.5     24.6     39.2      26.5        0.10           9   \n",
       "3       22     36.5     24.5     39.2      26.6        0.10           8   \n",
       "4       22     36.5     24.5     39.2      26.6        0.10           8   \n",
       "\n",
       "   dQ1/dt (kW)  dQ2/dt (kW)  dQ3/dt (kW)  dQm/dt (kW)  hot flow (L/hr)  \\\n",
       "0       -23.72         3.64            0        13.68              200   \n",
       "1       -23.85         3.63            0        13.74              200   \n",
       "2       -23.81         3.66            0        13.74              200   \n",
       "3       -23.96         3.65            0        13.81              200   \n",
       "4       -23.95         3.63            0        13.79              200   \n",
       "\n",
       "   cold flow (L/hr)  hot flow (m^3/s)  cold flow (m^3/s)  \n",
       "0               350          0.000056           0.000097  \n",
       "1               350          0.000056           0.000097  \n",
       "2               350          0.000056           0.000097  \n",
       "3               350          0.000056           0.000097  \n",
       "4               350          0.000056           0.000097  "
      ]
     },
     "execution_count": 766,
     "metadata": {},
     "output_type": "execute_result"
    }
   ],
   "source": [
    "df_tube_cross_350c_200h.head(5)"
   ]
  },
  {
   "cell_type": "markdown",
   "metadata": {},
   "source": [
    "## Analysis Question 1"
   ]
  },
  {
   "cell_type": "markdown",
   "metadata": {},
   "source": [
    "## Analysis Question 3\n",
    "For the tubular heat exchanger in counter-current flow configuration:\n",
    "\n",
    "(a) Identify and report appropriate correlations for predicting the heat transfer\n",
    "coefficients for the inner tube ($h_i$) and the annular region ($h_0$). Clearly state the\n",
    "conditions and assumptions under which these correlations are valid (flow regime,\n",
    "flow condition, characteristic length, etc.)."
   ]
  },
  {
   "cell_type": "markdown",
   "metadata": {},
   "source": [
    "The first step in determining the appropriate correlations for the heat transfer coefficient in an inner tube is investigating the flow regime using Reynolds number, $Re$, to classify the flow as laminar or turbulent\n",
    "\n",
    "$$\n",
    "Re = \\frac{\\rho u D}{\\mu} = \\frac{4 \\dot m}{\\pi D \\mu} \n",
    "$$\n",
    "\n",
    "$$\n",
    "\\text{where} \\  \\dot m = \\rho \\dot q \n",
    "$$\n",
    "\n",
    "We will use the LHS for classifying flow regime"
   ]
  },
  {
   "cell_type": "code",
   "execution_count": 767,
   "metadata": {},
   "outputs": [
    {
     "name": "stdout",
     "output_type": "stream",
     "text": [
      "0.0028274333882308137\n"
     ]
    }
   ],
   "source": [
    "mu = 0.001 # Pa * s\n",
    "rho = 1000 # kg / m^3\n",
    "D_inner = 6 * 10e-3 # m\n",
    "D_annular = 13 * 10e-3 # m \n",
    "D_hydraulic = D_annular - D_inner # m\n",
    "L = 3.2 # m\n",
    "k_cold = 0.592 # W / mK\n",
    "k_hot = 0.613 # W / mK #TODO: update these thermal conductivity values\n",
    "\n",
    "A_i = np.pi * (D_inner ** 2) / 4\n",
    "A_h = np.pi * ((D_annular ** 2) - ((D_hydraulic) ** 2)) / 4\n",
    "print(A_i)"
   ]
  },
  {
   "cell_type": "code",
   "execution_count": 768,
   "metadata": {},
   "outputs": [],
   "source": [
    "for df in dfs:\n",
    "    df[\"u_cold (m/s)\"] = df[\"cold flow (m^3/s)\"] / A_i\n",
    "    df[\"u_hot (m/s)\"] = df[\"hot flow (m^3/s)\"] / A_h\n",
    "    df[\"Re_cold (inner tube)\"] = (rho * df[\"u_cold (m/s)\"] * D_inner) / mu\n",
    "    df[\"Re_hot (annular region)\"] = (rho * df[\"u_hot (m/s)\"] * D_inner) / mu\n",
    "\n",
    "# for df in dfs:\n",
    "#     df[\"mass_cold_flow (kg/s)\"] = rho * df[\"cold flow (m^3/s)\"]\n",
    "#     df[\"mass_hot_flow (kg/s)\"] = rho * df[\"hot flow (m^3/s)\"]\n",
    "\n",
    "#     df[\"Re_cold (inner tube)\"] = (4 * df[\"mass_cold_flow (kg/s)\"]) / (np.pi * D_inner * mu)\n",
    "#     df[\"Re_hot (annular region)\"] = (4 * df[\"mass_hot_flow (kg/s)\"]) / (np.pi * D_annular * mu)"
   ]
  },
  {
   "cell_type": "code",
   "execution_count": 769,
   "metadata": {},
   "outputs": [
    {
     "data": {
      "text/html": [
       "<div>\n",
       "<style scoped>\n",
       "    .dataframe tbody tr th:only-of-type {\n",
       "        vertical-align: middle;\n",
       "    }\n",
       "\n",
       "    .dataframe tbody tr th {\n",
       "        vertical-align: top;\n",
       "    }\n",
       "\n",
       "    .dataframe thead th {\n",
       "        text-align: right;\n",
       "    }\n",
       "</style>\n",
       "<table border=\"1\" class=\"dataframe\">\n",
       "  <thead>\n",
       "    <tr style=\"text-align: right;\">\n",
       "      <th></th>\n",
       "      <th>Time</th>\n",
       "      <th>T1 (°C)</th>\n",
       "      <th>T2 (°C)</th>\n",
       "      <th>T3 (°C)</th>\n",
       "      <th>T4 (°C)</th>\n",
       "      <th>T5 (°C)</th>\n",
       "      <th>T6 (°C)</th>\n",
       "      <th>T7 (°C)</th>\n",
       "      <th>T8 (°C)</th>\n",
       "      <th>T9 (°C)</th>\n",
       "      <th>T10 (°C)</th>\n",
       "      <th>dp1 (mbar)</th>\n",
       "      <th>dp2 (mbar)</th>\n",
       "      <th>dQ1/dt (kW)</th>\n",
       "      <th>dQ2/dt (kW)</th>\n",
       "      <th>dQ3/dt (kW)</th>\n",
       "      <th>dQm/dt (kW)</th>\n",
       "      <th>hot flow (L/hr)</th>\n",
       "      <th>cold flow (L/hr)</th>\n",
       "      <th>hot flow (m^3/s)</th>\n",
       "      <th>cold flow (m^3/s)</th>\n",
       "      <th>u_cold (m/s)</th>\n",
       "      <th>u_hot (m/s)</th>\n",
       "      <th>Re_cold (inner tube)</th>\n",
       "      <th>Re_hot (annular region)</th>\n",
       "    </tr>\n",
       "  </thead>\n",
       "  <tbody>\n",
       "    <tr>\n",
       "      <th>0</th>\n",
       "      <td>2/13/2025 4:12:29 PM.43</td>\n",
       "      <td>27.7</td>\n",
       "      <td>100</td>\n",
       "      <td>17.9</td>\n",
       "      <td>25.8</td>\n",
       "      <td>30.7</td>\n",
       "      <td>19.2</td>\n",
       "      <td>33.6</td>\n",
       "      <td>21.3</td>\n",
       "      <td>37.3</td>\n",
       "      <td>23.2</td>\n",
       "      <td>0.10</td>\n",
       "      <td>11</td>\n",
       "      <td>-16.66</td>\n",
       "      <td>3.22</td>\n",
       "      <td>0</td>\n",
       "      <td>9.94</td>\n",
       "      <td>350</td>\n",
       "      <td>200</td>\n",
       "      <td>0.000097</td>\n",
       "      <td>0.000056</td>\n",
       "      <td>0.019649</td>\n",
       "      <td>0.010316</td>\n",
       "      <td>1178.925504</td>\n",
       "      <td>618.93589</td>\n",
       "    </tr>\n",
       "    <tr>\n",
       "      <th>1</th>\n",
       "      <td>2/13/2025 4:12:29 PM.93</td>\n",
       "      <td>27.7</td>\n",
       "      <td>100</td>\n",
       "      <td>17.9</td>\n",
       "      <td>25.8</td>\n",
       "      <td>30.7</td>\n",
       "      <td>19.2</td>\n",
       "      <td>33.6</td>\n",
       "      <td>21.3</td>\n",
       "      <td>37.3</td>\n",
       "      <td>23.2</td>\n",
       "      <td>0.09</td>\n",
       "      <td>11</td>\n",
       "      <td>-16.66</td>\n",
       "      <td>3.20</td>\n",
       "      <td>0</td>\n",
       "      <td>9.93</td>\n",
       "      <td>350</td>\n",
       "      <td>200</td>\n",
       "      <td>0.000097</td>\n",
       "      <td>0.000056</td>\n",
       "      <td>0.019649</td>\n",
       "      <td>0.010316</td>\n",
       "      <td>1178.925504</td>\n",
       "      <td>618.93589</td>\n",
       "    </tr>\n",
       "    <tr>\n",
       "      <th>2</th>\n",
       "      <td>2/13/2025 4:12:30 PM.43</td>\n",
       "      <td>27.7</td>\n",
       "      <td>100</td>\n",
       "      <td>17.8</td>\n",
       "      <td>25.8</td>\n",
       "      <td>30.7</td>\n",
       "      <td>19.2</td>\n",
       "      <td>33.6</td>\n",
       "      <td>21.3</td>\n",
       "      <td>37.3</td>\n",
       "      <td>23.2</td>\n",
       "      <td>0.09</td>\n",
       "      <td>10</td>\n",
       "      <td>-16.54</td>\n",
       "      <td>3.20</td>\n",
       "      <td>0</td>\n",
       "      <td>9.87</td>\n",
       "      <td>350</td>\n",
       "      <td>200</td>\n",
       "      <td>0.000097</td>\n",
       "      <td>0.000056</td>\n",
       "      <td>0.019649</td>\n",
       "      <td>0.010316</td>\n",
       "      <td>1178.925504</td>\n",
       "      <td>618.93589</td>\n",
       "    </tr>\n",
       "    <tr>\n",
       "      <th>3</th>\n",
       "      <td>2/13/2025 4:12:30 PM.93</td>\n",
       "      <td>27.7</td>\n",
       "      <td>100</td>\n",
       "      <td>17.9</td>\n",
       "      <td>25.8</td>\n",
       "      <td>30.7</td>\n",
       "      <td>19.2</td>\n",
       "      <td>33.6</td>\n",
       "      <td>21.3</td>\n",
       "      <td>37.3</td>\n",
       "      <td>23.2</td>\n",
       "      <td>0.10</td>\n",
       "      <td>11</td>\n",
       "      <td>-16.42</td>\n",
       "      <td>3.18</td>\n",
       "      <td>0</td>\n",
       "      <td>9.80</td>\n",
       "      <td>350</td>\n",
       "      <td>200</td>\n",
       "      <td>0.000097</td>\n",
       "      <td>0.000056</td>\n",
       "      <td>0.019649</td>\n",
       "      <td>0.010316</td>\n",
       "      <td>1178.925504</td>\n",
       "      <td>618.93589</td>\n",
       "    </tr>\n",
       "    <tr>\n",
       "      <th>4</th>\n",
       "      <td>2/13/2025 4:12:31 PM.43</td>\n",
       "      <td>27.6</td>\n",
       "      <td>100</td>\n",
       "      <td>17.8</td>\n",
       "      <td>25.8</td>\n",
       "      <td>30.7</td>\n",
       "      <td>19.2</td>\n",
       "      <td>33.6</td>\n",
       "      <td>21.3</td>\n",
       "      <td>37.3</td>\n",
       "      <td>23.2</td>\n",
       "      <td>0.09</td>\n",
       "      <td>10</td>\n",
       "      <td>-16.56</td>\n",
       "      <td>3.23</td>\n",
       "      <td>0</td>\n",
       "      <td>9.90</td>\n",
       "      <td>350</td>\n",
       "      <td>200</td>\n",
       "      <td>0.000097</td>\n",
       "      <td>0.000056</td>\n",
       "      <td>0.019649</td>\n",
       "      <td>0.010316</td>\n",
       "      <td>1178.925504</td>\n",
       "      <td>618.93589</td>\n",
       "    </tr>\n",
       "  </tbody>\n",
       "</table>\n",
       "</div>"
      ],
      "text/plain": [
       "                      Time  T1 (°C)  T2 (°C)  T3 (°C)  T4 (°C)  T5 (°C)  \\\n",
       "0  2/13/2025 4:12:29 PM.43     27.7      100     17.9     25.8     30.7   \n",
       "1  2/13/2025 4:12:29 PM.93     27.7      100     17.9     25.8     30.7   \n",
       "2  2/13/2025 4:12:30 PM.43     27.7      100     17.8     25.8     30.7   \n",
       "3  2/13/2025 4:12:30 PM.93     27.7      100     17.9     25.8     30.7   \n",
       "4  2/13/2025 4:12:31 PM.43     27.6      100     17.8     25.8     30.7   \n",
       "\n",
       "   T6 (°C)  T7 (°C)  T8 (°C)  T9 (°C)  T10 (°C)  dp1 (mbar)  dp2 (mbar)  \\\n",
       "0     19.2     33.6     21.3     37.3      23.2        0.10          11   \n",
       "1     19.2     33.6     21.3     37.3      23.2        0.09          11   \n",
       "2     19.2     33.6     21.3     37.3      23.2        0.09          10   \n",
       "3     19.2     33.6     21.3     37.3      23.2        0.10          11   \n",
       "4     19.2     33.6     21.3     37.3      23.2        0.09          10   \n",
       "\n",
       "   dQ1/dt (kW)  dQ2/dt (kW)  dQ3/dt (kW)  dQm/dt (kW)  hot flow (L/hr)  \\\n",
       "0       -16.66         3.22            0         9.94              350   \n",
       "1       -16.66         3.20            0         9.93              350   \n",
       "2       -16.54         3.20            0         9.87              350   \n",
       "3       -16.42         3.18            0         9.80              350   \n",
       "4       -16.56         3.23            0         9.90              350   \n",
       "\n",
       "   cold flow (L/hr)  hot flow (m^3/s)  cold flow (m^3/s)  u_cold (m/s)  \\\n",
       "0               200          0.000097           0.000056      0.019649   \n",
       "1               200          0.000097           0.000056      0.019649   \n",
       "2               200          0.000097           0.000056      0.019649   \n",
       "3               200          0.000097           0.000056      0.019649   \n",
       "4               200          0.000097           0.000056      0.019649   \n",
       "\n",
       "   u_hot (m/s)  Re_cold (inner tube)  Re_hot (annular region)  \n",
       "0     0.010316           1178.925504                618.93589  \n",
       "1     0.010316           1178.925504                618.93589  \n",
       "2     0.010316           1178.925504                618.93589  \n",
       "3     0.010316           1178.925504                618.93589  \n",
       "4     0.010316           1178.925504                618.93589  "
      ]
     },
     "execution_count": 769,
     "metadata": {},
     "output_type": "execute_result"
    }
   ],
   "source": [
    "df_tube_cross_350h_200c.head(5)"
   ]
  },
  {
   "cell_type": "markdown",
   "metadata": {},
   "source": [
    "Since we have some laminar and non-laminar flow, we can break correlations up for laminar and non-laminar flow. \n",
    "\n",
    "For laminar flow, we use equation (20-27) from the fundamentals textbook:\n",
    "\n",
    "$$\n",
    "Nu_D = 1.86 (Pe( \\frac{D}{L})^\\frac{1}{3})(\\frac{\\mu_b}{\\mu_w})^{0.14}\n",
    "$$\n",
    "\n",
    "and for turbulent flow, we will use Dittus Boelter equation (20-28):\n",
    "\n",
    "$$\n",
    "Nu_D = 0.023 Re_D ^ {0.8} Pr^n\n",
    "$$\n",
    "\n",
    "$$\n",
    "\\text{where } n_{heated} = 0.4 \\text{ and } n_{cooled} = 0.3\n",
    "$$\n",
    "\n",
    "**When making slides, reference pages 307 and 308 for assumptions of these two equations**\n",
    "\n",
    "Once we have these $Nu$ values, we can solve for heat transfer coefficients as\n",
    "\n",
    "$$\n",
    "h = \\frac{Nu \\times k}{D}\n",
    "$$"
   ]
  },
  {
   "cell_type": "code",
   "execution_count": 770,
   "metadata": {},
   "outputs": [
    {
     "data": {
      "text/html": [
       "<div>\n",
       "<style scoped>\n",
       "    .dataframe tbody tr th:only-of-type {\n",
       "        vertical-align: middle;\n",
       "    }\n",
       "\n",
       "    .dataframe tbody tr th {\n",
       "        vertical-align: top;\n",
       "    }\n",
       "\n",
       "    .dataframe thead th {\n",
       "        text-align: right;\n",
       "    }\n",
       "</style>\n",
       "<table border=\"1\" class=\"dataframe\">\n",
       "  <thead>\n",
       "    <tr style=\"text-align: right;\">\n",
       "      <th></th>\n",
       "      <th>Time</th>\n",
       "      <th>T1 (°C)</th>\n",
       "      <th>T2 (°C)</th>\n",
       "      <th>T3 (°C)</th>\n",
       "      <th>T4 (°C)</th>\n",
       "      <th>T5 (°C)</th>\n",
       "      <th>T6 (°C)</th>\n",
       "      <th>T7 (°C)</th>\n",
       "      <th>T8 (°C)</th>\n",
       "      <th>T9 (°C)</th>\n",
       "      <th>T10 (°C)</th>\n",
       "      <th>dp1 (mbar)</th>\n",
       "      <th>dp2 (mbar)</th>\n",
       "      <th>dQ1/dt (kW)</th>\n",
       "      <th>dQ2/dt (kW)</th>\n",
       "      <th>dQ3/dt (kW)</th>\n",
       "      <th>dQm/dt (kW)</th>\n",
       "      <th>hot flow (L/hr)</th>\n",
       "      <th>cold flow (L/hr)</th>\n",
       "      <th>hot flow (m^3/s)</th>\n",
       "      <th>cold flow (m^3/s)</th>\n",
       "      <th>u_cold (m/s)</th>\n",
       "      <th>u_hot (m/s)</th>\n",
       "      <th>Re_cold (inner tube)</th>\n",
       "      <th>Re_hot (annular region)</th>\n",
       "    </tr>\n",
       "  </thead>\n",
       "  <tbody>\n",
       "    <tr>\n",
       "      <th>0</th>\n",
       "      <td>2/13/2025 4:12:29 PM.43</td>\n",
       "      <td>27.7</td>\n",
       "      <td>100</td>\n",
       "      <td>17.9</td>\n",
       "      <td>25.8</td>\n",
       "      <td>30.7</td>\n",
       "      <td>19.2</td>\n",
       "      <td>33.6</td>\n",
       "      <td>21.3</td>\n",
       "      <td>37.3</td>\n",
       "      <td>23.2</td>\n",
       "      <td>0.10</td>\n",
       "      <td>11</td>\n",
       "      <td>-16.66</td>\n",
       "      <td>3.22</td>\n",
       "      <td>0</td>\n",
       "      <td>9.94</td>\n",
       "      <td>350</td>\n",
       "      <td>200</td>\n",
       "      <td>0.000097</td>\n",
       "      <td>0.000056</td>\n",
       "      <td>0.019649</td>\n",
       "      <td>0.010316</td>\n",
       "      <td>1178.925504</td>\n",
       "      <td>618.93589</td>\n",
       "    </tr>\n",
       "    <tr>\n",
       "      <th>1</th>\n",
       "      <td>2/13/2025 4:12:29 PM.93</td>\n",
       "      <td>27.7</td>\n",
       "      <td>100</td>\n",
       "      <td>17.9</td>\n",
       "      <td>25.8</td>\n",
       "      <td>30.7</td>\n",
       "      <td>19.2</td>\n",
       "      <td>33.6</td>\n",
       "      <td>21.3</td>\n",
       "      <td>37.3</td>\n",
       "      <td>23.2</td>\n",
       "      <td>0.09</td>\n",
       "      <td>11</td>\n",
       "      <td>-16.66</td>\n",
       "      <td>3.20</td>\n",
       "      <td>0</td>\n",
       "      <td>9.93</td>\n",
       "      <td>350</td>\n",
       "      <td>200</td>\n",
       "      <td>0.000097</td>\n",
       "      <td>0.000056</td>\n",
       "      <td>0.019649</td>\n",
       "      <td>0.010316</td>\n",
       "      <td>1178.925504</td>\n",
       "      <td>618.93589</td>\n",
       "    </tr>\n",
       "    <tr>\n",
       "      <th>2</th>\n",
       "      <td>2/13/2025 4:12:30 PM.43</td>\n",
       "      <td>27.7</td>\n",
       "      <td>100</td>\n",
       "      <td>17.8</td>\n",
       "      <td>25.8</td>\n",
       "      <td>30.7</td>\n",
       "      <td>19.2</td>\n",
       "      <td>33.6</td>\n",
       "      <td>21.3</td>\n",
       "      <td>37.3</td>\n",
       "      <td>23.2</td>\n",
       "      <td>0.09</td>\n",
       "      <td>10</td>\n",
       "      <td>-16.54</td>\n",
       "      <td>3.20</td>\n",
       "      <td>0</td>\n",
       "      <td>9.87</td>\n",
       "      <td>350</td>\n",
       "      <td>200</td>\n",
       "      <td>0.000097</td>\n",
       "      <td>0.000056</td>\n",
       "      <td>0.019649</td>\n",
       "      <td>0.010316</td>\n",
       "      <td>1178.925504</td>\n",
       "      <td>618.93589</td>\n",
       "    </tr>\n",
       "    <tr>\n",
       "      <th>3</th>\n",
       "      <td>2/13/2025 4:12:30 PM.93</td>\n",
       "      <td>27.7</td>\n",
       "      <td>100</td>\n",
       "      <td>17.9</td>\n",
       "      <td>25.8</td>\n",
       "      <td>30.7</td>\n",
       "      <td>19.2</td>\n",
       "      <td>33.6</td>\n",
       "      <td>21.3</td>\n",
       "      <td>37.3</td>\n",
       "      <td>23.2</td>\n",
       "      <td>0.10</td>\n",
       "      <td>11</td>\n",
       "      <td>-16.42</td>\n",
       "      <td>3.18</td>\n",
       "      <td>0</td>\n",
       "      <td>9.80</td>\n",
       "      <td>350</td>\n",
       "      <td>200</td>\n",
       "      <td>0.000097</td>\n",
       "      <td>0.000056</td>\n",
       "      <td>0.019649</td>\n",
       "      <td>0.010316</td>\n",
       "      <td>1178.925504</td>\n",
       "      <td>618.93589</td>\n",
       "    </tr>\n",
       "    <tr>\n",
       "      <th>4</th>\n",
       "      <td>2/13/2025 4:12:31 PM.43</td>\n",
       "      <td>27.6</td>\n",
       "      <td>100</td>\n",
       "      <td>17.8</td>\n",
       "      <td>25.8</td>\n",
       "      <td>30.7</td>\n",
       "      <td>19.2</td>\n",
       "      <td>33.6</td>\n",
       "      <td>21.3</td>\n",
       "      <td>37.3</td>\n",
       "      <td>23.2</td>\n",
       "      <td>0.09</td>\n",
       "      <td>10</td>\n",
       "      <td>-16.56</td>\n",
       "      <td>3.23</td>\n",
       "      <td>0</td>\n",
       "      <td>9.90</td>\n",
       "      <td>350</td>\n",
       "      <td>200</td>\n",
       "      <td>0.000097</td>\n",
       "      <td>0.000056</td>\n",
       "      <td>0.019649</td>\n",
       "      <td>0.010316</td>\n",
       "      <td>1178.925504</td>\n",
       "      <td>618.93589</td>\n",
       "    </tr>\n",
       "  </tbody>\n",
       "</table>\n",
       "</div>"
      ],
      "text/plain": [
       "                      Time  T1 (°C)  T2 (°C)  T3 (°C)  T4 (°C)  T5 (°C)  \\\n",
       "0  2/13/2025 4:12:29 PM.43     27.7      100     17.9     25.8     30.7   \n",
       "1  2/13/2025 4:12:29 PM.93     27.7      100     17.9     25.8     30.7   \n",
       "2  2/13/2025 4:12:30 PM.43     27.7      100     17.8     25.8     30.7   \n",
       "3  2/13/2025 4:12:30 PM.93     27.7      100     17.9     25.8     30.7   \n",
       "4  2/13/2025 4:12:31 PM.43     27.6      100     17.8     25.8     30.7   \n",
       "\n",
       "   T6 (°C)  T7 (°C)  T8 (°C)  T9 (°C)  T10 (°C)  dp1 (mbar)  dp2 (mbar)  \\\n",
       "0     19.2     33.6     21.3     37.3      23.2        0.10          11   \n",
       "1     19.2     33.6     21.3     37.3      23.2        0.09          11   \n",
       "2     19.2     33.6     21.3     37.3      23.2        0.09          10   \n",
       "3     19.2     33.6     21.3     37.3      23.2        0.10          11   \n",
       "4     19.2     33.6     21.3     37.3      23.2        0.09          10   \n",
       "\n",
       "   dQ1/dt (kW)  dQ2/dt (kW)  dQ3/dt (kW)  dQm/dt (kW)  hot flow (L/hr)  \\\n",
       "0       -16.66         3.22            0         9.94              350   \n",
       "1       -16.66         3.20            0         9.93              350   \n",
       "2       -16.54         3.20            0         9.87              350   \n",
       "3       -16.42         3.18            0         9.80              350   \n",
       "4       -16.56         3.23            0         9.90              350   \n",
       "\n",
       "   cold flow (L/hr)  hot flow (m^3/s)  cold flow (m^3/s)  u_cold (m/s)  \\\n",
       "0               200          0.000097           0.000056      0.019649   \n",
       "1               200          0.000097           0.000056      0.019649   \n",
       "2               200          0.000097           0.000056      0.019649   \n",
       "3               200          0.000097           0.000056      0.019649   \n",
       "4               200          0.000097           0.000056      0.019649   \n",
       "\n",
       "   u_hot (m/s)  Re_cold (inner tube)  Re_hot (annular region)  \n",
       "0     0.010316           1178.925504                618.93589  \n",
       "1     0.010316           1178.925504                618.93589  \n",
       "2     0.010316           1178.925504                618.93589  \n",
       "3     0.010316           1178.925504                618.93589  \n",
       "4     0.010316           1178.925504                618.93589  "
      ]
     },
     "execution_count": 770,
     "metadata": {},
     "output_type": "execute_result"
    }
   ],
   "source": [
    "df_tube_cross_350h_200c.head(5)"
   ]
  },
  {
   "cell_type": "markdown",
   "metadata": {},
   "source": [
    "(b) Using empirical correlations, calculate and report the inner tube ($h_i$) and annular region ($h_0$) heat transfer coefficients at a volumetric flow rate of 350 L/hr.\n",
    "\n",
    "We will be using data from when both hot and cold streams are art 350 L/min given in `df_tube_cross_350h_350c`"
   ]
  },
  {
   "cell_type": "code",
   "execution_count": 771,
   "metadata": {},
   "outputs": [
    {
     "data": {
      "text/html": [
       "<div>\n",
       "<style scoped>\n",
       "    .dataframe tbody tr th:only-of-type {\n",
       "        vertical-align: middle;\n",
       "    }\n",
       "\n",
       "    .dataframe tbody tr th {\n",
       "        vertical-align: top;\n",
       "    }\n",
       "\n",
       "    .dataframe thead th {\n",
       "        text-align: right;\n",
       "    }\n",
       "</style>\n",
       "<table border=\"1\" class=\"dataframe\">\n",
       "  <thead>\n",
       "    <tr style=\"text-align: right;\">\n",
       "      <th></th>\n",
       "      <th>Time</th>\n",
       "      <th>T1 (°C)</th>\n",
       "      <th>T2 (°C)</th>\n",
       "      <th>T3 (°C)</th>\n",
       "      <th>T4 (°C)</th>\n",
       "      <th>T5 (°C)</th>\n",
       "      <th>T6 (°C)</th>\n",
       "      <th>T7 (°C)</th>\n",
       "      <th>T8 (°C)</th>\n",
       "      <th>T9 (°C)</th>\n",
       "      <th>T10 (°C)</th>\n",
       "      <th>dp1 (mbar)</th>\n",
       "      <th>dp2 (mbar)</th>\n",
       "      <th>dQ1/dt (kW)</th>\n",
       "      <th>dQ2/dt (kW)</th>\n",
       "      <th>dQ3/dt (kW)</th>\n",
       "      <th>dQm/dt (kW)</th>\n",
       "      <th>hot flow (L/hr)</th>\n",
       "      <th>cold flow (L/hr)</th>\n",
       "      <th>hot flow (m^3/s)</th>\n",
       "      <th>cold flow (m^3/s)</th>\n",
       "      <th>u_cold (m/s)</th>\n",
       "      <th>u_hot (m/s)</th>\n",
       "      <th>Re_cold (inner tube)</th>\n",
       "      <th>Re_hot (annular region)</th>\n",
       "    </tr>\n",
       "  </thead>\n",
       "  <tbody>\n",
       "    <tr>\n",
       "      <th>0</th>\n",
       "      <td>1/30/2025 2:21:15 PM.19</td>\n",
       "      <td>32.9</td>\n",
       "      <td>48.0</td>\n",
       "      <td>20.8</td>\n",
       "      <td>30.1</td>\n",
       "      <td>35.2</td>\n",
       "      <td>22.5</td>\n",
       "      <td>37.3</td>\n",
       "      <td>25.0</td>\n",
       "      <td>39.6</td>\n",
       "      <td>27.2</td>\n",
       "      <td>0.08</td>\n",
       "      <td>1000</td>\n",
       "      <td>-6.17</td>\n",
       "      <td>3.80</td>\n",
       "      <td>0</td>\n",
       "      <td>4.99</td>\n",
       "      <td>350</td>\n",
       "      <td>350</td>\n",
       "      <td>0.000097</td>\n",
       "      <td>0.000097</td>\n",
       "      <td>0.034385</td>\n",
       "      <td>0.010316</td>\n",
       "      <td>2063.119633</td>\n",
       "      <td>618.93589</td>\n",
       "    </tr>\n",
       "    <tr>\n",
       "      <th>1</th>\n",
       "      <td>1/30/2025 2:21:15 PM.69</td>\n",
       "      <td>32.9</td>\n",
       "      <td>48.0</td>\n",
       "      <td>20.7</td>\n",
       "      <td>30.0</td>\n",
       "      <td>35.2</td>\n",
       "      <td>22.5</td>\n",
       "      <td>37.3</td>\n",
       "      <td>25.0</td>\n",
       "      <td>39.6</td>\n",
       "      <td>27.2</td>\n",
       "      <td>0.09</td>\n",
       "      <td>1000</td>\n",
       "      <td>-6.12</td>\n",
       "      <td>3.77</td>\n",
       "      <td>0</td>\n",
       "      <td>4.95</td>\n",
       "      <td>350</td>\n",
       "      <td>350</td>\n",
       "      <td>0.000097</td>\n",
       "      <td>0.000097</td>\n",
       "      <td>0.034385</td>\n",
       "      <td>0.010316</td>\n",
       "      <td>2063.119633</td>\n",
       "      <td>618.93589</td>\n",
       "    </tr>\n",
       "    <tr>\n",
       "      <th>2</th>\n",
       "      <td>1/30/2025 2:21:16 PM.19</td>\n",
       "      <td>32.9</td>\n",
       "      <td>48.0</td>\n",
       "      <td>20.8</td>\n",
       "      <td>30.0</td>\n",
       "      <td>35.2</td>\n",
       "      <td>22.5</td>\n",
       "      <td>37.3</td>\n",
       "      <td>25.0</td>\n",
       "      <td>39.7</td>\n",
       "      <td>27.3</td>\n",
       "      <td>0.09</td>\n",
       "      <td>1000</td>\n",
       "      <td>-6.17</td>\n",
       "      <td>3.81</td>\n",
       "      <td>0</td>\n",
       "      <td>4.99</td>\n",
       "      <td>350</td>\n",
       "      <td>350</td>\n",
       "      <td>0.000097</td>\n",
       "      <td>0.000097</td>\n",
       "      <td>0.034385</td>\n",
       "      <td>0.010316</td>\n",
       "      <td>2063.119633</td>\n",
       "      <td>618.93589</td>\n",
       "    </tr>\n",
       "    <tr>\n",
       "      <th>3</th>\n",
       "      <td>1/30/2025 2:21:16 PM.69</td>\n",
       "      <td>32.8</td>\n",
       "      <td>48.0</td>\n",
       "      <td>20.7</td>\n",
       "      <td>30.0</td>\n",
       "      <td>35.2</td>\n",
       "      <td>22.5</td>\n",
       "      <td>37.3</td>\n",
       "      <td>25.0</td>\n",
       "      <td>39.6</td>\n",
       "      <td>27.2</td>\n",
       "      <td>0.09</td>\n",
       "      <td>1000</td>\n",
       "      <td>-6.21</td>\n",
       "      <td>3.81</td>\n",
       "      <td>0</td>\n",
       "      <td>5.01</td>\n",
       "      <td>350</td>\n",
       "      <td>350</td>\n",
       "      <td>0.000097</td>\n",
       "      <td>0.000097</td>\n",
       "      <td>0.034385</td>\n",
       "      <td>0.010316</td>\n",
       "      <td>2063.119633</td>\n",
       "      <td>618.93589</td>\n",
       "    </tr>\n",
       "    <tr>\n",
       "      <th>4</th>\n",
       "      <td>1/30/2025 2:21:17 PM.19</td>\n",
       "      <td>32.8</td>\n",
       "      <td>48.1</td>\n",
       "      <td>20.8</td>\n",
       "      <td>30.1</td>\n",
       "      <td>35.1</td>\n",
       "      <td>22.5</td>\n",
       "      <td>37.3</td>\n",
       "      <td>25.0</td>\n",
       "      <td>39.6</td>\n",
       "      <td>27.3</td>\n",
       "      <td>0.09</td>\n",
       "      <td>1000</td>\n",
       "      <td>-6.21</td>\n",
       "      <td>3.81</td>\n",
       "      <td>0</td>\n",
       "      <td>5.01</td>\n",
       "      <td>350</td>\n",
       "      <td>350</td>\n",
       "      <td>0.000097</td>\n",
       "      <td>0.000097</td>\n",
       "      <td>0.034385</td>\n",
       "      <td>0.010316</td>\n",
       "      <td>2063.119633</td>\n",
       "      <td>618.93589</td>\n",
       "    </tr>\n",
       "  </tbody>\n",
       "</table>\n",
       "</div>"
      ],
      "text/plain": [
       "                      Time  T1 (°C)  T2 (°C)  T3 (°C)  T4 (°C)  T5 (°C)  \\\n",
       "0  1/30/2025 2:21:15 PM.19     32.9     48.0     20.8     30.1     35.2   \n",
       "1  1/30/2025 2:21:15 PM.69     32.9     48.0     20.7     30.0     35.2   \n",
       "2  1/30/2025 2:21:16 PM.19     32.9     48.0     20.8     30.0     35.2   \n",
       "3  1/30/2025 2:21:16 PM.69     32.8     48.0     20.7     30.0     35.2   \n",
       "4  1/30/2025 2:21:17 PM.19     32.8     48.1     20.8     30.1     35.1   \n",
       "\n",
       "   T6 (°C)  T7 (°C)  T8 (°C)  T9 (°C)  T10 (°C)  dp1 (mbar)  dp2 (mbar)  \\\n",
       "0     22.5     37.3     25.0     39.6      27.2        0.08        1000   \n",
       "1     22.5     37.3     25.0     39.6      27.2        0.09        1000   \n",
       "2     22.5     37.3     25.0     39.7      27.3        0.09        1000   \n",
       "3     22.5     37.3     25.0     39.6      27.2        0.09        1000   \n",
       "4     22.5     37.3     25.0     39.6      27.3        0.09        1000   \n",
       "\n",
       "   dQ1/dt (kW)  dQ2/dt (kW)  dQ3/dt (kW)  dQm/dt (kW)  hot flow (L/hr)  \\\n",
       "0        -6.17         3.80            0         4.99              350   \n",
       "1        -6.12         3.77            0         4.95              350   \n",
       "2        -6.17         3.81            0         4.99              350   \n",
       "3        -6.21         3.81            0         5.01              350   \n",
       "4        -6.21         3.81            0         5.01              350   \n",
       "\n",
       "   cold flow (L/hr)  hot flow (m^3/s)  cold flow (m^3/s)  u_cold (m/s)  \\\n",
       "0               350          0.000097           0.000097      0.034385   \n",
       "1               350          0.000097           0.000097      0.034385   \n",
       "2               350          0.000097           0.000097      0.034385   \n",
       "3               350          0.000097           0.000097      0.034385   \n",
       "4               350          0.000097           0.000097      0.034385   \n",
       "\n",
       "   u_hot (m/s)  Re_cold (inner tube)  Re_hot (annular region)  \n",
       "0     0.010316           2063.119633                618.93589  \n",
       "1     0.010316           2063.119633                618.93589  \n",
       "2     0.010316           2063.119633                618.93589  \n",
       "3     0.010316           2063.119633                618.93589  \n",
       "4     0.010316           2063.119633                618.93589  "
      ]
     },
     "execution_count": 771,
     "metadata": {},
     "output_type": "execute_result"
    }
   ],
   "source": [
    "pd.set_option(\"display.max_columns\", None)\n",
    "df_tube_cross_350h_350c.head()"
   ]
  },
  {
   "cell_type": "markdown",
   "metadata": {},
   "source": [
    "Both flow regimes are laminar in this case as inner tube and annular flow is $< 2300$, so we will use equation (20-27)\n",
    "\n",
    "$$\n",
    "Nu_D = 1.86 (Pe( \\frac{D}{L})^\\frac{1}{3})(\\frac{\\mu_b}{\\mu_w})^{0.14}\n",
    "$$\n",
    "\n",
    "In order, to get Peclet number, $Pe$, we must solve for it using $Re$ and $Pr$. From _Fundamentals of Momentum, Heat and Mass_, table A.6 $35 \\degree \\text{C}$, $Pr$ = 7 for cold flow and $Pr$ = 5.0 for hot flow.\n",
    "\n",
    "**Update Prandtl numbers**\n"
   ]
  },
  {
   "cell_type": "code",
   "execution_count": 772,
   "metadata": {},
   "outputs": [],
   "source": [
    "df_tube_cross_350h_350c[\"Pr_cold (inner tube)\"] = 0.07\n",
    "df_tube_cross_350h_350c[\"Pr_hot (annular region)\"] = 0.05"
   ]
  },
  {
   "cell_type": "code",
   "execution_count": 773,
   "metadata": {},
   "outputs": [],
   "source": [
    "df_tube_cross_350h_350c[\"Pe_cold (inner tube)\"] = df_tube_cross_350h_350c[\"Re_cold (inner tube)\"] * df_tube_cross_350h_350c[\"Pr_cold (inner tube)\"]\n",
    "df_tube_cross_350h_350c[\"Pe_hot (annular region)\"] = df_tube_cross_350h_350c[\"Re_hot (annular region)\"] * df_tube_cross_350h_350c[\"Pr_hot (annular region)\"]"
   ]
  },
  {
   "cell_type": "code",
   "execution_count": 774,
   "metadata": {},
   "outputs": [
    {
     "data": {
      "text/plain": [
       "300.65"
      ]
     },
     "execution_count": 774,
     "metadata": {},
     "output_type": "execute_result"
    }
   ],
   "source": [
    "T_c_bulk = 16 + 273.15 # K\n",
    "T_h_bulk = 39 + 273.15 # K\n",
    "\n",
    "T_wall = (T_c_bulk + T_h_bulk) / 2# K\n",
    "T_wall"
   ]
  },
  {
   "cell_type": "markdown",
   "metadata": {},
   "source": [
    "To get $\\mu_w$ we will assume that the wall between the hot and cold tube is at the average of the hot and cold water flow temperatures which from our experiment we have as:\n",
    "\n",
    "$$\n",
    "T_{c, bulk} = 16 \\degree C \\text{ and } T_{h, bulk} = 39 \\degree \\text{C}\n",
    "$$\n",
    "\n",
    "using the bulk temperatures and this, we can get viscosities from the below expression which has dependence on the thermometer readings across the tubes\n",
    "\n",
    "$$\n",
    "\\mu(T1 - T8) \\text{ mPa s}\n",
    "$$\n",
    "\n",
    "$$\n",
    "\\mu_w(T = 22.5 \\degree \\text{C}) = 0.911 \\text{ mPa s}\n",
    "$$\n",
    "\n",
    "\n",
    "\n",
    "**confirm this viscosity formula**"
   ]
  },
  {
   "cell_type": "code",
   "execution_count": 775,
   "metadata": {},
   "outputs": [],
   "source": [
    "mu_w = 0.911 # mPa * s\n",
    "\n",
    "def vogel(T_C):\n",
    "    A = 2.414e-5\n",
    "    B = 247.8\n",
    "    C = 140\n",
    "    mu_mPa_s = A * 10**(B / ((T_C+273.15) - C))  # in mPa·s\n",
    "    mu_Pa_s = mu_mPa_s / 1000           # convert to Pa·s\n",
    "    return mu_Pa_s"
   ]
  },
  {
   "cell_type": "code",
   "execution_count": 776,
   "metadata": {},
   "outputs": [],
   "source": [
    "mean_temps = df_tube_cross_350h_350c.mean(numeric_only=True)"
   ]
  },
  {
   "cell_type": "code",
   "execution_count": 777,
   "metadata": {},
   "outputs": [
    {
     "data": {
      "text/plain": [
       "T1 (°C)                      32.816000\n",
       "T2 (°C)                      48.014000\n",
       "T3 (°C)                      20.634000\n",
       "T4 (°C)                      30.006000\n",
       "T5 (°C)                      35.194000\n",
       "T6 (°C)                      22.500000\n",
       "T7 (°C)                      37.300000\n",
       "T8 (°C)                      25.086000\n",
       "T9 (°C)                      39.616000\n",
       "T10 (°C)                     27.274000\n",
       "dp1 (mbar)                    0.083200\n",
       "dp2 (mbar)                 1000.000000\n",
       "dQ1/dt (kW)                  -6.188600\n",
       "dQ2/dt (kW)                   3.845400\n",
       "dQ3/dt (kW)                   0.000000\n",
       "dQm/dt (kW)                   5.017800\n",
       "hot flow (L/hr)             350.000000\n",
       "cold flow (L/hr)            350.000000\n",
       "hot flow (m^3/s)              0.000097\n",
       "cold flow (m^3/s)             0.000097\n",
       "u_cold (m/s)                  0.034385\n",
       "u_hot (m/s)                   0.010316\n",
       "Re_cold (inner tube)       2063.119633\n",
       "Re_hot (annular region)     618.935890\n",
       "Pr_cold (inner tube)          0.070000\n",
       "Pr_hot (annular region)       0.050000\n",
       "Pe_cold (inner tube)        144.418374\n",
       "Pe_hot (annular region)      30.946794\n",
       "dtype: float64"
      ]
     },
     "execution_count": 777,
     "metadata": {},
     "output_type": "execute_result"
    }
   ],
   "source": [
    "mean_temps"
   ]
  },
  {
   "cell_type": "code",
   "execution_count": 778,
   "metadata": {},
   "outputs": [
    {
     "data": {
      "image/png": "[encoded data removed]",
      "text/plain": [
       "<Figure size 800x500 with 1 Axes>"
      ]
     },
     "metadata": {},
     "output_type": "display_data"
    }
   ],
   "source": [
    "cold_thermocouples = [\"T1 (°C)\", \"T5 (°C)\", \"T7 (°C)\", \"T9 (°C)\", \"T2 (°C)\"]   # cold water path\n",
    "hot_thermocouples  = [\"T3 (°C)\", \"T6 (°C)\", \"T8 (°C)\", \"T10 (°C)\", \"T4 (°C)\"]  # hot water path\n",
    "\n",
    "cold_temps = np.array([mean_temps[t] for t in cold_thermocouples])\n",
    "hot_temps  = np.array([mean_temps[t] for t in hot_thermocouples])\n",
    "\n",
    "cold_visc = np.array([vogel(T) for T in cold_temps])\n",
    "hot_visc  = np.array([vogel(T) for T in hot_temps])\n",
    "\n",
    "plt.figure(figsize=(8, 5))\n",
    "plt.plot([cold_temp +273.15 for cold_temp in cold_temps], cold_visc * 1e3, 'bo-', label='Cold Water')  # mPa·s\n",
    "plt.plot([hot_temp +273.15 for hot_temp in hot_temps],  hot_visc  * 1e3, 'ro-', label='Hot Water')   # mPa·s\n",
    "plt.xlabel(\"Temperature (K)\")\n",
    "plt.ylabel(\"Viscosity (mPa·s)\")\n",
    "plt.title(\"Water Viscosity vs. Temperature (Cold vs. Hot Stream)\")\n",
    "plt.legend()\n",
    "plt.tight_layout()\n",
    "plt.show()\n"
   ]
  },
  {
   "cell_type": "code",
   "execution_count": 779,
   "metadata": {},
   "outputs": [
    {
     "name": "stdout",
     "output_type": "stream",
     "text": [
      "144.41837428709022\n"
     ]
    }
   ],
   "source": [
    "print(df_tube_cross_350h_350c[\"Pe_cold (inner tube)\"].mean())"
   ]
  },
  {
   "cell_type": "code",
   "execution_count": 780,
   "metadata": {},
   "outputs": [],
   "source": [
    "Nu_cold = 1.86 * df_tube_cross_350h_350c[\"Pe_cold (inner tube)\"].mean() * (D_inner/L) ** (1/3) * (cold_visc / mu_w) ** 0.14\n",
    "Nu_hot = 1.86 * df_tube_cross_350h_350c[\"Pe_hot (annular region)\"].mean() * (D_annular/L) ** (1/3) * (hot_visc / mu_w) ** 0.14"
   ]
  },
  {
   "cell_type": "code",
   "execution_count": 781,
   "metadata": {},
   "outputs": [
    {
     "data": {
      "text/plain": [
       "array([2.89223019, 2.87427551, 2.85026908, 2.83071176, 2.80720788])"
      ]
     },
     "execution_count": 781,
     "metadata": {},
     "output_type": "execute_result"
    }
   ],
   "source": [
    "Nu_hot"
   ]
  },
  {
   "cell_type": "markdown",
   "metadata": {},
   "source": [
    "The final step is computing heat transfer coefficient as\n",
    "\n",
    "$$\n",
    "h = \\frac{Nu \\times k}{D}\n",
    "$$\n",
    "\n",
    "**get thermal conductivity with temperature dependence**"
   ]
  },
  {
   "cell_type": "code",
   "execution_count": 782,
   "metadata": {},
   "outputs": [],
   "source": [
    "h_cold = (Nu_cold * k_cold) / D_inner\n",
    "h_hot = (Nu_hot * k_hot) / D_annular"
   ]
  },
  {
   "cell_type": "code",
   "execution_count": 783,
   "metadata": {},
   "outputs": [
    {
     "data": {
      "text/plain": [
       "array([99.06517693, 98.39392493, 97.8187439 , 97.20612995, 95.14484286])"
      ]
     },
     "execution_count": 783,
     "metadata": {},
     "output_type": "execute_result"
    }
   ],
   "source": [
    "h_cold"
   ]
  },
  {
   "cell_type": "markdown",
   "metadata": {},
   "source": [
    "(c) Calculate the theoretical heat transfer coefficient ($U_{theory}$) using thermal\n",
    "resistances and compare it with the experimental value ($U_{exp}$).\n",
    "\n",
    "We can solve for heat transfer coefficient using the equation (4) from the lab manual\n",
    "\n",
    "$$\n",
    "U = (\\frac{1}{h_i} + \\frac{D_i}{D_o} \\times \\frac{1}{h_o})^{-1}\n",
    "$$"
   ]
  },
  {
   "cell_type": "code",
   "execution_count": 784,
   "metadata": {},
   "outputs": [],
   "source": [
    "U = ((1/h_cold) + (D_inner/D_annular) * (1/h_hot)) ** (-1)"
   ]
  },
  {
   "cell_type": "code",
   "execution_count": 785,
   "metadata": {},
   "outputs": [
    {
     "data": {
      "text/plain": [
       "np.float64(22.428477273495275)"
      ]
     },
     "execution_count": 785,
     "metadata": {},
     "output_type": "execute_result"
    }
   ],
   "source": [
    "U.mean()"
   ]
  },
  {
   "cell_type": "code",
   "execution_count": 786,
   "metadata": {},
   "outputs": [
    {
     "data": {
      "image/png": "[encoded data removed]",
      "text/plain": [
       "<Figure size 800x500 with 1 Axes>"
      ]
     },
     "metadata": {},
     "output_type": "display_data"
    }
   ],
   "source": [
    "df = pd.DataFrame({\n",
    "    'Segment': np.arange(1, 10, 2), # thermocouple numbers -> TODO: replace with positions\n",
    "    'position': np.arange(.800, 2.400, 1.600/5),\n",
    "    'h_cold (W/m²·K)': h_cold,\n",
    "    'h_hot (W/m²·K)': h_hot,\n",
    "    'U (W/m²·K)': U\n",
    "})\n",
    "\n",
    "\n",
    "plt.figure(figsize=(8, 5))\n",
    "plt.scatter(df['position'], df['U (W/m²·K)'], marker='o', linestyle='-', color='darkgreen')\n",
    "plt.xlabel(\"Position down tubular HX (m)\")\n",
    "plt.ylabel(\"Overall $U$ (W/m²·K)\")\n",
    "plt.title(\"Overall Heat Transfer Coefficient $U$ Down Tubular HX\")\n",
    "plt.tight_layout()\n",
    "plt.show()\n"
   ]
  },
  {
   "cell_type": "markdown",
   "metadata": {},
   "source": [
    "(d) Maintain a constant outer flow rate of 350 L/hr and vary the inner flow rate (200, 300, 400 L/hr). Experimentally determine how $h_i$ vary with changing fluid flow rates.\n",
    "\n",
    "We will extend the analysis we did at 350 L/hr for both directions to a varying inner flow rate. Our first step is checking if the flow is laminar for all of these cases. "
   ]
  },
  {
   "cell_type": "code",
   "execution_count": 787,
   "metadata": {},
   "outputs": [],
   "source": [
    "dfs = [df_tube_cross_350h_200c, df_tube_cross_350h_300c, df_tube_cross_350h_350c, df_tube_cross_350h_400c]"
   ]
  },
  {
   "cell_type": "code",
   "execution_count": 788,
   "metadata": {},
   "outputs": [
    {
     "name": "stdout",
     "output_type": "stream",
     "text": [
      "Re_cold (inner tube)       1178.925504\n",
      "Re_hot (annular region)     618.935890\n",
      "Name: 0, dtype: float64\n",
      "Re_cold (inner tube)       1768.388257\n",
      "Re_hot (annular region)     618.935890\n",
      "Name: 0, dtype: float64\n",
      "Re_cold (inner tube)       2063.119633\n",
      "Re_hot (annular region)     618.935890\n",
      "Name: 0, dtype: float64\n",
      "Re_cold (inner tube)       2357.851009\n",
      "Re_hot (annular region)     618.935890\n",
      "Name: 0, dtype: float64\n"
     ]
    }
   ],
   "source": [
    "for df in dfs:\n",
    "    print(df[[\"Re_cold (inner tube)\", \"Re_hot (annular region)\"]].iloc[0])"
   ]
  },
  {
   "cell_type": "code",
   "execution_count": 789,
   "metadata": {},
   "outputs": [],
   "source": [
    "h_colds = []\n",
    "h_hots = []\n",
    "\n",
    "for i, df in enumerate(dfs):\n",
    "    df[\"Pr_cold (inner tube)\"] = 0.07\n",
    "    df[\"Pr_hot (annular region)\"] = 0.05\n",
    "    df[\"Pe_cold (inner tube)\"] = df[\"Re_cold (inner tube)\"] * df[\"Pr_cold (inner tube)\"]\n",
    "    df[\"Pe_hot (annular region)\"] = df[\"Re_hot (annular region)\"] * df[\"Pr_hot (annular region)\"]\n",
    "    mean_temps = df.mean(numeric_only=True)\n",
    "\n",
    "    cold_temps = np.array([mean_temps[t] for t in cold_thermocouples])\n",
    "    hot_temps  = np.array([mean_temps[t] for t in hot_thermocouples])\n",
    "    cold_visc = np.array([vogel(T) for T in cold_temps])\n",
    "    hot_visc  = np.array([vogel(T) for T in hot_temps])\n",
    "    Nu_cold = 1.86 * df[\"Pe_cold (inner tube)\"].mean() * (D_inner/L) ** (1/3) * (cold_visc / mu_w) ** 0.14\n",
    "    Nu_hot = 1.86 * df[\"Pe_hot (annular region)\"].mean() * (D_annular/L) ** (1/3) * (hot_visc / mu_w) ** 0.14\n",
    "    h_cold = (Nu_cold * k_cold) / D_inner\n",
    "    h_hot = (Nu_hot * k_hot) / D_annular\n",
    "    h_colds.append(h_cold.mean())\n",
    "    h_hots.append(h_hot.mean())"
   ]
  },
  {
   "cell_type": "code",
   "execution_count": 790,
   "metadata": {},
   "outputs": [
    {
     "data": {
      "text/plain": [
       "np.float64(55.216309796626334)"
      ]
     },
     "execution_count": 790,
     "metadata": {},
     "output_type": "execute_result"
    }
   ],
   "source": [
    "(h_colds[0])"
   ]
  },
  {
   "cell_type": "markdown",
   "metadata": {},
   "source": [
    "(e) Compare the experimentally determined scaling of $h$ with theoretical predictions, which suggest $h \\propto Re^m$, where $m$ depends on the flow regime. Plot $h$ values against flow rate for both experimental results and theoretical correlations.\n",
    "\n",
    "First we will plot the experimental results for h against flow rates"
   ]
  },
  {
   "cell_type": "code",
   "execution_count": 791,
   "metadata": {},
   "outputs": [
    {
     "data": {
      "text/plain": [
       "Text(0.5, 1.0, 'experimental hot and cold flow heat transfer coefficient scaling')"
      ]
     },
     "execution_count": 791,
     "metadata": {},
     "output_type": "execute_result"
    },
    {
     "data": {
      "image/png": "[encoded data removed]",
      "text/plain": [
       "<Figure size 800x600 with 1 Axes>"
      ]
     },
     "metadata": {},
     "output_type": "display_data"
    }
   ],
   "source": [
    "inner_flows = [200, 300, 350, 400]\n",
    "plt.figure(figsize=(8,6))\n",
    "plt.scatter(inner_flows, h_colds, label = \"cold water flow heat transfer coeff\")\n",
    "plt.scatter(inner_flows, h_hots, label = \"hot water flow heat transfer coeff\")\n",
    "plt.xlabel(\"inner flow rates (L/hr)\")\n",
    "plt.ylabel(\"heat transfer coefficients (W/mK)\")\n",
    "plt.title(\"experimental hot and cold flow heat transfer coefficient scaling\")"
   ]
  },
  {
   "cell_type": "code",
   "execution_count": 792,
   "metadata": {},
   "outputs": [
    {
     "data": {
      "text/plain": [
       "[np.float64(13.60037993695779),\n",
       " np.float64(13.410519604023511),\n",
       " np.float64(13.443273362697994),\n",
       " np.float64(13.48175437888016)]"
      ]
     },
     "execution_count": 792,
     "metadata": {},
     "output_type": "execute_result"
    }
   ],
   "source": [
    "h_hots"
   ]
  },
  {
   "cell_type": "markdown",
   "metadata": {},
   "source": [
    "Plotting this on log-log scale to see the scaling"
   ]
  },
  {
   "cell_type": "code",
   "execution_count": 793,
   "metadata": {},
   "outputs": [
    {
     "data": {
      "text/plain": [
       "(np.float64(0.992380958240932), np.float64(-0.014775555720365662))"
      ]
     },
     "execution_count": 793,
     "metadata": {},
     "output_type": "execute_result"
    },
    {
     "data": {
      "image/png": "[encoded data removed]",
      "text/plain": [
       "<Figure size 800x600 with 1 Axes>"
      ]
     },
     "metadata": {},
     "output_type": "display_data"
    }
   ],
   "source": [
    "inner_flows = np.array(inner_flows)\n",
    "\n",
    "log_flows = np.log(inner_flows)\n",
    "log_h_colds = np.log(h_colds)\n",
    "log_h_hots = np.log(h_hots)\n",
    "\n",
    "slope_cold, intercept_cold = np.polyfit(log_flows, log_h_colds, 1)\n",
    "slope_hot, intercept_hot = np.polyfit(log_flows, log_h_hots, 1)\n",
    "\n",
    "flow_range = np.linspace(inner_flows.min(), inner_flows.max(), 100)\n",
    "fit_h_colds = np.exp(intercept_cold) * flow_range ** slope_cold\n",
    "fit_h_hots = np.exp(intercept_hot) * flow_range ** slope_hot\n",
    "\n",
    "plt.figure(figsize=(8, 6))\n",
    "plt.loglog(inner_flows, h_colds, 'bo', label='Cold water (data)')\n",
    "plt.loglog(flow_range, fit_h_colds, 'b--', label=f'Cold water fit (slope={slope_cold:.2f})')\n",
    "\n",
    "plt.loglog(inner_flows, h_hots, 'ro', label='Hot water (data)')\n",
    "plt.loglog(flow_range, fit_h_hots, 'r--', label=f'Hot water fit (slope={slope_hot:.2f})')\n",
    "\n",
    "plt.xlabel(\"Inner flow rate (L/hr)\")\n",
    "plt.ylabel(\"Heat transfer coefficient (W/m²·K)\")\n",
    "plt.title(\"Log-Log Scaling of Heat Transfer Coefficients with Flow Rate\")\n",
    "plt.legend()\n",
    "\n",
    "(slope_cold, slope_hot)\n"
   ]
  },
  {
   "cell_type": "markdown",
   "metadata": {},
   "source": [
    "Then, we can plot the theoretical correlation between $h$ and flow rate using $Re$ since $Re \\propto u = (\\frac{\\dot q}{A})$. The expected scaling is $h \\propto Re^{1/3}$ as given by Sieder–Tate equation (20-27):\n",
    "\n",
    "$$\n",
    "\\frac{hD}{k} = 1.86 (RePr( \\frac{D}{L})^\\frac{1}{3})(\\frac{\\mu_b}{\\mu_w})^{0.14}\n",
    "$$\n",
    "\n",
    "\n"
   ]
  },
  {
   "cell_type": "code",
   "execution_count": 794,
   "metadata": {},
   "outputs": [],
   "source": [
    "Reynolds = [df[\"Re_cold (inner tube)\"].mean() for df in dfs]"
   ]
  },
  {
   "cell_type": "code",
   "execution_count": 795,
   "metadata": {},
   "outputs": [
    {
     "data": {
      "text/plain": [
       "<matplotlib.legend.Legend at 0x1265c7750>"
      ]
     },
     "execution_count": 795,
     "metadata": {},
     "output_type": "execute_result"
    },
    {
     "data": {
      "image/png": "[encoded data removed]",
      "text/plain": [
       "<Figure size 800x600 with 1 Axes>"
      ]
     },
     "metadata": {},
     "output_type": "display_data"
    }
   ],
   "source": [
    "plt.figure(figsize=(8,6))\n",
    "plt.scatter(Reynolds, h_colds, label=\"heat transfer coefficients\")\n",
    "plt.xlabel(\"Reynolds numbers, $Re$\")\n",
    "plt.ylabel(\"Heat transfer coefficients (W/m²·K)\")\n",
    "plt.title(\"Scaling of Heat Transfer Coefficients with Flow Rate\")\n",
    "plt.legend()"
   ]
  },
  {
   "cell_type": "code",
   "execution_count": 796,
   "metadata": {},
   "outputs": [
    {
     "data": {
      "image/png": "[encoded data removed]",
      "text/plain": [
       "<Figure size 800x600 with 1 Axes>"
      ]
     },
     "metadata": {},
     "output_type": "display_data"
    },
    {
     "data": {
      "text/plain": [
       "np.float64(0.9923809582409291)"
      ]
     },
     "execution_count": 796,
     "metadata": {},
     "output_type": "execute_result"
    }
   ],
   "source": [
    "log_Re = np.log(Reynolds)\n",
    "log_h = np.log(h_colds)\n",
    "\n",
    "slope, intercept = np.polyfit(log_Re, log_h, 1)\n",
    "fit_h = np.exp(intercept) * Reynolds ** slope\n",
    "\n",
    "plt.figure(figsize=(8, 6))\n",
    "plt.loglog(Reynolds, h_colds, 'bo', label=\"Experimental data\")\n",
    "plt.loglog(Reynolds, fit_h, 'b--', label=f'Fit: $h \\\\propto Re^{{{slope:.2f}}}$')\n",
    "\n",
    "plt.xlabel(\"Reynolds number, $Re$\")\n",
    "plt.ylabel(\"Heat transfer coefficient $h$ (W/m²·K)\")\n",
    "plt.title(\"Log-Log Scaling of $h$ with Reynolds Number\")\n",
    "plt.legend()\n",
    "plt.tight_layout()\n",
    "plt.show()\n",
    "\n",
    "slope\n"
   ]
  },
  {
   "cell_type": "code",
   "execution_count": null,
   "metadata": {},
   "outputs": [],
   "source": []
  }
 ],
 "metadata": {
  "kernelspec": {
   "display_name": "cbe154",
   "language": "python",
   "name": "python3"
  },
  "language_info": {
   "codemirror_mode": {
    "name": "ipython",
    "version": 3
   },
   "file_extension": ".py",
   "mimetype": "text/x-python",
   "name": "python",
   "nbconvert_exporter": "python",
   "pygments_lexer": "ipython3",
   "version": "3.13.2"
  }
 },
 "nbformat": 4,
 "nbformat_minor": 2
}
