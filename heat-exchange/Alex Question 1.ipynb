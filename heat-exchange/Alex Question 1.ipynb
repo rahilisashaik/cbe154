{
 "cells": [
  {
   "cell_type": "markdown",
   "id": "1b6c368e-64ad-4375-a3b9-334fee406477",
   "metadata": {},
   "source": [
    "#### Importing libraries"
   ]
  },
  {
   "cell_type": "code",
   "execution_count": 3,
   "id": "d8922198-f96e-4408-a661-b40b72e8d4a4",
   "metadata": {
    "execution": {
     "iopub.execute_input": "2025-04-11T21:10:59.452809Z",
     "iopub.status.busy": "2025-04-11T21:10:59.452502Z",
     "iopub.status.idle": "2025-04-11T21:11:03.870044Z",
     "shell.execute_reply": "2025-04-11T21:11:03.869124Z",
     "shell.execute_reply.started": "2025-04-11T21:10:59.452781Z"
    }
   },
   "outputs": [],
   "source": [
    "import pandas as pd\n",
    "import numpy as np\n",
    "from scipy import stats\n",
    "from scipy.stats import linregress\n",
    "import matplotlib.pyplot as plt\n",
    "from mpl_toolkits.mplot3d import Axes3D\n",
    "from scipy.interpolate import interp1d"
   ]
  },
  {
   "cell_type": "markdown",
   "id": "be3b1202-c798-4fee-9246-a4de69e9c538",
   "metadata": {},
   "source": [
    "#### Reading csv"
   ]
  },
  {
   "cell_type": "code",
   "execution_count": 4,
   "id": "52dd4a60-ec24-4438-997c-583e5bab4b0c",
   "metadata": {
    "execution": {
     "iopub.execute_input": "2025-04-11T21:11:03.899059Z",
     "iopub.status.busy": "2025-04-11T21:11:03.898456Z",
     "iopub.status.idle": "2025-04-11T21:11:03.942164Z",
     "shell.execute_reply": "2025-04-11T21:11:03.941182Z",
     "shell.execute_reply.started": "2025-04-11T21:11:03.899030Z"
    }
   },
   "outputs": [],
   "source": [
    "shell_parallel = pd.read_csv('shell_parallel.csv')\n",
    "shell_counter = pd.read_csv('shell_counter.csv')\n",
    "plate_parallel = pd.read_csv('plate_parallel_extra.csv')\n",
    "plate_counter = pd.read_csv('plate_counter_extra.csv')\n",
    "tube_parallel = pd.read_csv('tube_parallel.csv')\n",
    "tube_counter = pd.read_csv('tube_counter.csv')\n",
    "finned_parallel = pd.read_csv('finned_parallel_extra.csv')\n",
    "finned_counter = pd.read_csv('finned_counter_extra.csv')"
   ]
  },
  {
   "cell_type": "markdown",
   "id": "2ae1d4e8-8bd9-42ee-99de-3d7170de90f7",
   "metadata": {},
   "source": [
    "#### Creating a cleaner function"
   ]
  },
  {
   "cell_type": "code",
   "execution_count": 5,
   "id": "081e4807-310b-40cb-ada3-af39e9dad545",
   "metadata": {
    "execution": {
     "iopub.execute_input": "2025-04-11T21:11:03.998928Z",
     "iopub.status.busy": "2025-04-11T21:11:03.998344Z",
     "iopub.status.idle": "2025-04-11T21:11:04.004600Z",
     "shell.execute_reply": "2025-04-11T21:11:04.003585Z",
     "shell.execute_reply.started": "2025-04-11T21:11:03.998896Z"
    }
   },
   "outputs": [],
   "source": [
    "def cleaner(df):\n",
    "    df = df.dropna(axis=0)\n",
    "    new_headers = df.iloc[0].values\n",
    "    df = pd.DataFrame(df.iloc[1:].values, columns=new_headers)\n",
    "    df = df.reset_index(drop=True)\n",
    "    df = df.iloc[:, 1:]\n",
    "    df = df.astype(float)\n",
    "    df = df.drop(df.columns[4:10], axis=1)\n",
    "    return df"
   ]
  },
  {
   "cell_type": "code",
   "execution_count": 6,
   "id": "38b358cb-cb20-4d7d-adf3-0dcd9c96a121",
   "metadata": {
    "execution": {
     "iopub.execute_input": "2025-04-11T21:11:04.006718Z",
     "iopub.status.busy": "2025-04-11T21:11:04.005976Z",
     "iopub.status.idle": "2025-04-11T21:11:04.062761Z",
     "shell.execute_reply": "2025-04-11T21:11:04.061822Z",
     "shell.execute_reply.started": "2025-04-11T21:11:04.006692Z"
    }
   },
   "outputs": [],
   "source": [
    "shell_parallel = cleaner(shell_parallel)\n",
    "shell_counter = cleaner(shell_counter)\n",
    "plate_parallel = cleaner(plate_parallel)\n",
    "plate_counter = cleaner(plate_counter)\n",
    "tube_parallel = cleaner(tube_parallel)\n",
    "tube_counter = cleaner(tube_counter)\n",
    "finned_parallel = cleaner(finned_parallel)\n",
    "finned_counter = cleaner(finned_counter)"
   ]
  },
  {
   "cell_type": "code",
   "execution_count": 7,
   "id": "e8dcbb62-1b41-48ef-b930-7d0cf0ba1442",
   "metadata": {
    "execution": {
     "iopub.execute_input": "2025-04-11T21:11:04.064620Z",
     "iopub.status.busy": "2025-04-11T21:11:04.064087Z",
     "iopub.status.idle": "2025-04-11T21:11:04.097567Z",
     "shell.execute_reply": "2025-04-11T21:11:04.096711Z",
     "shell.execute_reply.started": "2025-04-11T21:11:04.064592Z"
    }
   },
   "outputs": [
    {
     "data": {
      "text/html": [
       "<div>\n",
       "<style scoped>\n",
       "    .dataframe tbody tr th:only-of-type {\n",
       "        vertical-align: middle;\n",
       "    }\n",
       "\n",
       "    .dataframe tbody tr th {\n",
       "        vertical-align: top;\n",
       "    }\n",
       "\n",
       "    .dataframe thead th {\n",
       "        text-align: right;\n",
       "    }\n",
       "</style>\n",
       "<table border=\"1\" class=\"dataframe\">\n",
       "  <thead>\n",
       "    <tr style=\"text-align: right;\">\n",
       "      <th></th>\n",
       "      <th>T1 (°C)</th>\n",
       "      <th>T2 (°C)</th>\n",
       "      <th>T3 (°C)</th>\n",
       "      <th>T4 (°C)</th>\n",
       "      <th>dp1 (mbar)</th>\n",
       "      <th>dp2 (mbar)</th>\n",
       "      <th>dQ1/dt (kW)</th>\n",
       "      <th>dQ2/dt (kW)</th>\n",
       "      <th>dQ3/dt (kW)</th>\n",
       "      <th>dQm/dt (kW)</th>\n",
       "    </tr>\n",
       "  </thead>\n",
       "  <tbody>\n",
       "    <tr>\n",
       "      <th>0</th>\n",
       "      <td>39.7</td>\n",
       "      <td>43.5</td>\n",
       "      <td>26.9</td>\n",
       "      <td>32.6</td>\n",
       "      <td>2.06</td>\n",
       "      <td>27.0</td>\n",
       "      <td>-1.51</td>\n",
       "      <td>0.0</td>\n",
       "      <td>1.43</td>\n",
       "      <td>1.47</td>\n",
       "    </tr>\n",
       "    <tr>\n",
       "      <th>1</th>\n",
       "      <td>39.6</td>\n",
       "      <td>43.4</td>\n",
       "      <td>26.6</td>\n",
       "      <td>32.5</td>\n",
       "      <td>2.04</td>\n",
       "      <td>27.0</td>\n",
       "      <td>-1.54</td>\n",
       "      <td>0.0</td>\n",
       "      <td>1.41</td>\n",
       "      <td>1.48</td>\n",
       "    </tr>\n",
       "    <tr>\n",
       "      <th>2</th>\n",
       "      <td>39.6</td>\n",
       "      <td>43.4</td>\n",
       "      <td>26.8</td>\n",
       "      <td>32.5</td>\n",
       "      <td>2.08</td>\n",
       "      <td>28.0</td>\n",
       "      <td>-1.55</td>\n",
       "      <td>0.0</td>\n",
       "      <td>1.42</td>\n",
       "      <td>1.49</td>\n",
       "    </tr>\n",
       "    <tr>\n",
       "      <th>3</th>\n",
       "      <td>39.6</td>\n",
       "      <td>43.4</td>\n",
       "      <td>26.6</td>\n",
       "      <td>32.4</td>\n",
       "      <td>2.06</td>\n",
       "      <td>27.0</td>\n",
       "      <td>-1.55</td>\n",
       "      <td>0.0</td>\n",
       "      <td>1.45</td>\n",
       "      <td>1.50</td>\n",
       "    </tr>\n",
       "    <tr>\n",
       "      <th>4</th>\n",
       "      <td>39.6</td>\n",
       "      <td>43.4</td>\n",
       "      <td>26.6</td>\n",
       "      <td>32.4</td>\n",
       "      <td>2.07</td>\n",
       "      <td>28.0</td>\n",
       "      <td>-1.55</td>\n",
       "      <td>0.0</td>\n",
       "      <td>1.47</td>\n",
       "      <td>1.51</td>\n",
       "    </tr>\n",
       "  </tbody>\n",
       "</table>\n",
       "</div>"
      ],
      "text/plain": [
       "   T1 (°C)  T2 (°C)  T3 (°C)  T4 (°C)  dp1 (mbar)  dp2 (mbar)  dQ1/dt (kW)  \\\n",
       "0     39.7     43.5     26.9     32.6        2.06        27.0        -1.51   \n",
       "1     39.6     43.4     26.6     32.5        2.04        27.0        -1.54   \n",
       "2     39.6     43.4     26.8     32.5        2.08        28.0        -1.55   \n",
       "3     39.6     43.4     26.6     32.4        2.06        27.0        -1.55   \n",
       "4     39.6     43.4     26.6     32.4        2.07        28.0        -1.55   \n",
       "\n",
       "   dQ2/dt (kW)  dQ3/dt (kW)  dQm/dt (kW)  \n",
       "0          0.0         1.43         1.47  \n",
       "1          0.0         1.41         1.48  \n",
       "2          0.0         1.42         1.49  \n",
       "3          0.0         1.45         1.50  \n",
       "4          0.0         1.47         1.51  "
      ]
     },
     "execution_count": 7,
     "metadata": {},
     "output_type": "execute_result"
    }
   ],
   "source": [
    "finned_counter.head()"
   ]
  },
  {
   "cell_type": "markdown",
   "id": "5df08ad3-9870-4059-8f9b-7b8f9d8d8792",
   "metadata": {},
   "source": [
    "#### Background Information\n",
    "Newton's law of cooling (Equation 2)\n",
    "$$q_s=h\\Delta T$$\n",
    "where $q_s$ is the heat flux $[\\frac{W}{m^2}]$ from the surface, $h$ is the convective heat transfer coefficient $[\\frac{W}{m^2 \\cdot K}]$, and $\\Delta T$ is the temperature difference $[K]$ between the surface and bulk fluid. The ability to transfer heat from the medium to the wall, or vice versa, is described by the heat transfer coefficient, $h$, as defined by Eqn. (2). Within the dividing wall, heat is transferred from the hot side to the cold side by thermal conduction, as described by Eqn. (1). At steady state, the following expression equates the heat flux to, through, and from the wall:\n",
    "\n",
    "$$q=h_1\\Delta T_1=\\frac{k\\Delta T_W}{s}=h_2\\Delta T_2=U\\Delta T$$ \n",
    "\n",
    "$(3)$\n",
    "\n",
    "where $\\Delta T$ values are as defined in Figure 2, $s$ is the thickness of the dividing wall, and $U$ is the overall heat transfer coefficient of the heat exchanger. $U$ characterizes the heat exchanger, and is represented as the sum of a series of thermal resistances:\n",
    "$$U=\\frac{1}{\\frac{1}{h_1}+\\frac{s}{k}+\n",
    "\\frac{1}{h_2}}$$\n",
    "\n",
    "$(4)$\n",
    "\n",
    "Log mean temperature difference, $\\Delta T_{LM}$, must be used to represent the driving force. The general formula for LMTD is\n",
    "\n",
    "$\\Delta T_{LM} = \\frac{\\Delta T_a - \\Delta T_b}{ln(\\frac{\\Delta T_a}{\\Delta T_b})}$\n",
    "\n",
    "where\n",
    "\n",
    "$\\Delta T_a:$ Temperature difference at one end of the heat exchanger.\n",
    "\n",
    "$\\Delta T_b:$ Temperature difference at the other end of the heat exchanger \n",
    "\n",
    "For co-current flow log mean temperature difference is:\n",
    "\n",
    "$\\Delta T_{LM}=\\frac{(T_{1i}-T_{2i})-(T_{1o}-T_{2o})}{ln(\\frac{T_{1i}-T_{2i}}{T_{1o}-T_{2o}})}$\n",
    "\n",
    "$(5b)$\n",
    "\n",
    "Subscripts i and o in Eqn. (5b) represent inlet and outlet streams, respectively. Additional considerations are required when the surface areas of the hot and cold side are different in size, as in the case of a tubular heat exchanger. \n",
    "\n",
    "The heat transfer rate (heat duty) of a heat exchanger can be calculated with an energy balance on the hot or cold fluid:\n",
    "\n",
    "$\\dot Q_H=\\dot m_h \\cdot c_{p,h} \\cdot (\\Delta T)_h$\n",
    "\n",
    "$\\dot Q_c = \\dot m_c \\cdot c_{p,c} \\cdot (\\Delta T)_c$\n",
    "\n",
    "$(6)$\n",
    "\n",
    "where $\\dot m$ is the mass flow rate and $c_p$ is the specific heat capacity. In an ideal heat exchanger without losses,\n",
    "\n",
    "$\\dot Q = - \\dot Q_H = \\dot Q_C$\n",
    "\n",
    "Instead use the mean exchanged heat flow, $\\dot Q_M$, and mean area, $A_M$, to calculate the overall heat transfer coefficient for a given heat exchanger.\n",
    "\n",
    "$U = \\frac{\\dot Q_M}{A_M \\cdot \\Delta T_{LM}}$\n",
    "\n",
    "$\\dot Q_M = \\frac{|\\dot Q_C|+|\\dot Q_H|}{2}$\n",
    "\n",
    "$(9)$\n",
    "\n",
    "For a tubular heat exchanger, the mean area is given by:\n",
    "\n",
    "$A_M = \\frac{A_{outer} - A_{inner}}{ln(\\frac{A_{outer}}{A_{inner}})} = \\frac{\\pi L (D_{t,o}-D_{t,i})}{ln(\\frac{D_{t,o}}{D_t,i})}$\n",
    "\n",
    "$(10)$\n",
    "\n",
    "where $D_{t,i}$ represents the inner tube diameter, $D_{t,o}$ is the outer tube diameter, and $L$ is the length of the tube.\n",
    "\n",
    "#### Effectiveness, $\\epsilon$\n",
    "\n",
    "$\\epsilon = \\frac{\\dot Q_{actual}}{\\dot Q_max}=\\frac{\\dot Q_M}{C_{min}(T_{hi}-T_{Ci})}$\n",
    "\n",
    "$C_h=\\dot m_h c_{p,h}$\n",
    "\n",
    "$C_C=\\dot m_c c_{p,c}$\n",
    "\n",
    "$C_{min}=min(C_h,C_c)$\n",
    "\n",
    "where\n",
    "\n",
    "$\\dot Q_{actual}$ is the actual amount of heat transferred by heat exchanger\n",
    "\n",
    "$\\dot Q_{max}$ is the maximum amount of heat that could be transferred if one of the fluids were to be heated or cooled to the temperature of the other fluid at the inlet\n",
    "\n",
    "$C=\\dot m c_p$ represents the heat capacity rate\n",
    "\n",
    "$C_{min}$ is the minimum heat capacity rate (the smaller of the hot or cold fluid's heat capacity rate)"
   ]
  },
  {
   "cell_type": "markdown",
   "id": "34b60214-893e-4385-a30a-031ecf648f51",
   "metadata": {},
   "source": [
    "# Data Analysis Question 1\n",
    "Experimentally determine the overall heat transfer coefficient (U) and effectiveness (ε) of\n",
    "each of the four heat exchangers under identical conditions."
   ]
  },
  {
   "cell_type": "markdown",
   "id": "fab44177-d9ff-462b-9a1c-48394001d075",
   "metadata": {},
   "source": [
    "#### Quantity Functions"
   ]
  },
  {
   "cell_type": "code",
   "execution_count": 8,
   "id": "7c81d16f-0a2f-442a-95c6-2d8954463102",
   "metadata": {
    "execution": {
     "iopub.execute_input": "2025-04-11T21:11:04.200067Z",
     "iopub.status.busy": "2025-04-11T21:11:04.198746Z",
     "iopub.status.idle": "2025-04-11T21:11:04.210271Z",
     "shell.execute_reply": "2025-04-11T21:11:04.209109Z",
     "shell.execute_reply.started": "2025-04-11T21:11:04.200039Z"
    }
   },
   "outputs": [],
   "source": [
    "def calculate_Qh(m, c_p, Delta_T):\n",
    "    return m * c_p * Delta_T\n",
    "\n",
    "def calculate_Qc(m, c_p, Delta_T):\n",
    "    return m * c_p * Delta_T\n",
    "\n",
    "def calculate_QM(Qc,Qh):\n",
    "    return (np.abs(Qc) + np.abs(Qh))/2\n",
    "\n",
    "def calculate_LMTD(Delta_Ta, Delta_Tb):\n",
    "    return (Delta_Ta - Delta_Tb)/(np.log(Delta_Ta/Delta_Tb))\n",
    "\n",
    "def calculate_cocurrent_LMTD(T_1i, T_2i, T_1o, T_2o):\n",
    "    return ((T_1i - T_2i) - (T_1o - T_2o)) / np.log((T_1i - T_2i) / (T_1o - T_2o))\n",
    "\n",
    "def calculate_A_M_tubular(D_to, D_ti, L):\n",
    "    return (np.pi*L*(D_to - D_ti))/np.log(D_to/D_ti)\n",
    "\n",
    "def calculate_U(QM, A_M, LMTD):\n",
    "    return QM/(A_M*LMTD)"
   ]
  },
  {
   "cell_type": "markdown",
   "id": "9a469b55-69f8-418e-918a-92a2319173ab",
   "metadata": {},
   "source": [
    "#### System Parameters"
   ]
  },
  {
   "cell_type": "code",
   "execution_count": 9,
   "id": "fe204e4c-89de-4be7-9545-1de1274db002",
   "metadata": {
    "execution": {
     "iopub.execute_input": "2025-04-11T21:11:04.259576Z",
     "iopub.status.busy": "2025-04-11T21:11:04.258115Z",
     "iopub.status.idle": "2025-04-11T21:11:04.264221Z",
     "shell.execute_reply": "2025-04-11T21:11:04.262908Z",
     "shell.execute_reply.started": "2025-04-11T21:11:04.259544Z"
    }
   },
   "outputs": [],
   "source": [
    "c_p = 4184 #J/(kg*C) #Specific heat capacity of water"
   ]
  },
  {
   "cell_type": "markdown",
   "id": "3b295dbc-a49a-4454-95f5-c0e2fe86dac2",
   "metadata": {},
   "source": [
    "#### Example calculation of overall heat transfer coefficient with shell-tube heat exchanger (both parallel and counter flow)"
   ]
  },
  {
   "cell_type": "code",
   "execution_count": 10,
   "id": "5570774e-70c0-42fd-9a50-ba368196a078",
   "metadata": {
    "execution": {
     "iopub.execute_input": "2025-04-11T21:11:04.297922Z",
     "iopub.status.busy": "2025-04-11T21:11:04.297456Z",
     "iopub.status.idle": "2025-04-11T21:11:04.325415Z",
     "shell.execute_reply": "2025-04-11T21:11:04.323818Z",
     "shell.execute_reply.started": "2025-04-11T21:11:04.297894Z"
    }
   },
   "outputs": [
    {
     "data": {
      "text/html": [
       "<div>\n",
       "<style scoped>\n",
       "    .dataframe tbody tr th:only-of-type {\n",
       "        vertical-align: middle;\n",
       "    }\n",
       "\n",
       "    .dataframe tbody tr th {\n",
       "        vertical-align: top;\n",
       "    }\n",
       "\n",
       "    .dataframe thead th {\n",
       "        text-align: right;\n",
       "    }\n",
       "</style>\n",
       "<table border=\"1\" class=\"dataframe\">\n",
       "  <thead>\n",
       "    <tr style=\"text-align: right;\">\n",
       "      <th></th>\n",
       "      <th>T1 (°C)</th>\n",
       "      <th>T2 (°C)</th>\n",
       "      <th>T3 (°C)</th>\n",
       "      <th>T4 (°C)</th>\n",
       "      <th>dp1 (mbar)</th>\n",
       "      <th>dp2 (mbar)</th>\n",
       "      <th>dQ1/dt (kW)</th>\n",
       "      <th>dQ2/dt (kW)</th>\n",
       "      <th>dQ3/dt (kW)</th>\n",
       "      <th>dQm/dt (kW)</th>\n",
       "    </tr>\n",
       "  </thead>\n",
       "  <tbody>\n",
       "    <tr>\n",
       "      <th>0</th>\n",
       "      <td>40.0</td>\n",
       "      <td>32.9</td>\n",
       "      <td>15.1</td>\n",
       "      <td>21.5</td>\n",
       "      <td>0.09</td>\n",
       "      <td>24.0</td>\n",
       "      <td>-2.58</td>\n",
       "      <td>2.58</td>\n",
       "      <td>0.0</td>\n",
       "      <td>2.58</td>\n",
       "    </tr>\n",
       "    <tr>\n",
       "      <th>1</th>\n",
       "      <td>40.0</td>\n",
       "      <td>32.9</td>\n",
       "      <td>15.1</td>\n",
       "      <td>21.5</td>\n",
       "      <td>0.09</td>\n",
       "      <td>24.0</td>\n",
       "      <td>-2.60</td>\n",
       "      <td>2.56</td>\n",
       "      <td>0.0</td>\n",
       "      <td>2.58</td>\n",
       "    </tr>\n",
       "    <tr>\n",
       "      <th>2</th>\n",
       "      <td>40.0</td>\n",
       "      <td>32.9</td>\n",
       "      <td>15.1</td>\n",
       "      <td>21.5</td>\n",
       "      <td>0.09</td>\n",
       "      <td>23.0</td>\n",
       "      <td>-2.60</td>\n",
       "      <td>2.58</td>\n",
       "      <td>0.0</td>\n",
       "      <td>2.59</td>\n",
       "    </tr>\n",
       "    <tr>\n",
       "      <th>3</th>\n",
       "      <td>40.0</td>\n",
       "      <td>32.9</td>\n",
       "      <td>15.1</td>\n",
       "      <td>21.6</td>\n",
       "      <td>0.09</td>\n",
       "      <td>24.0</td>\n",
       "      <td>-2.60</td>\n",
       "      <td>2.60</td>\n",
       "      <td>0.0</td>\n",
       "      <td>2.60</td>\n",
       "    </tr>\n",
       "    <tr>\n",
       "      <th>4</th>\n",
       "      <td>40.0</td>\n",
       "      <td>32.9</td>\n",
       "      <td>15.1</td>\n",
       "      <td>21.6</td>\n",
       "      <td>0.09</td>\n",
       "      <td>24.0</td>\n",
       "      <td>-2.60</td>\n",
       "      <td>2.62</td>\n",
       "      <td>0.0</td>\n",
       "      <td>2.61</td>\n",
       "    </tr>\n",
       "  </tbody>\n",
       "</table>\n",
       "</div>"
      ],
      "text/plain": [
       "   T1 (°C)  T2 (°C)  T3 (°C)  T4 (°C)  dp1 (mbar)  dp2 (mbar)  dQ1/dt (kW)  \\\n",
       "0     40.0     32.9     15.1     21.5        0.09        24.0        -2.58   \n",
       "1     40.0     32.9     15.1     21.5        0.09        24.0        -2.60   \n",
       "2     40.0     32.9     15.1     21.5        0.09        23.0        -2.60   \n",
       "3     40.0     32.9     15.1     21.6        0.09        24.0        -2.60   \n",
       "4     40.0     32.9     15.1     21.6        0.09        24.0        -2.60   \n",
       "\n",
       "   dQ2/dt (kW)  dQ3/dt (kW)  dQm/dt (kW)  \n",
       "0         2.58          0.0         2.58  \n",
       "1         2.56          0.0         2.58  \n",
       "2         2.58          0.0         2.59  \n",
       "3         2.60          0.0         2.60  \n",
       "4         2.62          0.0         2.61  "
      ]
     },
     "execution_count": 10,
     "metadata": {},
     "output_type": "execute_result"
    }
   ],
   "source": [
    "shell_parallel.head()"
   ]
  },
  {
   "cell_type": "code",
   "execution_count": 11,
   "id": "7fc96f38-8b8a-4ed5-9909-e736e520ca50",
   "metadata": {
    "execution": {
     "iopub.execute_input": "2025-04-11T21:11:04.327939Z",
     "iopub.status.busy": "2025-04-11T21:11:04.326654Z",
     "iopub.status.idle": "2025-04-11T21:11:04.352755Z",
     "shell.execute_reply": "2025-04-11T21:11:04.350507Z",
     "shell.execute_reply.started": "2025-04-11T21:11:04.327909Z"
    }
   },
   "outputs": [
    {
     "data": {
      "text/html": [
       "<div>\n",
       "<style scoped>\n",
       "    .dataframe tbody tr th:only-of-type {\n",
       "        vertical-align: middle;\n",
       "    }\n",
       "\n",
       "    .dataframe tbody tr th {\n",
       "        vertical-align: top;\n",
       "    }\n",
       "\n",
       "    .dataframe thead th {\n",
       "        text-align: right;\n",
       "    }\n",
       "</style>\n",
       "<table border=\"1\" class=\"dataframe\">\n",
       "  <thead>\n",
       "    <tr style=\"text-align: right;\">\n",
       "      <th></th>\n",
       "      <th>T1 (°C)</th>\n",
       "      <th>T2 (°C)</th>\n",
       "      <th>T3 (°C)</th>\n",
       "      <th>T4 (°C)</th>\n",
       "      <th>dp1 (mbar)</th>\n",
       "      <th>dp2 (mbar)</th>\n",
       "      <th>dQ1/dt (kW)</th>\n",
       "      <th>dQ2/dt (kW)</th>\n",
       "      <th>dQ3/dt (kW)</th>\n",
       "      <th>dQm/dt (kW)</th>\n",
       "    </tr>\n",
       "  </thead>\n",
       "  <tbody>\n",
       "    <tr>\n",
       "      <th>0</th>\n",
       "      <td>32.4</td>\n",
       "      <td>40.2</td>\n",
       "      <td>15.5</td>\n",
       "      <td>22.3</td>\n",
       "      <td>0.09</td>\n",
       "      <td>21.0</td>\n",
       "      <td>-2.89</td>\n",
       "      <td>2.75</td>\n",
       "      <td>0.0</td>\n",
       "      <td>2.82</td>\n",
       "    </tr>\n",
       "    <tr>\n",
       "      <th>1</th>\n",
       "      <td>32.4</td>\n",
       "      <td>40.2</td>\n",
       "      <td>15.5</td>\n",
       "      <td>22.3</td>\n",
       "      <td>0.09</td>\n",
       "      <td>21.0</td>\n",
       "      <td>-2.90</td>\n",
       "      <td>2.75</td>\n",
       "      <td>0.0</td>\n",
       "      <td>2.83</td>\n",
       "    </tr>\n",
       "    <tr>\n",
       "      <th>2</th>\n",
       "      <td>32.4</td>\n",
       "      <td>40.2</td>\n",
       "      <td>15.5</td>\n",
       "      <td>22.3</td>\n",
       "      <td>0.09</td>\n",
       "      <td>21.0</td>\n",
       "      <td>-2.90</td>\n",
       "      <td>2.74</td>\n",
       "      <td>0.0</td>\n",
       "      <td>2.82</td>\n",
       "    </tr>\n",
       "    <tr>\n",
       "      <th>3</th>\n",
       "      <td>32.4</td>\n",
       "      <td>40.2</td>\n",
       "      <td>15.5</td>\n",
       "      <td>22.3</td>\n",
       "      <td>0.09</td>\n",
       "      <td>20.0</td>\n",
       "      <td>-2.86</td>\n",
       "      <td>2.74</td>\n",
       "      <td>0.0</td>\n",
       "      <td>2.80</td>\n",
       "    </tr>\n",
       "    <tr>\n",
       "      <th>4</th>\n",
       "      <td>32.4</td>\n",
       "      <td>40.2</td>\n",
       "      <td>15.5</td>\n",
       "      <td>22.2</td>\n",
       "      <td>0.09</td>\n",
       "      <td>21.0</td>\n",
       "      <td>-2.88</td>\n",
       "      <td>2.74</td>\n",
       "      <td>0.0</td>\n",
       "      <td>2.81</td>\n",
       "    </tr>\n",
       "  </tbody>\n",
       "</table>\n",
       "</div>"
      ],
      "text/plain": [
       "   T1 (°C)  T2 (°C)  T3 (°C)  T4 (°C)  dp1 (mbar)  dp2 (mbar)  dQ1/dt (kW)  \\\n",
       "0     32.4     40.2     15.5     22.3        0.09        21.0        -2.89   \n",
       "1     32.4     40.2     15.5     22.3        0.09        21.0        -2.90   \n",
       "2     32.4     40.2     15.5     22.3        0.09        21.0        -2.90   \n",
       "3     32.4     40.2     15.5     22.3        0.09        20.0        -2.86   \n",
       "4     32.4     40.2     15.5     22.2        0.09        21.0        -2.88   \n",
       "\n",
       "   dQ2/dt (kW)  dQ3/dt (kW)  dQm/dt (kW)  \n",
       "0         2.75          0.0         2.82  \n",
       "1         2.75          0.0         2.83  \n",
       "2         2.74          0.0         2.82  \n",
       "3         2.74          0.0         2.80  \n",
       "4         2.74          0.0         2.81  "
      ]
     },
     "execution_count": 11,
     "metadata": {},
     "output_type": "execute_result"
    }
   ],
   "source": [
    "shell_counter.head()"
   ]
  },
  {
   "cell_type": "markdown",
   "id": "f8f9861a-b679-408e-a42c-b0cef752479a",
   "metadata": {},
   "source": [
    "#### Extract the relevant values\n",
    "- Cold water inlet temperature\n",
    "- Hot water inlet temperature\n",
    "- Cold water outlet temperature\n",
    "- Hot water outlet temperature\n",
    "- Qm"
   ]
  },
  {
   "cell_type": "markdown",
   "id": "863605d9-53a1-471f-a34a-0ba581f21114",
   "metadata": {},
   "source": [
    "#### Start with parallel\n",
    "Value extraction"
   ]
  },
  {
   "cell_type": "code",
   "execution_count": 12,
   "id": "cf941925-e36a-4577-9132-1b8bd0929e61",
   "metadata": {
    "execution": {
     "iopub.execute_input": "2025-04-11T21:11:04.426756Z",
     "iopub.status.busy": "2025-04-11T21:11:04.426164Z",
     "iopub.status.idle": "2025-04-11T21:11:04.434939Z",
     "shell.execute_reply": "2025-04-11T21:11:04.433779Z",
     "shell.execute_reply.started": "2025-04-11T21:11:04.426726Z"
    }
   },
   "outputs": [],
   "source": [
    "cold_inlet_temp = shell_parallel['T3 (°C)'].mean()\n",
    "hot_inlet_temp = shell_parallel['T1 (°C)'].mean()\n",
    "cold_outlet_temp = shell_parallel['T4 (°C)'].mean()\n",
    "hot_outlet_temp = shell_parallel['T2 (°C)'].mean()\n",
    "QM = shell_parallel['dQm/dt (kW)'].mean() * 1000\n",
    "A_M = 0.15 #m^2"
   ]
  },
  {
   "cell_type": "markdown",
   "id": "6a43c71f-99df-4927-b7fc-6e13098d6cce",
   "metadata": {},
   "source": [
    "Compute LMTD and U"
   ]
  },
  {
   "cell_type": "code",
   "execution_count": 13,
   "id": "d8acd81a-d1d9-41ef-bb75-d4391eb20c5c",
   "metadata": {
    "execution": {
     "iopub.execute_input": "2025-04-11T21:11:04.470840Z",
     "iopub.status.busy": "2025-04-11T21:11:04.470279Z",
     "iopub.status.idle": "2025-04-11T21:11:04.477622Z",
     "shell.execute_reply": "2025-04-11T21:11:04.476830Z",
     "shell.execute_reply.started": "2025-04-11T21:11:04.470811Z"
    }
   },
   "outputs": [
    {
     "name": "stdout",
     "output_type": "stream",
     "text": [
      "U (shell heat exchanger with parallel flow): 958.0758533838674 W/m²·K\n"
     ]
    }
   ],
   "source": [
    "Delta_Ta = hot_inlet_temp - cold_outlet_temp\n",
    "Delta_Tb = hot_outlet_temp - cold_inlet_temp\n",
    "\n",
    "LMTD = calculate_LMTD(Delta_Ta, Delta_Tb)\n",
    "U = calculate_U(QM, A_M, LMTD)\n",
    "\n",
    "print(\"U (shell heat exchanger with parallel flow):\",U,\"W/m²·K\")"
   ]
  },
  {
   "cell_type": "markdown",
   "id": "19793ce8-2071-42ad-b8ce-e664d89523c0",
   "metadata": {},
   "source": [
    "#### Define a general functions to calculate overall heat transfer coefficients for every flow heat exchanger"
   ]
  },
  {
   "cell_type": "markdown",
   "id": "0c989a3c-4378-4548-b343-d4aa41e6cd6c",
   "metadata": {},
   "source": [
    "#### For parallel flows"
   ]
  },
  {
   "cell_type": "code",
   "execution_count": 14,
   "id": "ad4d858c-c9b8-4033-ac1d-14e2ab2b5f48",
   "metadata": {
    "execution": {
     "iopub.execute_input": "2025-04-11T21:11:04.556573Z",
     "iopub.status.busy": "2025-04-11T21:11:04.556040Z",
     "iopub.status.idle": "2025-04-11T21:11:04.572615Z",
     "shell.execute_reply": "2025-04-11T21:11:04.570790Z",
     "shell.execute_reply.started": "2025-04-11T21:11:04.556544Z"
    }
   },
   "outputs": [],
   "source": [
    "def parallel_U(df, A_M):\n",
    "    QM = df['dQm/dt (kW)'].mean() * 1000\n",
    "    \n",
    "    first_four_columns = df.iloc[:, :4]\n",
    "    flat_values = first_four_columns.mean(axis=0).values\n",
    "    unique_sorted_values = np.sort(np.unique(flat_values))\n",
    "    \n",
    "    cold_inlet_temp = unique_sorted_values[0]   \n",
    "    cold_outlet_temp = unique_sorted_values[1]   \n",
    "    hot_outlet_temp = unique_sorted_values[2]    \n",
    "    hot_inlet_temp = unique_sorted_values[3]\n",
    "\n",
    "    Delta_Ta = hot_inlet_temp - cold_outlet_temp\n",
    "    Delta_Tb = hot_outlet_temp - cold_inlet_temp\n",
    "\n",
    "    LMTD = calculate_LMTD(Delta_Ta, Delta_Tb)\n",
    "    U = calculate_U(QM, A_M, LMTD)\n",
    "    return np.array([U, cold_inlet_temp, cold_outlet_temp, hot_outlet_temp, hot_inlet_temp, QM])"
   ]
  },
  {
   "cell_type": "markdown",
   "id": "5eeccefc-1e0d-46d8-be9e-8ccb297acb73",
   "metadata": {},
   "source": [
    "#### For counter flows"
   ]
  },
  {
   "cell_type": "code",
   "execution_count": 15,
   "id": "da3f5dd2-d1a4-4905-92d4-f068b67ab6c3",
   "metadata": {
    "execution": {
     "iopub.execute_input": "2025-04-11T21:11:04.614805Z",
     "iopub.status.busy": "2025-04-11T21:11:04.614258Z",
     "iopub.status.idle": "2025-04-11T21:11:04.622898Z",
     "shell.execute_reply": "2025-04-11T21:11:04.620585Z",
     "shell.execute_reply.started": "2025-04-11T21:11:04.614775Z"
    }
   },
   "outputs": [],
   "source": [
    "def counter_U(df, A_M):\n",
    "    QM = df['dQm/dt (kW)'].mean() * 1000\n",
    "    \n",
    "    first_four_columns = df.iloc[:, :4]\n",
    "    flat_values = first_four_columns.mean(axis=0).values\n",
    "    unique_sorted_values = np.sort(np.unique(flat_values))\n",
    "    \n",
    "    cold_inlet_temp = unique_sorted_values[0]   \n",
    "    cold_outlet_temp = unique_sorted_values[1]   \n",
    "    hot_outlet_temp = unique_sorted_values[2]    \n",
    "    hot_inlet_temp = unique_sorted_values[3]\n",
    "\n",
    "    LMTD = calculate_cocurrent_LMTD(hot_inlet_temp,cold_inlet_temp,hot_outlet_temp,cold_outlet_temp)\n",
    "    U = calculate_U(QM, A_M, LMTD)\n",
    "    return np.array([U, cold_inlet_temp, cold_outlet_temp, hot_outlet_temp, hot_inlet_temp, QM])"
   ]
  },
  {
   "cell_type": "markdown",
   "id": "0edcc5ed-c63c-40b9-9793-081fa1f159b3",
   "metadata": {},
   "source": [
    "#### Apply to every heat exchanger"
   ]
  },
  {
   "cell_type": "code",
   "execution_count": 16,
   "id": "a7901a61-ac0a-4974-b337-ae057fd78c39",
   "metadata": {
    "execution": {
     "iopub.execute_input": "2025-04-11T21:11:04.668291Z",
     "iopub.status.busy": "2025-04-11T21:11:04.667549Z",
     "iopub.status.idle": "2025-04-11T21:11:04.690140Z",
     "shell.execute_reply": "2025-04-11T21:11:04.689318Z",
     "shell.execute_reply.started": "2025-04-11T21:11:04.668263Z"
    }
   },
   "outputs": [
    {
     "data": {
      "text/plain": [
       "array([ 958.07585338,   15.23      ,   21.687     ,   33.002     ,\n",
       "         40.094     , 2599.4       ])"
      ]
     },
     "execution_count": 16,
     "metadata": {},
     "output_type": "execute_result"
    }
   ],
   "source": [
    "shell_counter_U = counter_U(shell_counter, A_M)\n",
    "shell_parallel_U = parallel_U(shell_parallel, A_M)\n",
    "finned_counter_U = counter_U(finned_counter, 2.77)\n",
    "finned_parallel_U = parallel_U(finned_parallel, 2.77)\n",
    "plate_counter_U = counter_U(plate_counter, 0.13932)\n",
    "plate_parallel_U = parallel_U(plate_parallel, 0.13932)\n",
    "tube_counter_U = counter_U(tube_counter, 0.0698)\n",
    "tube_parallel_U = parallel_U(tube_parallel, 0.0698)\n",
    "shell_parallel_U"
   ]
  },
  {
   "cell_type": "markdown",
   "id": "a51cecbf-692c-4526-a4ca-94e4ef7b1e1d",
   "metadata": {},
   "source": [
    "### New Data Frame With Calculated Values"
   ]
  },
  {
   "cell_type": "code",
   "execution_count": 17,
   "id": "3c68b23b-653b-409c-8d2a-975871f276c1",
   "metadata": {
    "execution": {
     "iopub.execute_input": "2025-04-11T21:11:04.725345Z",
     "iopub.status.busy": "2025-04-11T21:11:04.724746Z",
     "iopub.status.idle": "2025-04-11T21:11:04.753353Z",
     "shell.execute_reply": "2025-04-11T21:11:04.752302Z",
     "shell.execute_reply.started": "2025-04-11T21:11:04.725313Z"
    }
   },
   "outputs": [
    {
     "data": {
      "text/html": [
       "<div>\n",
       "<style scoped>\n",
       "    .dataframe tbody tr th:only-of-type {\n",
       "        vertical-align: middle;\n",
       "    }\n",
       "\n",
       "    .dataframe tbody tr th {\n",
       "        vertical-align: top;\n",
       "    }\n",
       "\n",
       "    .dataframe thead th {\n",
       "        text-align: right;\n",
       "    }\n",
       "</style>\n",
       "<table border=\"1\" class=\"dataframe\">\n",
       "  <thead>\n",
       "    <tr style=\"text-align: right;\">\n",
       "      <th></th>\n",
       "      <th>Heat Exchanger Type</th>\n",
       "      <th>U</th>\n",
       "      <th>T_ci</th>\n",
       "      <th>T_co</th>\n",
       "      <th>T_ho</th>\n",
       "      <th>T_hi</th>\n",
       "      <th>Q_M</th>\n",
       "    </tr>\n",
       "  </thead>\n",
       "  <tbody>\n",
       "    <tr>\n",
       "      <th>0</th>\n",
       "      <td>Shell Counter</td>\n",
       "      <td>1150.253588</td>\n",
       "      <td>15.351</td>\n",
       "      <td>22.202</td>\n",
       "      <td>32.284</td>\n",
       "      <td>40.139</td>\n",
       "      <td>2820.5</td>\n",
       "    </tr>\n",
       "    <tr>\n",
       "      <th>1</th>\n",
       "      <td>Shell Parallel</td>\n",
       "      <td>958.075853</td>\n",
       "      <td>15.230</td>\n",
       "      <td>21.687</td>\n",
       "      <td>33.002</td>\n",
       "      <td>40.094</td>\n",
       "      <td>2599.4</td>\n",
       "    </tr>\n",
       "    <tr>\n",
       "      <th>2</th>\n",
       "      <td>Finned Counter</td>\n",
       "      <td>49.486788</td>\n",
       "      <td>26.490</td>\n",
       "      <td>32.596</td>\n",
       "      <td>39.586</td>\n",
       "      <td>43.468</td>\n",
       "      <td>1542.8</td>\n",
       "    </tr>\n",
       "    <tr>\n",
       "      <th>3</th>\n",
       "      <td>Finned Parallel</td>\n",
       "      <td>54.429328</td>\n",
       "      <td>26.444</td>\n",
       "      <td>33.438</td>\n",
       "      <td>39.300</td>\n",
       "      <td>43.426</td>\n",
       "      <td>1713.0</td>\n",
       "    </tr>\n",
       "    <tr>\n",
       "      <th>4</th>\n",
       "      <td>Plate Counter</td>\n",
       "      <td>3510.638952</td>\n",
       "      <td>21.694</td>\n",
       "      <td>28.938</td>\n",
       "      <td>32.812</td>\n",
       "      <td>41.262</td>\n",
       "      <td>4739.4</td>\n",
       "    </tr>\n",
       "    <tr>\n",
       "      <th>5</th>\n",
       "      <td>Plate Parallel</td>\n",
       "      <td>2522.359438</td>\n",
       "      <td>20.420</td>\n",
       "      <td>30.064</td>\n",
       "      <td>31.706</td>\n",
       "      <td>41.986</td>\n",
       "      <td>4076.8</td>\n",
       "    </tr>\n",
       "    <tr>\n",
       "      <th>6</th>\n",
       "      <td>Tube Counter</td>\n",
       "      <td>6465.400106</td>\n",
       "      <td>21.821</td>\n",
       "      <td>27.312</td>\n",
       "      <td>30.769</td>\n",
       "      <td>37.904</td>\n",
       "      <td>3706.3</td>\n",
       "    </tr>\n",
       "    <tr>\n",
       "      <th>7</th>\n",
       "      <td>Tube Parallel</td>\n",
       "      <td>5447.766559</td>\n",
       "      <td>21.821</td>\n",
       "      <td>27.312</td>\n",
       "      <td>30.769</td>\n",
       "      <td>37.904</td>\n",
       "      <td>3706.3</td>\n",
       "    </tr>\n",
       "  </tbody>\n",
       "</table>\n",
       "</div>"
      ],
      "text/plain": [
       "  Heat Exchanger Type            U    T_ci    T_co    T_ho    T_hi     Q_M\n",
       "0       Shell Counter  1150.253588  15.351  22.202  32.284  40.139  2820.5\n",
       "1      Shell Parallel   958.075853  15.230  21.687  33.002  40.094  2599.4\n",
       "2      Finned Counter    49.486788  26.490  32.596  39.586  43.468  1542.8\n",
       "3     Finned Parallel    54.429328  26.444  33.438  39.300  43.426  1713.0\n",
       "4       Plate Counter  3510.638952  21.694  28.938  32.812  41.262  4739.4\n",
       "5      Plate Parallel  2522.359438  20.420  30.064  31.706  41.986  4076.8\n",
       "6        Tube Counter  6465.400106  21.821  27.312  30.769  37.904  3706.3\n",
       "7       Tube Parallel  5447.766559  21.821  27.312  30.769  37.904  3706.3"
      ]
     },
     "execution_count": 17,
     "metadata": {},
     "output_type": "execute_result"
    }
   ],
   "source": [
    "dfQ1 = pd.DataFrame(columns=[\"U\", \"T_ci\", \"T_co\", \"T_ho\", \"T_hi\", \"Q_M\"])\n",
    "\n",
    "data_arrays = [\n",
    "    shell_counter_U,\n",
    "    shell_parallel_U,\n",
    "    finned_counter_U,\n",
    "    finned_parallel_U,\n",
    "    plate_counter_U,\n",
    "    plate_parallel_U,\n",
    "    tube_counter_U,\n",
    "    tube_parallel_U\n",
    "]\n",
    "\n",
    "dfQ1 = pd.DataFrame(data_arrays, columns=[\"U\", \"T_ci\", \"T_co\", \"T_ho\", \"T_hi\", \"Q_M\"])\n",
    "\n",
    "dfQ1.insert(0, 'Heat Exchanger Type', np.array([\n",
    "    'Shell Counter', \n",
    "    'Shell Parallel',\n",
    "    'Finned Counter',\n",
    "    'Finned Parallel',\n",
    "    'Plate Counter',\n",
    "    'Plate Parallel',\n",
    "    'Tube Counter',\n",
    "    'Tube Parallel'\n",
    "]))\n",
    "dfQ1"
   ]
  },
  {
   "cell_type": "markdown",
   "id": "46f08af0-7953-477c-a30f-c7537cfb8a5d",
   "metadata": {},
   "source": [
    "#### Tubular Calculations"
   ]
  },
  {
   "cell_type": "code",
   "execution_count": 18,
   "id": "fef08488-becf-496e-b391-c0b4098eb5b4",
   "metadata": {
    "execution": {
     "iopub.execute_input": "2025-04-11T21:11:04.797813Z",
     "iopub.status.busy": "2025-04-11T21:11:04.797178Z",
     "iopub.status.idle": "2025-04-11T21:11:04.802988Z",
     "shell.execute_reply": "2025-04-11T21:11:04.801737Z",
     "shell.execute_reply.started": "2025-04-11T21:11:04.797782Z"
    }
   },
   "outputs": [],
   "source": [
    "# D_ti = 6/1000\n",
    "# D_to = 13/1000\n",
    "# L = 3200 /1000\n",
    "\n",
    "# tube_area = calculate_A_M_tubular(D_to, D_ti, L)\n",
    "# tube_area"
   ]
  },
  {
   "cell_type": "markdown",
   "id": "87ff1ec4-a277-4b22-9495-e9da802c6b99",
   "metadata": {},
   "source": [
    "### Effectiveness Calculation"
   ]
  },
  {
   "cell_type": "markdown",
   "id": "52ba93f3-674a-4ffd-ba2f-ae6afe7e1c5b",
   "metadata": {},
   "source": [
    "#### Define function"
   ]
  },
  {
   "cell_type": "code",
   "execution_count": 19,
   "id": "da62b523-2363-4134-b53f-871134ca15cc",
   "metadata": {
    "execution": {
     "iopub.execute_input": "2025-04-11T21:11:04.880655Z",
     "iopub.status.busy": "2025-04-11T21:11:04.880031Z",
     "iopub.status.idle": "2025-04-11T21:11:04.899557Z",
     "shell.execute_reply": "2025-04-11T21:11:04.898742Z",
     "shell.execute_reply.started": "2025-04-11T21:11:04.880626Z"
    }
   },
   "outputs": [],
   "source": [
    "def calculate_effectiveness(Q_M,C_min,T_hi,T_ci):\n",
    "    return Q_M/(C_min*(T_hi-T_ci))\n",
    "    \n",
    "def calculate_C_min(m_dot,c_p):\n",
    "    return m_dot * c_p"
   ]
  },
  {
   "cell_type": "markdown",
   "id": "c5ea361f-d705-43a8-81fd-6025ee84705a",
   "metadata": {},
   "source": [
    "#### System Parameters"
   ]
  },
  {
   "cell_type": "code",
   "execution_count": 20,
   "id": "605e1649-35b7-4075-bd07-765628dcf5e9",
   "metadata": {
    "execution": {
     "iopub.execute_input": "2025-04-11T21:11:04.962193Z",
     "iopub.status.busy": "2025-04-11T21:11:04.961636Z",
     "iopub.status.idle": "2025-04-11T21:11:04.975238Z",
     "shell.execute_reply": "2025-04-11T21:11:04.974444Z",
     "shell.execute_reply.started": "2025-04-11T21:11:04.962163Z"
    }
   },
   "outputs": [],
   "source": [
    "c_p = 4184 #Negligible difference at this range of temperatures #But recognize that the hot water c_p is smaller\n",
    "flow_rates = np.array([313,313,315,315,313,311,277,277]) * 2.78 * 10**-7 #m^3/s\n",
    "m_dot = flow_rates * 998.2 #kg/s"
   ]
  },
  {
   "cell_type": "markdown",
   "id": "3e9cd325-d26a-43f6-8571-130e71479fd5",
   "metadata": {},
   "source": [
    "### Evaluating effectiveness for each heat exchanger"
   ]
  },
  {
   "cell_type": "code",
   "execution_count": 21,
   "id": "d9b30704-ad9d-4597-abb6-fe4b927692db",
   "metadata": {
    "execution": {
     "iopub.execute_input": "2025-04-11T21:11:05.021329Z",
     "iopub.status.busy": "2025-04-11T21:11:05.020729Z",
     "iopub.status.idle": "2025-04-11T21:11:05.052880Z",
     "shell.execute_reply": "2025-04-11T21:11:05.051173Z",
     "shell.execute_reply.started": "2025-04-11T21:11:05.021299Z"
    }
   },
   "outputs": [
    {
     "data": {
      "text/html": [
       "<div>\n",
       "<style scoped>\n",
       "    .dataframe tbody tr th:only-of-type {\n",
       "        vertical-align: middle;\n",
       "    }\n",
       "\n",
       "    .dataframe tbody tr th {\n",
       "        vertical-align: top;\n",
       "    }\n",
       "\n",
       "    .dataframe thead th {\n",
       "        text-align: right;\n",
       "    }\n",
       "</style>\n",
       "<table border=\"1\" class=\"dataframe\">\n",
       "  <thead>\n",
       "    <tr style=\"text-align: right;\">\n",
       "      <th></th>\n",
       "      <th>Heat Exchanger Type</th>\n",
       "      <th>U</th>\n",
       "      <th>T_ci</th>\n",
       "      <th>T_co</th>\n",
       "      <th>T_ho</th>\n",
       "      <th>T_hi</th>\n",
       "      <th>Q_M</th>\n",
       "      <th>m_dot</th>\n",
       "      <th>C_min</th>\n",
       "      <th>effectiveness</th>\n",
       "    </tr>\n",
       "  </thead>\n",
       "  <tbody>\n",
       "    <tr>\n",
       "      <th>0</th>\n",
       "      <td>Shell Counter</td>\n",
       "      <td>1150.253588</td>\n",
       "      <td>15.351</td>\n",
       "      <td>22.202</td>\n",
       "      <td>32.284</td>\n",
       "      <td>40.139</td>\n",
       "      <td>2820.5</td>\n",
       "      <td>0.086857</td>\n",
       "      <td>363.411256</td>\n",
       "      <td>0.313102</td>\n",
       "    </tr>\n",
       "    <tr>\n",
       "      <th>1</th>\n",
       "      <td>Shell Parallel</td>\n",
       "      <td>958.075853</td>\n",
       "      <td>15.230</td>\n",
       "      <td>21.687</td>\n",
       "      <td>33.002</td>\n",
       "      <td>40.094</td>\n",
       "      <td>2599.4</td>\n",
       "      <td>0.086857</td>\n",
       "      <td>363.411256</td>\n",
       "      <td>0.287676</td>\n",
       "    </tr>\n",
       "    <tr>\n",
       "      <th>2</th>\n",
       "      <td>Finned Counter</td>\n",
       "      <td>49.486788</td>\n",
       "      <td>26.490</td>\n",
       "      <td>32.596</td>\n",
       "      <td>39.586</td>\n",
       "      <td>43.468</td>\n",
       "      <td>1542.8</td>\n",
       "      <td>0.087412</td>\n",
       "      <td>365.733373</td>\n",
       "      <td>0.248461</td>\n",
       "    </tr>\n",
       "    <tr>\n",
       "      <th>3</th>\n",
       "      <td>Finned Parallel</td>\n",
       "      <td>54.429328</td>\n",
       "      <td>26.444</td>\n",
       "      <td>33.438</td>\n",
       "      <td>39.300</td>\n",
       "      <td>43.426</td>\n",
       "      <td>1713.0</td>\n",
       "      <td>0.087412</td>\n",
       "      <td>365.733373</td>\n",
       "      <td>0.275806</td>\n",
       "    </tr>\n",
       "    <tr>\n",
       "      <th>4</th>\n",
       "      <td>Plate Counter</td>\n",
       "      <td>3510.638952</td>\n",
       "      <td>21.694</td>\n",
       "      <td>28.938</td>\n",
       "      <td>32.812</td>\n",
       "      <td>41.262</td>\n",
       "      <td>4739.4</td>\n",
       "      <td>0.086857</td>\n",
       "      <td>363.411256</td>\n",
       "      <td>0.666467</td>\n",
       "    </tr>\n",
       "    <tr>\n",
       "      <th>5</th>\n",
       "      <td>Plate Parallel</td>\n",
       "      <td>2522.359438</td>\n",
       "      <td>20.420</td>\n",
       "      <td>30.064</td>\n",
       "      <td>31.706</td>\n",
       "      <td>41.986</td>\n",
       "      <td>4076.8</td>\n",
       "      <td>0.086302</td>\n",
       "      <td>361.089140</td>\n",
       "      <td>0.523523</td>\n",
       "    </tr>\n",
       "    <tr>\n",
       "      <th>6</th>\n",
       "      <td>Tube Counter</td>\n",
       "      <td>6465.400106</td>\n",
       "      <td>21.821</td>\n",
       "      <td>27.312</td>\n",
       "      <td>30.769</td>\n",
       "      <td>37.904</td>\n",
       "      <td>3706.3</td>\n",
       "      <td>0.076867</td>\n",
       "      <td>321.613156</td>\n",
       "      <td>0.716539</td>\n",
       "    </tr>\n",
       "    <tr>\n",
       "      <th>7</th>\n",
       "      <td>Tube Parallel</td>\n",
       "      <td>5447.766559</td>\n",
       "      <td>21.821</td>\n",
       "      <td>27.312</td>\n",
       "      <td>30.769</td>\n",
       "      <td>37.904</td>\n",
       "      <td>3706.3</td>\n",
       "      <td>0.076867</td>\n",
       "      <td>321.613156</td>\n",
       "      <td>0.716539</td>\n",
       "    </tr>\n",
       "  </tbody>\n",
       "</table>\n",
       "</div>"
      ],
      "text/plain": [
       "  Heat Exchanger Type            U    T_ci    T_co    T_ho    T_hi     Q_M  \\\n",
       "0       Shell Counter  1150.253588  15.351  22.202  32.284  40.139  2820.5   \n",
       "1      Shell Parallel   958.075853  15.230  21.687  33.002  40.094  2599.4   \n",
       "2      Finned Counter    49.486788  26.490  32.596  39.586  43.468  1542.8   \n",
       "3     Finned Parallel    54.429328  26.444  33.438  39.300  43.426  1713.0   \n",
       "4       Plate Counter  3510.638952  21.694  28.938  32.812  41.262  4739.4   \n",
       "5      Plate Parallel  2522.359438  20.420  30.064  31.706  41.986  4076.8   \n",
       "6        Tube Counter  6465.400106  21.821  27.312  30.769  37.904  3706.3   \n",
       "7       Tube Parallel  5447.766559  21.821  27.312  30.769  37.904  3706.3   \n",
       "\n",
       "      m_dot       C_min  effectiveness  \n",
       "0  0.086857  363.411256       0.313102  \n",
       "1  0.086857  363.411256       0.287676  \n",
       "2  0.087412  365.733373       0.248461  \n",
       "3  0.087412  365.733373       0.275806  \n",
       "4  0.086857  363.411256       0.666467  \n",
       "5  0.086302  361.089140       0.523523  \n",
       "6  0.076867  321.613156       0.716539  \n",
       "7  0.076867  321.613156       0.716539  "
      ]
     },
     "execution_count": 21,
     "metadata": {},
     "output_type": "execute_result"
    }
   ],
   "source": [
    "dfQ1['m_dot'] = m_dot\n",
    "\n",
    "dfQ1['C_min'] = dfQ1['m_dot'].apply(lambda m: calculate_C_min(m, c_p))\n",
    "dfQ1['effectiveness'] = dfQ1.apply(lambda row: calculate_effectiveness(row['Q_M'], row['C_min'], row['T_hi'], row['T_ci']), axis=1)\n",
    "dfQ1"
   ]
  },
  {
   "cell_type": "markdown",
   "id": "1469e743-1abe-40f9-9daf-b06574b06d1f",
   "metadata": {},
   "source": [
    "# Data Analysis Question 3"
   ]
  },
  {
   "cell_type": "markdown",
   "id": "b84a022b-7a96-46b1-bb22-c7307aad638d",
   "metadata": {},
   "source": [
    "### Reading csv's for the tubular counter flow at varying inner flow rates"
   ]
  },
  {
   "cell_type": "code",
   "execution_count": 33,
   "id": "78391793-9f33-4b47-b1f1-e54fd7b8b7da",
   "metadata": {
    "execution": {
     "iopub.execute_input": "2025-04-11T21:14:45.239548Z",
     "iopub.status.busy": "2025-04-11T21:14:45.238947Z",
     "iopub.status.idle": "2025-04-11T21:14:45.258327Z",
     "shell.execute_reply": "2025-04-11T21:14:45.257675Z",
     "shell.execute_reply.started": "2025-04-11T21:14:45.239526Z"
    }
   },
   "outputs": [],
   "source": [
    "df350c_300h = pd.read_csv('tube_counter_350c_300h.csv')\n",
    "df350c_350h = pd.read_csv('tube_counter_350c_350h.csv')\n",
    "df350c_400h = pd.read_csv('tube_counter_350c_400h.csv')\n",
    "df350c_200h = pd.read_csv('tube_counter_350c_200h.csv')\n",
    "\n",
    "df350h_300c = pd.read_csv('tube_counter_350h_300c.csv')\n",
    "df350h_350c = pd.read_csv('tube_counter_350h_350c.csv')\n",
    "df350h_400c = pd.read_csv('tube_counter_350h_400c.csv')\n",
    "df350h_200c = pd.read_csv('tube_counter_350h_200c.csv')"
   ]
  },
  {
   "cell_type": "code",
   "execution_count": 35,
   "id": "6e9992de-38c2-4cae-97b3-d945fbac69a3",
   "metadata": {
    "execution": {
     "iopub.execute_input": "2025-04-11T21:16:58.042922Z",
     "iopub.status.busy": "2025-04-11T21:16:58.042563Z",
     "iopub.status.idle": "2025-04-11T21:16:58.052738Z",
     "shell.execute_reply": "2025-04-11T21:16:58.052092Z",
     "shell.execute_reply.started": "2025-04-11T21:16:58.042898Z"
    }
   },
   "outputs": [],
   "source": [
    "df350c_200h[\"hot flow (L/hr)\"] = 200\n",
    "df350c_200h[\"cold flow (L/hr)\"] = 350\n",
    "\n",
    "df350c_300h[\"hot flow (L/hr)\"] = 300\n",
    "df350c_300h[\"cold flow (L/hr)\"] = 350\n",
    "\n",
    "df350c_350h[\"hot flow (L/hr)\"] = 350\n",
    "df350c_350h[\"cold flow (L/hr)\"] = 350\n",
    "\n",
    "df350c_400h[\"hot flow (L/hr)\"] = 400\n",
    "df350c_400h[\"cold flow (L/hr)\"] = 350\n",
    "\n",
    "df350h_200c[\"hot flow (L/hr)\"] = 350\n",
    "df350h_200c[\"cold flow (L/hr)\"] = 200\n",
    "\n",
    "df350h_300c[\"hot flow (L/hr)\"] = 350\n",
    "df350h_300c[\"cold flow (L/hr)\"] = 300\n",
    "\n",
    "df350h_350c[\"hot flow (L/hr)\"] = 350\n",
    "df350h_350c[\"cold flow (L/hr)\"] = 350\n",
    "\n",
    "df350h_400c[\"hot flow (L/hr)\"] = 350\n",
    "df350h_400c[\"cold flow (L/hr)\"] = 400"
   ]
  },
  {
   "cell_type": "code",
   "execution_count": 38,
   "id": "2606a8a5-793b-40de-8b27-a82b72d4aa3f",
   "metadata": {
    "execution": {
     "iopub.execute_input": "2025-04-11T21:22:01.993443Z",
     "iopub.status.busy": "2025-04-11T21:22:01.993005Z",
     "iopub.status.idle": "2025-04-11T21:22:02.017004Z",
     "shell.execute_reply": "2025-04-11T21:22:02.015269Z",
     "shell.execute_reply.started": "2025-04-11T21:22:01.993409Z"
    }
   },
   "outputs": [],
   "source": [
    "df350c_200h[\"hot flow (m^3/s)\"] = df350c_200h[\"hot flow (L/hr)\"] / (1000 * 3600)\n",
    "df350c_200h[\"cold flow (m^3/s)\"] = df350c_200h[\"cold flow (L/hr)\"] / (1000 * 3600)\n",
    "\n",
    "df350c_300h[\"hot flow (m^3/s)\"] = df350c_300h[\"hot flow (L/hr)\"] / (1000 * 3600)\n",
    "df350c_300h[\"cold flow (m^3/s)\"] = df350c_300h[\"cold flow (L/hr)\"] / (1000 * 3600)\n",
    "\n",
    "df350c_350h[\"hot flow (m^3/s)\"] = df350c_350h[\"hot flow (L/hr)\"] / (1000 * 3600)\n",
    "df350c_350h[\"cold flow (m^3/s)\"] = df350c_350h[\"cold flow (L/hr)\"] / (1000 * 3600)\n",
    "\n",
    "df350c_400h[\"hot flow (m^3/s)\"] = df350c_400h[\"hot flow (L/hr)\"] / (1000 * 3600)\n",
    "df350c_400h[\"cold flow (m^3/s)\"] = df350c_400h[\"cold flow (L/hr)\"] / (1000 * 3600)\n",
    "\n",
    "df350h_200c[\"hot flow (m^3/s)\"] = df350h_200c[\"hot flow (L/hr)\"] / (1000 * 3600)\n",
    "df350h_200c[\"cold flow (m^3/s)\"] = df350h_200c[\"cold flow (L/hr)\"] / (1000 * 3600)\n",
    "\n",
    "df350h_300c[\"hot flow (m^3/s)\"] = df350h_300c[\"hot flow (L/hr)\"] / (1000 * 3600)\n",
    "df350h_300c[\"cold flow (m^3/s)\"] = df350h_300c[\"cold flow (L/hr)\"] / (1000 * 3600)\n",
    "\n",
    "df350h_350c[\"hot flow (m^3/s)\"] = df350h_350c[\"hot flow (L/hr)\"] / (1000 * 3600)\n",
    "df350h_350c[\"cold flow (m^3/s)\"] = df350h_350c[\"cold flow (L/hr)\"] / (1000 * 3600)\n",
    "\n",
    "df350h_400c[\"hot flow (m^3/s)\"] = df350h_400c[\"hot flow (L/hr)\"] / (1000 * 3600)\n",
    "df350h_400c[\"cold flow (m^3/s)\"] = df350h_400c[\"cold flow (L/hr)\"] / (1000 * 3600)"
   ]
  },
  {
   "cell_type": "code",
   "execution_count": 41,
   "id": "7b1fb0b5-3f6f-4c09-99a4-afdefda278de",
   "metadata": {
    "execution": {
     "iopub.execute_input": "2025-04-11T21:23:21.943165Z",
     "iopub.status.busy": "2025-04-11T21:23:21.942797Z",
     "iopub.status.idle": "2025-04-11T21:23:21.946617Z",
     "shell.execute_reply": "2025-04-11T21:23:21.945941Z",
     "shell.execute_reply.started": "2025-04-11T21:23:21.943143Z"
    }
   },
   "outputs": [],
   "source": [
    "dfs = [df350c_200h, df350c_300h, df350c_350h, df350c_400h,\n",
    "       df350h_200c, df350h_300c, df350h_350c, df350h_400c ]"
   ]
  },
  {
   "cell_type": "code",
   "execution_count": 43,
   "id": "1a6f3368-9961-453d-9b25-6aedd466d7db",
   "metadata": {
    "execution": {
     "iopub.execute_input": "2025-04-11T21:24:00.833271Z",
     "iopub.status.busy": "2025-04-11T21:24:00.832884Z",
     "iopub.status.idle": "2025-04-11T21:24:00.854656Z",
     "shell.execute_reply": "2025-04-11T21:24:00.854002Z",
     "shell.execute_reply.started": "2025-04-11T21:24:00.833245Z"
    }
   },
   "outputs": [
    {
     "data": {
      "text/html": [
       "<div>\n",
       "<style scoped>\n",
       "    .dataframe tbody tr th:only-of-type {\n",
       "        vertical-align: middle;\n",
       "    }\n",
       "\n",
       "    .dataframe tbody tr th {\n",
       "        vertical-align: top;\n",
       "    }\n",
       "\n",
       "    .dataframe thead th {\n",
       "        text-align: right;\n",
       "    }\n",
       "</style>\n",
       "<table border=\"1\" class=\"dataframe\">\n",
       "  <thead>\n",
       "    <tr style=\"text-align: right;\">\n",
       "      <th></th>\n",
       "      <th>Time</th>\n",
       "      <th>T1 (°C)</th>\n",
       "      <th>T2 (°C)</th>\n",
       "      <th>T3 (°C)</th>\n",
       "      <th>T4 (°C)</th>\n",
       "      <th>T5 (°C)</th>\n",
       "      <th>T6 (°C)</th>\n",
       "      <th>T7 (°C)</th>\n",
       "      <th>T8 (°C)</th>\n",
       "      <th>T9 (°C)</th>\n",
       "      <th>...</th>\n",
       "      <th>dp1 (mbar)</th>\n",
       "      <th>dp2 (mbar)</th>\n",
       "      <th>dQ1/dt (kW)</th>\n",
       "      <th>dQ2/dt (kW)</th>\n",
       "      <th>dQ3/dt (kW)</th>\n",
       "      <th>dQm/dt (kW)</th>\n",
       "      <th>hot flow (L/hr)</th>\n",
       "      <th>cold flow (L/hr)</th>\n",
       "      <th>hot flow (m^3/s)</th>\n",
       "      <th>cold flow (m^3/s)</th>\n",
       "    </tr>\n",
       "  </thead>\n",
       "  <tbody>\n",
       "    <tr>\n",
       "      <th>0</th>\n",
       "      <td>1/30/2025 3:02:15 PM.93</td>\n",
       "      <td>42.6</td>\n",
       "      <td>100</td>\n",
       "      <td>19.4</td>\n",
       "      <td>27.7</td>\n",
       "      <td>38.5</td>\n",
       "      <td>22.5</td>\n",
       "      <td>35.7</td>\n",
       "      <td>25.0</td>\n",
       "      <td>33.6</td>\n",
       "      <td>...</td>\n",
       "      <td>0.09</td>\n",
       "      <td>-69</td>\n",
       "      <td>-23.03</td>\n",
       "      <td>3.91</td>\n",
       "      <td>0</td>\n",
       "      <td>13.47</td>\n",
       "      <td>350</td>\n",
       "      <td>400</td>\n",
       "      <td>0.000097</td>\n",
       "      <td>0.000111</td>\n",
       "    </tr>\n",
       "    <tr>\n",
       "      <th>1</th>\n",
       "      <td>1/30/2025 3:02:16 PM.43</td>\n",
       "      <td>42.6</td>\n",
       "      <td>100</td>\n",
       "      <td>19.3</td>\n",
       "      <td>27.7</td>\n",
       "      <td>38.5</td>\n",
       "      <td>22.5</td>\n",
       "      <td>35.7</td>\n",
       "      <td>25.0</td>\n",
       "      <td>33.6</td>\n",
       "      <td>...</td>\n",
       "      <td>0.09</td>\n",
       "      <td>-69</td>\n",
       "      <td>-23.03</td>\n",
       "      <td>3.94</td>\n",
       "      <td>0</td>\n",
       "      <td>13.48</td>\n",
       "      <td>350</td>\n",
       "      <td>400</td>\n",
       "      <td>0.000097</td>\n",
       "      <td>0.000111</td>\n",
       "    </tr>\n",
       "    <tr>\n",
       "      <th>2</th>\n",
       "      <td>1/30/2025 3:02:16 PM.94</td>\n",
       "      <td>42.6</td>\n",
       "      <td>100</td>\n",
       "      <td>19.4</td>\n",
       "      <td>27.7</td>\n",
       "      <td>38.5</td>\n",
       "      <td>22.5</td>\n",
       "      <td>35.7</td>\n",
       "      <td>25.0</td>\n",
       "      <td>33.6</td>\n",
       "      <td>...</td>\n",
       "      <td>0.09</td>\n",
       "      <td>-70</td>\n",
       "      <td>-23.03</td>\n",
       "      <td>3.91</td>\n",
       "      <td>0</td>\n",
       "      <td>13.47</td>\n",
       "      <td>350</td>\n",
       "      <td>400</td>\n",
       "      <td>0.000097</td>\n",
       "      <td>0.000111</td>\n",
       "    </tr>\n",
       "    <tr>\n",
       "      <th>3</th>\n",
       "      <td>1/30/2025 3:02:17 PM.44</td>\n",
       "      <td>42.6</td>\n",
       "      <td>100</td>\n",
       "      <td>19.2</td>\n",
       "      <td>27.7</td>\n",
       "      <td>38.5</td>\n",
       "      <td>22.5</td>\n",
       "      <td>35.7</td>\n",
       "      <td>25.0</td>\n",
       "      <td>33.6</td>\n",
       "      <td>...</td>\n",
       "      <td>0.09</td>\n",
       "      <td>-69</td>\n",
       "      <td>-23.12</td>\n",
       "      <td>3.93</td>\n",
       "      <td>0</td>\n",
       "      <td>13.52</td>\n",
       "      <td>350</td>\n",
       "      <td>400</td>\n",
       "      <td>0.000097</td>\n",
       "      <td>0.000111</td>\n",
       "    </tr>\n",
       "    <tr>\n",
       "      <th>4</th>\n",
       "      <td>1/30/2025 3:02:17 PM.94</td>\n",
       "      <td>42.6</td>\n",
       "      <td>100</td>\n",
       "      <td>19.3</td>\n",
       "      <td>27.7</td>\n",
       "      <td>38.5</td>\n",
       "      <td>22.5</td>\n",
       "      <td>35.7</td>\n",
       "      <td>25.0</td>\n",
       "      <td>33.5</td>\n",
       "      <td>...</td>\n",
       "      <td>0.09</td>\n",
       "      <td>-69</td>\n",
       "      <td>-23.12</td>\n",
       "      <td>3.98</td>\n",
       "      <td>0</td>\n",
       "      <td>13.55</td>\n",
       "      <td>350</td>\n",
       "      <td>400</td>\n",
       "      <td>0.000097</td>\n",
       "      <td>0.000111</td>\n",
       "    </tr>\n",
       "  </tbody>\n",
       "</table>\n",
       "<p>5 rows × 21 columns</p>\n",
       "</div>"
      ],
      "text/plain": [
       "                      Time  T1 (°C)  T2 (°C)  T3 (°C)  T4 (°C)  T5 (°C)  \\\n",
       "0  1/30/2025 3:02:15 PM.93     42.6      100     19.4     27.7     38.5   \n",
       "1  1/30/2025 3:02:16 PM.43     42.6      100     19.3     27.7     38.5   \n",
       "2  1/30/2025 3:02:16 PM.94     42.6      100     19.4     27.7     38.5   \n",
       "3  1/30/2025 3:02:17 PM.44     42.6      100     19.2     27.7     38.5   \n",
       "4  1/30/2025 3:02:17 PM.94     42.6      100     19.3     27.7     38.5   \n",
       "\n",
       "   T6 (°C)  T7 (°C)  T8 (°C)  T9 (°C)  ...  dp1 (mbar)  dp2 (mbar)  \\\n",
       "0     22.5     35.7     25.0     33.6  ...        0.09         -69   \n",
       "1     22.5     35.7     25.0     33.6  ...        0.09         -69   \n",
       "2     22.5     35.7     25.0     33.6  ...        0.09         -70   \n",
       "3     22.5     35.7     25.0     33.6  ...        0.09         -69   \n",
       "4     22.5     35.7     25.0     33.5  ...        0.09         -69   \n",
       "\n",
       "   dQ1/dt (kW)  dQ2/dt (kW)  dQ3/dt (kW)  dQm/dt (kW)  hot flow (L/hr)  \\\n",
       "0       -23.03         3.91            0        13.47              350   \n",
       "1       -23.03         3.94            0        13.48              350   \n",
       "2       -23.03         3.91            0        13.47              350   \n",
       "3       -23.12         3.93            0        13.52              350   \n",
       "4       -23.12         3.98            0        13.55              350   \n",
       "\n",
       "   cold flow (L/hr)  hot flow (m^3/s)  cold flow (m^3/s)  \n",
       "0               400          0.000097           0.000111  \n",
       "1               400          0.000097           0.000111  \n",
       "2               400          0.000097           0.000111  \n",
       "3               400          0.000097           0.000111  \n",
       "4               400          0.000097           0.000111  \n",
       "\n",
       "[5 rows x 21 columns]"
      ]
     },
     "execution_count": 43,
     "metadata": {},
     "output_type": "execute_result"
    }
   ],
   "source": [
    "df350h_400c.head()"
   ]
  },
  {
   "cell_type": "markdown",
   "id": "6453d7b1-488f-4258-80cf-0abbf6bcfb46",
   "metadata": {},
   "source": [
    "For the tubular heat exchanger in counter-current flow configuration:\n",
    "\n",
    "(a) Identify and report appropiate correlations for predicting the heat transfer coefficients for the inner tube $(h_i)$ and the annular region $(h_0)$. Clearly state the conditions and assumptions under which these correlations are valid (flow regime, flow condition, characteristic length, etc.).\n",
    "\n",
    "First, investigate the flow regime using $Re$ to classify the flow as laminar or turbulent.\n",
    "\n",
    "$$Re=\\frac{\\rho uD}{\\mu}=\\frac{4\\dot m}{\\pi D \\mu}$$\n",
    "\n",
    "where\n",
    "\n",
    "$\\dot m = \\rho \\dot Q$"
   ]
  },
  {
   "cell_type": "code",
   "execution_count": 44,
   "id": "4cb14f3c-60d2-4304-bcb3-e22936812a94",
   "metadata": {
    "execution": {
     "iopub.execute_input": "2025-04-11T21:32:10.190962Z",
     "iopub.status.busy": "2025-04-11T21:32:10.190530Z",
     "iopub.status.idle": "2025-04-11T21:32:10.195590Z",
     "shell.execute_reply": "2025-04-11T21:32:10.194727Z",
     "shell.execute_reply.started": "2025-04-11T21:32:10.190934Z"
    }
   },
   "outputs": [],
   "source": [
    "mu = 0.001 # Pa * s\n",
    "rho = 1000 # kg / m^3\n",
    "D_inner = 6 * 10e-3 # m\n",
    "D_annular = 13 * 10e-3 # m\n",
    "D_hydraulic = D_annular - D_inner # m\n",
    "\n",
    "A_i = np.pi * (D_inner ** 2) / 4\n",
    "A_h = np.pi * ((D_annular ** 2) - (D_inner ** 2)) / 4"
   ]
  },
  {
   "cell_type": "code",
   "execution_count": 45,
   "id": "dc8ab37b-aa0f-4b08-99a7-adea03e697c1",
   "metadata": {
    "execution": {
     "iopub.execute_input": "2025-04-11T21:32:23.945014Z",
     "iopub.status.busy": "2025-04-11T21:32:23.944541Z",
     "iopub.status.idle": "2025-04-11T21:32:23.967651Z",
     "shell.execute_reply": "2025-04-11T21:32:23.966568Z",
     "shell.execute_reply.started": "2025-04-11T21:32:23.944979Z"
    }
   },
   "outputs": [],
   "source": [
    "for df in dfs:\n",
    "    u_cold = df[\"cold flow (m^3/s)\"] / A_i\n",
    "    u_hot = df[\"hot flow (m^3/s)\"] / A_h\n",
    "    df[\"Re_cold (inner tube)\"] = (rho * u_cold * D_inner) / mu\n",
    "    df[\"Re_hot (annular region)\"] = (rho * u_hot * D_inner) / mu"
   ]
  },
  {
   "cell_type": "markdown",
   "id": "6c2226d7-e0e1-4cd1-80fc-c20b3d743964",
   "metadata": {},
   "source": [
    "In a double-pipe heat exchanger, cold water flows through the inner tube, and hot water flows through the annular region. The heat transfer coefficients $h_i$ (inner tube) and $h_o$ (annular region) are determined using empirical correlations that depend on the flow regime as indicated by $Re$. "
   ]
  },
  {
   "cell_type": "markdown",
   "id": "68e07bb3-5db4-4656-8dac-60b03aeb148a",
   "metadata": {},
   "source": [
    "| Regime | Reynolds Number Condition |\n",
    "|--------|---------------------------|\n",
    "| Laminar | Re < 2300 |\n",
    "| Transitional | 2300 < Re < 4000 |\n",
    "| Turbulent | Re > 4000 |"
   ]
  },
  {
   "cell_type": "markdown",
   "id": "34efdf2f-8697-4560-b302-234a08e8ed1f",
   "metadata": {},
   "source": [
    "### Summary of Correlations and Assumptions\n",
    "\n",
    "| Region | Regime | Correlation | Assumptions |\n",
    "|--------|--------|-------------|-------------|\n",
    "| Inner Tube | Laminar | Nu = 3.66 | Constant wall T, fully developed |\n",
    "| Inner Tube | Turbulent | Nu = 0.023 Re^0.8 Pr^0.4 | Fully developed, smooth tube |\n",
    "| Annular Region | Laminar | Nu = 3.66 | Same as above |\n",
    "| Annular Region | Turbulent | Nu = 0.023 Re^0.8 Pr^0.4 | Fully developed, smooth annulus |\n",
    "\n",
    "#### Note:\n",
    "\n",
    "Characteristic length\n",
    "- Inner tube: $D_i$ = 6 mm\n",
    "- Annular region: $D_h = D_o - D_i$ = 7 mm\n",
    "Valid for $0.7 < Pr < 160$"
   ]
  },
  {
   "cell_type": "code",
   "execution_count": 46,
   "id": "7c130900-51e4-4545-87f8-08c9b0c8893c",
   "metadata": {
    "execution": {
     "iopub.execute_input": "2025-04-11T21:48:30.294690Z",
     "iopub.status.busy": "2025-04-11T21:48:30.294298Z",
     "iopub.status.idle": "2025-04-11T21:48:30.299171Z",
     "shell.execute_reply": "2025-04-11T21:48:30.298491Z",
     "shell.execute_reply.started": "2025-04-11T21:48:30.294666Z"
    }
   },
   "outputs": [],
   "source": [
    "def classify_flow_regime(Re):\n",
    "    if Re < 2300:\n",
    "        return \"Laminar\"\n",
    "    elif Re <= 4000:\n",
    "        return \"Transitional\"\n",
    "    else:\n",
    "        return \"Turbulent\"\n",
    "\n",
    "def classify_flow_in_dataframes(dfs):\n",
    "    for df in dfs:\n",
    "        df[\"Flow Regime (cold)\"] = df[\"Re_cold (inner tube)\"].apply(classify_flow_regime)\n",
    "        df[\"Flow Regime (hot)\"] = df[\"Re_hot (annular region)\"].apply(classify_flow_regime)"
   ]
  },
  {
   "cell_type": "code",
   "execution_count": 47,
   "id": "49a50c2a-57bc-4812-853e-a6a560498c02",
   "metadata": {
    "execution": {
     "iopub.execute_input": "2025-04-11T21:48:38.647103Z",
     "iopub.status.busy": "2025-04-11T21:48:38.646730Z",
     "iopub.status.idle": "2025-04-11T21:48:38.657114Z",
     "shell.execute_reply": "2025-04-11T21:48:38.656510Z",
     "shell.execute_reply.started": "2025-04-11T21:48:38.647079Z"
    }
   },
   "outputs": [],
   "source": [
    "\n",
    "classify_flow_in_dataframes(dfs)"
   ]
  },
  {
   "cell_type": "code",
   "execution_count": null,
   "id": "944b23cc-aa93-4827-ad67-5fa2dedc7486",
   "metadata": {},
   "outputs": [],
   "source": []
  }
 ],
 "metadata": {
  "kernelspec": {
   "display_name": "anaconda-ai-2024.04-py310",
   "language": "python",
   "name": "conda-env-anaconda-ai-2024.04-py310-py"
  },
  "language_info": {
   "codemirror_mode": {
    "name": "ipython",
    "version": 3
   },
   "file_extension": ".py",
   "mimetype": "text/x-python",
   "name": "python",
   "nbconvert_exporter": "python",
   "pygments_lexer": "ipython3",
   "version": "3.10.13"
  }
 },
 "nbformat": 4,
 "nbformat_minor": 5
}
