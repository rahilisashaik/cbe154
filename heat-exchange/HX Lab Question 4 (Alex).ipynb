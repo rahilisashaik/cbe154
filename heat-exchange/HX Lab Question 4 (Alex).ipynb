{
 "cells": [
  {
   "cell_type": "markdown",
   "id": "1b6c368e-64ad-4375-a3b9-334fee406477",
   "metadata": {},
   "source": [
    "#### Importing libraries"
   ]
  },
  {
   "cell_type": "code",
   "execution_count": 1,
   "id": "d8922198-f96e-4408-a661-b40b72e8d4a4",
   "metadata": {
    "execution": {
     "iopub.execute_input": "2025-04-15T22:41:06.792038Z",
     "iopub.status.busy": "2025-04-15T22:41:06.791654Z",
     "iopub.status.idle": "2025-04-15T22:41:10.405454Z",
     "shell.execute_reply": "2025-04-15T22:41:10.404856Z",
     "shell.execute_reply.started": "2025-04-15T22:41:06.792015Z"
    }
   },
   "outputs": [],
   "source": [
    "import pandas as pd\n",
    "import numpy as np\n",
    "from scipy import stats\n",
    "from scipy.stats import linregress\n",
    "import matplotlib.pyplot as plt\n",
    "from mpl_toolkits.mplot3d import Axes3D\n",
    "from scipy.interpolate import interp1d\n",
    "import seaborn as sns"
   ]
  },
  {
   "cell_type": "markdown",
   "id": "be3b1202-c798-4fee-9246-a4de69e9c538",
   "metadata": {},
   "source": [
    "#### Reading csv"
   ]
  },
  {
   "cell_type": "code",
   "execution_count": 2,
   "id": "52dd4a60-ec24-4438-997c-583e5bab4b0c",
   "metadata": {
    "execution": {
     "iopub.execute_input": "2025-04-15T22:41:10.419916Z",
     "iopub.status.busy": "2025-04-15T22:41:10.419447Z",
     "iopub.status.idle": "2025-04-15T22:41:10.451766Z",
     "shell.execute_reply": "2025-04-15T22:41:10.451149Z",
     "shell.execute_reply.started": "2025-04-15T22:41:10.419896Z"
    }
   },
   "outputs": [],
   "source": [
    "shell_parallel = pd.read_csv('shell_parallel.csv')\n",
    "shell_counter = pd.read_csv('shell_counter.csv')\n",
    "plate_parallel = pd.read_csv('plate_parallel_extra.csv')\n",
    "plate_counter = pd.read_csv('plate_counter_extra.csv')\n",
    "tube_parallel = pd.read_csv('tube_parallel.csv')\n",
    "tube_counter = pd.read_csv('tube_counter.csv')\n",
    "finned_parallel = pd.read_csv('finned_parallel_extra.csv')\n",
    "finned_counter = pd.read_csv('finned_counter_extra.csv')"
   ]
  },
  {
   "cell_type": "markdown",
   "id": "2ae1d4e8-8bd9-42ee-99de-3d7170de90f7",
   "metadata": {},
   "source": [
    "#### Creating a cleaner function"
   ]
  },
  {
   "cell_type": "code",
   "execution_count": 3,
   "id": "081e4807-310b-40cb-ada3-af39e9dad545",
   "metadata": {
    "execution": {
     "iopub.execute_input": "2025-04-15T22:41:10.477045Z",
     "iopub.status.busy": "2025-04-15T22:41:10.476472Z",
     "iopub.status.idle": "2025-04-15T22:41:10.481057Z",
     "shell.execute_reply": "2025-04-15T22:41:10.480170Z",
     "shell.execute_reply.started": "2025-04-15T22:41:10.477017Z"
    }
   },
   "outputs": [],
   "source": [
    "def cleaner(df):\n",
    "    df = df.dropna(axis=0)\n",
    "    new_headers = df.iloc[0].values\n",
    "    df = pd.DataFrame(df.iloc[1:].values, columns=new_headers)\n",
    "    df = df.reset_index(drop=True)\n",
    "    df = df.iloc[:, 1:]\n",
    "    df = df.astype(float)\n",
    "    df = df.drop(df.columns[4:10], axis=1)\n",
    "    return df"
   ]
  },
  {
   "cell_type": "code",
   "execution_count": 4,
   "id": "38b358cb-cb20-4d7d-adf3-0dcd9c96a121",
   "metadata": {
    "execution": {
     "iopub.execute_input": "2025-04-15T22:41:10.482179Z",
     "iopub.status.busy": "2025-04-15T22:41:10.481851Z",
     "iopub.status.idle": "2025-04-15T22:41:10.522652Z",
     "shell.execute_reply": "2025-04-15T22:41:10.521955Z",
     "shell.execute_reply.started": "2025-04-15T22:41:10.482163Z"
    }
   },
   "outputs": [],
   "source": [
    "shell_parallel = cleaner(shell_parallel)\n",
    "shell_counter = cleaner(shell_counter)\n",
    "plate_parallel = cleaner(plate_parallel)\n",
    "plate_counter = cleaner(plate_counter)\n",
    "tube_parallel = cleaner(tube_parallel)\n",
    "tube_counter = cleaner(tube_counter)\n",
    "finned_parallel = cleaner(finned_parallel)\n",
    "finned_counter = cleaner(finned_counter)"
   ]
  },
  {
   "cell_type": "code",
   "execution_count": 5,
   "id": "e8dcbb62-1b41-48ef-b930-7d0cf0ba1442",
   "metadata": {
    "execution": {
     "iopub.execute_input": "2025-04-15T22:41:10.523804Z",
     "iopub.status.busy": "2025-04-15T22:41:10.523535Z",
     "iopub.status.idle": "2025-04-15T22:41:10.557508Z",
     "shell.execute_reply": "2025-04-15T22:41:10.556832Z",
     "shell.execute_reply.started": "2025-04-15T22:41:10.523784Z"
    }
   },
   "outputs": [
    {
     "data": {
      "text/html": [
       "<div>\n",
       "<style scoped>\n",
       "    .dataframe tbody tr th:only-of-type {\n",
       "        vertical-align: middle;\n",
       "    }\n",
       "\n",
       "    .dataframe tbody tr th {\n",
       "        vertical-align: top;\n",
       "    }\n",
       "\n",
       "    .dataframe thead th {\n",
       "        text-align: right;\n",
       "    }\n",
       "</style>\n",
       "<table border=\"1\" class=\"dataframe\">\n",
       "  <thead>\n",
       "    <tr style=\"text-align: right;\">\n",
       "      <th></th>\n",
       "      <th>T1 (°C)</th>\n",
       "      <th>T2 (°C)</th>\n",
       "      <th>T3 (°C)</th>\n",
       "      <th>T4 (°C)</th>\n",
       "      <th>dp1 (mbar)</th>\n",
       "      <th>dp2 (mbar)</th>\n",
       "      <th>dQ1/dt (kW)</th>\n",
       "      <th>dQ2/dt (kW)</th>\n",
       "      <th>dQ3/dt (kW)</th>\n",
       "      <th>dQm/dt (kW)</th>\n",
       "    </tr>\n",
       "  </thead>\n",
       "  <tbody>\n",
       "    <tr>\n",
       "      <th>0</th>\n",
       "      <td>39.7</td>\n",
       "      <td>43.5</td>\n",
       "      <td>26.9</td>\n",
       "      <td>32.6</td>\n",
       "      <td>2.06</td>\n",
       "      <td>27.0</td>\n",
       "      <td>-1.51</td>\n",
       "      <td>0.0</td>\n",
       "      <td>1.43</td>\n",
       "      <td>1.47</td>\n",
       "    </tr>\n",
       "    <tr>\n",
       "      <th>1</th>\n",
       "      <td>39.6</td>\n",
       "      <td>43.4</td>\n",
       "      <td>26.6</td>\n",
       "      <td>32.5</td>\n",
       "      <td>2.04</td>\n",
       "      <td>27.0</td>\n",
       "      <td>-1.54</td>\n",
       "      <td>0.0</td>\n",
       "      <td>1.41</td>\n",
       "      <td>1.48</td>\n",
       "    </tr>\n",
       "    <tr>\n",
       "      <th>2</th>\n",
       "      <td>39.6</td>\n",
       "      <td>43.4</td>\n",
       "      <td>26.8</td>\n",
       "      <td>32.5</td>\n",
       "      <td>2.08</td>\n",
       "      <td>28.0</td>\n",
       "      <td>-1.55</td>\n",
       "      <td>0.0</td>\n",
       "      <td>1.42</td>\n",
       "      <td>1.49</td>\n",
       "    </tr>\n",
       "    <tr>\n",
       "      <th>3</th>\n",
       "      <td>39.6</td>\n",
       "      <td>43.4</td>\n",
       "      <td>26.6</td>\n",
       "      <td>32.4</td>\n",
       "      <td>2.06</td>\n",
       "      <td>27.0</td>\n",
       "      <td>-1.55</td>\n",
       "      <td>0.0</td>\n",
       "      <td>1.45</td>\n",
       "      <td>1.50</td>\n",
       "    </tr>\n",
       "    <tr>\n",
       "      <th>4</th>\n",
       "      <td>39.6</td>\n",
       "      <td>43.4</td>\n",
       "      <td>26.6</td>\n",
       "      <td>32.4</td>\n",
       "      <td>2.07</td>\n",
       "      <td>28.0</td>\n",
       "      <td>-1.55</td>\n",
       "      <td>0.0</td>\n",
       "      <td>1.47</td>\n",
       "      <td>1.51</td>\n",
       "    </tr>\n",
       "  </tbody>\n",
       "</table>\n",
       "</div>"
      ],
      "text/plain": [
       "   T1 (°C)  T2 (°C)  T3 (°C)  T4 (°C)  dp1 (mbar)  dp2 (mbar)  dQ1/dt (kW)  \\\n",
       "0     39.7     43.5     26.9     32.6        2.06        27.0        -1.51   \n",
       "1     39.6     43.4     26.6     32.5        2.04        27.0        -1.54   \n",
       "2     39.6     43.4     26.8     32.5        2.08        28.0        -1.55   \n",
       "3     39.6     43.4     26.6     32.4        2.06        27.0        -1.55   \n",
       "4     39.6     43.4     26.6     32.4        2.07        28.0        -1.55   \n",
       "\n",
       "   dQ2/dt (kW)  dQ3/dt (kW)  dQm/dt (kW)  \n",
       "0          0.0         1.43         1.47  \n",
       "1          0.0         1.41         1.48  \n",
       "2          0.0         1.42         1.49  \n",
       "3          0.0         1.45         1.50  \n",
       "4          0.0         1.47         1.51  "
      ]
     },
     "execution_count": 5,
     "metadata": {},
     "output_type": "execute_result"
    }
   ],
   "source": [
    "finned_counter.head()"
   ]
  },
  {
   "cell_type": "markdown",
   "id": "5df08ad3-9870-4059-8f9b-7b8f9d8d8792",
   "metadata": {},
   "source": [
    "#### Background Information\n",
    "Newton's law of cooling (Equation 2)\n",
    "$$q_s=h\\Delta T$$\n",
    "where $q_s$ is the heat flux $[\\frac{W}{m^2}]$ from the surface, $h$ is the convective heat transfer coefficient $[\\frac{W}{m^2 \\cdot K}]$, and $\\Delta T$ is the temperature difference $[K]$ between the surface and bulk fluid. The ability to transfer heat from the medium to the wall, or vice versa, is described by the heat transfer coefficient, $h$, as defined by Eqn. (2). Within the dividing wall, heat is transferred from the hot side to the cold side by thermal conduction, as described by Eqn. (1). At steady state, the following expression equates the heat flux to, through, and from the wall:\n",
    "\n",
    "$$q=h_1\\Delta T_1=\\frac{k\\Delta T_W}{s}=h_2\\Delta T_2=U\\Delta T$$ \n",
    "\n",
    "$(3)$\n",
    "\n",
    "where $\\Delta T$ values are as defined in Figure 2, $s$ is the thickness of the dividing wall, and $U$ is the overall heat transfer coefficient of the heat exchanger. $U$ characterizes the heat exchanger, and is represented as the sum of a series of thermal resistances:\n",
    "$$U=\\frac{1}{\\frac{1}{h_1}+\\frac{s}{k}+\n",
    "\\frac{1}{h_2}}$$\n",
    "\n",
    "$(4)$\n",
    "\n",
    "Log mean temperature difference, $\\Delta T_{LM}$, must be used to represent the driving force. The general formula for LMTD is\n",
    "\n",
    "$\\Delta T_{LM} = \\frac{\\Delta T_a - \\Delta T_b}{ln(\\frac{\\Delta T_a}{\\Delta T_b})}$\n",
    "\n",
    "where\n",
    "\n",
    "$\\Delta T_a:$ Temperature difference at one end of the heat exchanger.\n",
    "\n",
    "$\\Delta T_b:$ Temperature difference at the other end of the heat exchanger \n",
    "\n",
    "For co-current flow log mean temperature difference is:\n",
    "\n",
    "$\\Delta T_{LM}=\\frac{(T_{1i}-T_{2i})-(T_{1o}-T_{2o})}{ln(\\frac{T_{1i}-T_{2i}}{T_{1o}-T_{2o}})}$\n",
    "\n",
    "$(5b)$\n",
    "\n",
    "Subscripts i and o in Eqn. (5b) represent inlet and outlet streams, respectively. Additional considerations are required when the surface areas of the hot and cold side are different in size, as in the case of a tubular heat exchanger. \n",
    "\n",
    "The heat transfer rate (heat duty) of a heat exchanger can be calculated with an energy balance on the hot or cold fluid:\n",
    "\n",
    "$\\dot Q_H=\\dot m_h \\cdot c_{p,h} \\cdot (\\Delta T)_h$\n",
    "\n",
    "$\\dot Q_c = \\dot m_c \\cdot c_{p,c} \\cdot (\\Delta T)_c$\n",
    "\n",
    "$(6)$\n",
    "\n",
    "where $\\dot m$ is the mass flow rate and $c_p$ is the specific heat capacity. In an ideal heat exchanger without losses,\n",
    "\n",
    "$\\dot Q = - \\dot Q_H = \\dot Q_C$\n",
    "\n",
    "Instead use the mean exchanged heat flow, $\\dot Q_M$, and mean area, $A_M$, to calculate the overall heat transfer coefficient for a given heat exchanger.\n",
    "\n",
    "Overall HT Coeff., $U = \\frac{\\dot Q_M}{A_M \\cdot \\Delta T_{LM}}$\n",
    "\n",
    "$\\dot Q_M = \\frac{|\\dot Q_C|+|\\dot Q_H|}{2}$\n",
    "\n",
    "$(9)$\n",
    "\n",
    "For a tubular heat exchanger, the mean area is given by:\n",
    "\n",
    "$A_M = \\frac{A_{outer} - A_{inner}}{ln(\\frac{A_{outer}}{A_{inner}})} = \\frac{\\pi L (D_{t,o}-D_{t,i})}{ln(\\frac{D_{t,o}}{D_t,i})}$\n",
    "\n",
    "$(10)$\n",
    "\n",
    "where $D_{t,i}$ represents the inner tube diameter, $D_{t,o}$ is the outer tube diameter, and $L$ is the length of the tube.\n",
    "\n",
    "#### Effectiveness, $\\epsilon$\n",
    "\n",
    "$\\epsilon = \\frac{\\dot Q_{actual}}{\\dot Q_max}=\\frac{\\dot Q_M}{C_{min}(T_{hi}-T_{Ci})}$\n",
    "\n",
    "$C_h=\\dot m_h c_{p,h}$\n",
    "\n",
    "$C_C=\\dot m_c c_{p,c}$\n",
    "\n",
    "$C_{min}=min(C_h,C_c)$\n",
    "\n",
    "where\n",
    "\n",
    "$\\dot Q_{actual}$ is the actual amount of heat transferred by heat exchanger\n",
    "\n",
    "$\\dot Q_{max}$ is the maximum amount of heat that could be transferred if one of the fluids were to be heated or cooled to the temperature of the other fluid at the inlet\n",
    "\n",
    "$C=\\dot m c_p$ represents the heat capacity rate\n",
    "\n",
    "$C_{min}$ is the minimum heat capacity rate (the smaller of the hot or cold fluid's heat capacity rate)"
   ]
  },
  {
   "cell_type": "markdown",
   "id": "34b60214-893e-4385-a30a-031ecf648f51",
   "metadata": {},
   "source": [
    "# Data Analysis Question 1\n",
    "Experimentally determine the overall heat transfer coefficient (U) and effectiveness (ε) of\n",
    "each of the four heat exchangers under identical conditions."
   ]
  },
  {
   "cell_type": "markdown",
   "id": "fab44177-d9ff-462b-9a1c-48394001d075",
   "metadata": {},
   "source": [
    "#### Quantity Functions"
   ]
  },
  {
   "cell_type": "code",
   "execution_count": 6,
   "id": "7c81d16f-0a2f-442a-95c6-2d8954463102",
   "metadata": {
    "execution": {
     "iopub.execute_input": "2025-04-15T22:41:10.618899Z",
     "iopub.status.busy": "2025-04-15T22:41:10.618644Z",
     "iopub.status.idle": "2025-04-15T22:41:10.623790Z",
     "shell.execute_reply": "2025-04-15T22:41:10.623119Z",
     "shell.execute_reply.started": "2025-04-15T22:41:10.618881Z"
    }
   },
   "outputs": [],
   "source": [
    "def calculate_Qh(m, c_p, Delta_T):\n",
    "    return m * c_p * Delta_T\n",
    "\n",
    "def calculate_Qc(m, c_p, Delta_T):\n",
    "    return m * c_p * Delta_T\n",
    "\n",
    "def calculate_QM(Qc,Qh):\n",
    "    return (np.abs(Qc) + np.abs(Qh))/2\n",
    "\n",
    "def calculate_LMTD(Delta_Ta, Delta_Tb):\n",
    "    return (Delta_Ta - Delta_Tb)/(np.log(Delta_Ta/Delta_Tb))\n",
    "\n",
    "def calculate_cocurrent_LMTD(T_1i, T_2i, T_1o, T_2o):\n",
    "    return ((T_1i - T_2i) - (T_1o - T_2o)) / np.log((T_1i - T_2i) / (T_1o - T_2o))\n",
    "\n",
    "def calculate_A_M_tubular(D_to, D_ti, L):\n",
    "    return (np.pi*L*(D_to - D_ti))/np.log(D_to/D_ti)\n",
    "\n",
    "def calculate_U(QM, A_M, LMTD):\n",
    "    return QM/(A_M*LMTD)"
   ]
  },
  {
   "cell_type": "markdown",
   "id": "9a469b55-69f8-418e-918a-92a2319173ab",
   "metadata": {},
   "source": [
    "#### System Parameters"
   ]
  },
  {
   "cell_type": "code",
   "execution_count": 7,
   "id": "fe204e4c-89de-4be7-9545-1de1274db002",
   "metadata": {
    "execution": {
     "iopub.execute_input": "2025-04-15T22:41:10.643772Z",
     "iopub.status.busy": "2025-04-15T22:41:10.643329Z",
     "iopub.status.idle": "2025-04-15T22:41:10.657956Z",
     "shell.execute_reply": "2025-04-15T22:41:10.657335Z",
     "shell.execute_reply.started": "2025-04-15T22:41:10.643754Z"
    }
   },
   "outputs": [],
   "source": [
    "c_p = 4184 #J/(kg*C) #Specific heat capacity of water"
   ]
  },
  {
   "cell_type": "markdown",
   "id": "3b295dbc-a49a-4454-95f5-c0e2fe86dac2",
   "metadata": {},
   "source": [
    "#### Example calculation of overall heat transfer coefficient with shell-tube heat exchanger (both parallel and counter flow)"
   ]
  },
  {
   "cell_type": "code",
   "execution_count": 8,
   "id": "5570774e-70c0-42fd-9a50-ba368196a078",
   "metadata": {
    "execution": {
     "iopub.execute_input": "2025-04-15T22:41:10.678198Z",
     "iopub.status.busy": "2025-04-15T22:41:10.677822Z",
     "iopub.status.idle": "2025-04-15T22:41:10.695478Z",
     "shell.execute_reply": "2025-04-15T22:41:10.694949Z",
     "shell.execute_reply.started": "2025-04-15T22:41:10.678178Z"
    }
   },
   "outputs": [
    {
     "data": {
      "text/html": [
       "<div>\n",
       "<style scoped>\n",
       "    .dataframe tbody tr th:only-of-type {\n",
       "        vertical-align: middle;\n",
       "    }\n",
       "\n",
       "    .dataframe tbody tr th {\n",
       "        vertical-align: top;\n",
       "    }\n",
       "\n",
       "    .dataframe thead th {\n",
       "        text-align: right;\n",
       "    }\n",
       "</style>\n",
       "<table border=\"1\" class=\"dataframe\">\n",
       "  <thead>\n",
       "    <tr style=\"text-align: right;\">\n",
       "      <th></th>\n",
       "      <th>T1 (°C)</th>\n",
       "      <th>T2 (°C)</th>\n",
       "      <th>T3 (°C)</th>\n",
       "      <th>T4 (°C)</th>\n",
       "      <th>dp1 (mbar)</th>\n",
       "      <th>dp2 (mbar)</th>\n",
       "      <th>dQ1/dt (kW)</th>\n",
       "      <th>dQ2/dt (kW)</th>\n",
       "      <th>dQ3/dt (kW)</th>\n",
       "      <th>dQm/dt (kW)</th>\n",
       "    </tr>\n",
       "  </thead>\n",
       "  <tbody>\n",
       "    <tr>\n",
       "      <th>0</th>\n",
       "      <td>40.0</td>\n",
       "      <td>32.9</td>\n",
       "      <td>15.1</td>\n",
       "      <td>21.5</td>\n",
       "      <td>0.09</td>\n",
       "      <td>24.0</td>\n",
       "      <td>-2.58</td>\n",
       "      <td>2.58</td>\n",
       "      <td>0.0</td>\n",
       "      <td>2.58</td>\n",
       "    </tr>\n",
       "    <tr>\n",
       "      <th>1</th>\n",
       "      <td>40.0</td>\n",
       "      <td>32.9</td>\n",
       "      <td>15.1</td>\n",
       "      <td>21.5</td>\n",
       "      <td>0.09</td>\n",
       "      <td>24.0</td>\n",
       "      <td>-2.60</td>\n",
       "      <td>2.56</td>\n",
       "      <td>0.0</td>\n",
       "      <td>2.58</td>\n",
       "    </tr>\n",
       "    <tr>\n",
       "      <th>2</th>\n",
       "      <td>40.0</td>\n",
       "      <td>32.9</td>\n",
       "      <td>15.1</td>\n",
       "      <td>21.5</td>\n",
       "      <td>0.09</td>\n",
       "      <td>23.0</td>\n",
       "      <td>-2.60</td>\n",
       "      <td>2.58</td>\n",
       "      <td>0.0</td>\n",
       "      <td>2.59</td>\n",
       "    </tr>\n",
       "    <tr>\n",
       "      <th>3</th>\n",
       "      <td>40.0</td>\n",
       "      <td>32.9</td>\n",
       "      <td>15.1</td>\n",
       "      <td>21.6</td>\n",
       "      <td>0.09</td>\n",
       "      <td>24.0</td>\n",
       "      <td>-2.60</td>\n",
       "      <td>2.60</td>\n",
       "      <td>0.0</td>\n",
       "      <td>2.60</td>\n",
       "    </tr>\n",
       "    <tr>\n",
       "      <th>4</th>\n",
       "      <td>40.0</td>\n",
       "      <td>32.9</td>\n",
       "      <td>15.1</td>\n",
       "      <td>21.6</td>\n",
       "      <td>0.09</td>\n",
       "      <td>24.0</td>\n",
       "      <td>-2.60</td>\n",
       "      <td>2.62</td>\n",
       "      <td>0.0</td>\n",
       "      <td>2.61</td>\n",
       "    </tr>\n",
       "  </tbody>\n",
       "</table>\n",
       "</div>"
      ],
      "text/plain": [
       "   T1 (°C)  T2 (°C)  T3 (°C)  T4 (°C)  dp1 (mbar)  dp2 (mbar)  dQ1/dt (kW)  \\\n",
       "0     40.0     32.9     15.1     21.5        0.09        24.0        -2.58   \n",
       "1     40.0     32.9     15.1     21.5        0.09        24.0        -2.60   \n",
       "2     40.0     32.9     15.1     21.5        0.09        23.0        -2.60   \n",
       "3     40.0     32.9     15.1     21.6        0.09        24.0        -2.60   \n",
       "4     40.0     32.9     15.1     21.6        0.09        24.0        -2.60   \n",
       "\n",
       "   dQ2/dt (kW)  dQ3/dt (kW)  dQm/dt (kW)  \n",
       "0         2.58          0.0         2.58  \n",
       "1         2.56          0.0         2.58  \n",
       "2         2.58          0.0         2.59  \n",
       "3         2.60          0.0         2.60  \n",
       "4         2.62          0.0         2.61  "
      ]
     },
     "execution_count": 8,
     "metadata": {},
     "output_type": "execute_result"
    }
   ],
   "source": [
    "shell_parallel.head()"
   ]
  },
  {
   "cell_type": "code",
   "execution_count": 9,
   "id": "7fc96f38-8b8a-4ed5-9909-e736e520ca50",
   "metadata": {
    "execution": {
     "iopub.execute_input": "2025-04-15T22:41:10.696441Z",
     "iopub.status.busy": "2025-04-15T22:41:10.696201Z",
     "iopub.status.idle": "2025-04-15T22:41:10.725491Z",
     "shell.execute_reply": "2025-04-15T22:41:10.724964Z",
     "shell.execute_reply.started": "2025-04-15T22:41:10.696425Z"
    }
   },
   "outputs": [
    {
     "data": {
      "text/html": [
       "<div>\n",
       "<style scoped>\n",
       "    .dataframe tbody tr th:only-of-type {\n",
       "        vertical-align: middle;\n",
       "    }\n",
       "\n",
       "    .dataframe tbody tr th {\n",
       "        vertical-align: top;\n",
       "    }\n",
       "\n",
       "    .dataframe thead th {\n",
       "        text-align: right;\n",
       "    }\n",
       "</style>\n",
       "<table border=\"1\" class=\"dataframe\">\n",
       "  <thead>\n",
       "    <tr style=\"text-align: right;\">\n",
       "      <th></th>\n",
       "      <th>T1 (°C)</th>\n",
       "      <th>T2 (°C)</th>\n",
       "      <th>T3 (°C)</th>\n",
       "      <th>T4 (°C)</th>\n",
       "      <th>dp1 (mbar)</th>\n",
       "      <th>dp2 (mbar)</th>\n",
       "      <th>dQ1/dt (kW)</th>\n",
       "      <th>dQ2/dt (kW)</th>\n",
       "      <th>dQ3/dt (kW)</th>\n",
       "      <th>dQm/dt (kW)</th>\n",
       "    </tr>\n",
       "  </thead>\n",
       "  <tbody>\n",
       "    <tr>\n",
       "      <th>0</th>\n",
       "      <td>32.4</td>\n",
       "      <td>40.2</td>\n",
       "      <td>15.5</td>\n",
       "      <td>22.3</td>\n",
       "      <td>0.09</td>\n",
       "      <td>21.0</td>\n",
       "      <td>-2.89</td>\n",
       "      <td>2.75</td>\n",
       "      <td>0.0</td>\n",
       "      <td>2.82</td>\n",
       "    </tr>\n",
       "    <tr>\n",
       "      <th>1</th>\n",
       "      <td>32.4</td>\n",
       "      <td>40.2</td>\n",
       "      <td>15.5</td>\n",
       "      <td>22.3</td>\n",
       "      <td>0.09</td>\n",
       "      <td>21.0</td>\n",
       "      <td>-2.90</td>\n",
       "      <td>2.75</td>\n",
       "      <td>0.0</td>\n",
       "      <td>2.83</td>\n",
       "    </tr>\n",
       "    <tr>\n",
       "      <th>2</th>\n",
       "      <td>32.4</td>\n",
       "      <td>40.2</td>\n",
       "      <td>15.5</td>\n",
       "      <td>22.3</td>\n",
       "      <td>0.09</td>\n",
       "      <td>21.0</td>\n",
       "      <td>-2.90</td>\n",
       "      <td>2.74</td>\n",
       "      <td>0.0</td>\n",
       "      <td>2.82</td>\n",
       "    </tr>\n",
       "    <tr>\n",
       "      <th>3</th>\n",
       "      <td>32.4</td>\n",
       "      <td>40.2</td>\n",
       "      <td>15.5</td>\n",
       "      <td>22.3</td>\n",
       "      <td>0.09</td>\n",
       "      <td>20.0</td>\n",
       "      <td>-2.86</td>\n",
       "      <td>2.74</td>\n",
       "      <td>0.0</td>\n",
       "      <td>2.80</td>\n",
       "    </tr>\n",
       "    <tr>\n",
       "      <th>4</th>\n",
       "      <td>32.4</td>\n",
       "      <td>40.2</td>\n",
       "      <td>15.5</td>\n",
       "      <td>22.2</td>\n",
       "      <td>0.09</td>\n",
       "      <td>21.0</td>\n",
       "      <td>-2.88</td>\n",
       "      <td>2.74</td>\n",
       "      <td>0.0</td>\n",
       "      <td>2.81</td>\n",
       "    </tr>\n",
       "  </tbody>\n",
       "</table>\n",
       "</div>"
      ],
      "text/plain": [
       "   T1 (°C)  T2 (°C)  T3 (°C)  T4 (°C)  dp1 (mbar)  dp2 (mbar)  dQ1/dt (kW)  \\\n",
       "0     32.4     40.2     15.5     22.3        0.09        21.0        -2.89   \n",
       "1     32.4     40.2     15.5     22.3        0.09        21.0        -2.90   \n",
       "2     32.4     40.2     15.5     22.3        0.09        21.0        -2.90   \n",
       "3     32.4     40.2     15.5     22.3        0.09        20.0        -2.86   \n",
       "4     32.4     40.2     15.5     22.2        0.09        21.0        -2.88   \n",
       "\n",
       "   dQ2/dt (kW)  dQ3/dt (kW)  dQm/dt (kW)  \n",
       "0         2.75          0.0         2.82  \n",
       "1         2.75          0.0         2.83  \n",
       "2         2.74          0.0         2.82  \n",
       "3         2.74          0.0         2.80  \n",
       "4         2.74          0.0         2.81  "
      ]
     },
     "execution_count": 9,
     "metadata": {},
     "output_type": "execute_result"
    }
   ],
   "source": [
    "shell_counter.head()"
   ]
  },
  {
   "cell_type": "markdown",
   "id": "f8f9861a-b679-408e-a42c-b0cef752479a",
   "metadata": {},
   "source": [
    "#### Extract the relevant values\n",
    "- Cold water inlet temperature\n",
    "- Hot water inlet temperature\n",
    "- Cold water outlet temperature\n",
    "- Hot water outlet temperature\n",
    "- Qm"
   ]
  },
  {
   "cell_type": "markdown",
   "id": "863605d9-53a1-471f-a34a-0ba581f21114",
   "metadata": {},
   "source": [
    "#### Start with parallel\n",
    "Value extraction"
   ]
  },
  {
   "cell_type": "code",
   "execution_count": 10,
   "id": "cf941925-e36a-4577-9132-1b8bd0929e61",
   "metadata": {
    "execution": {
     "iopub.execute_input": "2025-04-15T22:41:10.762967Z",
     "iopub.status.busy": "2025-04-15T22:41:10.762589Z",
     "iopub.status.idle": "2025-04-15T22:41:10.766718Z",
     "shell.execute_reply": "2025-04-15T22:41:10.766062Z",
     "shell.execute_reply.started": "2025-04-15T22:41:10.762949Z"
    }
   },
   "outputs": [],
   "source": [
    "cold_inlet_temp = shell_parallel['T3 (°C)'].mean()\n",
    "hot_inlet_temp = shell_parallel['T1 (°C)'].mean()\n",
    "cold_outlet_temp = shell_parallel['T4 (°C)'].mean()\n",
    "hot_outlet_temp = shell_parallel['T2 (°C)'].mean()\n",
    "QM = shell_parallel['dQm/dt (kW)'].mean() * 1000\n",
    "A_M = 0.15 #m^2"
   ]
  },
  {
   "cell_type": "markdown",
   "id": "6a43c71f-99df-4927-b7fc-6e13098d6cce",
   "metadata": {},
   "source": [
    "Compute LMTD and U"
   ]
  },
  {
   "cell_type": "code",
   "execution_count": 11,
   "id": "d8acd81a-d1d9-41ef-bb75-d4391eb20c5c",
   "metadata": {
    "execution": {
     "iopub.execute_input": "2025-04-15T22:41:10.786468Z",
     "iopub.status.busy": "2025-04-15T22:41:10.786021Z",
     "iopub.status.idle": "2025-04-15T22:41:10.798831Z",
     "shell.execute_reply": "2025-04-15T22:41:10.798152Z",
     "shell.execute_reply.started": "2025-04-15T22:41:10.786450Z"
    }
   },
   "outputs": [
    {
     "name": "stdout",
     "output_type": "stream",
     "text": [
      "U (shell heat exchanger with parallel flow): 958.0758533838674 W/m²·K\n"
     ]
    }
   ],
   "source": [
    "Delta_Ta = hot_inlet_temp - cold_outlet_temp\n",
    "Delta_Tb = hot_outlet_temp - cold_inlet_temp\n",
    "\n",
    "LMTD = calculate_LMTD(Delta_Ta, Delta_Tb)\n",
    "U = calculate_U(QM, A_M, LMTD)\n",
    "\n",
    "print(\"U (shell heat exchanger with parallel flow):\",U,\"W/m²·K\")"
   ]
  },
  {
   "cell_type": "markdown",
   "id": "19793ce8-2071-42ad-b8ce-e664d89523c0",
   "metadata": {},
   "source": [
    "#### Define a general functions to calculate overall heat transfer coefficients for every flow heat exchanger"
   ]
  },
  {
   "cell_type": "markdown",
   "id": "0c989a3c-4378-4548-b343-d4aa41e6cd6c",
   "metadata": {},
   "source": [
    "#### For parallel flows"
   ]
  },
  {
   "cell_type": "code",
   "execution_count": 12,
   "id": "ad4d858c-c9b8-4033-ac1d-14e2ab2b5f48",
   "metadata": {
    "execution": {
     "iopub.execute_input": "2025-04-15T22:41:10.835763Z",
     "iopub.status.busy": "2025-04-15T22:41:10.835526Z",
     "iopub.status.idle": "2025-04-15T22:41:10.840291Z",
     "shell.execute_reply": "2025-04-15T22:41:10.839625Z",
     "shell.execute_reply.started": "2025-04-15T22:41:10.835747Z"
    }
   },
   "outputs": [],
   "source": [
    "def parallel_U(df, A_M):\n",
    "    QM = df['dQm/dt (kW)'].mean() * 1000\n",
    "    \n",
    "    first_four_columns = df.iloc[:, :4]\n",
    "    flat_values = first_four_columns.mean(axis=0).values\n",
    "    unique_sorted_values = np.sort(np.unique(flat_values))\n",
    "    \n",
    "    cold_inlet_temp = unique_sorted_values[0]   \n",
    "    cold_outlet_temp = unique_sorted_values[1]   \n",
    "    hot_outlet_temp = unique_sorted_values[2]    \n",
    "    hot_inlet_temp = unique_sorted_values[3]\n",
    "\n",
    "    Delta_Ta = hot_inlet_temp - cold_outlet_temp\n",
    "    Delta_Tb = hot_outlet_temp - cold_inlet_temp\n",
    "\n",
    "    LMTD = calculate_LMTD(Delta_Ta, Delta_Tb)\n",
    "    U = calculate_U(QM, A_M, LMTD)\n",
    "    return np.array([U, cold_inlet_temp, cold_outlet_temp, hot_outlet_temp, hot_inlet_temp, QM])"
   ]
  },
  {
   "cell_type": "markdown",
   "id": "5eeccefc-1e0d-46d8-be9e-8ccb297acb73",
   "metadata": {},
   "source": [
    "#### For counter flows"
   ]
  },
  {
   "cell_type": "code",
   "execution_count": 13,
   "id": "da3f5dd2-d1a4-4905-92d4-f068b67ab6c3",
   "metadata": {
    "execution": {
     "iopub.execute_input": "2025-04-15T22:41:10.859301Z",
     "iopub.status.busy": "2025-04-15T22:41:10.859065Z",
     "iopub.status.idle": "2025-04-15T22:41:10.871721Z",
     "shell.execute_reply": "2025-04-15T22:41:10.871117Z",
     "shell.execute_reply.started": "2025-04-15T22:41:10.859285Z"
    }
   },
   "outputs": [],
   "source": [
    "def counter_U(df, A_M):\n",
    "    QM = df['dQm/dt (kW)'].mean() * 1000\n",
    "    \n",
    "    first_four_columns = df.iloc[:, :4]\n",
    "    flat_values = first_four_columns.mean(axis=0).values\n",
    "    unique_sorted_values = np.sort(np.unique(flat_values))\n",
    "    \n",
    "    cold_inlet_temp = unique_sorted_values[0]   \n",
    "    cold_outlet_temp = unique_sorted_values[1]   \n",
    "    hot_outlet_temp = unique_sorted_values[2]    \n",
    "    hot_inlet_temp = unique_sorted_values[3]\n",
    "\n",
    "    LMTD = calculate_cocurrent_LMTD(hot_inlet_temp,cold_inlet_temp,hot_outlet_temp,cold_outlet_temp)\n",
    "    U = calculate_U(QM, A_M, LMTD)\n",
    "    return np.array([U, cold_inlet_temp, cold_outlet_temp, hot_outlet_temp, hot_inlet_temp, QM])"
   ]
  },
  {
   "cell_type": "markdown",
   "id": "0edcc5ed-c63c-40b9-9793-081fa1f159b3",
   "metadata": {},
   "source": [
    "#### Apply to every heat exchanger"
   ]
  },
  {
   "cell_type": "code",
   "execution_count": 14,
   "id": "a7901a61-ac0a-4974-b337-ae057fd78c39",
   "metadata": {
    "execution": {
     "iopub.execute_input": "2025-04-15T22:41:10.895532Z",
     "iopub.status.busy": "2025-04-15T22:41:10.895284Z",
     "iopub.status.idle": "2025-04-15T22:41:10.905461Z",
     "shell.execute_reply": "2025-04-15T22:41:10.904924Z",
     "shell.execute_reply.started": "2025-04-15T22:41:10.895515Z"
    }
   },
   "outputs": [
    {
     "data": {
      "text/plain": [
       "array([ 958.07585338,   15.23      ,   21.687     ,   33.002     ,\n",
       "         40.094     , 2599.4       ])"
      ]
     },
     "execution_count": 14,
     "metadata": {},
     "output_type": "execute_result"
    }
   ],
   "source": [
    "shell_counter_U = counter_U(shell_counter, A_M)\n",
    "shell_parallel_U = parallel_U(shell_parallel, A_M)\n",
    "finned_counter_U = counter_U(finned_counter, 2.77)\n",
    "finned_parallel_U = parallel_U(finned_parallel, 2.77)\n",
    "plate_counter_U = counter_U(plate_counter, 0.13932)\n",
    "plate_parallel_U = parallel_U(plate_parallel, 0.13932)\n",
    "tube_counter_U = counter_U(tube_counter, 0.0698)\n",
    "tube_parallel_U = parallel_U(tube_parallel, 0.0698)\n",
    "shell_parallel_U"
   ]
  },
  {
   "cell_type": "markdown",
   "id": "a51cecbf-692c-4526-a4ca-94e4ef7b1e1d",
   "metadata": {},
   "source": [
    "### New Data Frame With Calculated Values"
   ]
  },
  {
   "cell_type": "code",
   "execution_count": 15,
   "id": "3c68b23b-653b-409c-8d2a-975871f276c1",
   "metadata": {
    "execution": {
     "iopub.execute_input": "2025-04-15T22:41:10.926130Z",
     "iopub.status.busy": "2025-04-15T22:41:10.925715Z",
     "iopub.status.idle": "2025-04-15T22:41:10.939922Z",
     "shell.execute_reply": "2025-04-15T22:41:10.939305Z",
     "shell.execute_reply.started": "2025-04-15T22:41:10.926112Z"
    }
   },
   "outputs": [
    {
     "data": {
      "text/html": [
       "<div>\n",
       "<style scoped>\n",
       "    .dataframe tbody tr th:only-of-type {\n",
       "        vertical-align: middle;\n",
       "    }\n",
       "\n",
       "    .dataframe tbody tr th {\n",
       "        vertical-align: top;\n",
       "    }\n",
       "\n",
       "    .dataframe thead th {\n",
       "        text-align: right;\n",
       "    }\n",
       "</style>\n",
       "<table border=\"1\" class=\"dataframe\">\n",
       "  <thead>\n",
       "    <tr style=\"text-align: right;\">\n",
       "      <th></th>\n",
       "      <th>Heat Exchanger Type</th>\n",
       "      <th>U</th>\n",
       "      <th>T_ci</th>\n",
       "      <th>T_co</th>\n",
       "      <th>T_ho</th>\n",
       "      <th>T_hi</th>\n",
       "      <th>Q_M</th>\n",
       "    </tr>\n",
       "  </thead>\n",
       "  <tbody>\n",
       "    <tr>\n",
       "      <th>0</th>\n",
       "      <td>Shell Counter</td>\n",
       "      <td>1150.253588</td>\n",
       "      <td>15.351</td>\n",
       "      <td>22.202</td>\n",
       "      <td>32.284</td>\n",
       "      <td>40.139</td>\n",
       "      <td>2820.5</td>\n",
       "    </tr>\n",
       "    <tr>\n",
       "      <th>1</th>\n",
       "      <td>Shell Parallel</td>\n",
       "      <td>958.075853</td>\n",
       "      <td>15.230</td>\n",
       "      <td>21.687</td>\n",
       "      <td>33.002</td>\n",
       "      <td>40.094</td>\n",
       "      <td>2599.4</td>\n",
       "    </tr>\n",
       "    <tr>\n",
       "      <th>2</th>\n",
       "      <td>Finned Counter</td>\n",
       "      <td>49.486788</td>\n",
       "      <td>26.490</td>\n",
       "      <td>32.596</td>\n",
       "      <td>39.586</td>\n",
       "      <td>43.468</td>\n",
       "      <td>1542.8</td>\n",
       "    </tr>\n",
       "    <tr>\n",
       "      <th>3</th>\n",
       "      <td>Finned Parallel</td>\n",
       "      <td>54.429328</td>\n",
       "      <td>26.444</td>\n",
       "      <td>33.438</td>\n",
       "      <td>39.300</td>\n",
       "      <td>43.426</td>\n",
       "      <td>1713.0</td>\n",
       "    </tr>\n",
       "    <tr>\n",
       "      <th>4</th>\n",
       "      <td>Plate Counter</td>\n",
       "      <td>3510.638952</td>\n",
       "      <td>21.694</td>\n",
       "      <td>28.938</td>\n",
       "      <td>32.812</td>\n",
       "      <td>41.262</td>\n",
       "      <td>4739.4</td>\n",
       "    </tr>\n",
       "    <tr>\n",
       "      <th>5</th>\n",
       "      <td>Plate Parallel</td>\n",
       "      <td>2522.359438</td>\n",
       "      <td>20.420</td>\n",
       "      <td>30.064</td>\n",
       "      <td>31.706</td>\n",
       "      <td>41.986</td>\n",
       "      <td>4076.8</td>\n",
       "    </tr>\n",
       "    <tr>\n",
       "      <th>6</th>\n",
       "      <td>Tube Counter</td>\n",
       "      <td>6465.400106</td>\n",
       "      <td>21.821</td>\n",
       "      <td>27.312</td>\n",
       "      <td>30.769</td>\n",
       "      <td>37.904</td>\n",
       "      <td>3706.3</td>\n",
       "    </tr>\n",
       "    <tr>\n",
       "      <th>7</th>\n",
       "      <td>Tube Parallel</td>\n",
       "      <td>5447.766559</td>\n",
       "      <td>21.821</td>\n",
       "      <td>27.312</td>\n",
       "      <td>30.769</td>\n",
       "      <td>37.904</td>\n",
       "      <td>3706.3</td>\n",
       "    </tr>\n",
       "  </tbody>\n",
       "</table>\n",
       "</div>"
      ],
      "text/plain": [
       "  Heat Exchanger Type            U    T_ci    T_co    T_ho    T_hi     Q_M\n",
       "0       Shell Counter  1150.253588  15.351  22.202  32.284  40.139  2820.5\n",
       "1      Shell Parallel   958.075853  15.230  21.687  33.002  40.094  2599.4\n",
       "2      Finned Counter    49.486788  26.490  32.596  39.586  43.468  1542.8\n",
       "3     Finned Parallel    54.429328  26.444  33.438  39.300  43.426  1713.0\n",
       "4       Plate Counter  3510.638952  21.694  28.938  32.812  41.262  4739.4\n",
       "5      Plate Parallel  2522.359438  20.420  30.064  31.706  41.986  4076.8\n",
       "6        Tube Counter  6465.400106  21.821  27.312  30.769  37.904  3706.3\n",
       "7       Tube Parallel  5447.766559  21.821  27.312  30.769  37.904  3706.3"
      ]
     },
     "execution_count": 15,
     "metadata": {},
     "output_type": "execute_result"
    }
   ],
   "source": [
    "dfQ1 = pd.DataFrame(columns=[\"U\", \"T_ci\", \"T_co\", \"T_ho\", \"T_hi\", \"Q_M\"])\n",
    "\n",
    "data_arrays = [\n",
    "    shell_counter_U,\n",
    "    shell_parallel_U,\n",
    "    finned_counter_U,\n",
    "    finned_parallel_U,\n",
    "    plate_counter_U,\n",
    "    plate_parallel_U,\n",
    "    tube_counter_U,\n",
    "    tube_parallel_U\n",
    "]\n",
    "\n",
    "dfQ1 = pd.DataFrame(data_arrays, columns=[\"U\", \"T_ci\", \"T_co\", \"T_ho\", \"T_hi\", \"Q_M\"])\n",
    "\n",
    "dfQ1.insert(0, 'Heat Exchanger Type', np.array([\n",
    "    'Shell Counter', \n",
    "    'Shell Parallel',\n",
    "    'Finned Counter',\n",
    "    'Finned Parallel',\n",
    "    'Plate Counter',\n",
    "    'Plate Parallel',\n",
    "    'Tube Counter',\n",
    "    'Tube Parallel'\n",
    "]))\n",
    "dfQ1"
   ]
  },
  {
   "cell_type": "code",
   "execution_count": 16,
   "id": "3bf8b362-c8c7-490c-a64c-a328dcf7f92c",
   "metadata": {
    "execution": {
     "iopub.execute_input": "2025-04-15T22:41:10.940933Z",
     "iopub.status.busy": "2025-04-15T22:41:10.940688Z",
     "iopub.status.idle": "2025-04-15T22:41:11.832158Z",
     "shell.execute_reply": "2025-04-15T22:41:11.831553Z",
     "shell.execute_reply.started": "2025-04-15T22:41:10.940915Z"
    }
   },
   "outputs": [
    {
     "data": {
      "image/png": "[encoded data removed]",
      "text/plain": [
       "<Figure size 700x600 with 1 Axes>"
      ]
     },
     "metadata": {},
     "output_type": "display_data"
    }
   ],
   "source": [
    "import matplotlib.pyplot as plt\n",
    "import seaborn as sns\n",
    "\n",
    "# Set the style for better visualization\n",
    "plt.style.use('seaborn-v0_8-whitegrid')\n",
    "\n",
    "# Create a skinnier figure by adjusting the width (reduced from 10 to 7)\n",
    "plt.figure(figsize=(7, 6))\n",
    "\n",
    "# Create the bar graph using seaborn with black bars\n",
    "# Use the 'width' parameter to make bars closer together (default is 0.8)\n",
    "ax = sns.barplot(data=dfQ1, x=\"Heat Exchanger Type\", y=\"U\", color='black', width=0.6)\n",
    "\n",
    "# Customize the plot\n",
    "plt.title(\"U-Values by Heat Exchanger Type\", fontsize=18)\n",
    "plt.xlabel(\"Heat Exchanger Type\", fontsize=16)\n",
    "plt.ylabel(\"U-Value (W/m²K)\", fontsize=16)\n",
    "plt.grid(True, alpha=0.3, axis='y')\n",
    "\n",
    "# Make x-axis labels bigger\n",
    "plt.xticks(fontsize=14, rotation=45 if len(dfQ1[\"Heat Exchanger Type\"].unique()) > 4 else 0, ha='right')\n",
    "plt.yticks(fontsize=12)\n",
    "\n",
    "# Improve layout\n",
    "plt.tight_layout()\n",
    "\n",
    "# Save the figure to a file\n",
    "plt.savefig('heat_exchanger_u_values.png', dpi=300, bbox_inches='tight')\n",
    "\n",
    "# Show the plot\n",
    "plt.show()"
   ]
  },
  {
   "cell_type": "markdown",
   "id": "46f08af0-7953-477c-a30f-c7537cfb8a5d",
   "metadata": {},
   "source": [
    "#### Tubular Calculations"
   ]
  },
  {
   "cell_type": "code",
   "execution_count": 17,
   "id": "fef08488-becf-496e-b391-c0b4098eb5b4",
   "metadata": {
    "execution": {
     "iopub.execute_input": "2025-04-15T22:41:11.853790Z",
     "iopub.status.busy": "2025-04-15T22:41:11.853398Z",
     "iopub.status.idle": "2025-04-15T22:41:11.856552Z",
     "shell.execute_reply": "2025-04-15T22:41:11.855941Z",
     "shell.execute_reply.started": "2025-04-15T22:41:11.853770Z"
    }
   },
   "outputs": [],
   "source": [
    "# D_ti = 6/1000\n",
    "# D_to = 13/1000\n",
    "# L = 3200 /1000\n",
    "\n",
    "# tube_area = calculate_A_M_tubular(D_to, D_ti, L)\n",
    "# tube_area"
   ]
  },
  {
   "cell_type": "markdown",
   "id": "87ff1ec4-a277-4b22-9495-e9da802c6b99",
   "metadata": {},
   "source": [
    "### Effectiveness Calculation"
   ]
  },
  {
   "cell_type": "markdown",
   "id": "52ba93f3-674a-4ffd-ba2f-ae6afe7e1c5b",
   "metadata": {},
   "source": [
    "#### Define function"
   ]
  },
  {
   "cell_type": "code",
   "execution_count": 18,
   "id": "da62b523-2363-4134-b53f-871134ca15cc",
   "metadata": {
    "execution": {
     "iopub.execute_input": "2025-04-15T22:41:11.897464Z",
     "iopub.status.busy": "2025-04-15T22:41:11.897210Z",
     "iopub.status.idle": "2025-04-15T22:41:11.900826Z",
     "shell.execute_reply": "2025-04-15T22:41:11.900228Z",
     "shell.execute_reply.started": "2025-04-15T22:41:11.897447Z"
    }
   },
   "outputs": [],
   "source": [
    "def calculate_effectiveness(Q_M,C_min,T_hi,T_ci):\n",
    "    return Q_M/(C_min*(T_hi-T_ci))\n",
    "    \n",
    "def calculate_C_min(m_dot,c_p):\n",
    "    return m_dot * c_p"
   ]
  },
  {
   "cell_type": "markdown",
   "id": "c5ea361f-d705-43a8-81fd-6025ee84705a",
   "metadata": {},
   "source": [
    "#### System Parameters"
   ]
  },
  {
   "cell_type": "code",
   "execution_count": 19,
   "id": "605e1649-35b7-4075-bd07-765628dcf5e9",
   "metadata": {
    "execution": {
     "iopub.execute_input": "2025-04-15T22:41:11.922295Z",
     "iopub.status.busy": "2025-04-15T22:41:11.922004Z",
     "iopub.status.idle": "2025-04-15T22:41:11.933413Z",
     "shell.execute_reply": "2025-04-15T22:41:11.932726Z",
     "shell.execute_reply.started": "2025-04-15T22:41:11.922270Z"
    }
   },
   "outputs": [],
   "source": [
    "c_p = 4184 #Negligible difference at this range of temperatures #But recognize that the hot water c_p is smaller\n",
    "flow_rates = np.array([313,313,315,315,313,311,277,277]) * 2.78 * 10**-7 #m^3/s\n",
    "m_dot = flow_rates * 998.2 #kg/s"
   ]
  },
  {
   "cell_type": "markdown",
   "id": "3e9cd325-d26a-43f6-8571-130e71479fd5",
   "metadata": {},
   "source": [
    "### Evaluating effectiveness for each heat exchanger"
   ]
  },
  {
   "cell_type": "code",
   "execution_count": 20,
   "id": "d9b30704-ad9d-4597-abb6-fe4b927692db",
   "metadata": {
    "execution": {
     "iopub.execute_input": "2025-04-15T22:41:11.953420Z",
     "iopub.status.busy": "2025-04-15T22:41:11.953176Z",
     "iopub.status.idle": "2025-04-15T22:41:11.980886Z",
     "shell.execute_reply": "2025-04-15T22:41:11.980324Z",
     "shell.execute_reply.started": "2025-04-15T22:41:11.953404Z"
    }
   },
   "outputs": [
    {
     "data": {
      "text/html": [
       "<div>\n",
       "<style scoped>\n",
       "    .dataframe tbody tr th:only-of-type {\n",
       "        vertical-align: middle;\n",
       "    }\n",
       "\n",
       "    .dataframe tbody tr th {\n",
       "        vertical-align: top;\n",
       "    }\n",
       "\n",
       "    .dataframe thead th {\n",
       "        text-align: right;\n",
       "    }\n",
       "</style>\n",
       "<table border=\"1\" class=\"dataframe\">\n",
       "  <thead>\n",
       "    <tr style=\"text-align: right;\">\n",
       "      <th></th>\n",
       "      <th>Heat Exchanger Type</th>\n",
       "      <th>U</th>\n",
       "      <th>T_ci</th>\n",
       "      <th>T_co</th>\n",
       "      <th>T_ho</th>\n",
       "      <th>T_hi</th>\n",
       "      <th>Q_M</th>\n",
       "      <th>m_dot</th>\n",
       "      <th>C_min</th>\n",
       "      <th>effectiveness</th>\n",
       "    </tr>\n",
       "  </thead>\n",
       "  <tbody>\n",
       "    <tr>\n",
       "      <th>0</th>\n",
       "      <td>Shell Counter</td>\n",
       "      <td>1150.253588</td>\n",
       "      <td>15.351</td>\n",
       "      <td>22.202</td>\n",
       "      <td>32.284</td>\n",
       "      <td>40.139</td>\n",
       "      <td>2820.5</td>\n",
       "      <td>0.086857</td>\n",
       "      <td>363.411256</td>\n",
       "      <td>0.313102</td>\n",
       "    </tr>\n",
       "    <tr>\n",
       "      <th>1</th>\n",
       "      <td>Shell Parallel</td>\n",
       "      <td>958.075853</td>\n",
       "      <td>15.230</td>\n",
       "      <td>21.687</td>\n",
       "      <td>33.002</td>\n",
       "      <td>40.094</td>\n",
       "      <td>2599.4</td>\n",
       "      <td>0.086857</td>\n",
       "      <td>363.411256</td>\n",
       "      <td>0.287676</td>\n",
       "    </tr>\n",
       "    <tr>\n",
       "      <th>2</th>\n",
       "      <td>Finned Counter</td>\n",
       "      <td>49.486788</td>\n",
       "      <td>26.490</td>\n",
       "      <td>32.596</td>\n",
       "      <td>39.586</td>\n",
       "      <td>43.468</td>\n",
       "      <td>1542.8</td>\n",
       "      <td>0.087412</td>\n",
       "      <td>365.733373</td>\n",
       "      <td>0.248461</td>\n",
       "    </tr>\n",
       "    <tr>\n",
       "      <th>3</th>\n",
       "      <td>Finned Parallel</td>\n",
       "      <td>54.429328</td>\n",
       "      <td>26.444</td>\n",
       "      <td>33.438</td>\n",
       "      <td>39.300</td>\n",
       "      <td>43.426</td>\n",
       "      <td>1713.0</td>\n",
       "      <td>0.087412</td>\n",
       "      <td>365.733373</td>\n",
       "      <td>0.275806</td>\n",
       "    </tr>\n",
       "    <tr>\n",
       "      <th>4</th>\n",
       "      <td>Plate Counter</td>\n",
       "      <td>3510.638952</td>\n",
       "      <td>21.694</td>\n",
       "      <td>28.938</td>\n",
       "      <td>32.812</td>\n",
       "      <td>41.262</td>\n",
       "      <td>4739.4</td>\n",
       "      <td>0.086857</td>\n",
       "      <td>363.411256</td>\n",
       "      <td>0.666467</td>\n",
       "    </tr>\n",
       "    <tr>\n",
       "      <th>5</th>\n",
       "      <td>Plate Parallel</td>\n",
       "      <td>2522.359438</td>\n",
       "      <td>20.420</td>\n",
       "      <td>30.064</td>\n",
       "      <td>31.706</td>\n",
       "      <td>41.986</td>\n",
       "      <td>4076.8</td>\n",
       "      <td>0.086302</td>\n",
       "      <td>361.089140</td>\n",
       "      <td>0.523523</td>\n",
       "    </tr>\n",
       "    <tr>\n",
       "      <th>6</th>\n",
       "      <td>Tube Counter</td>\n",
       "      <td>6465.400106</td>\n",
       "      <td>21.821</td>\n",
       "      <td>27.312</td>\n",
       "      <td>30.769</td>\n",
       "      <td>37.904</td>\n",
       "      <td>3706.3</td>\n",
       "      <td>0.076867</td>\n",
       "      <td>321.613156</td>\n",
       "      <td>0.716539</td>\n",
       "    </tr>\n",
       "    <tr>\n",
       "      <th>7</th>\n",
       "      <td>Tube Parallel</td>\n",
       "      <td>5447.766559</td>\n",
       "      <td>21.821</td>\n",
       "      <td>27.312</td>\n",
       "      <td>30.769</td>\n",
       "      <td>37.904</td>\n",
       "      <td>3706.3</td>\n",
       "      <td>0.076867</td>\n",
       "      <td>321.613156</td>\n",
       "      <td>0.716539</td>\n",
       "    </tr>\n",
       "  </tbody>\n",
       "</table>\n",
       "</div>"
      ],
      "text/plain": [
       "  Heat Exchanger Type            U    T_ci    T_co    T_ho    T_hi     Q_M  \\\n",
       "0       Shell Counter  1150.253588  15.351  22.202  32.284  40.139  2820.5   \n",
       "1      Shell Parallel   958.075853  15.230  21.687  33.002  40.094  2599.4   \n",
       "2      Finned Counter    49.486788  26.490  32.596  39.586  43.468  1542.8   \n",
       "3     Finned Parallel    54.429328  26.444  33.438  39.300  43.426  1713.0   \n",
       "4       Plate Counter  3510.638952  21.694  28.938  32.812  41.262  4739.4   \n",
       "5      Plate Parallel  2522.359438  20.420  30.064  31.706  41.986  4076.8   \n",
       "6        Tube Counter  6465.400106  21.821  27.312  30.769  37.904  3706.3   \n",
       "7       Tube Parallel  5447.766559  21.821  27.312  30.769  37.904  3706.3   \n",
       "\n",
       "      m_dot       C_min  effectiveness  \n",
       "0  0.086857  363.411256       0.313102  \n",
       "1  0.086857  363.411256       0.287676  \n",
       "2  0.087412  365.733373       0.248461  \n",
       "3  0.087412  365.733373       0.275806  \n",
       "4  0.086857  363.411256       0.666467  \n",
       "5  0.086302  361.089140       0.523523  \n",
       "6  0.076867  321.613156       0.716539  \n",
       "7  0.076867  321.613156       0.716539  "
      ]
     },
     "execution_count": 20,
     "metadata": {},
     "output_type": "execute_result"
    }
   ],
   "source": [
    "dfQ1['m_dot'] = m_dot\n",
    "\n",
    "dfQ1['C_min'] = dfQ1['m_dot'].apply(lambda m: calculate_C_min(m, c_p))\n",
    "dfQ1['effectiveness'] = dfQ1.apply(lambda row: calculate_effectiveness(row['Q_M'], row['C_min'], row['T_hi'], row['T_ci']), axis=1)\n",
    "dfQ1"
   ]
  },
  {
   "cell_type": "markdown",
   "id": "1469e743-1abe-40f9-9daf-b06574b06d1f",
   "metadata": {},
   "source": [
    "# Data Analysis Question 3"
   ]
  },
  {
   "cell_type": "markdown",
   "id": "b84a022b-7a96-46b1-bb22-c7307aad638d",
   "metadata": {},
   "source": [
    "### Reading csv's for the tubular counter flow at varying inner flow rates"
   ]
  },
  {
   "cell_type": "code",
   "execution_count": 21,
   "id": "78391793-9f33-4b47-b1f1-e54fd7b8b7da",
   "metadata": {
    "execution": {
     "iopub.execute_input": "2025-04-15T22:41:12.020141Z",
     "iopub.status.busy": "2025-04-15T22:41:12.019510Z",
     "iopub.status.idle": "2025-04-15T22:41:12.045468Z",
     "shell.execute_reply": "2025-04-15T22:41:12.044963Z",
     "shell.execute_reply.started": "2025-04-15T22:41:12.020115Z"
    }
   },
   "outputs": [],
   "source": [
    "df350c_300h = pd.read_csv('tube_counter_350c_300h.csv')\n",
    "df350c_350h = pd.read_csv('tube_counter_350c_350h.csv')\n",
    "df350c_400h = pd.read_csv('tube_counter_350c_400h.csv')\n",
    "df350c_200h = pd.read_csv('tube_counter_350c_200h.csv')\n",
    "\n",
    "df350h_300c = pd.read_csv('tube_counter_350h_300c.csv')\n",
    "df350h_350c = pd.read_csv('tube_counter_350h_350c.csv')\n",
    "df350h_400c = pd.read_csv('tube_counter_350h_400c.csv')\n",
    "df350h_200c = pd.read_csv('tube_counter_350h_200c.csv')"
   ]
  },
  {
   "cell_type": "code",
   "execution_count": 22,
   "id": "6e9992de-38c2-4cae-97b3-d945fbac69a3",
   "metadata": {
    "execution": {
     "iopub.execute_input": "2025-04-15T22:41:12.046756Z",
     "iopub.status.busy": "2025-04-15T22:41:12.046393Z",
     "iopub.status.idle": "2025-04-15T22:41:12.055102Z",
     "shell.execute_reply": "2025-04-15T22:41:12.054551Z",
     "shell.execute_reply.started": "2025-04-15T22:41:12.046738Z"
    }
   },
   "outputs": [],
   "source": [
    "df350c_200h[\"hot flow (L/hr)\"] = 200\n",
    "df350c_200h[\"cold flow (L/hr)\"] = 350\n",
    "\n",
    "df350c_300h[\"hot flow (L/hr)\"] = 300\n",
    "df350c_300h[\"cold flow (L/hr)\"] = 350\n",
    "\n",
    "df350c_350h[\"hot flow (L/hr)\"] = 350\n",
    "df350c_350h[\"cold flow (L/hr)\"] = 350\n",
    "\n",
    "df350c_400h[\"hot flow (L/hr)\"] = 400\n",
    "df350c_400h[\"cold flow (L/hr)\"] = 350\n",
    "\n",
    "df350h_200c[\"hot flow (L/hr)\"] = 350\n",
    "df350h_200c[\"cold flow (L/hr)\"] = 200\n",
    "\n",
    "df350h_300c[\"hot flow (L/hr)\"] = 350\n",
    "df350h_300c[\"cold flow (L/hr)\"] = 300\n",
    "\n",
    "df350h_350c[\"hot flow (L/hr)\"] = 350\n",
    "df350h_350c[\"cold flow (L/hr)\"] = 350\n",
    "\n",
    "df350h_400c[\"hot flow (L/hr)\"] = 350\n",
    "df350h_400c[\"cold flow (L/hr)\"] = 400"
   ]
  },
  {
   "cell_type": "code",
   "execution_count": 23,
   "id": "2606a8a5-793b-40de-8b27-a82b72d4aa3f",
   "metadata": {
    "execution": {
     "iopub.execute_input": "2025-04-15T22:41:12.056251Z",
     "iopub.status.busy": "2025-04-15T22:41:12.055795Z",
     "iopub.status.idle": "2025-04-15T22:41:12.082507Z",
     "shell.execute_reply": "2025-04-15T22:41:12.081890Z",
     "shell.execute_reply.started": "2025-04-15T22:41:12.056233Z"
    }
   },
   "outputs": [],
   "source": [
    "df350c_200h[\"hot flow (m^3/s)\"] = df350c_200h[\"hot flow (L/hr)\"] / (1000 * 3600)\n",
    "df350c_200h[\"cold flow (m^3/s)\"] = df350c_200h[\"cold flow (L/hr)\"] / (1000 * 3600)\n",
    "\n",
    "df350c_300h[\"hot flow (m^3/s)\"] = df350c_300h[\"hot flow (L/hr)\"] / (1000 * 3600)\n",
    "df350c_300h[\"cold flow (m^3/s)\"] = df350c_300h[\"cold flow (L/hr)\"] / (1000 * 3600)\n",
    "\n",
    "df350c_350h[\"hot flow (m^3/s)\"] = df350c_350h[\"hot flow (L/hr)\"] / (1000 * 3600)\n",
    "df350c_350h[\"cold flow (m^3/s)\"] = df350c_350h[\"cold flow (L/hr)\"] / (1000 * 3600)\n",
    "\n",
    "df350c_400h[\"hot flow (m^3/s)\"] = df350c_400h[\"hot flow (L/hr)\"] / (1000 * 3600)\n",
    "df350c_400h[\"cold flow (m^3/s)\"] = df350c_400h[\"cold flow (L/hr)\"] / (1000 * 3600)\n",
    "\n",
    "df350h_200c[\"hot flow (m^3/s)\"] = df350h_200c[\"hot flow (L/hr)\"] / (1000 * 3600)\n",
    "df350h_200c[\"cold flow (m^3/s)\"] = df350h_200c[\"cold flow (L/hr)\"] / (1000 * 3600)\n",
    "\n",
    "df350h_300c[\"hot flow (m^3/s)\"] = df350h_300c[\"hot flow (L/hr)\"] / (1000 * 3600)\n",
    "df350h_300c[\"cold flow (m^3/s)\"] = df350h_300c[\"cold flow (L/hr)\"] / (1000 * 3600)\n",
    "\n",
    "df350h_350c[\"hot flow (m^3/s)\"] = df350h_350c[\"hot flow (L/hr)\"] / (1000 * 3600)\n",
    "df350h_350c[\"cold flow (m^3/s)\"] = df350h_350c[\"cold flow (L/hr)\"] / (1000 * 3600)\n",
    "\n",
    "df350h_400c[\"hot flow (m^3/s)\"] = df350h_400c[\"hot flow (L/hr)\"] / (1000 * 3600)\n",
    "df350h_400c[\"cold flow (m^3/s)\"] = df350h_400c[\"cold flow (L/hr)\"] / (1000 * 3600)"
   ]
  },
  {
   "cell_type": "code",
   "execution_count": 24,
   "id": "7b1fb0b5-3f6f-4c09-99a4-afdefda278de",
   "metadata": {
    "execution": {
     "iopub.execute_input": "2025-04-15T22:41:12.083785Z",
     "iopub.status.busy": "2025-04-15T22:41:12.083284Z",
     "iopub.status.idle": "2025-04-15T22:41:12.100861Z",
     "shell.execute_reply": "2025-04-15T22:41:12.100250Z",
     "shell.execute_reply.started": "2025-04-15T22:41:12.083767Z"
    }
   },
   "outputs": [],
   "source": [
    "dfs = [df350c_200h, df350c_300h, df350c_350h, df350c_400h,\n",
    "       df350h_200c, df350h_300c, df350h_350c, df350h_400c ]"
   ]
  },
  {
   "cell_type": "code",
   "execution_count": 25,
   "id": "1a6f3368-9961-453d-9b25-6aedd466d7db",
   "metadata": {
    "execution": {
     "iopub.execute_input": "2025-04-15T22:41:12.101895Z",
     "iopub.status.busy": "2025-04-15T22:41:12.101631Z",
     "iopub.status.idle": "2025-04-15T22:41:12.136032Z",
     "shell.execute_reply": "2025-04-15T22:41:12.135523Z",
     "shell.execute_reply.started": "2025-04-15T22:41:12.101878Z"
    }
   },
   "outputs": [
    {
     "data": {
      "text/html": [
       "<div>\n",
       "<style scoped>\n",
       "    .dataframe tbody tr th:only-of-type {\n",
       "        vertical-align: middle;\n",
       "    }\n",
       "\n",
       "    .dataframe tbody tr th {\n",
       "        vertical-align: top;\n",
       "    }\n",
       "\n",
       "    .dataframe thead th {\n",
       "        text-align: right;\n",
       "    }\n",
       "</style>\n",
       "<table border=\"1\" class=\"dataframe\">\n",
       "  <thead>\n",
       "    <tr style=\"text-align: right;\">\n",
       "      <th></th>\n",
       "      <th>Time</th>\n",
       "      <th>T1 (°C)</th>\n",
       "      <th>T2 (°C)</th>\n",
       "      <th>T3 (°C)</th>\n",
       "      <th>T4 (°C)</th>\n",
       "      <th>T5 (°C)</th>\n",
       "      <th>T6 (°C)</th>\n",
       "      <th>T7 (°C)</th>\n",
       "      <th>T8 (°C)</th>\n",
       "      <th>T9 (°C)</th>\n",
       "      <th>...</th>\n",
       "      <th>dp1 (mbar)</th>\n",
       "      <th>dp2 (mbar)</th>\n",
       "      <th>dQ1/dt (kW)</th>\n",
       "      <th>dQ2/dt (kW)</th>\n",
       "      <th>dQ3/dt (kW)</th>\n",
       "      <th>dQm/dt (kW)</th>\n",
       "      <th>hot flow (L/hr)</th>\n",
       "      <th>cold flow (L/hr)</th>\n",
       "      <th>hot flow (m^3/s)</th>\n",
       "      <th>cold flow (m^3/s)</th>\n",
       "    </tr>\n",
       "  </thead>\n",
       "  <tbody>\n",
       "    <tr>\n",
       "      <th>0</th>\n",
       "      <td>1/30/2025 3:02:15 PM.93</td>\n",
       "      <td>42.6</td>\n",
       "      <td>100</td>\n",
       "      <td>19.4</td>\n",
       "      <td>27.7</td>\n",
       "      <td>38.5</td>\n",
       "      <td>22.5</td>\n",
       "      <td>35.7</td>\n",
       "      <td>25.0</td>\n",
       "      <td>33.6</td>\n",
       "      <td>...</td>\n",
       "      <td>0.09</td>\n",
       "      <td>-69</td>\n",
       "      <td>-23.03</td>\n",
       "      <td>3.91</td>\n",
       "      <td>0</td>\n",
       "      <td>13.47</td>\n",
       "      <td>350</td>\n",
       "      <td>400</td>\n",
       "      <td>0.000097</td>\n",
       "      <td>0.000111</td>\n",
       "    </tr>\n",
       "    <tr>\n",
       "      <th>1</th>\n",
       "      <td>1/30/2025 3:02:16 PM.43</td>\n",
       "      <td>42.6</td>\n",
       "      <td>100</td>\n",
       "      <td>19.3</td>\n",
       "      <td>27.7</td>\n",
       "      <td>38.5</td>\n",
       "      <td>22.5</td>\n",
       "      <td>35.7</td>\n",
       "      <td>25.0</td>\n",
       "      <td>33.6</td>\n",
       "      <td>...</td>\n",
       "      <td>0.09</td>\n",
       "      <td>-69</td>\n",
       "      <td>-23.03</td>\n",
       "      <td>3.94</td>\n",
       "      <td>0</td>\n",
       "      <td>13.48</td>\n",
       "      <td>350</td>\n",
       "      <td>400</td>\n",
       "      <td>0.000097</td>\n",
       "      <td>0.000111</td>\n",
       "    </tr>\n",
       "    <tr>\n",
       "      <th>2</th>\n",
       "      <td>1/30/2025 3:02:16 PM.94</td>\n",
       "      <td>42.6</td>\n",
       "      <td>100</td>\n",
       "      <td>19.4</td>\n",
       "      <td>27.7</td>\n",
       "      <td>38.5</td>\n",
       "      <td>22.5</td>\n",
       "      <td>35.7</td>\n",
       "      <td>25.0</td>\n",
       "      <td>33.6</td>\n",
       "      <td>...</td>\n",
       "      <td>0.09</td>\n",
       "      <td>-70</td>\n",
       "      <td>-23.03</td>\n",
       "      <td>3.91</td>\n",
       "      <td>0</td>\n",
       "      <td>13.47</td>\n",
       "      <td>350</td>\n",
       "      <td>400</td>\n",
       "      <td>0.000097</td>\n",
       "      <td>0.000111</td>\n",
       "    </tr>\n",
       "    <tr>\n",
       "      <th>3</th>\n",
       "      <td>1/30/2025 3:02:17 PM.44</td>\n",
       "      <td>42.6</td>\n",
       "      <td>100</td>\n",
       "      <td>19.2</td>\n",
       "      <td>27.7</td>\n",
       "      <td>38.5</td>\n",
       "      <td>22.5</td>\n",
       "      <td>35.7</td>\n",
       "      <td>25.0</td>\n",
       "      <td>33.6</td>\n",
       "      <td>...</td>\n",
       "      <td>0.09</td>\n",
       "      <td>-69</td>\n",
       "      <td>-23.12</td>\n",
       "      <td>3.93</td>\n",
       "      <td>0</td>\n",
       "      <td>13.52</td>\n",
       "      <td>350</td>\n",
       "      <td>400</td>\n",
       "      <td>0.000097</td>\n",
       "      <td>0.000111</td>\n",
       "    </tr>\n",
       "    <tr>\n",
       "      <th>4</th>\n",
       "      <td>1/30/2025 3:02:17 PM.94</td>\n",
       "      <td>42.6</td>\n",
       "      <td>100</td>\n",
       "      <td>19.3</td>\n",
       "      <td>27.7</td>\n",
       "      <td>38.5</td>\n",
       "      <td>22.5</td>\n",
       "      <td>35.7</td>\n",
       "      <td>25.0</td>\n",
       "      <td>33.5</td>\n",
       "      <td>...</td>\n",
       "      <td>0.09</td>\n",
       "      <td>-69</td>\n",
       "      <td>-23.12</td>\n",
       "      <td>3.98</td>\n",
       "      <td>0</td>\n",
       "      <td>13.55</td>\n",
       "      <td>350</td>\n",
       "      <td>400</td>\n",
       "      <td>0.000097</td>\n",
       "      <td>0.000111</td>\n",
       "    </tr>\n",
       "  </tbody>\n",
       "</table>\n",
       "<p>5 rows × 21 columns</p>\n",
       "</div>"
      ],
      "text/plain": [
       "                      Time  T1 (°C)  T2 (°C)  T3 (°C)  T4 (°C)  T5 (°C)  \\\n",
       "0  1/30/2025 3:02:15 PM.93     42.6      100     19.4     27.7     38.5   \n",
       "1  1/30/2025 3:02:16 PM.43     42.6      100     19.3     27.7     38.5   \n",
       "2  1/30/2025 3:02:16 PM.94     42.6      100     19.4     27.7     38.5   \n",
       "3  1/30/2025 3:02:17 PM.44     42.6      100     19.2     27.7     38.5   \n",
       "4  1/30/2025 3:02:17 PM.94     42.6      100     19.3     27.7     38.5   \n",
       "\n",
       "   T6 (°C)  T7 (°C)  T8 (°C)  T9 (°C)  ...  dp1 (mbar)  dp2 (mbar)  \\\n",
       "0     22.5     35.7     25.0     33.6  ...        0.09         -69   \n",
       "1     22.5     35.7     25.0     33.6  ...        0.09         -69   \n",
       "2     22.5     35.7     25.0     33.6  ...        0.09         -70   \n",
       "3     22.5     35.7     25.0     33.6  ...        0.09         -69   \n",
       "4     22.5     35.7     25.0     33.5  ...        0.09         -69   \n",
       "\n",
       "   dQ1/dt (kW)  dQ2/dt (kW)  dQ3/dt (kW)  dQm/dt (kW)  hot flow (L/hr)  \\\n",
       "0       -23.03         3.91            0        13.47              350   \n",
       "1       -23.03         3.94            0        13.48              350   \n",
       "2       -23.03         3.91            0        13.47              350   \n",
       "3       -23.12         3.93            0        13.52              350   \n",
       "4       -23.12         3.98            0        13.55              350   \n",
       "\n",
       "   cold flow (L/hr)  hot flow (m^3/s)  cold flow (m^3/s)  \n",
       "0               400          0.000097           0.000111  \n",
       "1               400          0.000097           0.000111  \n",
       "2               400          0.000097           0.000111  \n",
       "3               400          0.000097           0.000111  \n",
       "4               400          0.000097           0.000111  \n",
       "\n",
       "[5 rows x 21 columns]"
      ]
     },
     "execution_count": 25,
     "metadata": {},
     "output_type": "execute_result"
    }
   ],
   "source": [
    "df350h_400c.head()"
   ]
  },
  {
   "cell_type": "markdown",
   "id": "6453d7b1-488f-4258-80cf-0abbf6bcfb46",
   "metadata": {},
   "source": [
    "For the tubular heat exchanger in counter-current flow configuration:\n",
    "\n",
    "(a) Identify and report appropiate correlations for predicting the heat transfer coefficients for the inner tube $(h_i)$ and the annular region $(h_0)$. Clearly state the conditions and assumptions under which these correlations are valid (flow regime, flow condition, characteristic length, etc.).\n",
    "\n",
    "First, investigate the flow regime using $Re$ to classify the flow as laminar or turbulent.\n",
    "\n",
    "$$Re=\\frac{\\rho uD}{\\mu}=\\frac{4\\dot m}{\\pi D \\mu}$$\n",
    "\n",
    "where\n",
    "\n",
    "$\\dot m = \\rho \\dot Q$"
   ]
  },
  {
   "cell_type": "code",
   "execution_count": 26,
   "id": "4cb14f3c-60d2-4304-bcb3-e22936812a94",
   "metadata": {
    "execution": {
     "iopub.execute_input": "2025-04-15T22:41:12.170498Z",
     "iopub.status.busy": "2025-04-15T22:41:12.170186Z",
     "iopub.status.idle": "2025-04-15T22:41:12.174126Z",
     "shell.execute_reply": "2025-04-15T22:41:12.173402Z",
     "shell.execute_reply.started": "2025-04-15T22:41:12.170480Z"
    }
   },
   "outputs": [],
   "source": [
    "mu = 0.001 # Pa * s\n",
    "rho = 1000 # kg / m^3\n",
    "D_inner = 6 * 10e-3 # m\n",
    "D_annular = 13 * 10e-3 # m\n",
    "D_hydraulic = D_annular - D_inner # m\n",
    "\n",
    "A_i = np.pi * (D_inner ** 2) / 4\n",
    "A_h = np.pi * ((D_annular ** 2) - (D_inner ** 2)) / 4"
   ]
  },
  {
   "cell_type": "code",
   "execution_count": 27,
   "id": "dc8ab37b-aa0f-4b08-99a7-adea03e697c1",
   "metadata": {
    "execution": {
     "iopub.execute_input": "2025-04-15T22:41:12.175189Z",
     "iopub.status.busy": "2025-04-15T22:41:12.174844Z",
     "iopub.status.idle": "2025-04-15T22:41:12.202213Z",
     "shell.execute_reply": "2025-04-15T22:41:12.201627Z",
     "shell.execute_reply.started": "2025-04-15T22:41:12.175171Z"
    }
   },
   "outputs": [],
   "source": [
    "for df in dfs:\n",
    "    u_cold = df[\"cold flow (m^3/s)\"] / A_i\n",
    "    u_hot = df[\"hot flow (m^3/s)\"] / A_h\n",
    "    df[\"Re_cold (inner tube)\"] = (rho * u_cold * D_inner) / mu\n",
    "    df[\"Re_hot (annular region)\"] = (rho * u_hot * D_inner) / mu"
   ]
  },
  {
   "cell_type": "markdown",
   "id": "6c2226d7-e0e1-4cd1-80fc-c20b3d743964",
   "metadata": {},
   "source": [
    "In a double-pipe heat exchanger, cold water flows through the inner tube, and hot water flows through the annular region. The heat transfer coefficients $h_i$ (inner tube) and $h_o$ (annular region) are determined using empirical correlations that depend on the flow regime as indicated by $Re$. "
   ]
  },
  {
   "cell_type": "markdown",
   "id": "68e07bb3-5db4-4656-8dac-60b03aeb148a",
   "metadata": {},
   "source": [
    "| Regime | Reynolds Number Condition |\n",
    "|--------|---------------------------|\n",
    "| Laminar | Re < 2300 |\n",
    "| Transitional | 2300 < Re < 4000 |\n",
    "| Turbulent | Re > 4000 |"
   ]
  },
  {
   "cell_type": "markdown",
   "id": "34efdf2f-8697-4560-b302-234a08e8ed1f",
   "metadata": {},
   "source": [
    "### Summary of Correlations and Assumptions\n",
    "\n",
    "| Region | Regime | Correlation | Assumptions |\n",
    "|--------|--------|-------------|-------------|\n",
    "| Inner Tube | Laminar | Nu = 3.66 | Constant wall T, fully developed |\n",
    "| Inner Tube | Turbulent | Nu = 0.023 Re^0.8 Pr^0.4 | Fully developed, smooth tube |\n",
    "| Annular Region | Laminar | Nu = 3.66 | Same as above |\n",
    "| Annular Region | Turbulent | Nu = 0.023 Re^0.8 Pr^0.4 | Fully developed, smooth annulus |\n",
    "\n",
    "#### Note:\n",
    "\n",
    "Characteristic length\n",
    "- Inner tube: $D_i$ = 6 mm\n",
    "- Annular region: $D_h = D_o - D_i$ = 7 mm\n",
    "Valid for $0.7 < Pr < 160$"
   ]
  },
  {
   "cell_type": "code",
   "execution_count": 28,
   "id": "7c130900-51e4-4545-87f8-08c9b0c8893c",
   "metadata": {
    "execution": {
     "iopub.execute_input": "2025-04-15T22:41:12.294003Z",
     "iopub.status.busy": "2025-04-15T22:41:12.293617Z",
     "iopub.status.idle": "2025-04-15T22:41:12.297971Z",
     "shell.execute_reply": "2025-04-15T22:41:12.297063Z",
     "shell.execute_reply.started": "2025-04-15T22:41:12.293982Z"
    }
   },
   "outputs": [],
   "source": [
    "def classify_flow_regime(Re):\n",
    "    if Re < 2300:\n",
    "        return \"Laminar\"\n",
    "    elif Re <= 4000:\n",
    "        return \"Transitional\"\n",
    "    else:\n",
    "        return \"Turbulent\"\n",
    "\n",
    "def classify_flow_in_dataframes(dfs):\n",
    "    for df in dfs:\n",
    "        df[\"Flow Regime (cold)\"] = df[\"Re_cold (inner tube)\"].apply(classify_flow_regime)\n",
    "        df[\"Flow Regime (hot)\"] = df[\"Re_hot (annular region)\"].apply(classify_flow_regime)"
   ]
  },
  {
   "cell_type": "code",
   "execution_count": 29,
   "id": "49a50c2a-57bc-4812-853e-a6a560498c02",
   "metadata": {
    "execution": {
     "iopub.execute_input": "2025-04-15T22:41:12.299125Z",
     "iopub.status.busy": "2025-04-15T22:41:12.298874Z",
     "iopub.status.idle": "2025-04-15T22:41:12.322830Z",
     "shell.execute_reply": "2025-04-15T22:41:12.322208Z",
     "shell.execute_reply.started": "2025-04-15T22:41:12.299107Z"
    }
   },
   "outputs": [],
   "source": [
    "\n",
    "classify_flow_in_dataframes(dfs)"
   ]
  },
  {
   "cell_type": "markdown",
   "id": "50302bd6-84d3-41a6-a442-9e6a3a5fe78f",
   "metadata": {},
   "source": [
    "# Analysis Question 4\n",
    "\n",
    "For the tubular heat exchanger,\n",
    "\n",
    "(a) Experimentally measure the temperature profile along the length of the tubular heat exchanger for both co-current and counter-current flows at a volumetric flow rate of 350 L/hr. \n",
    "\n",
    "#### Get the relevant data frames"
   ]
  },
  {
   "cell_type": "code",
   "execution_count": 30,
   "id": "d0b1f135-bedd-4907-a678-1688b8b57393",
   "metadata": {
    "execution": {
     "iopub.execute_input": "2025-04-15T22:41:12.356175Z",
     "iopub.status.busy": "2025-04-15T22:41:12.355926Z",
     "iopub.status.idle": "2025-04-15T22:41:12.376904Z",
     "shell.execute_reply": "2025-04-15T22:41:12.376388Z",
     "shell.execute_reply.started": "2025-04-15T22:41:12.356157Z"
    }
   },
   "outputs": [
    {
     "data": {
      "text/html": [
       "<div>\n",
       "<style scoped>\n",
       "    .dataframe tbody tr th:only-of-type {\n",
       "        vertical-align: middle;\n",
       "    }\n",
       "\n",
       "    .dataframe tbody tr th {\n",
       "        vertical-align: top;\n",
       "    }\n",
       "\n",
       "    .dataframe thead th {\n",
       "        text-align: right;\n",
       "    }\n",
       "</style>\n",
       "<table border=\"1\" class=\"dataframe\">\n",
       "  <thead>\n",
       "    <tr style=\"text-align: right;\">\n",
       "      <th></th>\n",
       "      <th>Time</th>\n",
       "      <th>T1 (°C)</th>\n",
       "      <th>T2 (°C)</th>\n",
       "      <th>T3 (°C)</th>\n",
       "      <th>T4 (°C)</th>\n",
       "      <th>T5 (°C)</th>\n",
       "      <th>T6 (°C)</th>\n",
       "      <th>T7 (°C)</th>\n",
       "      <th>T8 (°C)</th>\n",
       "      <th>T9 (°C)</th>\n",
       "      <th>...</th>\n",
       "      <th>dQ3/dt (kW)</th>\n",
       "      <th>dQm/dt (kW)</th>\n",
       "      <th>hot flow (L/hr)</th>\n",
       "      <th>cold flow (L/hr)</th>\n",
       "      <th>hot flow (m^3/s)</th>\n",
       "      <th>cold flow (m^3/s)</th>\n",
       "      <th>Re_cold (inner tube)</th>\n",
       "      <th>Re_hot (annular region)</th>\n",
       "      <th>Flow Regime (cold)</th>\n",
       "      <th>Flow Regime (hot)</th>\n",
       "    </tr>\n",
       "  </thead>\n",
       "  <tbody>\n",
       "    <tr>\n",
       "      <th>0</th>\n",
       "      <td>1/30/2025 2:21:15 PM.19</td>\n",
       "      <td>32.9</td>\n",
       "      <td>48.0</td>\n",
       "      <td>20.8</td>\n",
       "      <td>30.1</td>\n",
       "      <td>35.2</td>\n",
       "      <td>22.5</td>\n",
       "      <td>37.3</td>\n",
       "      <td>25.0</td>\n",
       "      <td>39.6</td>\n",
       "      <td>...</td>\n",
       "      <td>0</td>\n",
       "      <td>4.99</td>\n",
       "      <td>350</td>\n",
       "      <td>350</td>\n",
       "      <td>0.000097</td>\n",
       "      <td>0.000097</td>\n",
       "      <td>2063.119633</td>\n",
       "      <td>558.438397</td>\n",
       "      <td>Laminar</td>\n",
       "      <td>Laminar</td>\n",
       "    </tr>\n",
       "    <tr>\n",
       "      <th>1</th>\n",
       "      <td>1/30/2025 2:21:15 PM.69</td>\n",
       "      <td>32.9</td>\n",
       "      <td>48.0</td>\n",
       "      <td>20.7</td>\n",
       "      <td>30.0</td>\n",
       "      <td>35.2</td>\n",
       "      <td>22.5</td>\n",
       "      <td>37.3</td>\n",
       "      <td>25.0</td>\n",
       "      <td>39.6</td>\n",
       "      <td>...</td>\n",
       "      <td>0</td>\n",
       "      <td>4.95</td>\n",
       "      <td>350</td>\n",
       "      <td>350</td>\n",
       "      <td>0.000097</td>\n",
       "      <td>0.000097</td>\n",
       "      <td>2063.119633</td>\n",
       "      <td>558.438397</td>\n",
       "      <td>Laminar</td>\n",
       "      <td>Laminar</td>\n",
       "    </tr>\n",
       "    <tr>\n",
       "      <th>2</th>\n",
       "      <td>1/30/2025 2:21:16 PM.19</td>\n",
       "      <td>32.9</td>\n",
       "      <td>48.0</td>\n",
       "      <td>20.8</td>\n",
       "      <td>30.0</td>\n",
       "      <td>35.2</td>\n",
       "      <td>22.5</td>\n",
       "      <td>37.3</td>\n",
       "      <td>25.0</td>\n",
       "      <td>39.7</td>\n",
       "      <td>...</td>\n",
       "      <td>0</td>\n",
       "      <td>4.99</td>\n",
       "      <td>350</td>\n",
       "      <td>350</td>\n",
       "      <td>0.000097</td>\n",
       "      <td>0.000097</td>\n",
       "      <td>2063.119633</td>\n",
       "      <td>558.438397</td>\n",
       "      <td>Laminar</td>\n",
       "      <td>Laminar</td>\n",
       "    </tr>\n",
       "    <tr>\n",
       "      <th>3</th>\n",
       "      <td>1/30/2025 2:21:16 PM.69</td>\n",
       "      <td>32.8</td>\n",
       "      <td>48.0</td>\n",
       "      <td>20.7</td>\n",
       "      <td>30.0</td>\n",
       "      <td>35.2</td>\n",
       "      <td>22.5</td>\n",
       "      <td>37.3</td>\n",
       "      <td>25.0</td>\n",
       "      <td>39.6</td>\n",
       "      <td>...</td>\n",
       "      <td>0</td>\n",
       "      <td>5.01</td>\n",
       "      <td>350</td>\n",
       "      <td>350</td>\n",
       "      <td>0.000097</td>\n",
       "      <td>0.000097</td>\n",
       "      <td>2063.119633</td>\n",
       "      <td>558.438397</td>\n",
       "      <td>Laminar</td>\n",
       "      <td>Laminar</td>\n",
       "    </tr>\n",
       "    <tr>\n",
       "      <th>4</th>\n",
       "      <td>1/30/2025 2:21:17 PM.19</td>\n",
       "      <td>32.8</td>\n",
       "      <td>48.1</td>\n",
       "      <td>20.8</td>\n",
       "      <td>30.1</td>\n",
       "      <td>35.1</td>\n",
       "      <td>22.5</td>\n",
       "      <td>37.3</td>\n",
       "      <td>25.0</td>\n",
       "      <td>39.6</td>\n",
       "      <td>...</td>\n",
       "      <td>0</td>\n",
       "      <td>5.01</td>\n",
       "      <td>350</td>\n",
       "      <td>350</td>\n",
       "      <td>0.000097</td>\n",
       "      <td>0.000097</td>\n",
       "      <td>2063.119633</td>\n",
       "      <td>558.438397</td>\n",
       "      <td>Laminar</td>\n",
       "      <td>Laminar</td>\n",
       "    </tr>\n",
       "  </tbody>\n",
       "</table>\n",
       "<p>5 rows × 25 columns</p>\n",
       "</div>"
      ],
      "text/plain": [
       "                      Time  T1 (°C)  T2 (°C)  T3 (°C)  T4 (°C)  T5 (°C)  \\\n",
       "0  1/30/2025 2:21:15 PM.19     32.9     48.0     20.8     30.1     35.2   \n",
       "1  1/30/2025 2:21:15 PM.69     32.9     48.0     20.7     30.0     35.2   \n",
       "2  1/30/2025 2:21:16 PM.19     32.9     48.0     20.8     30.0     35.2   \n",
       "3  1/30/2025 2:21:16 PM.69     32.8     48.0     20.7     30.0     35.2   \n",
       "4  1/30/2025 2:21:17 PM.19     32.8     48.1     20.8     30.1     35.1   \n",
       "\n",
       "   T6 (°C)  T7 (°C)  T8 (°C)  T9 (°C)  ...  dQ3/dt (kW)  dQm/dt (kW)  \\\n",
       "0     22.5     37.3     25.0     39.6  ...            0         4.99   \n",
       "1     22.5     37.3     25.0     39.6  ...            0         4.95   \n",
       "2     22.5     37.3     25.0     39.7  ...            0         4.99   \n",
       "3     22.5     37.3     25.0     39.6  ...            0         5.01   \n",
       "4     22.5     37.3     25.0     39.6  ...            0         5.01   \n",
       "\n",
       "   hot flow (L/hr)  cold flow (L/hr)  hot flow (m^3/s)  cold flow (m^3/s)  \\\n",
       "0              350               350          0.000097           0.000097   \n",
       "1              350               350          0.000097           0.000097   \n",
       "2              350               350          0.000097           0.000097   \n",
       "3              350               350          0.000097           0.000097   \n",
       "4              350               350          0.000097           0.000097   \n",
       "\n",
       "   Re_cold (inner tube)  Re_hot (annular region)  Flow Regime (cold)  \\\n",
       "0           2063.119633               558.438397             Laminar   \n",
       "1           2063.119633               558.438397             Laminar   \n",
       "2           2063.119633               558.438397             Laminar   \n",
       "3           2063.119633               558.438397             Laminar   \n",
       "4           2063.119633               558.438397             Laminar   \n",
       "\n",
       "   Flow Regime (hot)  \n",
       "0            Laminar  \n",
       "1            Laminar  \n",
       "2            Laminar  \n",
       "3            Laminar  \n",
       "4            Laminar  \n",
       "\n",
       "[5 rows x 25 columns]"
      ]
     },
     "execution_count": 30,
     "metadata": {},
     "output_type": "execute_result"
    }
   ],
   "source": [
    "df350h_350c.head()"
   ]
  },
  {
   "cell_type": "code",
   "execution_count": 31,
   "id": "54479546-e03b-469f-955d-dab168e4d4db",
   "metadata": {
    "execution": {
     "iopub.execute_input": "2025-04-15T22:41:12.377854Z",
     "iopub.status.busy": "2025-04-15T22:41:12.377611Z",
     "iopub.status.idle": "2025-04-15T22:41:12.407207Z",
     "shell.execute_reply": "2025-04-15T22:41:12.406406Z",
     "shell.execute_reply.started": "2025-04-15T22:41:12.377837Z"
    }
   },
   "outputs": [
    {
     "data": {
      "text/html": [
       "<div>\n",
       "<style scoped>\n",
       "    .dataframe tbody tr th:only-of-type {\n",
       "        vertical-align: middle;\n",
       "    }\n",
       "\n",
       "    .dataframe tbody tr th {\n",
       "        vertical-align: top;\n",
       "    }\n",
       "\n",
       "    .dataframe thead th {\n",
       "        text-align: right;\n",
       "    }\n",
       "</style>\n",
       "<table border=\"1\" class=\"dataframe\">\n",
       "  <thead>\n",
       "    <tr style=\"text-align: right;\">\n",
       "      <th></th>\n",
       "      <th>Time</th>\n",
       "      <th>T1 (°C)</th>\n",
       "      <th>T2 (°C)</th>\n",
       "      <th>T3 (°C)</th>\n",
       "      <th>T4 (°C)</th>\n",
       "      <th>T5 (°C)</th>\n",
       "      <th>T6 (°C)</th>\n",
       "      <th>T7 (°C)</th>\n",
       "      <th>T8 (°C)</th>\n",
       "      <th>T9 (°C)</th>\n",
       "      <th>T10 (°C)</th>\n",
       "      <th>dp1 (mbar)</th>\n",
       "      <th>dp2 (mbar)</th>\n",
       "      <th>dQ1/dt (kW)</th>\n",
       "      <th>dQ2/dt (kW)</th>\n",
       "      <th>dQ3/dt (kW)</th>\n",
       "      <th>dQm/dt (kW)</th>\n",
       "    </tr>\n",
       "  </thead>\n",
       "  <tbody>\n",
       "    <tr>\n",
       "      <th>1</th>\n",
       "      <td>1/30/2025 3:05:05 PM.44</td>\n",
       "      <td>42.6</td>\n",
       "      <td>30.3</td>\n",
       "      <td>19.5</td>\n",
       "      <td>28.4</td>\n",
       "      <td>38.8</td>\n",
       "      <td>22.8</td>\n",
       "      <td>36.1</td>\n",
       "      <td>25.5</td>\n",
       "      <td>34.1</td>\n",
       "      <td>27.1</td>\n",
       "      <td>0.09</td>\n",
       "      <td>-69</td>\n",
       "      <td>-22.99</td>\n",
       "      <td>3.62</td>\n",
       "      <td>0</td>\n",
       "      <td>13.31</td>\n",
       "    </tr>\n",
       "    <tr>\n",
       "      <th>2</th>\n",
       "      <td>1/30/2025 3:05:05 PM.93</td>\n",
       "      <td>42.6</td>\n",
       "      <td>30.3</td>\n",
       "      <td>19.5</td>\n",
       "      <td>28.4</td>\n",
       "      <td>38.8</td>\n",
       "      <td>22.8</td>\n",
       "      <td>36.1</td>\n",
       "      <td>25.5</td>\n",
       "      <td>34.2</td>\n",
       "      <td>27.1</td>\n",
       "      <td>0.08</td>\n",
       "      <td>-69</td>\n",
       "      <td>-22.84</td>\n",
       "      <td>3.69</td>\n",
       "      <td>0</td>\n",
       "      <td>13.26</td>\n",
       "    </tr>\n",
       "    <tr>\n",
       "      <th>3</th>\n",
       "      <td>1/30/2025 3:05:06 PM.44</td>\n",
       "      <td>42.6</td>\n",
       "      <td>30.3</td>\n",
       "      <td>19.5</td>\n",
       "      <td>28.4</td>\n",
       "      <td>38.8</td>\n",
       "      <td>22.8</td>\n",
       "      <td>36.1</td>\n",
       "      <td>25.5</td>\n",
       "      <td>34.1</td>\n",
       "      <td>27</td>\n",
       "      <td>0.09</td>\n",
       "      <td>-69</td>\n",
       "      <td>-23.01</td>\n",
       "      <td>3.65</td>\n",
       "      <td>0</td>\n",
       "      <td>13.33</td>\n",
       "    </tr>\n",
       "    <tr>\n",
       "      <th>4</th>\n",
       "      <td>1/30/2025 3:05:06 PM.94</td>\n",
       "      <td>42.6</td>\n",
       "      <td>30.3</td>\n",
       "      <td>19.5</td>\n",
       "      <td>28.4</td>\n",
       "      <td>38.8</td>\n",
       "      <td>22.8</td>\n",
       "      <td>36.1</td>\n",
       "      <td>25.5</td>\n",
       "      <td>34.1</td>\n",
       "      <td>27</td>\n",
       "      <td>0.08</td>\n",
       "      <td>-69</td>\n",
       "      <td>-22.93</td>\n",
       "      <td>3.67</td>\n",
       "      <td>0</td>\n",
       "      <td>13.3</td>\n",
       "    </tr>\n",
       "    <tr>\n",
       "      <th>5</th>\n",
       "      <td>1/30/2025 3:05:07 PM.44</td>\n",
       "      <td>42.6</td>\n",
       "      <td>30.3</td>\n",
       "      <td>19.5</td>\n",
       "      <td>28.4</td>\n",
       "      <td>38.8</td>\n",
       "      <td>22.8</td>\n",
       "      <td>36.1</td>\n",
       "      <td>25.5</td>\n",
       "      <td>34.1</td>\n",
       "      <td>27</td>\n",
       "      <td>0.08</td>\n",
       "      <td>-69</td>\n",
       "      <td>-23.01</td>\n",
       "      <td>3.69</td>\n",
       "      <td>0</td>\n",
       "      <td>13.35</td>\n",
       "    </tr>\n",
       "  </tbody>\n",
       "</table>\n",
       "</div>"
      ],
      "text/plain": [
       "0                     Time T1 (°C) T2 (°C) T3 (°C) T4 (°C) T5 (°C) T6 (°C)  \\\n",
       "1  1/30/2025 3:05:05 PM.44    42.6    30.3    19.5    28.4    38.8    22.8   \n",
       "2  1/30/2025 3:05:05 PM.93    42.6    30.3    19.5    28.4    38.8    22.8   \n",
       "3  1/30/2025 3:05:06 PM.44    42.6    30.3    19.5    28.4    38.8    22.8   \n",
       "4  1/30/2025 3:05:06 PM.94    42.6    30.3    19.5    28.4    38.8    22.8   \n",
       "5  1/30/2025 3:05:07 PM.44    42.6    30.3    19.5    28.4    38.8    22.8   \n",
       "\n",
       "0 T7 (°C) T8 (°C) T9 (°C) T10 (°C) dp1 (mbar) dp2 (mbar) dQ1/dt (kW)  \\\n",
       "1    36.1    25.5    34.1     27.1       0.09        -69      -22.99   \n",
       "2    36.1    25.5    34.2     27.1       0.08        -69      -22.84   \n",
       "3    36.1    25.5    34.1       27       0.09        -69      -23.01   \n",
       "4    36.1    25.5    34.1       27       0.08        -69      -22.93   \n",
       "5    36.1    25.5    34.1       27       0.08        -69      -23.01   \n",
       "\n",
       "0 dQ2/dt (kW) dQ3/dt (kW) dQm/dt (kW)  \n",
       "1        3.62           0       13.31  \n",
       "2        3.69           0       13.26  \n",
       "3        3.65           0       13.33  \n",
       "4        3.67           0        13.3  \n",
       "5        3.69           0       13.35  "
      ]
     },
     "execution_count": 31,
     "metadata": {},
     "output_type": "execute_result"
    }
   ],
   "source": [
    "tube_parallel_350h_350c = pd.read_csv('tube_parallel_350h_350c.csv')\n",
    "tube_parallel_350h_350c = tube_parallel_350h_350c.dropna().reset_index(drop=True)\n",
    "new_headers = tube_parallel_350h_350c.iloc[0]\n",
    "tube_parallel_350h_350c = tube_parallel_350h_350c[1:]\n",
    "tube_parallel_350h_350c.columns = new_headers\n",
    "tube_parallel_350h_350c.head()"
   ]
  },
  {
   "cell_type": "markdown",
   "id": "2c2a7441-b6da-4657-ae57-94de5466d637",
   "metadata": {},
   "source": [
    "#### Define functions to grab hot and cold water temps"
   ]
  },
  {
   "cell_type": "code",
   "execution_count": 32,
   "id": "7d7c78be-37ea-4571-b91b-238e30205be3",
   "metadata": {
    "execution": {
     "iopub.execute_input": "2025-04-15T22:41:12.441663Z",
     "iopub.status.busy": "2025-04-15T22:41:12.441238Z",
     "iopub.status.idle": "2025-04-15T22:41:12.447475Z",
     "shell.execute_reply": "2025-04-15T22:41:12.446864Z",
     "shell.execute_reply.started": "2025-04-15T22:41:12.441645Z"
    }
   },
   "outputs": [],
   "source": [
    "def grab_hot_temps(df):\n",
    "    df = df.drop(columns=\"Time\")\n",
    "    t_columns = [col for col in df.columns if col.startswith('T')]\n",
    "    df = df[t_columns]\n",
    "    df = df.apply(pd.to_numeric, errors='coerce')\n",
    "    column_means_series = df.mean()\n",
    "    df = column_means_series.to_frame().T\n",
    "    columns_to_extract = [\n",
    "    \"T1 (°C)\",\n",
    "    \"T5 (°C)\",\n",
    "    \"T7 (°C)\",\n",
    "    \"T9 (°C)\",\n",
    "    \"T2 (°C)\"\n",
    "]\n",
    "    df = df[columns_to_extract]\n",
    "    first_row_series = df.iloc[0]\n",
    "    hot_temps = first_row_series.to_numpy()\n",
    "    return hot_temps\n",
    "\n",
    "def grab_cold_temps(df):\n",
    "    df = df.drop(columns=\"Time\")\n",
    "    t_columns = [col for col in df.columns if col.startswith('T')]\n",
    "    df = df[t_columns]\n",
    "    df = df.apply(pd.to_numeric, errors='coerce')\n",
    "    column_means_series = df.mean()\n",
    "    df = column_means_series.to_frame().T\n",
    "    columns_to_extract = [\n",
    "    \"T3 (°C)\",\n",
    "    \"T6 (°C)\",\n",
    "    \"T8 (°C)\",\n",
    "    \"T10 (°C)\",\n",
    "    \"T4 (°C)\"\n",
    "]\n",
    "    df = df[columns_to_extract]\n",
    "    first_row_series = df.iloc[0]\n",
    "    cold_temps = first_row_series.to_numpy()\n",
    "    return cold_temps"
   ]
  },
  {
   "cell_type": "markdown",
   "id": "96c52b62-73e5-468d-b519-0c6f7365e1a7",
   "metadata": {},
   "source": [
    "Getting the temperatures"
   ]
  },
  {
   "cell_type": "code",
   "execution_count": 33,
   "id": "cc5eea97-7de7-4c5f-828a-eb96c168fd78",
   "metadata": {
    "execution": {
     "iopub.execute_input": "2025-04-15T22:41:12.479573Z",
     "iopub.status.busy": "2025-04-15T22:41:12.479285Z",
     "iopub.status.idle": "2025-04-15T22:41:12.497967Z",
     "shell.execute_reply": "2025-04-15T22:41:12.497388Z",
     "shell.execute_reply.started": "2025-04-15T22:41:12.479555Z"
    }
   },
   "outputs": [
    {
     "name": "stdout",
     "output_type": "stream",
     "text": [
      "[42.622 38.722 36.026 34.102 30.3  ]\n",
      "[19.654 22.776 25.5   27.006 28.45 ]\n"
     ]
    }
   ],
   "source": [
    "HOT_counter = grab_hot_temps(df350h_350c)\n",
    "COLD_counter = grab_cold_temps(df350h_350c)\n",
    "\n",
    "HOT_parallel = grab_hot_temps(tube_parallel_350h_350c)\n",
    "COLD_parallel = grab_cold_temps(tube_parallel_350h_350c)\n",
    "print(HOT_parallel)\n",
    "print(COLD_parallel)"
   ]
  },
  {
   "cell_type": "code",
   "execution_count": 34,
   "id": "ac0e3a2e-9f9d-4a54-8d7d-5bbe4ddd001d",
   "metadata": {
    "execution": {
     "iopub.execute_input": "2025-04-15T22:41:12.499231Z",
     "iopub.status.busy": "2025-04-15T22:41:12.498796Z",
     "iopub.status.idle": "2025-04-15T22:41:12.505721Z",
     "shell.execute_reply": "2025-04-15T22:41:12.505132Z",
     "shell.execute_reply.started": "2025-04-15T22:41:12.499201Z"
    }
   },
   "outputs": [
    {
     "name": "stdout",
     "output_type": "stream",
     "text": [
      "[0.  0.8 1.6 2.4 3.2]\n"
     ]
    }
   ],
   "source": [
    "distances = np.array([0,800,800*2,800*3,800*4]) * (1/1000) #meters\n",
    "print(distances)"
   ]
  },
  {
   "cell_type": "code",
   "execution_count": 35,
   "id": "f74fb897-139e-4730-9e40-24c6d3d6de88",
   "metadata": {
    "execution": {
     "iopub.execute_input": "2025-04-15T22:41:12.506726Z",
     "iopub.status.busy": "2025-04-15T22:41:12.506472Z",
     "iopub.status.idle": "2025-04-15T22:41:12.816551Z",
     "shell.execute_reply": "2025-04-15T22:41:12.815926Z",
     "shell.execute_reply.started": "2025-04-15T22:41:12.506709Z"
    }
   },
   "outputs": [
    {
     "data": {
      "image/png": "[encoded data removed]",
      "text/plain": [
       "<Figure size 1000x800 with 1 Axes>"
      ]
     },
     "metadata": {},
     "output_type": "display_data"
    }
   ],
   "source": [
    "plt.figure(figsize=(10, 8))\n",
    "\n",
    "plt.errorbar(distances, HOT_parallel, yerr=0.28, label='Hot Water (Parallel)', \n",
    "             fmt='^', color=\"black\", capsize=3, ecolor='gray')\n",
    "plt.errorbar(distances, COLD_parallel, yerr=0.28, label='Cold Water (Parallel)', \n",
    "             fmt='o', color=\"black\", capsize=3, ecolor='gray')\n",
    "\n",
    "# Add labels and title\n",
    "plt.xlabel('Position Along Length of Exchanger (m)', fontsize=16)\n",
    "plt.ylabel('Temperature (°C)', fontsize=16)\n",
    "plt.title('Hot and Cold Water Temperature Profiles for Parallel Flow', fontsize=18)\n",
    "\n",
    "# Add a legend\n",
    "plt.legend()\n",
    "\n",
    "# Explicitly turn off grid\n",
    "plt.grid(False)\n",
    "\n",
    "# Show the plot\n",
    "plt.tight_layout()\n",
    "plt.show()"
   ]
  },
  {
   "cell_type": "code",
   "execution_count": 36,
   "id": "343ec768-a40c-48c4-bc3f-daedd711aabc",
   "metadata": {
    "execution": {
     "iopub.execute_input": "2025-04-15T22:41:12.817979Z",
     "iopub.status.busy": "2025-04-15T22:41:12.817404Z",
     "iopub.status.idle": "2025-04-15T22:41:13.116694Z",
     "shell.execute_reply": "2025-04-15T22:41:13.116027Z",
     "shell.execute_reply.started": "2025-04-15T22:41:12.817955Z"
    }
   },
   "outputs": [
    {
     "data": {
      "image/png": "[encoded data removed]",
      "text/plain": [
       "<Figure size 1000x800 with 1 Axes>"
      ]
     },
     "metadata": {},
     "output_type": "display_data"
    }
   ],
   "source": [
    "plt.figure(figsize=(10, 8))\n",
    "\n",
    "plt.errorbar(distances, HOT_counter, yerr=0.28, label='Hot Water (Counter)', \n",
    "             fmt='^', color=\"black\", capsize=3, ecolor='gray')\n",
    "plt.errorbar(distances, COLD_counter, yerr=0.28, label='Cold Water (Counter)', \n",
    "             fmt='o', color=\"black\", capsize=3, ecolor='gray')\n",
    "\n",
    "# Add labels and title\n",
    "plt.xlabel('Position Along Length of Exchanger (m)', fontsize=16)\n",
    "plt.ylabel('Temperature (°C)', fontsize=16)\n",
    "plt.title('Hot and Cold Water Temperature Profiles for Counter Flow', fontsize=18)\n",
    "\n",
    "# Add a legend\n",
    "plt.legend()\n",
    "\n",
    "# Explicitly turn off grid\n",
    "plt.grid(False)\n",
    "\n",
    "# Show the plot\n",
    "plt.tight_layout()\n",
    "plt.show()"
   ]
  },
  {
   "cell_type": "markdown",
   "id": "304962fa-31ab-47fa-bd0b-193b84a44654",
   "metadata": {},
   "source": [
    "### Part (b)\n",
    "Derive the theoretical temperature profiles for both configurations based on energy\r\n",
    "balances and assumptions such as negligible heat loss, steady-state operation, and\r\n",
    "uniform flow conditions."
   ]
  },
  {
   "cell_type": "markdown",
   "id": "31930ace-60f7-4f84-8c64-5a90f123487c",
   "metadata": {},
   "source": [
    "#### Assumptions\n",
    "- Negligible heat loss: Perfect insulation (No heat exchanged with surroundings)\n",
    "- Steady-state\n",
    "- Uniform flow conditions: Fluid velocity and temperature are uniform across any given cross section\n",
    "- Constant specific heats $(c_p)$ remain constant over the temperature range\n",
    "\n",
    "#### Energy Balance\n",
    "\n",
    "Hot fluid:\n",
    "\n",
    "$dq = -\\dot m_h c_{p,h} dT_h$ (Eqn. 1)\n",
    "\n",
    "Cold fluid:\n",
    "\n",
    "$dq = \\pm \\dot m_c c_{p,c} dT_c$ (Eqn. 2)\n",
    "\n",
    "where + is parallel and - is counter\n",
    "\n",
    "Newton's law of cooling:\n",
    "\n",
    "$dq = U(T_h-T_c)dA = U(T_h - T_c)Pdx$ (Eqn. 3)\n",
    "\n",
    "where dA is the differential heat transfer area and P is the tube perimeter\n",
    "\n",
    "#### Combine (1), (2), and (3)\n",
    "$\\frac{T_{h,o} - T_{c,i}}{T_{h,i} - T_{c,i}} = \\exp\\left[-UA\\left(\\frac{1}{C_h} - \\frac{1}{C_c}\\right)\\right]$ (Eq. 4)\n",
    "\n",
    "w\n",
    "Where $C_h = \\dot{m}_h c_{p,h}$ and $C_c = \\dot{m}_c c_{p,c}$"
   ]
  },
  {
   "cell_type": "markdown",
   "id": "a8d81166-08b1-4cdc-aef8-6f5e445fc75b",
   "metadata": {},
   "source": [
    "#### Parallel Flow Theoretical Temperature Profile \n",
    "\n",
    "$T_h(x) = T_{h,i} - (T_{h,i} - T_{c,i}) \\frac{1 + \\frac{C_c}{C_h}}{1 - \\exp\\left[-UA\\left(\\frac{1}{C_h} + \\frac{1}{C_c}\\right) \\frac{L}{x}\\right]}$\n",
    "\n",
    "$T_c(x) = T_{c,i} + (T_{h,i} - T_{c,i}) \\frac{\\frac{C_h}{C_c} + 1}{1 - \\exp\\left[-UA\\left(\\frac{1}{C_h} + \\frac{1}{C_c}\\right) \\frac{L}{x}\\right]}$\n",
    "\n",
    "#### Counter Flow Theoretical Temperature Profile\n",
    "\n",
    "$T_h(x) = \\frac{(C_c T_{c,i} + C_h T_{h,i}) + (C_c + C_h)T_{h,i}(\\exp[-UA(\\frac{1}{C_h} + \\frac{1}{C_c})\\frac{L}{x}] - 1)}{C_c + C_h}$\n",
    "\n",
    "$T_c(x) = T_{c,i} + \\frac{C_h}{C_c}(T_{h,i} - \\frac{(C_c T_{c,i} + C_h T_{h,i}) + (C_c + C_h)T_{h,i}(\\exp[-UA(\\frac{1}{C_h} + \\frac{1}{C_c})\\frac{L}{x}] - 1)}{C_c + C_h})$"
   ]
  },
  {
   "cell_type": "markdown",
   "id": "2eb63bbe-8b27-435f-97f3-696b24b8d8e9",
   "metadata": {},
   "source": [
    "### Part (c)\n",
    "\n",
    "Compare the theoretical temperature profiles with the experimentally obtained\r\n",
    "results, highlighting any deviations and their possible causes.\r\n",
    "\n",
    "\n",
    "#### Define functions"
   ]
  },
  {
   "cell_type": "code",
   "execution_count": 48,
   "id": "72fe9da6-968a-40e3-b4b1-8d7bf98f22b5",
   "metadata": {
    "execution": {
     "iopub.execute_input": "2025-04-15T23:33:03.367872Z",
     "iopub.status.busy": "2025-04-15T23:33:03.367460Z",
     "iopub.status.idle": "2025-04-15T23:33:03.379326Z",
     "shell.execute_reply": "2025-04-15T23:33:03.378519Z",
     "shell.execute_reply.started": "2025-04-15T23:33:03.367838Z"
    }
   },
   "outputs": [],
   "source": [
    "def hot_parallel(x, Th_i, Tc_i, C_h, C_c, U,A, L):\n",
    "    denominator = 1 - np.exp(-U*A * (1/C_h + 1/C_c) * (L/x))\n",
    "    T_h_parallel = Th_i - (Th_i - Tc_i) * (1 + C_c/C_h) / denominator\n",
    "    return T_h_parallel\n",
    "\n",
    "def cold_parallel(x, Tc_i, Th_i, C_h, C_c, U,A, L):\n",
    "    Ch_Cc_ratio = C_h / C_c\n",
    "    numerator = Ch_Cc_ratio + 1\n",
    "    exponent = -U*A * (1/C_h + 1/C_c) * (L/x)\n",
    "    denominator = 1 - np.exp(exponent)\n",
    "    T_c_parallel = Tc_i + (Th_i - Tc_i) * (numerator / denominator)\n",
    "    return T_c_parallel\n",
    "\n",
    "def hot_counter(x, L, C_h, C_c, Th_i, Tc_i, U):\n",
    "    A = U * L  \n",
    "    term1 = (C_c * Tc_i + C_h * Th_i)\n",
    "    term2 = (C_c + C_h) * Th_i\n",
    "    exponent = -A * (1/C_h - 1/C_c) * (x / L) # Corrected exponent\n",
    "    term3 = (np.exp(exponent) - 1)\n",
    "    T_h_counter = (term1 + term2 * term3) / (C_c + C_h)\n",
    "    return T_h_counter\n",
    "\n",
    "def cold_counter(x, L, C_h, C_c, Th_i, Tc_i, U):\n",
    "    A = U * L  # Total heat transfer area.  Important: A = U*L, since U is defined per unit area.\n",
    "    term1 = (C_c * Tc_i + C_h * Th_i)\n",
    "    term2 = (C_c + C_h) * Th_i\n",
    "    exponent = -A * (1/C_h - 1/C_c) * (x / L) \n",
    "    term3 = (np.exp(exponent) - 1)\n",
    "    T_c_counter = (term1 + term2 * term3) / (C_c + C_h)\n",
    "    return T_c_counter"
   ]
  },
  {
   "cell_type": "markdown",
   "id": "7ecc7db5-e498-4e94-ba90-e520faa15402",
   "metadata": {},
   "source": [
    "#### Hot Parallel flow\n",
    "\n",
    "Grab the input variables first"
   ]
  },
  {
   "cell_type": "code",
   "execution_count": 43,
   "id": "104343fd-a8ac-4186-92d4-3a959c5abb92",
   "metadata": {
    "execution": {
     "iopub.execute_input": "2025-04-15T23:23:21.204093Z",
     "iopub.status.busy": "2025-04-15T23:23:21.203481Z",
     "iopub.status.idle": "2025-04-15T23:23:21.217257Z",
     "shell.execute_reply": "2025-04-15T23:23:21.216620Z",
     "shell.execute_reply.started": "2025-04-15T23:23:21.204069Z"
    }
   },
   "outputs": [
    {
     "data": {
      "text/html": [
       "<div>\n",
       "<style scoped>\n",
       "    .dataframe tbody tr th:only-of-type {\n",
       "        vertical-align: middle;\n",
       "    }\n",
       "\n",
       "    .dataframe tbody tr th {\n",
       "        vertical-align: top;\n",
       "    }\n",
       "\n",
       "    .dataframe thead th {\n",
       "        text-align: right;\n",
       "    }\n",
       "</style>\n",
       "<table border=\"1\" class=\"dataframe\">\n",
       "  <thead>\n",
       "    <tr style=\"text-align: right;\">\n",
       "      <th></th>\n",
       "      <th>Time</th>\n",
       "      <th>T1 (°C)</th>\n",
       "      <th>T2 (°C)</th>\n",
       "      <th>T3 (°C)</th>\n",
       "      <th>T4 (°C)</th>\n",
       "      <th>T5 (°C)</th>\n",
       "      <th>T6 (°C)</th>\n",
       "      <th>T7 (°C)</th>\n",
       "      <th>T8 (°C)</th>\n",
       "      <th>T9 (°C)</th>\n",
       "      <th>T10 (°C)</th>\n",
       "      <th>dp1 (mbar)</th>\n",
       "      <th>dp2 (mbar)</th>\n",
       "      <th>dQ1/dt (kW)</th>\n",
       "      <th>dQ2/dt (kW)</th>\n",
       "      <th>dQ3/dt (kW)</th>\n",
       "      <th>dQm/dt (kW)</th>\n",
       "    </tr>\n",
       "  </thead>\n",
       "  <tbody>\n",
       "    <tr>\n",
       "      <th>1</th>\n",
       "      <td>1/30/2025 3:05:05 PM.44</td>\n",
       "      <td>42.6</td>\n",
       "      <td>30.3</td>\n",
       "      <td>19.5</td>\n",
       "      <td>28.4</td>\n",
       "      <td>38.8</td>\n",
       "      <td>22.8</td>\n",
       "      <td>36.1</td>\n",
       "      <td>25.5</td>\n",
       "      <td>34.1</td>\n",
       "      <td>27.1</td>\n",
       "      <td>0.09</td>\n",
       "      <td>-69</td>\n",
       "      <td>-22.99</td>\n",
       "      <td>3.62</td>\n",
       "      <td>0</td>\n",
       "      <td>13.31</td>\n",
       "    </tr>\n",
       "    <tr>\n",
       "      <th>2</th>\n",
       "      <td>1/30/2025 3:05:05 PM.93</td>\n",
       "      <td>42.6</td>\n",
       "      <td>30.3</td>\n",
       "      <td>19.5</td>\n",
       "      <td>28.4</td>\n",
       "      <td>38.8</td>\n",
       "      <td>22.8</td>\n",
       "      <td>36.1</td>\n",
       "      <td>25.5</td>\n",
       "      <td>34.2</td>\n",
       "      <td>27.1</td>\n",
       "      <td>0.08</td>\n",
       "      <td>-69</td>\n",
       "      <td>-22.84</td>\n",
       "      <td>3.69</td>\n",
       "      <td>0</td>\n",
       "      <td>13.26</td>\n",
       "    </tr>\n",
       "    <tr>\n",
       "      <th>3</th>\n",
       "      <td>1/30/2025 3:05:06 PM.44</td>\n",
       "      <td>42.6</td>\n",
       "      <td>30.3</td>\n",
       "      <td>19.5</td>\n",
       "      <td>28.4</td>\n",
       "      <td>38.8</td>\n",
       "      <td>22.8</td>\n",
       "      <td>36.1</td>\n",
       "      <td>25.5</td>\n",
       "      <td>34.1</td>\n",
       "      <td>27</td>\n",
       "      <td>0.09</td>\n",
       "      <td>-69</td>\n",
       "      <td>-23.01</td>\n",
       "      <td>3.65</td>\n",
       "      <td>0</td>\n",
       "      <td>13.33</td>\n",
       "    </tr>\n",
       "    <tr>\n",
       "      <th>4</th>\n",
       "      <td>1/30/2025 3:05:06 PM.94</td>\n",
       "      <td>42.6</td>\n",
       "      <td>30.3</td>\n",
       "      <td>19.5</td>\n",
       "      <td>28.4</td>\n",
       "      <td>38.8</td>\n",
       "      <td>22.8</td>\n",
       "      <td>36.1</td>\n",
       "      <td>25.5</td>\n",
       "      <td>34.1</td>\n",
       "      <td>27</td>\n",
       "      <td>0.08</td>\n",
       "      <td>-69</td>\n",
       "      <td>-22.93</td>\n",
       "      <td>3.67</td>\n",
       "      <td>0</td>\n",
       "      <td>13.3</td>\n",
       "    </tr>\n",
       "    <tr>\n",
       "      <th>5</th>\n",
       "      <td>1/30/2025 3:05:07 PM.44</td>\n",
       "      <td>42.6</td>\n",
       "      <td>30.3</td>\n",
       "      <td>19.5</td>\n",
       "      <td>28.4</td>\n",
       "      <td>38.8</td>\n",
       "      <td>22.8</td>\n",
       "      <td>36.1</td>\n",
       "      <td>25.5</td>\n",
       "      <td>34.1</td>\n",
       "      <td>27</td>\n",
       "      <td>0.08</td>\n",
       "      <td>-69</td>\n",
       "      <td>-23.01</td>\n",
       "      <td>3.69</td>\n",
       "      <td>0</td>\n",
       "      <td>13.35</td>\n",
       "    </tr>\n",
       "  </tbody>\n",
       "</table>\n",
       "</div>"
      ],
      "text/plain": [
       "0                     Time T1 (°C) T2 (°C) T3 (°C) T4 (°C) T5 (°C) T6 (°C)  \\\n",
       "1  1/30/2025 3:05:05 PM.44    42.6    30.3    19.5    28.4    38.8    22.8   \n",
       "2  1/30/2025 3:05:05 PM.93    42.6    30.3    19.5    28.4    38.8    22.8   \n",
       "3  1/30/2025 3:05:06 PM.44    42.6    30.3    19.5    28.4    38.8    22.8   \n",
       "4  1/30/2025 3:05:06 PM.94    42.6    30.3    19.5    28.4    38.8    22.8   \n",
       "5  1/30/2025 3:05:07 PM.44    42.6    30.3    19.5    28.4    38.8    22.8   \n",
       "\n",
       "0 T7 (°C) T8 (°C) T9 (°C) T10 (°C) dp1 (mbar) dp2 (mbar) dQ1/dt (kW)  \\\n",
       "1    36.1    25.5    34.1     27.1       0.09        -69      -22.99   \n",
       "2    36.1    25.5    34.2     27.1       0.08        -69      -22.84   \n",
       "3    36.1    25.5    34.1       27       0.09        -69      -23.01   \n",
       "4    36.1    25.5    34.1       27       0.08        -69      -22.93   \n",
       "5    36.1    25.5    34.1       27       0.08        -69      -23.01   \n",
       "\n",
       "0 dQ2/dt (kW) dQ3/dt (kW) dQm/dt (kW)  \n",
       "1        3.62           0       13.31  \n",
       "2        3.69           0       13.26  \n",
       "3        3.65           0       13.33  \n",
       "4        3.67           0        13.3  \n",
       "5        3.69           0       13.35  "
      ]
     },
     "execution_count": 43,
     "metadata": {},
     "output_type": "execute_result"
    }
   ],
   "source": [
    "tube_parallel_350h_350c.head()"
   ]
  },
  {
   "cell_type": "code",
   "execution_count": 50,
   "id": "8d1fbef0-6d9d-4bba-89b6-5b901e891d8c",
   "metadata": {
    "execution": {
     "iopub.execute_input": "2025-04-15T23:34:54.048675Z",
     "iopub.status.busy": "2025-04-15T23:34:54.048190Z",
     "iopub.status.idle": "2025-04-15T23:34:54.052436Z",
     "shell.execute_reply": "2025-04-15T23:34:54.051737Z",
     "shell.execute_reply.started": "2025-04-15T23:34:54.048640Z"
    }
   },
   "outputs": [],
   "source": [
    "m_dot = 350 #m^3/s\n",
    "\n",
    "C_h = m_dot * c_p\n",
    "C_c = C_h\n",
    "U_parallel = 5447.766559\n",
    "Th_i_parallel = 42.622\n",
    "Tc_i_parallel = 19.654\n",
    "L = 3200/1000\n",
    "A = 0.0698"
   ]
  },
  {
   "cell_type": "code",
   "execution_count": 51,
   "id": "b3bf9f5f-a230-48fe-89de-b9fb81d2cbcb",
   "metadata": {
    "execution": {
     "iopub.execute_input": "2025-04-15T23:34:55.299999Z",
     "iopub.status.busy": "2025-04-15T23:34:55.299637Z",
     "iopub.status.idle": "2025-04-15T23:34:55.305334Z",
     "shell.execute_reply": "2025-04-15T23:34:55.304788Z",
     "shell.execute_reply.started": "2025-04-15T23:34:55.299978Z"
    }
   },
   "outputs": [
    {
     "name": "stderr",
     "output_type": "stream",
     "text": [
      "/tmp/ipykernel_152/1095514529.py:2: RuntimeWarning: divide by zero encountered in divide\n",
      "  denominator = 1 - np.exp(-U*A * (1/C_h + 1/C_c) * (L/x))\n"
     ]
    },
    {
     "data": {
      "text/plain": [
       "array([-3.31400000e+00, -2.20934217e+04, -4.42064855e+04, -6.63195519e+04,\n",
       "       -8.84326189e+04])"
      ]
     },
     "execution_count": 51,
     "metadata": {},
     "output_type": "execute_result"
    }
   ],
   "source": [
    "T_HOTp = hot_parallel(distances, Th_i_parallel, Tc_i_parallel, C_h, C_c, U_parallel ,A, L)\n",
    "T_HOTp"
   ]
  },
  {
   "cell_type": "code",
   "execution_count": null,
   "id": "dfd0e9db-e34b-45a1-9193-b72e35db86cf",
   "metadata": {},
   "outputs": [],
   "source": []
  }
 ],
 "metadata": {
  "kernelspec": {
   "display_name": "anaconda-ai-2024.04-py310",
   "language": "python",
   "name": "conda-env-anaconda-ai-2024.04-py310-py"
  },
  "language_info": {
   "codemirror_mode": {
    "name": "ipython",
    "version": 3
   },
   "file_extension": ".py",
   "mimetype": "text/x-python",
   "name": "python",
   "nbconvert_exporter": "python",
   "pygments_lexer": "ipython3",
   "version": "3.10.13"
  }
 },
 "nbformat": 4,
 "nbformat_minor": 5
}
